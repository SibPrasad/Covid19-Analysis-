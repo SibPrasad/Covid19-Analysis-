{
 "cells": [
  {
   "cell_type": "code",
   "execution_count": 1,
   "metadata": {},
   "outputs": [],
   "source": [
    "import numpy as np\n",
    "import pandas as pd\n",
    "import plotly.graph_objects as go\n",
    "import plotly.express as pe\n",
    "\n",
    "import dash\n",
    "import dash_core_components as dcc1\n",
    "import dash_html_components as html1\n",
    "from dash.dependencies import Input,Output"
   ]
  },
  {
   "cell_type": "code",
   "execution_count": 2,
   "metadata": {},
   "outputs": [
    {
     "name": "stdout",
     "output_type": "stream",
     "text": [
      "4.14.1\n"
     ]
    }
   ],
   "source": [
    "import plotly\n",
    "print(plotly.__version__)"
   ]
  },
  {
   "cell_type": "code",
   "execution_count": 3,
   "metadata": {
    "scrolled": false
   },
   "outputs": [
    {
     "data": {
      "text/html": [
       "<div>\n",
       "<style scoped>\n",
       "    .dataframe tbody tr th:only-of-type {\n",
       "        vertical-align: middle;\n",
       "    }\n",
       "\n",
       "    .dataframe tbody tr th {\n",
       "        vertical-align: top;\n",
       "    }\n",
       "\n",
       "    .dataframe thead th {\n",
       "        text-align: right;\n",
       "    }\n",
       "</style>\n",
       "<table border=\"1\" class=\"dataframe\">\n",
       "  <thead>\n",
       "    <tr style=\"text-align: right;\">\n",
       "      <th></th>\n",
       "      <th>Sno</th>\n",
       "      <th>Date</th>\n",
       "      <th>Time</th>\n",
       "      <th>State/UnionTerritory</th>\n",
       "      <th>ConfirmedIndianNational</th>\n",
       "      <th>ConfirmedForeignNational</th>\n",
       "      <th>Cured</th>\n",
       "      <th>Deaths</th>\n",
       "      <th>Confirmed</th>\n",
       "    </tr>\n",
       "  </thead>\n",
       "  <tbody>\n",
       "    <tr>\n",
       "      <th>0</th>\n",
       "      <td>1</td>\n",
       "      <td>30/01/20</td>\n",
       "      <td>6:00 PM</td>\n",
       "      <td>Kerala</td>\n",
       "      <td>1</td>\n",
       "      <td>0</td>\n",
       "      <td>0</td>\n",
       "      <td>0</td>\n",
       "      <td>1</td>\n",
       "    </tr>\n",
       "    <tr>\n",
       "      <th>1</th>\n",
       "      <td>2</td>\n",
       "      <td>31/01/20</td>\n",
       "      <td>6:00 PM</td>\n",
       "      <td>Kerala</td>\n",
       "      <td>1</td>\n",
       "      <td>0</td>\n",
       "      <td>0</td>\n",
       "      <td>0</td>\n",
       "      <td>1</td>\n",
       "    </tr>\n",
       "    <tr>\n",
       "      <th>2</th>\n",
       "      <td>3</td>\n",
       "      <td>01/02/20</td>\n",
       "      <td>6:00 PM</td>\n",
       "      <td>Kerala</td>\n",
       "      <td>2</td>\n",
       "      <td>0</td>\n",
       "      <td>0</td>\n",
       "      <td>0</td>\n",
       "      <td>2</td>\n",
       "    </tr>\n",
       "    <tr>\n",
       "      <th>3</th>\n",
       "      <td>4</td>\n",
       "      <td>02/02/20</td>\n",
       "      <td>6:00 PM</td>\n",
       "      <td>Kerala</td>\n",
       "      <td>3</td>\n",
       "      <td>0</td>\n",
       "      <td>0</td>\n",
       "      <td>0</td>\n",
       "      <td>3</td>\n",
       "    </tr>\n",
       "    <tr>\n",
       "      <th>4</th>\n",
       "      <td>5</td>\n",
       "      <td>03/02/20</td>\n",
       "      <td>6:00 PM</td>\n",
       "      <td>Kerala</td>\n",
       "      <td>3</td>\n",
       "      <td>0</td>\n",
       "      <td>0</td>\n",
       "      <td>0</td>\n",
       "      <td>3</td>\n",
       "    </tr>\n",
       "    <tr>\n",
       "      <th>...</th>\n",
       "      <td>...</td>\n",
       "      <td>...</td>\n",
       "      <td>...</td>\n",
       "      <td>...</td>\n",
       "      <td>...</td>\n",
       "      <td>...</td>\n",
       "      <td>...</td>\n",
       "      <td>...</td>\n",
       "      <td>...</td>\n",
       "    </tr>\n",
       "    <tr>\n",
       "      <th>9286</th>\n",
       "      <td>9287</td>\n",
       "      <td>09/12/20</td>\n",
       "      <td>8:00 AM</td>\n",
       "      <td>Telengana</td>\n",
       "      <td>-</td>\n",
       "      <td>-</td>\n",
       "      <td>266120</td>\n",
       "      <td>1480</td>\n",
       "      <td>275261</td>\n",
       "    </tr>\n",
       "    <tr>\n",
       "      <th>9287</th>\n",
       "      <td>9288</td>\n",
       "      <td>09/12/20</td>\n",
       "      <td>8:00 AM</td>\n",
       "      <td>Tripura</td>\n",
       "      <td>-</td>\n",
       "      <td>-</td>\n",
       "      <td>32169</td>\n",
       "      <td>373</td>\n",
       "      <td>32945</td>\n",
       "    </tr>\n",
       "    <tr>\n",
       "      <th>9288</th>\n",
       "      <td>9289</td>\n",
       "      <td>09/12/20</td>\n",
       "      <td>8:00 AM</td>\n",
       "      <td>Uttarakhand</td>\n",
       "      <td>-</td>\n",
       "      <td>-</td>\n",
       "      <td>72435</td>\n",
       "      <td>1307</td>\n",
       "      <td>79141</td>\n",
       "    </tr>\n",
       "    <tr>\n",
       "      <th>9289</th>\n",
       "      <td>9290</td>\n",
       "      <td>09/12/20</td>\n",
       "      <td>8:00 AM</td>\n",
       "      <td>Uttar Pradesh</td>\n",
       "      <td>-</td>\n",
       "      <td>-</td>\n",
       "      <td>528832</td>\n",
       "      <td>7967</td>\n",
       "      <td>558173</td>\n",
       "    </tr>\n",
       "    <tr>\n",
       "      <th>9290</th>\n",
       "      <td>9291</td>\n",
       "      <td>09/12/20</td>\n",
       "      <td>8:00 AM</td>\n",
       "      <td>West Bengal</td>\n",
       "      <td>-</td>\n",
       "      <td>-</td>\n",
       "      <td>475425</td>\n",
       "      <td>8820</td>\n",
       "      <td>507995</td>\n",
       "    </tr>\n",
       "  </tbody>\n",
       "</table>\n",
       "<p>9291 rows × 9 columns</p>\n",
       "</div>"
      ],
      "text/plain": [
       "       Sno      Date     Time State/UnionTerritory ConfirmedIndianNational  \\\n",
       "0        1  30/01/20  6:00 PM               Kerala                       1   \n",
       "1        2  31/01/20  6:00 PM               Kerala                       1   \n",
       "2        3  01/02/20  6:00 PM               Kerala                       2   \n",
       "3        4  02/02/20  6:00 PM               Kerala                       3   \n",
       "4        5  03/02/20  6:00 PM               Kerala                       3   \n",
       "...    ...       ...      ...                  ...                     ...   \n",
       "9286  9287  09/12/20  8:00 AM            Telengana                       -   \n",
       "9287  9288  09/12/20  8:00 AM              Tripura                       -   \n",
       "9288  9289  09/12/20  8:00 AM          Uttarakhand                       -   \n",
       "9289  9290  09/12/20  8:00 AM        Uttar Pradesh                       -   \n",
       "9290  9291  09/12/20  8:00 AM          West Bengal                       -   \n",
       "\n",
       "     ConfirmedForeignNational   Cured  Deaths  Confirmed  \n",
       "0                           0       0       0          1  \n",
       "1                           0       0       0          1  \n",
       "2                           0       0       0          2  \n",
       "3                           0       0       0          3  \n",
       "4                           0       0       0          3  \n",
       "...                       ...     ...     ...        ...  \n",
       "9286                        -  266120    1480     275261  \n",
       "9287                        -   32169     373      32945  \n",
       "9288                        -   72435    1307      79141  \n",
       "9289                        -  528832    7967     558173  \n",
       "9290                        -  475425    8820     507995  \n",
       "\n",
       "[9291 rows x 9 columns]"
      ]
     },
     "execution_count": 3,
     "metadata": {},
     "output_type": "execute_result"
    }
   ],
   "source": [
    "d1=pd.read_csv(\"C:/Users/sahoo/Desktop/EY challenge/covid_19_india.csv\")\n",
    "d2=pd.read_csv(\"C:/Users/sahoo/Desktop/EY challenge/StatewiseTestingDetails.csv\")\n",
    "\n",
    "d1"
   ]
  },
  {
   "cell_type": "code",
   "execution_count": 224,
   "metadata": {},
   "outputs": [
    {
     "data": {
      "text/plain": [
       "200"
      ]
     },
     "execution_count": 224,
     "metadata": {},
     "output_type": "execute_result"
    }
   ],
   "source": [
    "# to handle  data retrieval\n",
    "import urllib3\n",
    "from urllib3 import request\n",
    "\n",
    "\n",
    "# to handle certificate verification\n",
    "import certifi\n",
    "# to manage json data\n",
    "import json\n",
    "# for pandas dataframes\n",
    "import pandas as pd\n",
    "# uncomment below if installation needed (not necessary in Colab)\n",
    "#!pip install certifi\n",
    "\n",
    "\n",
    "http = urllib3.PoolManager(\n",
    "       cert_reqs='CERT_REQUIRED',\n",
    "       ca_certs=certifi.where())\n",
    "\n",
    "# get data from the API\n",
    "url = 'https://api.covid19india.org/data.json'\n",
    "\n",
    "#url='https://api.covid19india.org/state_district_wise.json'\n",
    "\n",
    "r = http.request('GET', url)\n",
    "r.status \n",
    "#The expected output of r.status is code 200 which means everything is OK."
   ]
  },
  {
   "cell_type": "code",
   "execution_count": 225,
   "metadata": {},
   "outputs": [
    {
     "data": {
      "text/plain": [
       "{'cases_time_series': [{'dailyconfirmed': '1',\n",
       "   'dailydeceased': '0',\n",
       "   'dailyrecovered': '0',\n",
       "   'date': '30 January ',\n",
       "   'dateymd': '2020-01-30',\n",
       "   'totalconfirmed': '1',\n",
       "   'totaldeceased': '0',\n",
       "   'totalrecovered': '0'},\n",
       "  {'dailyconfirmed': '0',\n",
       "   'dailydeceased': '0',\n",
       "   'dailyrecovered': '0',\n",
       "   'date': '31 January ',\n",
       "   'dateymd': '2020-01-31',\n",
       "   'totalconfirmed': '1',\n",
       "   'totaldeceased': '0',\n",
       "   'totalrecovered': '0'},\n",
       "  {'dailyconfirmed': '0',\n",
       "   'dailydeceased': '0',\n",
       "   'dailyrecovered': '0',\n",
       "   'date': '01 February ',\n",
       "   'dateymd': '2020-02-01',\n",
       "   'totalconfirmed': '1',\n",
       "   'totaldeceased': '0',\n",
       "   'totalrecovered': '0'},\n",
       "  {'dailyconfirmed': '1',\n",
       "   'dailydeceased': '0',\n",
       "   'dailyrecovered': '0',\n",
       "   'date': '02 February ',\n",
       "   'dateymd': '2020-02-02',\n",
       "   'totalconfirmed': '2',\n",
       "   'totaldeceased': '0',\n",
       "   'totalrecovered': '0'},\n",
       "  {'dailyconfirmed': '1',\n",
       "   'dailydeceased': '0',\n",
       "   'dailyrecovered': '0',\n",
       "   'date': '03 February ',\n",
       "   'dateymd': '2020-02-03',\n",
       "   'totalconfirmed': '3',\n",
       "   'totaldeceased': '0',\n",
       "   'totalrecovered': '0'},\n",
       "  {'dailyconfirmed': '0',\n",
       "   'dailydeceased': '0',\n",
       "   'dailyrecovered': '0',\n",
       "   'date': '04 February ',\n",
       "   'dateymd': '2020-02-04',\n",
       "   'totalconfirmed': '3',\n",
       "   'totaldeceased': '0',\n",
       "   'totalrecovered': '0'},\n",
       "  {'dailyconfirmed': '0',\n",
       "   'dailydeceased': '0',\n",
       "   'dailyrecovered': '0',\n",
       "   'date': '05 February ',\n",
       "   'dateymd': '2020-02-05',\n",
       "   'totalconfirmed': '3',\n",
       "   'totaldeceased': '0',\n",
       "   'totalrecovered': '0'},\n",
       "  {'dailyconfirmed': '0',\n",
       "   'dailydeceased': '0',\n",
       "   'dailyrecovered': '0',\n",
       "   'date': '06 February ',\n",
       "   'dateymd': '2020-02-06',\n",
       "   'totalconfirmed': '3',\n",
       "   'totaldeceased': '0',\n",
       "   'totalrecovered': '0'},\n",
       "  {'dailyconfirmed': '0',\n",
       "   'dailydeceased': '0',\n",
       "   'dailyrecovered': '0',\n",
       "   'date': '07 February ',\n",
       "   'dateymd': '2020-02-07',\n",
       "   'totalconfirmed': '3',\n",
       "   'totaldeceased': '0',\n",
       "   'totalrecovered': '0'},\n",
       "  {'dailyconfirmed': '0',\n",
       "   'dailydeceased': '0',\n",
       "   'dailyrecovered': '0',\n",
       "   'date': '08 February ',\n",
       "   'dateymd': '2020-02-08',\n",
       "   'totalconfirmed': '3',\n",
       "   'totaldeceased': '0',\n",
       "   'totalrecovered': '0'},\n",
       "  {'dailyconfirmed': '0',\n",
       "   'dailydeceased': '0',\n",
       "   'dailyrecovered': '0',\n",
       "   'date': '09 February ',\n",
       "   'dateymd': '2020-02-09',\n",
       "   'totalconfirmed': '3',\n",
       "   'totaldeceased': '0',\n",
       "   'totalrecovered': '0'},\n",
       "  {'dailyconfirmed': '0',\n",
       "   'dailydeceased': '0',\n",
       "   'dailyrecovered': '0',\n",
       "   'date': '10 February ',\n",
       "   'dateymd': '2020-02-10',\n",
       "   'totalconfirmed': '3',\n",
       "   'totaldeceased': '0',\n",
       "   'totalrecovered': '0'},\n",
       "  {'dailyconfirmed': '0',\n",
       "   'dailydeceased': '0',\n",
       "   'dailyrecovered': '0',\n",
       "   'date': '11 February ',\n",
       "   'dateymd': '2020-02-11',\n",
       "   'totalconfirmed': '3',\n",
       "   'totaldeceased': '0',\n",
       "   'totalrecovered': '0'},\n",
       "  {'dailyconfirmed': '0',\n",
       "   'dailydeceased': '0',\n",
       "   'dailyrecovered': '0',\n",
       "   'date': '12 February ',\n",
       "   'dateymd': '2020-02-12',\n",
       "   'totalconfirmed': '3',\n",
       "   'totaldeceased': '0',\n",
       "   'totalrecovered': '0'},\n",
       "  {'dailyconfirmed': '0',\n",
       "   'dailydeceased': '0',\n",
       "   'dailyrecovered': '1',\n",
       "   'date': '13 February ',\n",
       "   'dateymd': '2020-02-13',\n",
       "   'totalconfirmed': '3',\n",
       "   'totaldeceased': '0',\n",
       "   'totalrecovered': '1'},\n",
       "  {'dailyconfirmed': '0',\n",
       "   'dailydeceased': '0',\n",
       "   'dailyrecovered': '0',\n",
       "   'date': '14 February ',\n",
       "   'dateymd': '2020-02-14',\n",
       "   'totalconfirmed': '3',\n",
       "   'totaldeceased': '0',\n",
       "   'totalrecovered': '1'},\n",
       "  {'dailyconfirmed': '0',\n",
       "   'dailydeceased': '0',\n",
       "   'dailyrecovered': '0',\n",
       "   'date': '15 February ',\n",
       "   'dateymd': '2020-02-15',\n",
       "   'totalconfirmed': '3',\n",
       "   'totaldeceased': '0',\n",
       "   'totalrecovered': '1'},\n",
       "  {'dailyconfirmed': '0',\n",
       "   'dailydeceased': '0',\n",
       "   'dailyrecovered': '1',\n",
       "   'date': '16 February ',\n",
       "   'dateymd': '2020-02-16',\n",
       "   'totalconfirmed': '3',\n",
       "   'totaldeceased': '0',\n",
       "   'totalrecovered': '2'},\n",
       "  {'dailyconfirmed': '0',\n",
       "   'dailydeceased': '0',\n",
       "   'dailyrecovered': '0',\n",
       "   'date': '17 February ',\n",
       "   'dateymd': '2020-02-17',\n",
       "   'totalconfirmed': '3',\n",
       "   'totaldeceased': '0',\n",
       "   'totalrecovered': '2'},\n",
       "  {'dailyconfirmed': '0',\n",
       "   'dailydeceased': '0',\n",
       "   'dailyrecovered': '0',\n",
       "   'date': '18 February ',\n",
       "   'dateymd': '2020-02-18',\n",
       "   'totalconfirmed': '3',\n",
       "   'totaldeceased': '0',\n",
       "   'totalrecovered': '2'},\n",
       "  {'dailyconfirmed': '0',\n",
       "   'dailydeceased': '0',\n",
       "   'dailyrecovered': '0',\n",
       "   'date': '19 February ',\n",
       "   'dateymd': '2020-02-19',\n",
       "   'totalconfirmed': '3',\n",
       "   'totaldeceased': '0',\n",
       "   'totalrecovered': '2'},\n",
       "  {'dailyconfirmed': '0',\n",
       "   'dailydeceased': '0',\n",
       "   'dailyrecovered': '1',\n",
       "   'date': '20 February ',\n",
       "   'dateymd': '2020-02-20',\n",
       "   'totalconfirmed': '3',\n",
       "   'totaldeceased': '0',\n",
       "   'totalrecovered': '3'},\n",
       "  {'dailyconfirmed': '0',\n",
       "   'dailydeceased': '0',\n",
       "   'dailyrecovered': '0',\n",
       "   'date': '21 February ',\n",
       "   'dateymd': '2020-02-21',\n",
       "   'totalconfirmed': '3',\n",
       "   'totaldeceased': '0',\n",
       "   'totalrecovered': '3'},\n",
       "  {'dailyconfirmed': '0',\n",
       "   'dailydeceased': '0',\n",
       "   'dailyrecovered': '0',\n",
       "   'date': '22 February ',\n",
       "   'dateymd': '2020-02-22',\n",
       "   'totalconfirmed': '3',\n",
       "   'totaldeceased': '0',\n",
       "   'totalrecovered': '3'},\n",
       "  {'dailyconfirmed': '0',\n",
       "   'dailydeceased': '0',\n",
       "   'dailyrecovered': '0',\n",
       "   'date': '23 February ',\n",
       "   'dateymd': '2020-02-23',\n",
       "   'totalconfirmed': '3',\n",
       "   'totaldeceased': '0',\n",
       "   'totalrecovered': '3'},\n",
       "  {'dailyconfirmed': '0',\n",
       "   'dailydeceased': '0',\n",
       "   'dailyrecovered': '0',\n",
       "   'date': '24 February ',\n",
       "   'dateymd': '2020-02-24',\n",
       "   'totalconfirmed': '3',\n",
       "   'totaldeceased': '0',\n",
       "   'totalrecovered': '3'},\n",
       "  {'dailyconfirmed': '0',\n",
       "   'dailydeceased': '0',\n",
       "   'dailyrecovered': '0',\n",
       "   'date': '25 February ',\n",
       "   'dateymd': '2020-02-25',\n",
       "   'totalconfirmed': '3',\n",
       "   'totaldeceased': '0',\n",
       "   'totalrecovered': '3'},\n",
       "  {'dailyconfirmed': '0',\n",
       "   'dailydeceased': '0',\n",
       "   'dailyrecovered': '0',\n",
       "   'date': '26 February ',\n",
       "   'dateymd': '2020-02-26',\n",
       "   'totalconfirmed': '3',\n",
       "   'totaldeceased': '0',\n",
       "   'totalrecovered': '3'},\n",
       "  {'dailyconfirmed': '0',\n",
       "   'dailydeceased': '0',\n",
       "   'dailyrecovered': '0',\n",
       "   'date': '27 February ',\n",
       "   'dateymd': '2020-02-27',\n",
       "   'totalconfirmed': '3',\n",
       "   'totaldeceased': '0',\n",
       "   'totalrecovered': '3'},\n",
       "  {'dailyconfirmed': '0',\n",
       "   'dailydeceased': '0',\n",
       "   'dailyrecovered': '0',\n",
       "   'date': '28 February ',\n",
       "   'dateymd': '2020-02-28',\n",
       "   'totalconfirmed': '3',\n",
       "   'totaldeceased': '0',\n",
       "   'totalrecovered': '3'},\n",
       "  {'dailyconfirmed': '0',\n",
       "   'dailydeceased': '0',\n",
       "   'dailyrecovered': '0',\n",
       "   'date': '29 February ',\n",
       "   'dateymd': '2020-02-29',\n",
       "   'totalconfirmed': '3',\n",
       "   'totaldeceased': '0',\n",
       "   'totalrecovered': '3'},\n",
       "  {'dailyconfirmed': '0',\n",
       "   'dailydeceased': '0',\n",
       "   'dailyrecovered': '0',\n",
       "   'date': '01 March ',\n",
       "   'dateymd': '2020-03-01',\n",
       "   'totalconfirmed': '3',\n",
       "   'totaldeceased': '0',\n",
       "   'totalrecovered': '3'},\n",
       "  {'dailyconfirmed': '2',\n",
       "   'dailydeceased': '0',\n",
       "   'dailyrecovered': '0',\n",
       "   'date': '02 March ',\n",
       "   'dateymd': '2020-03-02',\n",
       "   'totalconfirmed': '5',\n",
       "   'totaldeceased': '0',\n",
       "   'totalrecovered': '3'},\n",
       "  {'dailyconfirmed': '1',\n",
       "   'dailydeceased': '0',\n",
       "   'dailyrecovered': '0',\n",
       "   'date': '03 March ',\n",
       "   'dateymd': '2020-03-03',\n",
       "   'totalconfirmed': '6',\n",
       "   'totaldeceased': '0',\n",
       "   'totalrecovered': '3'},\n",
       "  {'dailyconfirmed': '22',\n",
       "   'dailydeceased': '0',\n",
       "   'dailyrecovered': '0',\n",
       "   'date': '04 March ',\n",
       "   'dateymd': '2020-03-04',\n",
       "   'totalconfirmed': '28',\n",
       "   'totaldeceased': '0',\n",
       "   'totalrecovered': '3'},\n",
       "  {'dailyconfirmed': '2',\n",
       "   'dailydeceased': '0',\n",
       "   'dailyrecovered': '0',\n",
       "   'date': '05 March ',\n",
       "   'dateymd': '2020-03-05',\n",
       "   'totalconfirmed': '30',\n",
       "   'totaldeceased': '0',\n",
       "   'totalrecovered': '3'},\n",
       "  {'dailyconfirmed': '1',\n",
       "   'dailydeceased': '0',\n",
       "   'dailyrecovered': '0',\n",
       "   'date': '06 March ',\n",
       "   'dateymd': '2020-03-06',\n",
       "   'totalconfirmed': '31',\n",
       "   'totaldeceased': '0',\n",
       "   'totalrecovered': '3'},\n",
       "  {'dailyconfirmed': '3',\n",
       "   'dailydeceased': '0',\n",
       "   'dailyrecovered': '0',\n",
       "   'date': '07 March ',\n",
       "   'dateymd': '2020-03-07',\n",
       "   'totalconfirmed': '34',\n",
       "   'totaldeceased': '0',\n",
       "   'totalrecovered': '3'},\n",
       "  {'dailyconfirmed': '5',\n",
       "   'dailydeceased': '0',\n",
       "   'dailyrecovered': '0',\n",
       "   'date': '08 March ',\n",
       "   'dateymd': '2020-03-08',\n",
       "   'totalconfirmed': '39',\n",
       "   'totaldeceased': '0',\n",
       "   'totalrecovered': '3'},\n",
       "  {'dailyconfirmed': '9',\n",
       "   'dailydeceased': '0',\n",
       "   'dailyrecovered': '0',\n",
       "   'date': '09 March ',\n",
       "   'dateymd': '2020-03-09',\n",
       "   'totalconfirmed': '48',\n",
       "   'totaldeceased': '0',\n",
       "   'totalrecovered': '3'},\n",
       "  {'dailyconfirmed': '15',\n",
       "   'dailydeceased': '0',\n",
       "   'dailyrecovered': '1',\n",
       "   'date': '10 March ',\n",
       "   'dateymd': '2020-03-10',\n",
       "   'totalconfirmed': '63',\n",
       "   'totaldeceased': '0',\n",
       "   'totalrecovered': '4'},\n",
       "  {'dailyconfirmed': '8',\n",
       "   'dailydeceased': '0',\n",
       "   'dailyrecovered': '0',\n",
       "   'date': '11 March ',\n",
       "   'dateymd': '2020-03-11',\n",
       "   'totalconfirmed': '71',\n",
       "   'totaldeceased': '0',\n",
       "   'totalrecovered': '4'},\n",
       "  {'dailyconfirmed': '10',\n",
       "   'dailydeceased': '1',\n",
       "   'dailyrecovered': '0',\n",
       "   'date': '12 March ',\n",
       "   'dateymd': '2020-03-12',\n",
       "   'totalconfirmed': '81',\n",
       "   'totaldeceased': '1',\n",
       "   'totalrecovered': '4'},\n",
       "  {'dailyconfirmed': '10',\n",
       "   'dailydeceased': '0',\n",
       "   'dailyrecovered': '6',\n",
       "   'date': '13 March ',\n",
       "   'dateymd': '2020-03-13',\n",
       "   'totalconfirmed': '91',\n",
       "   'totaldeceased': '1',\n",
       "   'totalrecovered': '10'},\n",
       "  {'dailyconfirmed': '11',\n",
       "   'dailydeceased': '1',\n",
       "   'dailyrecovered': '0',\n",
       "   'date': '14 March ',\n",
       "   'dateymd': '2020-03-14',\n",
       "   'totalconfirmed': '102',\n",
       "   'totaldeceased': '2',\n",
       "   'totalrecovered': '10'},\n",
       "  {'dailyconfirmed': '10',\n",
       "   'dailydeceased': '0',\n",
       "   'dailyrecovered': '3',\n",
       "   'date': '15 March ',\n",
       "   'dateymd': '2020-03-15',\n",
       "   'totalconfirmed': '112',\n",
       "   'totaldeceased': '2',\n",
       "   'totalrecovered': '13'},\n",
       "  {'dailyconfirmed': '14',\n",
       "   'dailydeceased': '0',\n",
       "   'dailyrecovered': '1',\n",
       "   'date': '16 March ',\n",
       "   'dateymd': '2020-03-16',\n",
       "   'totalconfirmed': '126',\n",
       "   'totaldeceased': '2',\n",
       "   'totalrecovered': '14'},\n",
       "  {'dailyconfirmed': '20',\n",
       "   'dailydeceased': '1',\n",
       "   'dailyrecovered': '1',\n",
       "   'date': '17 March ',\n",
       "   'dateymd': '2020-03-17',\n",
       "   'totalconfirmed': '146',\n",
       "   'totaldeceased': '3',\n",
       "   'totalrecovered': '15'},\n",
       "  {'dailyconfirmed': '25',\n",
       "   'dailydeceased': '0',\n",
       "   'dailyrecovered': '0',\n",
       "   'date': '18 March ',\n",
       "   'dateymd': '2020-03-18',\n",
       "   'totalconfirmed': '171',\n",
       "   'totaldeceased': '3',\n",
       "   'totalrecovered': '15'},\n",
       "  {'dailyconfirmed': '27',\n",
       "   'dailydeceased': '1',\n",
       "   'dailyrecovered': '5',\n",
       "   'date': '19 March ',\n",
       "   'dateymd': '2020-03-19',\n",
       "   'totalconfirmed': '198',\n",
       "   'totaldeceased': '4',\n",
       "   'totalrecovered': '20'},\n",
       "  {'dailyconfirmed': '58',\n",
       "   'dailydeceased': '0',\n",
       "   'dailyrecovered': '3',\n",
       "   'date': '20 March ',\n",
       "   'dateymd': '2020-03-20',\n",
       "   'totalconfirmed': '256',\n",
       "   'totaldeceased': '4',\n",
       "   'totalrecovered': '23'},\n",
       "  {'dailyconfirmed': '78',\n",
       "   'dailydeceased': '0',\n",
       "   'dailyrecovered': '0',\n",
       "   'date': '21 March ',\n",
       "   'dateymd': '2020-03-21',\n",
       "   'totalconfirmed': '334',\n",
       "   'totaldeceased': '4',\n",
       "   'totalrecovered': '23'},\n",
       "  {'dailyconfirmed': '69',\n",
       "   'dailydeceased': '3',\n",
       "   'dailyrecovered': '0',\n",
       "   'date': '22 March ',\n",
       "   'dateymd': '2020-03-22',\n",
       "   'totalconfirmed': '403',\n",
       "   'totaldeceased': '7',\n",
       "   'totalrecovered': '23'},\n",
       "  {'dailyconfirmed': '94',\n",
       "   'dailydeceased': '2',\n",
       "   'dailyrecovered': '2',\n",
       "   'date': '23 March ',\n",
       "   'dateymd': '2020-03-23',\n",
       "   'totalconfirmed': '497',\n",
       "   'totaldeceased': '9',\n",
       "   'totalrecovered': '25'},\n",
       "  {'dailyconfirmed': '74',\n",
       "   'dailydeceased': '1',\n",
       "   'dailyrecovered': '15',\n",
       "   'date': '24 March ',\n",
       "   'dateymd': '2020-03-24',\n",
       "   'totalconfirmed': '571',\n",
       "   'totaldeceased': '10',\n",
       "   'totalrecovered': '40'},\n",
       "  {'dailyconfirmed': '86',\n",
       "   'dailydeceased': '1',\n",
       "   'dailyrecovered': '3',\n",
       "   'date': '25 March ',\n",
       "   'dateymd': '2020-03-25',\n",
       "   'totalconfirmed': '657',\n",
       "   'totaldeceased': '11',\n",
       "   'totalrecovered': '43'},\n",
       "  {'dailyconfirmed': '73',\n",
       "   'dailydeceased': '5',\n",
       "   'dailyrecovered': '7',\n",
       "   'date': '26 March ',\n",
       "   'dateymd': '2020-03-26',\n",
       "   'totalconfirmed': '730',\n",
       "   'totaldeceased': '16',\n",
       "   'totalrecovered': '50'},\n",
       "  {'dailyconfirmed': '153',\n",
       "   'dailydeceased': '3',\n",
       "   'dailyrecovered': '25',\n",
       "   'date': '27 March ',\n",
       "   'dateymd': '2020-03-27',\n",
       "   'totalconfirmed': '883',\n",
       "   'totaldeceased': '19',\n",
       "   'totalrecovered': '75'},\n",
       "  {'dailyconfirmed': '136',\n",
       "   'dailydeceased': '5',\n",
       "   'dailyrecovered': '10',\n",
       "   'date': '28 March ',\n",
       "   'dateymd': '2020-03-28',\n",
       "   'totalconfirmed': '1019',\n",
       "   'totaldeceased': '24',\n",
       "   'totalrecovered': '85'},\n",
       "  {'dailyconfirmed': '120',\n",
       "   'dailydeceased': '3',\n",
       "   'dailyrecovered': '17',\n",
       "   'date': '29 March ',\n",
       "   'dateymd': '2020-03-29',\n",
       "   'totalconfirmed': '1139',\n",
       "   'totaldeceased': '27',\n",
       "   'totalrecovered': '102'},\n",
       "  {'dailyconfirmed': '187',\n",
       "   'dailydeceased': '14',\n",
       "   'dailyrecovered': '35',\n",
       "   'date': '30 March ',\n",
       "   'dateymd': '2020-03-30',\n",
       "   'totalconfirmed': '1326',\n",
       "   'totaldeceased': '41',\n",
       "   'totalrecovered': '137'},\n",
       "  {'dailyconfirmed': '309',\n",
       "   'dailydeceased': '6',\n",
       "   'dailyrecovered': '13',\n",
       "   'date': '31 March ',\n",
       "   'dateymd': '2020-03-31',\n",
       "   'totalconfirmed': '1635',\n",
       "   'totaldeceased': '47',\n",
       "   'totalrecovered': '150'},\n",
       "  {'dailyconfirmed': '424',\n",
       "   'dailydeceased': '6',\n",
       "   'dailyrecovered': '19',\n",
       "   'date': '01 April ',\n",
       "   'dateymd': '2020-04-01',\n",
       "   'totalconfirmed': '2059',\n",
       "   'totaldeceased': '53',\n",
       "   'totalrecovered': '169'},\n",
       "  {'dailyconfirmed': '486',\n",
       "   'dailydeceased': '16',\n",
       "   'dailyrecovered': '22',\n",
       "   'date': '02 April ',\n",
       "   'dateymd': '2020-04-02',\n",
       "   'totalconfirmed': '2545',\n",
       "   'totaldeceased': '69',\n",
       "   'totalrecovered': '191'},\n",
       "  {'dailyconfirmed': '560',\n",
       "   'dailydeceased': '14',\n",
       "   'dailyrecovered': '39',\n",
       "   'date': '03 April ',\n",
       "   'dateymd': '2020-04-03',\n",
       "   'totalconfirmed': '3105',\n",
       "   'totaldeceased': '83',\n",
       "   'totalrecovered': '230'},\n",
       "  {'dailyconfirmed': '579',\n",
       "   'dailydeceased': '13',\n",
       "   'dailyrecovered': '56',\n",
       "   'date': '04 April ',\n",
       "   'dateymd': '2020-04-04',\n",
       "   'totalconfirmed': '3684',\n",
       "   'totaldeceased': '96',\n",
       "   'totalrecovered': '286'},\n",
       "  {'dailyconfirmed': '609',\n",
       "   'dailydeceased': '22',\n",
       "   'dailyrecovered': '43',\n",
       "   'date': '05 April ',\n",
       "   'dateymd': '2020-04-05',\n",
       "   'totalconfirmed': '4293',\n",
       "   'totaldeceased': '118',\n",
       "   'totalrecovered': '329'},\n",
       "  {'dailyconfirmed': '484',\n",
       "   'dailydeceased': '16',\n",
       "   'dailyrecovered': '65',\n",
       "   'date': '06 April ',\n",
       "   'dateymd': '2020-04-06',\n",
       "   'totalconfirmed': '4777',\n",
       "   'totaldeceased': '134',\n",
       "   'totalrecovered': '394'},\n",
       "  {'dailyconfirmed': '573',\n",
       "   'dailydeceased': '27',\n",
       "   'dailyrecovered': '75',\n",
       "   'date': '07 April ',\n",
       "   'dateymd': '2020-04-07',\n",
       "   'totalconfirmed': '5350',\n",
       "   'totaldeceased': '161',\n",
       "   'totalrecovered': '469'},\n",
       "  {'dailyconfirmed': '565',\n",
       "   'dailydeceased': '20',\n",
       "   'dailyrecovered': '96',\n",
       "   'date': '08 April ',\n",
       "   'dateymd': '2020-04-08',\n",
       "   'totalconfirmed': '5915',\n",
       "   'totaldeceased': '181',\n",
       "   'totalrecovered': '565'},\n",
       "  {'dailyconfirmed': '813',\n",
       "   'dailydeceased': '46',\n",
       "   'dailyrecovered': '70',\n",
       "   'date': '09 April ',\n",
       "   'dateymd': '2020-04-09',\n",
       "   'totalconfirmed': '6728',\n",
       "   'totaldeceased': '227',\n",
       "   'totalrecovered': '635'},\n",
       "  {'dailyconfirmed': '871',\n",
       "   'dailydeceased': '22',\n",
       "   'dailyrecovered': '151',\n",
       "   'date': '10 April ',\n",
       "   'dateymd': '2020-04-10',\n",
       "   'totalconfirmed': '7599',\n",
       "   'totaldeceased': '249',\n",
       "   'totalrecovered': '786'},\n",
       "  {'dailyconfirmed': '854',\n",
       "   'dailydeceased': '41',\n",
       "   'dailyrecovered': '186',\n",
       "   'date': '11 April ',\n",
       "   'dateymd': '2020-04-11',\n",
       "   'totalconfirmed': '8453',\n",
       "   'totaldeceased': '290',\n",
       "   'totalrecovered': '972'},\n",
       "  {'dailyconfirmed': '758',\n",
       "   'dailydeceased': '42',\n",
       "   'dailyrecovered': '114',\n",
       "   'date': '12 April ',\n",
       "   'dateymd': '2020-04-12',\n",
       "   'totalconfirmed': '9211',\n",
       "   'totaldeceased': '332',\n",
       "   'totalrecovered': '1086'},\n",
       "  {'dailyconfirmed': '1243',\n",
       "   'dailydeceased': '27',\n",
       "   'dailyrecovered': '112',\n",
       "   'date': '13 April ',\n",
       "   'dateymd': '2020-04-13',\n",
       "   'totalconfirmed': '10454',\n",
       "   'totaldeceased': '359',\n",
       "   'totalrecovered': '1198'},\n",
       "  {'dailyconfirmed': '1031',\n",
       "   'dailydeceased': '37',\n",
       "   'dailyrecovered': '167',\n",
       "   'date': '14 April ',\n",
       "   'dateymd': '2020-04-14',\n",
       "   'totalconfirmed': '11485',\n",
       "   'totaldeceased': '396',\n",
       "   'totalrecovered': '1365'},\n",
       "  {'dailyconfirmed': '886',\n",
       "   'dailydeceased': '27',\n",
       "   'dailyrecovered': '144',\n",
       "   'date': '15 April ',\n",
       "   'dateymd': '2020-04-15',\n",
       "   'totalconfirmed': '12371',\n",
       "   'totaldeceased': '423',\n",
       "   'totalrecovered': '1509'},\n",
       "  {'dailyconfirmed': '1061',\n",
       "   'dailydeceased': '26',\n",
       "   'dailyrecovered': '258',\n",
       "   'date': '16 April ',\n",
       "   'dateymd': '2020-04-16',\n",
       "   'totalconfirmed': '13432',\n",
       "   'totaldeceased': '449',\n",
       "   'totalrecovered': '1767'},\n",
       "  {'dailyconfirmed': '922',\n",
       "   'dailydeceased': '38',\n",
       "   'dailyrecovered': '273',\n",
       "   'date': '17 April ',\n",
       "   'dateymd': '2020-04-17',\n",
       "   'totalconfirmed': '14354',\n",
       "   'totaldeceased': '487',\n",
       "   'totalrecovered': '2040'},\n",
       "  {'dailyconfirmed': '1371',\n",
       "   'dailydeceased': '35',\n",
       "   'dailyrecovered': '426',\n",
       "   'date': '18 April ',\n",
       "   'dateymd': '2020-04-18',\n",
       "   'totalconfirmed': '15725',\n",
       "   'totaldeceased': '522',\n",
       "   'totalrecovered': '2466'},\n",
       "  {'dailyconfirmed': '1580',\n",
       "   'dailydeceased': '38',\n",
       "   'dailyrecovered': '388',\n",
       "   'date': '19 April ',\n",
       "   'dateymd': '2020-04-19',\n",
       "   'totalconfirmed': '17305',\n",
       "   'totaldeceased': '560',\n",
       "   'totalrecovered': '2854'},\n",
       "  {'dailyconfirmed': '1239',\n",
       "   'dailydeceased': '33',\n",
       "   'dailyrecovered': '419',\n",
       "   'date': '20 April ',\n",
       "   'dateymd': '2020-04-20',\n",
       "   'totalconfirmed': '18544',\n",
       "   'totaldeceased': '593',\n",
       "   'totalrecovered': '3273'},\n",
       "  {'dailyconfirmed': '1537',\n",
       "   'dailydeceased': '53',\n",
       "   'dailyrecovered': '703',\n",
       "   'date': '21 April ',\n",
       "   'dateymd': '2020-04-21',\n",
       "   'totalconfirmed': '20081',\n",
       "   'totaldeceased': '646',\n",
       "   'totalrecovered': '3976'},\n",
       "  {'dailyconfirmed': '1292',\n",
       "   'dailydeceased': '36',\n",
       "   'dailyrecovered': '394',\n",
       "   'date': '22 April ',\n",
       "   'dateymd': '2020-04-22',\n",
       "   'totalconfirmed': '21373',\n",
       "   'totaldeceased': '682',\n",
       "   'totalrecovered': '4370'},\n",
       "  {'dailyconfirmed': '1667',\n",
       "   'dailydeceased': '40',\n",
       "   'dailyrecovered': '642',\n",
       "   'date': '23 April ',\n",
       "   'dateymd': '2020-04-23',\n",
       "   'totalconfirmed': '23040',\n",
       "   'totaldeceased': '722',\n",
       "   'totalrecovered': '5012'},\n",
       "  {'dailyconfirmed': '1408',\n",
       "   'dailydeceased': '59',\n",
       "   'dailyrecovered': '484',\n",
       "   'date': '24 April ',\n",
       "   'dateymd': '2020-04-24',\n",
       "   'totalconfirmed': '24448',\n",
       "   'totaldeceased': '781',\n",
       "   'totalrecovered': '5496'},\n",
       "  {'dailyconfirmed': '1835',\n",
       "   'dailydeceased': '44',\n",
       "   'dailyrecovered': '442',\n",
       "   'date': '25 April ',\n",
       "   'dateymd': '2020-04-25',\n",
       "   'totalconfirmed': '26283',\n",
       "   'totaldeceased': '825',\n",
       "   'totalrecovered': '5938'},\n",
       "  {'dailyconfirmed': '1607',\n",
       "   'dailydeceased': '56',\n",
       "   'dailyrecovered': '585',\n",
       "   'date': '26 April ',\n",
       "   'dateymd': '2020-04-26',\n",
       "   'totalconfirmed': '27890',\n",
       "   'totaldeceased': '881',\n",
       "   'totalrecovered': '6523'},\n",
       "  {'dailyconfirmed': '1568',\n",
       "   'dailydeceased': '58',\n",
       "   'dailyrecovered': '580',\n",
       "   'date': '27 April ',\n",
       "   'dateymd': '2020-04-27',\n",
       "   'totalconfirmed': '29458',\n",
       "   'totaldeceased': '939',\n",
       "   'totalrecovered': '7103'},\n",
       "  {'dailyconfirmed': '1902',\n",
       "   'dailydeceased': '69',\n",
       "   'dailyrecovered': '636',\n",
       "   'date': '28 April ',\n",
       "   'dateymd': '2020-04-28',\n",
       "   'totalconfirmed': '31360',\n",
       "   'totaldeceased': '1008',\n",
       "   'totalrecovered': '7739'},\n",
       "  {'dailyconfirmed': '1705',\n",
       "   'dailydeceased': '71',\n",
       "   'dailyrecovered': '690',\n",
       "   'date': '29 April ',\n",
       "   'dateymd': '2020-04-29',\n",
       "   'totalconfirmed': '33065',\n",
       "   'totaldeceased': '1079',\n",
       "   'totalrecovered': '8429'},\n",
       "  {'dailyconfirmed': '1801',\n",
       "   'dailydeceased': '75',\n",
       "   'dailyrecovered': '630',\n",
       "   'date': '30 April ',\n",
       "   'dateymd': '2020-04-30',\n",
       "   'totalconfirmed': '34866',\n",
       "   'totaldeceased': '1154',\n",
       "   'totalrecovered': '9059'},\n",
       "  {'dailyconfirmed': '2396',\n",
       "   'dailydeceased': '77',\n",
       "   'dailyrecovered': '962',\n",
       "   'date': '01 May ',\n",
       "   'dateymd': '2020-05-01',\n",
       "   'totalconfirmed': '37262',\n",
       "   'totaldeceased': '1231',\n",
       "   'totalrecovered': '10021'},\n",
       "  {'dailyconfirmed': '2564',\n",
       "   'dailydeceased': '92',\n",
       "   'dailyrecovered': '831',\n",
       "   'date': '02 May ',\n",
       "   'dateymd': '2020-05-02',\n",
       "   'totalconfirmed': '39826',\n",
       "   'totaldeceased': '1323',\n",
       "   'totalrecovered': '10852'},\n",
       "  {'dailyconfirmed': '2952',\n",
       "   'dailydeceased': '140',\n",
       "   'dailyrecovered': '911',\n",
       "   'date': '03 May ',\n",
       "   'dateymd': '2020-05-03',\n",
       "   'totalconfirmed': '42778',\n",
       "   'totaldeceased': '1463',\n",
       "   'totalrecovered': '11763'},\n",
       "  {'dailyconfirmed': '3656',\n",
       "   'dailydeceased': '103',\n",
       "   'dailyrecovered': '1082',\n",
       "   'date': '04 May ',\n",
       "   'dateymd': '2020-05-04',\n",
       "   'totalconfirmed': '46434',\n",
       "   'totaldeceased': '1566',\n",
       "   'totalrecovered': '12845'},\n",
       "  {'dailyconfirmed': '2971',\n",
       "   'dailydeceased': '128',\n",
       "   'dailyrecovered': '1295',\n",
       "   'date': '05 May ',\n",
       "   'dateymd': '2020-05-05',\n",
       "   'totalconfirmed': '49405',\n",
       "   'totaldeceased': '1694',\n",
       "   'totalrecovered': '14140'},\n",
       "  {'dailyconfirmed': '3602',\n",
       "   'dailydeceased': '91',\n",
       "   'dailyrecovered': '1161',\n",
       "   'date': '06 May ',\n",
       "   'dateymd': '2020-05-06',\n",
       "   'totalconfirmed': '53007',\n",
       "   'totaldeceased': '1785',\n",
       "   'totalrecovered': '15301'},\n",
       "  {'dailyconfirmed': '3344',\n",
       "   'dailydeceased': '104',\n",
       "   'dailyrecovered': '1475',\n",
       "   'date': '07 May ',\n",
       "   'dateymd': '2020-05-07',\n",
       "   'totalconfirmed': '56351',\n",
       "   'totaldeceased': '1889',\n",
       "   'totalrecovered': '16776'},\n",
       "  {'dailyconfirmed': '3339',\n",
       "   'dailydeceased': '97',\n",
       "   'dailyrecovered': '1111',\n",
       "   'date': '08 May ',\n",
       "   'dateymd': '2020-05-08',\n",
       "   'totalconfirmed': '59690',\n",
       "   'totaldeceased': '1986',\n",
       "   'totalrecovered': '17887'},\n",
       "  {'dailyconfirmed': '3175',\n",
       "   'dailydeceased': '115',\n",
       "   'dailyrecovered': '1414',\n",
       "   'date': '09 May ',\n",
       "   'dateymd': '2020-05-09',\n",
       "   'totalconfirmed': '62865',\n",
       "   'totaldeceased': '2101',\n",
       "   'totalrecovered': '19301'},\n",
       "  {'dailyconfirmed': '4311',\n",
       "   'dailydeceased': '112',\n",
       "   'dailyrecovered': '1669',\n",
       "   'date': '10 May ',\n",
       "   'dateymd': '2020-05-10',\n",
       "   'totalconfirmed': '67176',\n",
       "   'totaldeceased': '2213',\n",
       "   'totalrecovered': '20970'},\n",
       "  {'dailyconfirmed': '3592',\n",
       "   'dailydeceased': '81',\n",
       "   'dailyrecovered': '1579',\n",
       "   'date': '11 May ',\n",
       "   'dateymd': '2020-05-11',\n",
       "   'totalconfirmed': '70768',\n",
       "   'totaldeceased': '2294',\n",
       "   'totalrecovered': '22549'},\n",
       "  {'dailyconfirmed': '3562',\n",
       "   'dailydeceased': '120',\n",
       "   'dailyrecovered': '1905',\n",
       "   'date': '12 May ',\n",
       "   'dateymd': '2020-05-12',\n",
       "   'totalconfirmed': '74330',\n",
       "   'totaldeceased': '2414',\n",
       "   'totalrecovered': '24454'},\n",
       "  {'dailyconfirmed': '3726',\n",
       "   'dailydeceased': '137',\n",
       "   'dailyrecovered': '1963',\n",
       "   'date': '13 May ',\n",
       "   'dateymd': '2020-05-13',\n",
       "   'totalconfirmed': '78056',\n",
       "   'totaldeceased': '2551',\n",
       "   'totalrecovered': '26417'},\n",
       "  {'dailyconfirmed': '3991',\n",
       "   'dailydeceased': '97',\n",
       "   'dailyrecovered': '1594',\n",
       "   'date': '14 May ',\n",
       "   'dateymd': '2020-05-14',\n",
       "   'totalconfirmed': '82047',\n",
       "   'totaldeceased': '2648',\n",
       "   'totalrecovered': '28011'},\n",
       "  {'dailyconfirmed': '3808',\n",
       "   'dailydeceased': '104',\n",
       "   'dailyrecovered': '2234',\n",
       "   'date': '15 May ',\n",
       "   'dateymd': '2020-05-15',\n",
       "   'totalconfirmed': '85855',\n",
       "   'totaldeceased': '2752',\n",
       "   'totalrecovered': '30245'},\n",
       "  {'dailyconfirmed': '4794',\n",
       "   'dailydeceased': '120',\n",
       "   'dailyrecovered': '4012',\n",
       "   'date': '16 May ',\n",
       "   'dateymd': '2020-05-16',\n",
       "   'totalconfirmed': '90649',\n",
       "   'totaldeceased': '2872',\n",
       "   'totalrecovered': '34257'},\n",
       "  {'dailyconfirmed': '5049',\n",
       "   'dailydeceased': '152',\n",
       "   'dailyrecovered': '2538',\n",
       "   'date': '17 May ',\n",
       "   'dateymd': '2020-05-17',\n",
       "   'totalconfirmed': '95698',\n",
       "   'totaldeceased': '3024',\n",
       "   'totalrecovered': '36795'},\n",
       "  {'dailyconfirmed': '4628',\n",
       "   'dailydeceased': '131',\n",
       "   'dailyrecovered': '2482',\n",
       "   'date': '18 May ',\n",
       "   'dateymd': '2020-05-18',\n",
       "   'totalconfirmed': '100326',\n",
       "   'totaldeceased': '3155',\n",
       "   'totalrecovered': '39277'},\n",
       "  {'dailyconfirmed': '6154',\n",
       "   'dailydeceased': '146',\n",
       "   'dailyrecovered': '3032',\n",
       "   'date': '19 May ',\n",
       "   'dateymd': '2020-05-19',\n",
       "   'totalconfirmed': '106480',\n",
       "   'totaldeceased': '3301',\n",
       "   'totalrecovered': '42309'},\n",
       "  {'dailyconfirmed': '5720',\n",
       "   'dailydeceased': '134',\n",
       "   'dailyrecovered': '3113',\n",
       "   'date': '20 May ',\n",
       "   'dateymd': '2020-05-20',\n",
       "   'totalconfirmed': '112200',\n",
       "   'totaldeceased': '3435',\n",
       "   'totalrecovered': '45422'},\n",
       "  {'dailyconfirmed': '6023',\n",
       "   'dailydeceased': '148',\n",
       "   'dailyrecovered': '3131',\n",
       "   'date': '21 May ',\n",
       "   'dateymd': '2020-05-21',\n",
       "   'totalconfirmed': '118223',\n",
       "   'totaldeceased': '3583',\n",
       "   'totalrecovered': '48553'},\n",
       "  {'dailyconfirmed': '6536',\n",
       "   'dailydeceased': '142',\n",
       "   'dailyrecovered': '3280',\n",
       "   'date': '22 May ',\n",
       "   'dateymd': '2020-05-22',\n",
       "   'totalconfirmed': '124759',\n",
       "   'totaldeceased': '3725',\n",
       "   'totalrecovered': '51833'},\n",
       "  {'dailyconfirmed': '6667',\n",
       "   'dailydeceased': '142',\n",
       "   'dailyrecovered': '2576',\n",
       "   'date': '23 May ',\n",
       "   'dateymd': '2020-05-23',\n",
       "   'totalconfirmed': '131424',\n",
       "   'totaldeceased': '3867',\n",
       "   'totalrecovered': '54409'},\n",
       "  {'dailyconfirmed': '7111',\n",
       "   'dailydeceased': '156',\n",
       "   'dailyrecovered': '3285',\n",
       "   'date': '24 May ',\n",
       "   'dateymd': '2020-05-24',\n",
       "   'totalconfirmed': '138537',\n",
       "   'totaldeceased': '4023',\n",
       "   'totalrecovered': '57694'},\n",
       "  {'dailyconfirmed': '6414',\n",
       "   'dailydeceased': '150',\n",
       "   'dailyrecovered': '3012',\n",
       "   'date': '25 May ',\n",
       "   'dateymd': '2020-05-25',\n",
       "   'totalconfirmed': '144951',\n",
       "   'totaldeceased': '4173',\n",
       "   'totalrecovered': '60706'},\n",
       "  {'dailyconfirmed': '5907',\n",
       "   'dailydeceased': '173',\n",
       "   'dailyrecovered': '3585',\n",
       "   'date': '26 May ',\n",
       "   'dateymd': '2020-05-26',\n",
       "   'totalconfirmed': '150858',\n",
       "   'totaldeceased': '4346',\n",
       "   'totalrecovered': '64291'},\n",
       "  {'dailyconfirmed': '7246',\n",
       "   'dailydeceased': '188',\n",
       "   'dailyrecovered': '3434',\n",
       "   'date': '27 May ',\n",
       "   'dateymd': '2020-05-27',\n",
       "   'totalconfirmed': '158104',\n",
       "   'totaldeceased': '4534',\n",
       "   'totalrecovered': '67725'},\n",
       "  {'dailyconfirmed': '7254',\n",
       "   'dailydeceased': '176',\n",
       "   'dailyrecovered': '3171',\n",
       "   'date': '28 May ',\n",
       "   'dateymd': '2020-05-28',\n",
       "   'totalconfirmed': '165358',\n",
       "   'totaldeceased': '4710',\n",
       "   'totalrecovered': '70896'},\n",
       "  {'dailyconfirmed': '8138',\n",
       "   'dailydeceased': '269',\n",
       "   'dailyrecovered': '11735',\n",
       "   'date': '29 May ',\n",
       "   'dateymd': '2020-05-29',\n",
       "   'totalconfirmed': '173496',\n",
       "   'totaldeceased': '4979',\n",
       "   'totalrecovered': '82631'},\n",
       "  {'dailyconfirmed': '8364',\n",
       "   'dailydeceased': '205',\n",
       "   'dailyrecovered': '4303',\n",
       "   'date': '30 May ',\n",
       "   'dateymd': '2020-05-30',\n",
       "   'totalconfirmed': '181860',\n",
       "   'totaldeceased': '5184',\n",
       "   'totalrecovered': '86934'},\n",
       "  {'dailyconfirmed': '8789',\n",
       "   'dailydeceased': '222',\n",
       "   'dailyrecovered': '4928',\n",
       "   'date': '31 May ',\n",
       "   'dateymd': '2020-05-31',\n",
       "   'totalconfirmed': '190649',\n",
       "   'totaldeceased': '5406',\n",
       "   'totalrecovered': '91862'},\n",
       "  {'dailyconfirmed': '7723',\n",
       "   'dailydeceased': '201',\n",
       "   'dailyrecovered': '3882',\n",
       "   'date': '01 June ',\n",
       "   'dateymd': '2020-06-01',\n",
       "   'totalconfirmed': '198372',\n",
       "   'totaldeceased': '5607',\n",
       "   'totalrecovered': '95744'},\n",
       "  {'dailyconfirmed': '8812',\n",
       "   'dailydeceased': '222',\n",
       "   'dailyrecovered': '4531',\n",
       "   'date': '02 June ',\n",
       "   'dateymd': '2020-06-02',\n",
       "   'totalconfirmed': '207187',\n",
       "   'totaldeceased': '5829',\n",
       "   'totalrecovered': '100275'},\n",
       "  {'dailyconfirmed': '9689',\n",
       "   'dailydeceased': '259',\n",
       "   'dailyrecovered': '3789',\n",
       "   'date': '03 June ',\n",
       "   'dateymd': '2020-06-03',\n",
       "   'totalconfirmed': '216876',\n",
       "   'totaldeceased': '6088',\n",
       "   'totalrecovered': '104064'},\n",
       "  {'dailyconfirmed': '9847',\n",
       "   'dailydeceased': '274',\n",
       "   'dailyrecovered': '4390',\n",
       "   'date': '04 June ',\n",
       "   'dateymd': '2020-06-04',\n",
       "   'totalconfirmed': '226723',\n",
       "   'totaldeceased': '6362',\n",
       "   'totalrecovered': '108454'},\n",
       "  {'dailyconfirmed': '9472',\n",
       "   'dailydeceased': '286',\n",
       "   'dailyrecovered': '4770',\n",
       "   'date': '05 June ',\n",
       "   'dateymd': '2020-06-05',\n",
       "   'totalconfirmed': '236195',\n",
       "   'totaldeceased': '6648',\n",
       "   'totalrecovered': '113224'},\n",
       "  {'dailyconfirmed': '10408',\n",
       "   'dailydeceased': '297',\n",
       "   'dailyrecovered': '5433',\n",
       "   'date': '06 June ',\n",
       "   'dateymd': '2020-06-06',\n",
       "   'totalconfirmed': '246603',\n",
       "   'totaldeceased': '6945',\n",
       "   'totalrecovered': '118657'},\n",
       "  {'dailyconfirmed': '10882',\n",
       "   'dailydeceased': '261',\n",
       "   'dailyrecovered': '5191',\n",
       "   'date': '07 June ',\n",
       "   'dateymd': '2020-06-07',\n",
       "   'totalconfirmed': '257485',\n",
       "   'totaldeceased': '7206',\n",
       "   'totalrecovered': '123848'},\n",
       "  {'dailyconfirmed': '8536',\n",
       "   'dailydeceased': '271',\n",
       "   'dailyrecovered': '5171',\n",
       "   'date': '08 June ',\n",
       "   'dateymd': '2020-06-08',\n",
       "   'totalconfirmed': '266021',\n",
       "   'totaldeceased': '7477',\n",
       "   'totalrecovered': '129019'},\n",
       "  {'dailyconfirmed': '9981',\n",
       "   'dailydeceased': '272',\n",
       "   'dailyrecovered': '5634',\n",
       "   'date': '09 June ',\n",
       "   'dateymd': '2020-06-09',\n",
       "   'totalconfirmed': '276002',\n",
       "   'totaldeceased': '7749',\n",
       "   'totalrecovered': '134653'},\n",
       "  {'dailyconfirmed': '11156',\n",
       "   'dailydeceased': '358',\n",
       "   'dailyrecovered': '6275',\n",
       "   'date': '10 June ',\n",
       "   'dateymd': '2020-06-10',\n",
       "   'totalconfirmed': '287158',\n",
       "   'totaldeceased': '8107',\n",
       "   'totalrecovered': '140928'},\n",
       "  {'dailyconfirmed': '11135',\n",
       "   'dailydeceased': '394',\n",
       "   'dailyrecovered': '6044',\n",
       "   'date': '11 June ',\n",
       "   'dateymd': '2020-06-11',\n",
       "   'totalconfirmed': '298293',\n",
       "   'totaldeceased': '8501',\n",
       "   'totalrecovered': '146972'},\n",
       "  {'dailyconfirmed': '11306',\n",
       "   'dailydeceased': '388',\n",
       "   'dailyrecovered': '7263',\n",
       "   'date': '12 June ',\n",
       "   'dateymd': '2020-06-12',\n",
       "   'totalconfirmed': '309599',\n",
       "   'totaldeceased': '8889',\n",
       "   'totalrecovered': '154235'},\n",
       "  {'dailyconfirmed': '12039',\n",
       "   'dailydeceased': '309',\n",
       "   'dailyrecovered': '8092',\n",
       "   'date': '13 June ',\n",
       "   'dateymd': '2020-06-13',\n",
       "   'totalconfirmed': '321638',\n",
       "   'totaldeceased': '9198',\n",
       "   'totalrecovered': '162327'},\n",
       "  {'dailyconfirmed': '11405',\n",
       "   'dailydeceased': '324',\n",
       "   'dailyrecovered': '7358',\n",
       "   'date': '14 June ',\n",
       "   'dateymd': '2020-06-14',\n",
       "   'totalconfirmed': '333043',\n",
       "   'totaldeceased': '9522',\n",
       "   'totalrecovered': '169685'},\n",
       "  {'dailyconfirmed': '10032',\n",
       "   'dailydeceased': '396',\n",
       "   'dailyrecovered': '10639',\n",
       "   'date': '15 June ',\n",
       "   'dateymd': '2020-06-15',\n",
       "   'totalconfirmed': '343075',\n",
       "   'totaldeceased': '9918',\n",
       "   'totalrecovered': '180324'},\n",
       "  {'dailyconfirmed': '11086',\n",
       "   'dailydeceased': '2004',\n",
       "   'dailyrecovered': '7226',\n",
       "   'date': '16 June ',\n",
       "   'dateymd': '2020-06-16',\n",
       "   'totalconfirmed': '354161',\n",
       "   'totaldeceased': '11922',\n",
       "   'totalrecovered': '187550'},\n",
       "  {'dailyconfirmed': '13108',\n",
       "   'dailydeceased': '341',\n",
       "   'dailyrecovered': '6890',\n",
       "   'date': '17 June ',\n",
       "   'dateymd': '2020-06-17',\n",
       "   'totalconfirmed': '367269',\n",
       "   'totaldeceased': '12263',\n",
       "   'totalrecovered': '194440'},\n",
       "  {'dailyconfirmed': '13829',\n",
       "   'dailydeceased': '343',\n",
       "   'dailyrecovered': '10741',\n",
       "   'date': '18 June ',\n",
       "   'dateymd': '2020-06-18',\n",
       "   'totalconfirmed': '381098',\n",
       "   'totaldeceased': '12606',\n",
       "   'totalrecovered': '205181'},\n",
       "  {'dailyconfirmed': '14740',\n",
       "   'dailydeceased': '364',\n",
       "   'dailyrecovered': '9029',\n",
       "   'date': '19 June ',\n",
       "   'dateymd': '2020-06-19',\n",
       "   'totalconfirmed': '395838',\n",
       "   'totaldeceased': '12970',\n",
       "   'totalrecovered': '214210'},\n",
       "  {'dailyconfirmed': '15918',\n",
       "   'dailydeceased': '308',\n",
       "   'dailyrecovered': '13974',\n",
       "   'date': '20 June ',\n",
       "   'dateymd': '2020-06-20',\n",
       "   'totalconfirmed': '411753',\n",
       "   'totaldeceased': '13278',\n",
       "   'totalrecovered': '228184'},\n",
       "  {'dailyconfirmed': '15151',\n",
       "   'dailydeceased': '426',\n",
       "   'dailyrecovered': '9075',\n",
       "   'date': '21 June ',\n",
       "   'dateymd': '2020-06-21',\n",
       "   'totalconfirmed': '426904',\n",
       "   'totaldeceased': '13704',\n",
       "   'totalrecovered': '237259'},\n",
       "  {'dailyconfirmed': '13560',\n",
       "   'dailydeceased': '312',\n",
       "   'dailyrecovered': '10879',\n",
       "   'date': '22 June ',\n",
       "   'dateymd': '2020-06-22',\n",
       "   'totalconfirmed': '440464',\n",
       "   'totaldeceased': '14016',\n",
       "   'totalrecovered': '248138'},\n",
       "  {'dailyconfirmed': '15656',\n",
       "   'dailydeceased': '468',\n",
       "   'dailyrecovered': '10462',\n",
       "   'date': '23 June ',\n",
       "   'dateymd': '2020-06-23',\n",
       "   'totalconfirmed': '456120',\n",
       "   'totaldeceased': '14484',\n",
       "   'totalrecovered': '258600'},\n",
       "  {'dailyconfirmed': '16868',\n",
       "   'dailydeceased': '424',\n",
       "   'dailyrecovered': '13089',\n",
       "   'date': '24 June ',\n",
       "   'dateymd': '2020-06-24',\n",
       "   'totalconfirmed': '472988',\n",
       "   'totaldeceased': '14908',\n",
       "   'totalrecovered': '271689'},\n",
       "  {'dailyconfirmed': '18205',\n",
       "   'dailydeceased': '401',\n",
       "   'dailyrecovered': '13983',\n",
       "   'date': '25 June ',\n",
       "   'dateymd': '2020-06-25',\n",
       "   'totalconfirmed': '491193',\n",
       "   'totaldeceased': '15309',\n",
       "   'totalrecovered': '285672'},\n",
       "  {'dailyconfirmed': '18255',\n",
       "   'dailydeceased': '381',\n",
       "   'dailyrecovered': '10246',\n",
       "   'date': '26 June ',\n",
       "   'dateymd': '2020-06-26',\n",
       "   'totalconfirmed': '509448',\n",
       "   'totaldeceased': '15690',\n",
       "   'totalrecovered': '295918'},\n",
       "  {'dailyconfirmed': '20142',\n",
       "   'dailydeceased': '414',\n",
       "   'dailyrecovered': '14229',\n",
       "   'date': '27 June ',\n",
       "   'dateymd': '2020-06-27',\n",
       "   'totalconfirmed': '529590',\n",
       "   'totaldeceased': '16104',\n",
       "   'totalrecovered': '310147'},\n",
       "  {'dailyconfirmed': '19610',\n",
       "   'dailydeceased': '384',\n",
       "   'dailyrecovered': '11631',\n",
       "   'date': '28 June ',\n",
       "   'dateymd': '2020-06-28',\n",
       "   'totalconfirmed': '549200',\n",
       "   'totaldeceased': '16488',\n",
       "   'totalrecovered': '321778'},\n",
       "  {'dailyconfirmed': '18339',\n",
       "   'dailydeceased': '417',\n",
       "   'dailyrecovered': '13497',\n",
       "   'date': '29 June ',\n",
       "   'dateymd': '2020-06-29',\n",
       "   'totalconfirmed': '567539',\n",
       "   'totaldeceased': '16905',\n",
       "   'totalrecovered': '335275'},\n",
       "  {'dailyconfirmed': '18256',\n",
       "   'dailydeceased': '506',\n",
       "   'dailyrecovered': '12565',\n",
       "   'date': '30 June ',\n",
       "   'dateymd': '2020-06-30',\n",
       "   'totalconfirmed': '585795',\n",
       "   'totaldeceased': '17411',\n",
       "   'totalrecovered': '347840'},\n",
       "  {'dailyconfirmed': '19429',\n",
       "   'dailydeceased': '438',\n",
       "   'dailyrecovered': '12064',\n",
       "   'date': '01 July ',\n",
       "   'dateymd': '2020-07-01',\n",
       "   'totalconfirmed': '605224',\n",
       "   'totaldeceased': '17849',\n",
       "   'totalrecovered': '359904'},\n",
       "  {'dailyconfirmed': '21947',\n",
       "   'dailydeceased': '378',\n",
       "   'dailyrecovered': '19999',\n",
       "   'date': '02 July ',\n",
       "   'dateymd': '2020-07-02',\n",
       "   'totalconfirmed': '627171',\n",
       "   'totaldeceased': '18227',\n",
       "   'totalrecovered': '379903'},\n",
       "  {'dailyconfirmed': '22718',\n",
       "   'dailydeceased': '444',\n",
       "   'dailyrecovered': '14417',\n",
       "   'date': '03 July ',\n",
       "   'dateymd': '2020-07-03',\n",
       "   'totalconfirmed': '649889',\n",
       "   'totaldeceased': '18671',\n",
       "   'totalrecovered': '394320'},\n",
       "  {'dailyconfirmed': '24018',\n",
       "   'dailydeceased': '611',\n",
       "   'dailyrecovered': '14746',\n",
       "   'date': '04 July ',\n",
       "   'dateymd': '2020-07-04',\n",
       "   'totalconfirmed': '673907',\n",
       "   'totaldeceased': '19282',\n",
       "   'totalrecovered': '409066'},\n",
       "  {'dailyconfirmed': '23942',\n",
       "   'dailydeceased': '421',\n",
       "   'dailyrecovered': '15829',\n",
       "   'date': '05 July ',\n",
       "   'dateymd': '2020-07-05',\n",
       "   'totalconfirmed': '697849',\n",
       "   'totaldeceased': '19703',\n",
       "   'totalrecovered': '424895'},\n",
       "  {'dailyconfirmed': '22500',\n",
       "   'dailydeceased': '473',\n",
       "   'dailyrecovered': '15315',\n",
       "   'date': '06 July ',\n",
       "   'dateymd': '2020-07-06',\n",
       "   'totalconfirmed': '720349',\n",
       "   'totaldeceased': '20176',\n",
       "   'totalrecovered': '440210'},\n",
       "  {'dailyconfirmed': '23147',\n",
       "   'dailydeceased': '479',\n",
       "   'dailyrecovered': '16836',\n",
       "   'date': '07 July ',\n",
       "   'dateymd': '2020-07-07',\n",
       "   'totalconfirmed': '743496',\n",
       "   'totaldeceased': '20655',\n",
       "   'totalrecovered': '457046'},\n",
       "  {'dailyconfirmed': '25561',\n",
       "   'dailydeceased': '492',\n",
       "   'dailyrecovered': '19508',\n",
       "   'date': '08 July ',\n",
       "   'dateymd': '2020-07-08',\n",
       "   'totalconfirmed': '769057',\n",
       "   'totaldeceased': '21147',\n",
       "   'totalrecovered': '476554'},\n",
       "  {'dailyconfirmed': '25790',\n",
       "   'dailydeceased': '479',\n",
       "   'dailyrecovered': '19408',\n",
       "   'date': '09 July ',\n",
       "   'dateymd': '2020-07-09',\n",
       "   'totalconfirmed': '794847',\n",
       "   'totaldeceased': '21626',\n",
       "   'totalrecovered': '495962'},\n",
       "  {'dailyconfirmed': '27762',\n",
       "   'dailydeceased': '520',\n",
       "   'dailyrecovered': '20289',\n",
       "   'date': '10 July ',\n",
       "   'dateymd': '2020-07-10',\n",
       "   'totalconfirmed': '822609',\n",
       "   'totaldeceased': '22146',\n",
       "   'totalrecovered': '516251'},\n",
       "  {'dailyconfirmed': '27757',\n",
       "   'dailydeceased': '543',\n",
       "   'dailyrecovered': '19981',\n",
       "   'date': '11 July ',\n",
       "   'dateymd': '2020-07-11',\n",
       "   'totalconfirmed': '850366',\n",
       "   'totaldeceased': '22689',\n",
       "   'totalrecovered': '536232'},\n",
       "  {'dailyconfirmed': '29106',\n",
       "   'dailydeceased': '500',\n",
       "   'dailyrecovered': '18198',\n",
       "   'date': '12 July ',\n",
       "   'dateymd': '2020-07-12',\n",
       "   'totalconfirmed': '879472',\n",
       "   'totaldeceased': '23189',\n",
       "   'totalrecovered': '554430'},\n",
       "  {'dailyconfirmed': '28178',\n",
       "   'dailydeceased': '541',\n",
       "   'dailyrecovered': '17683',\n",
       "   'date': '13 July ',\n",
       "   'dateymd': '2020-07-13',\n",
       "   'totalconfirmed': '907650',\n",
       "   'totaldeceased': '23730',\n",
       "   'totalrecovered': '572113'},\n",
       "  {'dailyconfirmed': '29917',\n",
       "   'dailydeceased': '587',\n",
       "   'dailyrecovered': '20977',\n",
       "   'date': '14 July ',\n",
       "   'dateymd': '2020-07-14',\n",
       "   'totalconfirmed': '937567',\n",
       "   'totaldeceased': '24317',\n",
       "   'totalrecovered': '593090'},\n",
       "  {'dailyconfirmed': '32607',\n",
       "   'dailydeceased': '614',\n",
       "   'dailyrecovered': '20646',\n",
       "   'date': '15 July ',\n",
       "   'dateymd': '2020-07-15',\n",
       "   'totalconfirmed': '970174',\n",
       "   'totaldeceased': '24931',\n",
       "   'totalrecovered': '613736'},\n",
       "  {'dailyconfirmed': '35468',\n",
       "   'dailydeceased': '680',\n",
       "   'dailyrecovered': '22867',\n",
       "   'date': '16 July ',\n",
       "   'dateymd': '2020-07-16',\n",
       "   'totalconfirmed': '1005642',\n",
       "   'totaldeceased': '25611',\n",
       "   'totalrecovered': '636603'},\n",
       "  {'dailyconfirmed': '34820',\n",
       "   'dailydeceased': '676',\n",
       "   'dailyrecovered': '17476',\n",
       "   'date': '17 July ',\n",
       "   'dateymd': '2020-07-17',\n",
       "   'totalconfirmed': '1040462',\n",
       "   'totaldeceased': '26287',\n",
       "   'totalrecovered': '654079'},\n",
       "  {'dailyconfirmed': '37411',\n",
       "   'dailydeceased': '543',\n",
       "   'dailyrecovered': '23583',\n",
       "   'date': '18 July ',\n",
       "   'dateymd': '2020-07-18',\n",
       "   'totalconfirmed': '1077873',\n",
       "   'totaldeceased': '26830',\n",
       "   'totalrecovered': '677662'},\n",
       "  {'dailyconfirmed': '40235',\n",
       "   'dailydeceased': '675',\n",
       "   'dailyrecovered': '22730',\n",
       "   'date': '19 July ',\n",
       "   'dateymd': '2020-07-19',\n",
       "   'totalconfirmed': '1118108',\n",
       "   'totaldeceased': '27505',\n",
       "   'totalrecovered': '700392'},\n",
       "  {'dailyconfirmed': '36806',\n",
       "   'dailydeceased': '596',\n",
       "   'dailyrecovered': '24303',\n",
       "   'date': '20 July ',\n",
       "   'dateymd': '2020-07-20',\n",
       "   'totalconfirmed': '1154914',\n",
       "   'totaldeceased': '28101',\n",
       "   'totalrecovered': '724695'},\n",
       "  {'dailyconfirmed': '39170',\n",
       "   'dailydeceased': '671',\n",
       "   'dailyrecovered': '27589',\n",
       "   'date': '21 July ',\n",
       "   'dateymd': '2020-07-21',\n",
       "   'totalconfirmed': '1194084',\n",
       "   'totaldeceased': '28772',\n",
       "   'totalrecovered': '752284'},\n",
       "  {'dailyconfirmed': '45601',\n",
       "   'dailydeceased': '1130',\n",
       "   'dailyrecovered': '31875',\n",
       "   'date': '22 July ',\n",
       "   'dateymd': '2020-07-22',\n",
       "   'totalconfirmed': '1239685',\n",
       "   'totaldeceased': '29902',\n",
       "   'totalrecovered': '784159'},\n",
       "  {'dailyconfirmed': '48443',\n",
       "   'dailydeceased': '755',\n",
       "   'dailyrecovered': '33326',\n",
       "   'date': '23 July ',\n",
       "   'dateymd': '2020-07-23',\n",
       "   'totalconfirmed': '1288128',\n",
       "   'totaldeceased': '30657',\n",
       "   'totalrecovered': '817485'},\n",
       "  {'dailyconfirmed': '48888',\n",
       "   'dailydeceased': '763',\n",
       "   'dailyrecovered': '32514',\n",
       "   'date': '24 July ',\n",
       "   'dateymd': '2020-07-24',\n",
       "   'totalconfirmed': '1337016',\n",
       "   'totaldeceased': '31420',\n",
       "   'totalrecovered': '849999'},\n",
       "  {'dailyconfirmed': '50072',\n",
       "   'dailydeceased': '703',\n",
       "   'dailyrecovered': '37125',\n",
       "   'date': '25 July ',\n",
       "   'dateymd': '2020-07-25',\n",
       "   'totalconfirmed': '1387088',\n",
       "   'totaldeceased': '32123',\n",
       "   'totalrecovered': '887124'},\n",
       "  {'dailyconfirmed': '48932',\n",
       "   'dailydeceased': '704',\n",
       "   'dailyrecovered': '31512',\n",
       "   'date': '26 July ',\n",
       "   'dateymd': '2020-07-26',\n",
       "   'totalconfirmed': '1436020',\n",
       "   'totaldeceased': '32827',\n",
       "   'totalrecovered': '918636'},\n",
       "  {'dailyconfirmed': '46484',\n",
       "   'dailydeceased': '642',\n",
       "   'dailyrecovered': '34354',\n",
       "   'date': '27 July ',\n",
       "   'dateymd': '2020-07-27',\n",
       "   'totalconfirmed': '1482504',\n",
       "   'totaldeceased': '33469',\n",
       "   'totalrecovered': '952990'},\n",
       "  {'dailyconfirmed': '49631',\n",
       "   'dailydeceased': '774',\n",
       "   'dailyrecovered': '35683',\n",
       "   'date': '28 July ',\n",
       "   'dateymd': '2020-07-28',\n",
       "   'totalconfirmed': '1532135',\n",
       "   'totaldeceased': '34243',\n",
       "   'totalrecovered': '988673'},\n",
       "  {'dailyconfirmed': '52479',\n",
       "   'dailydeceased': '775',\n",
       "   'dailyrecovered': '32886',\n",
       "   'date': '29 July ',\n",
       "   'dateymd': '2020-07-29',\n",
       "   'totalconfirmed': '1584614',\n",
       "   'totaldeceased': '35018',\n",
       "   'totalrecovered': '1021559'},\n",
       "  {'dailyconfirmed': '54968',\n",
       "   'dailydeceased': '784',\n",
       "   'dailyrecovered': '37425',\n",
       "   'date': '30 July ',\n",
       "   'dateymd': '2020-07-30',\n",
       "   'totalconfirmed': '1639582',\n",
       "   'totaldeceased': '35802',\n",
       "   'totalrecovered': '1058984'},\n",
       "  {'dailyconfirmed': '57486',\n",
       "   'dailydeceased': '764',\n",
       "   'dailyrecovered': '36554',\n",
       "   'date': '31 July ',\n",
       "   'dateymd': '2020-07-31',\n",
       "   'totalconfirmed': '1697068',\n",
       "   'totaldeceased': '36566',\n",
       "   'totalrecovered': '1095538'},\n",
       "  {'dailyconfirmed': '55117',\n",
       "   'dailydeceased': '854',\n",
       "   'dailyrecovered': '51368',\n",
       "   'date': '01 August ',\n",
       "   'dateymd': '2020-08-01',\n",
       "   'totalconfirmed': '1752185',\n",
       "   'totaldeceased': '37420',\n",
       "   'totalrecovered': '1146906'},\n",
       "  {'dailyconfirmed': '52672',\n",
       "   'dailydeceased': '760',\n",
       "   'dailyrecovered': '40355',\n",
       "   'date': '02 August ',\n",
       "   'dateymd': '2020-08-02',\n",
       "   'totalconfirmed': '1804857',\n",
       "   'totaldeceased': '38180',\n",
       "   'totalrecovered': '1187261'},\n",
       "  {'dailyconfirmed': '50488',\n",
       "   'dailydeceased': '806',\n",
       "   'dailyrecovered': '43070',\n",
       "   'date': '03 August ',\n",
       "   'dateymd': '2020-08-03',\n",
       "   'totalconfirmed': '1855345',\n",
       "   'totaldeceased': '38986',\n",
       "   'totalrecovered': '1230331'},\n",
       "  {'dailyconfirmed': '51282',\n",
       "   'dailydeceased': '849',\n",
       "   'dailyrecovered': '51220',\n",
       "   'date': '04 August ',\n",
       "   'dateymd': '2020-08-04',\n",
       "   'totalconfirmed': '1906627',\n",
       "   'totaldeceased': '39835',\n",
       "   'totalrecovered': '1281551'},\n",
       "  {'dailyconfirmed': '56626',\n",
       "   'dailydeceased': '919',\n",
       "   'dailyrecovered': '45583',\n",
       "   'date': '05 August ',\n",
       "   'dateymd': '2020-08-05',\n",
       "   'totalconfirmed': '1963253',\n",
       "   'totaldeceased': '40754',\n",
       "   'totalrecovered': '1327134'},\n",
       "  {'dailyconfirmed': '62170',\n",
       "   'dailydeceased': '899',\n",
       "   'dailyrecovered': '50141',\n",
       "   'date': '06 August ',\n",
       "   'dateymd': '2020-08-06',\n",
       "   'totalconfirmed': '2025423',\n",
       "   'totaldeceased': '41653',\n",
       "   'totalrecovered': '1377275'},\n",
       "  {'dailyconfirmed': '61455',\n",
       "   'dailydeceased': '936',\n",
       "   'dailyrecovered': '50387',\n",
       "   'date': '07 August ',\n",
       "   'dateymd': '2020-08-07',\n",
       "   'totalconfirmed': '2086878',\n",
       "   'totaldeceased': '42589',\n",
       "   'totalrecovered': '1427662'},\n",
       "  {'dailyconfirmed': '65156',\n",
       "   'dailydeceased': '875',\n",
       "   'dailyrecovered': '52135',\n",
       "   'date': '08 August ',\n",
       "   'dateymd': '2020-08-08',\n",
       "   'totalconfirmed': '2152034',\n",
       "   'totaldeceased': '43464',\n",
       "   'totalrecovered': '1479797'},\n",
       "  {'dailyconfirmed': '62117',\n",
       "   'dailydeceased': '1013',\n",
       "   'dailyrecovered': '54474',\n",
       "   'date': '09 August ',\n",
       "   'dateymd': '2020-08-09',\n",
       "   'totalconfirmed': '2214151',\n",
       "   'totaldeceased': '44477',\n",
       "   'totalrecovered': '1534271'},\n",
       "  {'dailyconfirmed': '53016',\n",
       "   'dailydeceased': '887',\n",
       "   'dailyrecovered': '47362',\n",
       "   'date': '10 August ',\n",
       "   'dateymd': '2020-08-10',\n",
       "   'totalconfirmed': '2267167',\n",
       "   'totaldeceased': '45364',\n",
       "   'totalrecovered': '1581633'},\n",
       "  {'dailyconfirmed': '61252',\n",
       "   'dailydeceased': '835',\n",
       "   'dailyrecovered': '56461',\n",
       "   'date': '11 August ',\n",
       "   'dateymd': '2020-08-11',\n",
       "   'totalconfirmed': '2328419',\n",
       "   'totaldeceased': '46199',\n",
       "   'totalrecovered': '1638094'},\n",
       "  {'dailyconfirmed': '67066',\n",
       "   'dailydeceased': '950',\n",
       "   'dailyrecovered': '57759',\n",
       "   'date': '12 August ',\n",
       "   'dateymd': '2020-08-12',\n",
       "   'totalconfirmed': '2395485',\n",
       "   'totaldeceased': '47149',\n",
       "   'totalrecovered': '1695853'},\n",
       "  {'dailyconfirmed': '64141',\n",
       "   'dailydeceased': '1006',\n",
       "   'dailyrecovered': '54776',\n",
       "   'date': '13 August ',\n",
       "   'dateymd': '2020-08-13',\n",
       "   'totalconfirmed': '2459626',\n",
       "   'totaldeceased': '48155',\n",
       "   'totalrecovered': '1750629'},\n",
       "  {'dailyconfirmed': '65610',\n",
       "   'dailydeceased': '989',\n",
       "   'dailyrecovered': '56920',\n",
       "   'date': '14 August ',\n",
       "   'dateymd': '2020-08-14',\n",
       "   'totalconfirmed': '2525236',\n",
       "   'totaldeceased': '49144',\n",
       "   'totalrecovered': '1807549'},\n",
       "  {'dailyconfirmed': '63986',\n",
       "   'dailydeceased': '952',\n",
       "   'dailyrecovered': '53116',\n",
       "   'date': '15 August ',\n",
       "   'dateymd': '2020-08-15',\n",
       "   'totalconfirmed': '2589222',\n",
       "   'totaldeceased': '50096',\n",
       "   'totalrecovered': '1860665'},\n",
       "  {'dailyconfirmed': '58096',\n",
       "   'dailydeceased': '952',\n",
       "   'dailyrecovered': '57404',\n",
       "   'date': '16 August ',\n",
       "   'dateymd': '2020-08-16',\n",
       "   'totalconfirmed': '2647318',\n",
       "   'totaldeceased': '51048',\n",
       "   'totalrecovered': '1918069'},\n",
       "  {'dailyconfirmed': '54298',\n",
       "   'dailydeceased': '880',\n",
       "   'dailyrecovered': '58172',\n",
       "   'date': '17 August ',\n",
       "   'dateymd': '2020-08-17',\n",
       "   'totalconfirmed': '2701616',\n",
       "   'totaldeceased': '51928',\n",
       "   'totalrecovered': '1976241'},\n",
       "  {'dailyconfirmed': '65024',\n",
       "   'dailydeceased': '1099',\n",
       "   'dailyrecovered': '60455',\n",
       "   'date': '18 August ',\n",
       "   'dateymd': '2020-08-18',\n",
       "   'totalconfirmed': '2766640',\n",
       "   'totaldeceased': '53027',\n",
       "   'totalrecovered': '2036696'},\n",
       "  {'dailyconfirmed': '69196',\n",
       "   'dailydeceased': '979',\n",
       "   'dailyrecovered': '59365',\n",
       "   'date': '19 August ',\n",
       "   'dateymd': '2020-08-19',\n",
       "   'totalconfirmed': '2835836',\n",
       "   'totaldeceased': '54006',\n",
       "   'totalrecovered': '2096061'},\n",
       "  {'dailyconfirmed': '68518',\n",
       "   'dailydeceased': '981',\n",
       "   'dailyrecovered': '61873',\n",
       "   'date': '20 August ',\n",
       "   'dateymd': '2020-08-20',\n",
       "   'totalconfirmed': '2904354',\n",
       "   'totaldeceased': '54987',\n",
       "   'totalrecovered': '2157934'},\n",
       "  {'dailyconfirmed': '69029',\n",
       "   'dailydeceased': '953',\n",
       "   'dailyrecovered': '62858',\n",
       "   'date': '21 August ',\n",
       "   'dateymd': '2020-08-21',\n",
       "   'totalconfirmed': '2973383',\n",
       "   'totaldeceased': '55940',\n",
       "   'totalrecovered': '2220792'},\n",
       "  {'dailyconfirmed': '70067',\n",
       "   'dailydeceased': '918',\n",
       "   'dailyrecovered': '59101',\n",
       "   'date': '22 August ',\n",
       "   'dateymd': '2020-08-22',\n",
       "   'totalconfirmed': '3043450',\n",
       "   'totaldeceased': '56858',\n",
       "   'totalrecovered': '2279893'},\n",
       "  {'dailyconfirmed': '61749',\n",
       "   'dailydeceased': '846',\n",
       "   'dailyrecovered': '56896',\n",
       "   'date': '23 August ',\n",
       "   'dateymd': '2020-08-23',\n",
       "   'totalconfirmed': '3105199',\n",
       "   'totaldeceased': '57704',\n",
       "   'totalrecovered': '2336789'},\n",
       "  {'dailyconfirmed': '59696',\n",
       "   'dailydeceased': '854',\n",
       "   'dailyrecovered': '66305',\n",
       "   'date': '24 August ',\n",
       "   'dateymd': '2020-08-24',\n",
       "   'totalconfirmed': '3164895',\n",
       "   'totaldeceased': '58558',\n",
       "   'totalrecovered': '2403094'},\n",
       "  {'dailyconfirmed': '66873',\n",
       "   'dailydeceased': '1066',\n",
       "   'dailyrecovered': '64151',\n",
       "   'date': '25 August ',\n",
       "   'dateymd': '2020-08-25',\n",
       "   'totalconfirmed': '3231768',\n",
       "   'totaldeceased': '59624',\n",
       "   'totalrecovered': '2467245'},\n",
       "  {'dailyconfirmed': '75995',\n",
       "   'dailydeceased': '1017',\n",
       "   'dailyrecovered': '56191',\n",
       "   'date': '26 August ',\n",
       "   'dateymd': '2020-08-26',\n",
       "   'totalconfirmed': '3307763',\n",
       "   'totaldeceased': '60641',\n",
       "   'totalrecovered': '2523436'},\n",
       "  {'dailyconfirmed': '76827',\n",
       "   'dailydeceased': '1066',\n",
       "   'dailyrecovered': '59620',\n",
       "   'date': '27 August ',\n",
       "   'dateymd': '2020-08-27',\n",
       "   'totalconfirmed': '3384590',\n",
       "   'totaldeceased': '61707',\n",
       "   'totalrecovered': '2583056'},\n",
       "  {'dailyconfirmed': '76657',\n",
       "   'dailydeceased': '1019',\n",
       "   'dailyrecovered': '64475',\n",
       "   'date': '28 August ',\n",
       "   'dateymd': '2020-08-28',\n",
       "   'totalconfirmed': '3461247',\n",
       "   'totaldeceased': '62726',\n",
       "   'totalrecovered': '2647531'},\n",
       "  {'dailyconfirmed': '78479',\n",
       "   'dailydeceased': '943',\n",
       "   'dailyrecovered': '64982',\n",
       "   'date': '29 August ',\n",
       "   'dateymd': '2020-08-29',\n",
       "   'totalconfirmed': '3539726',\n",
       "   'totaldeceased': '63669',\n",
       "   'totalrecovered': '2712513'},\n",
       "  {'dailyconfirmed': '79461',\n",
       "   'dailydeceased': '960',\n",
       "   'dailyrecovered': '60422',\n",
       "   'date': '30 August ',\n",
       "   'dateymd': '2020-08-30',\n",
       "   'totalconfirmed': '3619187',\n",
       "   'totaldeceased': '64629',\n",
       "   'totalrecovered': '2772935'},\n",
       "  {'dailyconfirmed': '68766',\n",
       "   'dailydeceased': '816',\n",
       "   'dailyrecovered': '64435',\n",
       "   'date': '31 August ',\n",
       "   'dateymd': '2020-08-31',\n",
       "   'totalconfirmed': '3687953',\n",
       "   'totaldeceased': '65445',\n",
       "   'totalrecovered': '2837370'},\n",
       "  {'dailyconfirmed': '78168',\n",
       "   'dailydeceased': '892',\n",
       "   'dailyrecovered': '62145',\n",
       "   'date': '01 September ',\n",
       "   'dateymd': '2020-09-01',\n",
       "   'totalconfirmed': '3766121',\n",
       "   'totaldeceased': '66337',\n",
       "   'totalrecovered': '2899515'},\n",
       "  {'dailyconfirmed': '82860',\n",
       "   'dailydeceased': '913',\n",
       "   'dailyrecovered': '67874',\n",
       "   'date': '02 September ',\n",
       "   'dateymd': '2020-09-02',\n",
       "   'totalconfirmed': '3848981',\n",
       "   'totaldeceased': '67250',\n",
       "   'totalrecovered': '2967389'},\n",
       "  {'dailyconfirmed': '84156',\n",
       "   'dailydeceased': '979',\n",
       "   'dailyrecovered': '67491',\n",
       "   'date': '03 September ',\n",
       "   'dateymd': '2020-09-03',\n",
       "   'totalconfirmed': '3933137',\n",
       "   'totaldeceased': '68229',\n",
       "   'totalrecovered': '3034880'},\n",
       "  {'dailyconfirmed': '87115',\n",
       "   'dailydeceased': '950',\n",
       "   'dailyrecovered': '69625',\n",
       "   'date': '04 September ',\n",
       "   'dateymd': '2020-09-04',\n",
       "   'totalconfirmed': '4020252',\n",
       "   'totaldeceased': '69179',\n",
       "   'totalrecovered': '3104505'},\n",
       "  {'dailyconfirmed': '90600',\n",
       "   'dailydeceased': '916',\n",
       "   'dailyrecovered': '73161',\n",
       "   'date': '05 September ',\n",
       "   'dateymd': '2020-09-05',\n",
       "   'totalconfirmed': '4110852',\n",
       "   'totaldeceased': '70095',\n",
       "   'totalrecovered': '3177666'},\n",
       "  {'dailyconfirmed': '91725',\n",
       "   'dailydeceased': '1005',\n",
       "   'dailyrecovered': '69630',\n",
       "   'date': '06 September ',\n",
       "   'dateymd': '2020-09-06',\n",
       "   'totalconfirmed': '4202577',\n",
       "   'totaldeceased': '71100',\n",
       "   'totalrecovered': '3247296'},\n",
       "  {'dailyconfirmed': '75015',\n",
       "   'dailydeceased': '1129',\n",
       "   'dailyrecovered': '74116',\n",
       "   'date': '07 September ',\n",
       "   'dateymd': '2020-09-07',\n",
       "   'totalconfirmed': '4277592',\n",
       "   'totaldeceased': '72229',\n",
       "   'totalrecovered': '3321412'},\n",
       "  {'dailyconfirmed': '89855',\n",
       "   'dailydeceased': '1107',\n",
       "   'dailyrecovered': '74608',\n",
       "   'date': '08 September ',\n",
       "   'dateymd': '2020-09-08',\n",
       "   'totalconfirmed': '4367447',\n",
       "   'totaldeceased': '73336',\n",
       "   'totalrecovered': '3396020'},\n",
       "  {'dailyconfirmed': '95536',\n",
       "   'dailydeceased': '1168',\n",
       "   'dailyrecovered': '73062',\n",
       "   'date': '09 September ',\n",
       "   'dateymd': '2020-09-09',\n",
       "   'totalconfirmed': '4462983',\n",
       "   'totaldeceased': '74504',\n",
       "   'totalrecovered': '3469082'},\n",
       "  {'dailyconfirmed': '96762',\n",
       "   'dailydeceased': '1213',\n",
       "   'dailyrecovered': '70904',\n",
       "   'date': '10 September ',\n",
       "   'dateymd': '2020-09-10',\n",
       "   'totalconfirmed': '4559745',\n",
       "   'totaldeceased': '75717',\n",
       "   'totalrecovered': '3539986'},\n",
       "  {'dailyconfirmed': '97655',\n",
       "   'dailydeceased': '1202',\n",
       "   'dailyrecovered': '81456',\n",
       "   'date': '11 September ',\n",
       "   'dateymd': '2020-09-11',\n",
       "   'totalconfirmed': '4657400',\n",
       "   'totaldeceased': '76919',\n",
       "   'totalrecovered': '3621442'},\n",
       "  {'dailyconfirmed': '94414',\n",
       "   'dailydeceased': '1111',\n",
       "   'dailyrecovered': '77862',\n",
       "   'date': '12 September ',\n",
       "   'dateymd': '2020-09-12',\n",
       "   'totalconfirmed': '4751814',\n",
       "   'totaldeceased': '78030',\n",
       "   'totalrecovered': '3699304'},\n",
       "  {'dailyconfirmed': '93220',\n",
       "   'dailydeceased': '1140',\n",
       "   'dailyrecovered': '77748',\n",
       "   'date': '13 September ',\n",
       "   'dateymd': '2020-09-13',\n",
       "   'totalconfirmed': '4845034',\n",
       "   'totaldeceased': '79170',\n",
       "   'totalrecovered': '3777052'},\n",
       "  {'dailyconfirmed': '81913',\n",
       "   'dailydeceased': '1054',\n",
       "   'dailyrecovered': '79213',\n",
       "   'date': '14 September ',\n",
       "   'dateymd': '2020-09-14',\n",
       "   'totalconfirmed': '4926947',\n",
       "   'totaldeceased': '80224',\n",
       "   'totalrecovered': '3856265'},\n",
       "  {'dailyconfirmed': '91098',\n",
       "   'dailydeceased': '1281',\n",
       "   'dailyrecovered': '82849',\n",
       "   'date': '15 September ',\n",
       "   'dateymd': '2020-09-15',\n",
       "   'totalconfirmed': '5018045',\n",
       "   'totaldeceased': '81505',\n",
       "   'totalrecovered': '3939114'},\n",
       "  {'dailyconfirmed': '97860',\n",
       "   'dailydeceased': '1140',\n",
       "   'dailyrecovered': '82924',\n",
       "   'date': '16 September ',\n",
       "   'dateymd': '2020-09-16',\n",
       "   'totalconfirmed': '5115905',\n",
       "   'totaldeceased': '82645',\n",
       "   'totalrecovered': '4022038'},\n",
       "  {'dailyconfirmed': '96787',\n",
       "   'dailydeceased': '1175',\n",
       "   'dailyrecovered': '87788',\n",
       "   'date': '17 September ',\n",
       "   'dateymd': '2020-09-17',\n",
       "   'totalconfirmed': '5212692',\n",
       "   'totaldeceased': '83820',\n",
       "   'totalrecovered': '4109826'},\n",
       "  {'dailyconfirmed': '92973',\n",
       "   'dailydeceased': '1221',\n",
       "   'dailyrecovered': '95515',\n",
       "   'date': '18 September ',\n",
       "   'dateymd': '2020-09-18',\n",
       "   'totalconfirmed': '5305665',\n",
       "   'totaldeceased': '85041',\n",
       "   'totalrecovered': '4205341'},\n",
       "  {'dailyconfirmed': '92574',\n",
       "   'dailydeceased': '1149',\n",
       "   'dailyrecovered': '94389',\n",
       "   'date': '19 September ',\n",
       "   'dateymd': '2020-09-19',\n",
       "   'totalconfirmed': '5398239',\n",
       "   'totaldeceased': '86190',\n",
       "   'totalrecovered': '4299730'},\n",
       "  {'dailyconfirmed': '87395',\n",
       "   'dailydeceased': '1135',\n",
       "   'dailyrecovered': '92926',\n",
       "   'date': '20 September ',\n",
       "   'dateymd': '2020-09-20',\n",
       "   'totalconfirmed': '5485634',\n",
       "   'totaldeceased': '87325',\n",
       "   'totalrecovered': '4392656'},\n",
       "  {'dailyconfirmed': '74493',\n",
       "   'dailydeceased': '1056',\n",
       "   'dailyrecovered': '102070',\n",
       "   'date': '21 September ',\n",
       "   'dateymd': '2020-09-21',\n",
       "   'totalconfirmed': '5560127',\n",
       "   'totaldeceased': '88381',\n",
       "   'totalrecovered': '4494726'},\n",
       "  {'dailyconfirmed': '83362',\n",
       "   'dailydeceased': '1085',\n",
       "   'dailyrecovered': '89657',\n",
       "   'date': '22 September ',\n",
       "   'dateymd': '2020-09-22',\n",
       "   'totalconfirmed': '5643489',\n",
       "   'totaldeceased': '89466',\n",
       "   'totalrecovered': '4584383'},\n",
       "  {'dailyconfirmed': '86703',\n",
       "   'dailydeceased': '1123',\n",
       "   'dailyrecovered': '87459',\n",
       "   'date': '23 September ',\n",
       "   'dateymd': '2020-09-23',\n",
       "   'totalconfirmed': '5730192',\n",
       "   'totaldeceased': '90589',\n",
       "   'totalrecovered': '4671842'},\n",
       "  {'dailyconfirmed': '85921',\n",
       "   'dailydeceased': '1144',\n",
       "   'dailyrecovered': '81142',\n",
       "   'date': '24 September ',\n",
       "   'dateymd': '2020-09-24',\n",
       "   'totalconfirmed': '5816113',\n",
       "   'totaldeceased': '91733',\n",
       "   'totalrecovered': '4752984'},\n",
       "  {'dailyconfirmed': '85717',\n",
       "   'dailydeceased': '1093',\n",
       "   'dailyrecovered': '93331',\n",
       "   'date': '25 September ',\n",
       "   'dateymd': '2020-09-25',\n",
       "   'totalconfirmed': '5901830',\n",
       "   'totaldeceased': '92826',\n",
       "   'totalrecovered': '4846315'},\n",
       "  {'dailyconfirmed': '88759',\n",
       "   'dailydeceased': '1124',\n",
       "   'dailyrecovered': '92365',\n",
       "   'date': '26 September ',\n",
       "   'dateymd': '2020-09-26',\n",
       "   'totalconfirmed': '5990589',\n",
       "   'totaldeceased': '93950',\n",
       "   'totalrecovered': '4938680'},\n",
       "  {'dailyconfirmed': '82770',\n",
       "   'dailydeceased': '1040',\n",
       "   'dailyrecovered': '74691',\n",
       "   'date': '27 September ',\n",
       "   'dateymd': '2020-09-27',\n",
       "   'totalconfirmed': '6073359',\n",
       "   'totaldeceased': '94990',\n",
       "   'totalrecovered': '5013371'},\n",
       "  {'dailyconfirmed': '69669',\n",
       "   'dailydeceased': '775',\n",
       "   'dailyrecovered': '85198',\n",
       "   'date': '28 September ',\n",
       "   'dateymd': '2020-09-28',\n",
       "   'totalconfirmed': '6143028',\n",
       "   'totaldeceased': '95765',\n",
       "   'totalrecovered': '5098569'},\n",
       "  {'dailyconfirmed': '80500',\n",
       "   'dailydeceased': '1178',\n",
       "   'dailyrecovered': '86150',\n",
       "   'date': '29 September ',\n",
       "   'dateymd': '2020-09-29',\n",
       "   'totalconfirmed': '6223528',\n",
       "   'totaldeceased': '96943',\n",
       "   'totalrecovered': '5184719'},\n",
       "  {'dailyconfirmed': '86748',\n",
       "   'dailydeceased': '1179',\n",
       "   'dailyrecovered': '85274',\n",
       "   'date': '30 September ',\n",
       "   'dateymd': '2020-09-30',\n",
       "   'totalconfirmed': '6310276',\n",
       "   'totaldeceased': '98122',\n",
       "   'totalrecovered': '5269993'},\n",
       "  {'dailyconfirmed': '81784',\n",
       "   'dailydeceased': '1099',\n",
       "   'dailyrecovered': '78731',\n",
       "   'date': '01 October ',\n",
       "   'dateymd': '2020-10-01',\n",
       "   'totalconfirmed': '6392060',\n",
       "   'totaldeceased': '99221',\n",
       "   'totalrecovered': '5348724'},\n",
       "  {'dailyconfirmed': '79883',\n",
       "   'dailydeceased': '1068',\n",
       "   'dailyrecovered': '76339',\n",
       "   'date': '02 October ',\n",
       "   'dateymd': '2020-10-02',\n",
       "   'totalconfirmed': '6471943',\n",
       "   'totaldeceased': '100289',\n",
       "   'totalrecovered': '5425063'},\n",
       "  {'dailyconfirmed': '75479',\n",
       "   'dailydeceased': '937',\n",
       "   'dailyrecovered': '81655',\n",
       "   'date': '03 October ',\n",
       "   'dateymd': '2020-10-03',\n",
       "   'totalconfirmed': '6547422',\n",
       "   'totaldeceased': '101226',\n",
       "   'totalrecovered': '5506718'},\n",
       "  {'dailyconfirmed': '74770',\n",
       "   'dailydeceased': '903',\n",
       "   'dailyrecovered': '76713',\n",
       "   'date': '04 October ',\n",
       "   'dateymd': '2020-10-04',\n",
       "   'totalconfirmed': '6622192',\n",
       "   'totaldeceased': '102129',\n",
       "   'totalrecovered': '5583431'},\n",
       "  {'dailyconfirmed': '60130',\n",
       "   'dailydeceased': '886',\n",
       "   'dailyrecovered': '75855',\n",
       "   'date': '05 October ',\n",
       "   'dateymd': '2020-10-05',\n",
       "   'totalconfirmed': '6682322',\n",
       "   'totaldeceased': '103015',\n",
       "   'totalrecovered': '5659286'},\n",
       "  {'dailyconfirmed': '71869',\n",
       "   'dailydeceased': '990',\n",
       "   'dailyrecovered': '81945',\n",
       "   'date': '06 October ',\n",
       "   'dateymd': '2020-10-06',\n",
       "   'totalconfirmed': '6754191',\n",
       "   'totaldeceased': '104005',\n",
       "   'totalrecovered': '5741231'},\n",
       "  {'dailyconfirmed': '78809',\n",
       "   'dailydeceased': '963',\n",
       "   'dailyrecovered': '83209',\n",
       "   'date': '07 October ',\n",
       "   'dateymd': '2020-10-07',\n",
       "   'totalconfirmed': '6833000',\n",
       "   'totaldeceased': '104968',\n",
       "   'totalrecovered': '5824440'},\n",
       "  {'dailyconfirmed': '70797',\n",
       "   'dailydeceased': '967',\n",
       "   'dailyrecovered': '78745',\n",
       "   'date': '08 October ',\n",
       "   'dateymd': '2020-10-08',\n",
       "   'totalconfirmed': '6903797',\n",
       "   'totaldeceased': '105935',\n",
       "   'totalrecovered': '5903185'},\n",
       "  {'dailyconfirmed': '73305',\n",
       "   'dailydeceased': '929',\n",
       "   'dailyrecovered': '82628',\n",
       "   'date': '09 October ',\n",
       "   'dateymd': '2020-10-09',\n",
       "   'totalconfirmed': '6977102',\n",
       "   'totaldeceased': '106864',\n",
       "   'totalrecovered': '5985813'},\n",
       "  {'dailyconfirmed': '74418',\n",
       "   'dailydeceased': '921',\n",
       "   'dailyrecovered': '89024',\n",
       "   'date': '10 October ',\n",
       "   'dateymd': '2020-10-10',\n",
       "   'totalconfirmed': '7051520',\n",
       "   'totaldeceased': '107785',\n",
       "   'totalrecovered': '6074837'},\n",
       "  {'dailyconfirmed': '67789',\n",
       "   'dailydeceased': '813',\n",
       "   'dailyrecovered': '71565',\n",
       "   'date': '11 October ',\n",
       "   'dateymd': '2020-10-11',\n",
       "   'totalconfirmed': '7119309',\n",
       "   'totaldeceased': '108598',\n",
       "   'totalrecovered': '6146402'},\n",
       "  {'dailyconfirmed': '54262',\n",
       "   'dailydeceased': '710',\n",
       "   'dailyrecovered': '78365',\n",
       "   'date': '12 October ',\n",
       "   'dateymd': '2020-10-12',\n",
       "   'totalconfirmed': '7173571',\n",
       "   'totaldeceased': '109308',\n",
       "   'totalrecovered': '6224767'},\n",
       "  {'dailyconfirmed': '63717',\n",
       "   'dailydeceased': '727',\n",
       "   'dailyrecovered': '74079',\n",
       "   'date': '13 October ',\n",
       "   'dateymd': '2020-10-13',\n",
       "   'totalconfirmed': '7237288',\n",
       "   'totaldeceased': '110035',\n",
       "   'totalrecovered': '6298846'},\n",
       "  {'dailyconfirmed': '67811',\n",
       "   'dailydeceased': '690',\n",
       "   'dailyrecovered': '81582',\n",
       "   'date': '14 October ',\n",
       "   'dateymd': '2020-10-14',\n",
       "   'totalconfirmed': '7305099',\n",
       "   'totaldeceased': '110725',\n",
       "   'totalrecovered': '6380428'},\n",
       "  {'dailyconfirmed': '63441',\n",
       "   'dailydeceased': '882',\n",
       "   'dailyrecovered': '70792',\n",
       "   'date': '15 October ',\n",
       "   'dateymd': '2020-10-15',\n",
       "   'totalconfirmed': '7368540',\n",
       "   'totaldeceased': '111607',\n",
       "   'totalrecovered': '6451220'},\n",
       "  {'dailyconfirmed': '62304',\n",
       "   'dailydeceased': '840',\n",
       "   'dailyrecovered': '70568',\n",
       "   'date': '16 October ',\n",
       "   'dateymd': '2020-10-16',\n",
       "   'totalconfirmed': '7430844',\n",
       "   'totaldeceased': '112447',\n",
       "   'totalrecovered': '6521788'},\n",
       "  {'dailyconfirmed': '61893',\n",
       "   'dailydeceased': '1032',\n",
       "   'dailyrecovered': '72583',\n",
       "   'date': '17 October ',\n",
       "   'dateymd': '2020-10-17',\n",
       "   'totalconfirmed': '7492737',\n",
       "   'totaldeceased': '113479',\n",
       "   'totalrecovered': '6594371'},\n",
       "  {'dailyconfirmed': '56519',\n",
       "   'dailydeceased': '582',\n",
       "   'dailyrecovered': '66418',\n",
       "   'date': '18 October ',\n",
       "   'dateymd': '2020-10-18',\n",
       "   'totalconfirmed': '7549256',\n",
       "   'totaldeceased': '114061',\n",
       "   'totalrecovered': '6660789'},\n",
       "  {'dailyconfirmed': '45506',\n",
       "   'dailydeceased': '589',\n",
       "   'dailyrecovered': '69800',\n",
       "   'date': '19 October ',\n",
       "   'dateymd': '2020-10-19',\n",
       "   'totalconfirmed': '7594762',\n",
       "   'totaldeceased': '114650',\n",
       "   'totalrecovered': '6730589'},\n",
       "  {'dailyconfirmed': '54348',\n",
       "   'dailydeceased': '714',\n",
       "   'dailyrecovered': '61828',\n",
       "   'date': '20 October ',\n",
       "   'dateymd': '2020-10-20',\n",
       "   'totalconfirmed': '7649110',\n",
       "   'totaldeceased': '115364',\n",
       "   'totalrecovered': '6792417'},\n",
       "  {'dailyconfirmed': '56264',\n",
       "   'dailydeceased': '701',\n",
       "   'dailyrecovered': '79561',\n",
       "   'date': '21 October ',\n",
       "   'dateymd': '2020-10-21',\n",
       "   'totalconfirmed': '7705374',\n",
       "   'totaldeceased': '116065',\n",
       "   'totalrecovered': '6871978'},\n",
       "  {'dailyconfirmed': '54371',\n",
       "   'dailydeceased': '686',\n",
       "   'dailyrecovered': '74569',\n",
       "   'date': '22 October ',\n",
       "   'dateymd': '2020-10-22',\n",
       "   'totalconfirmed': '7759745',\n",
       "   'totaldeceased': '116751',\n",
       "   'totalrecovered': '6946547'},\n",
       "  {'dailyconfirmed': '53931',\n",
       "   'dailydeceased': '655',\n",
       "   'dailyrecovered': '66994',\n",
       "   'date': '23 October ',\n",
       "   'dateymd': '2020-10-23',\n",
       "   'totalconfirmed': '7813676',\n",
       "   'totaldeceased': '117406',\n",
       "   'totalrecovered': '7013541'},\n",
       "  {'dailyconfirmed': '50366',\n",
       "   'dailydeceased': '578',\n",
       "   'dailyrecovered': '62270',\n",
       "   'date': '24 October ',\n",
       "   'dateymd': '2020-10-24',\n",
       "   'totalconfirmed': '7864042',\n",
       "   'totaldeceased': '117984',\n",
       "   'totalrecovered': '7075811'},\n",
       "  {'dailyconfirmed': '45922',\n",
       "   'dailydeceased': '483',\n",
       "   'dailyrecovered': '59304',\n",
       "   'date': '25 October ',\n",
       "   'dateymd': '2020-10-25',\n",
       "   'totalconfirmed': '7909964',\n",
       "   'totaldeceased': '118467',\n",
       "   'totalrecovered': '7135115'},\n",
       "  {'dailyconfirmed': '36019',\n",
       "   'dailydeceased': '485',\n",
       "   'dailyrecovered': '63734',\n",
       "   'date': '26 October ',\n",
       "   'dateymd': '2020-10-26',\n",
       "   'totalconfirmed': '7945983',\n",
       "   'totaldeceased': '118952',\n",
       "   'totalrecovered': '7198849'},\n",
       "  {'dailyconfirmed': '43036',\n",
       "   'dailydeceased': '511',\n",
       "   'dailyrecovered': '58429',\n",
       "   'date': '27 October ',\n",
       "   'dateymd': '2020-10-27',\n",
       "   'totalconfirmed': '7989019',\n",
       "   'totaldeceased': '119463',\n",
       "   'totalrecovered': '7257278'},\n",
       "  {'dailyconfirmed': '50188',\n",
       "   'dailydeceased': '515',\n",
       "   'dailyrecovered': '56594',\n",
       "   'date': '28 October ',\n",
       "   'dateymd': '2020-10-28',\n",
       "   'totalconfirmed': '8039207',\n",
       "   'totaldeceased': '119978',\n",
       "   'totalrecovered': '7313872'},\n",
       "  {'dailyconfirmed': '48765',\n",
       "   'dailydeceased': '562',\n",
       "   'dailyrecovered': '57867',\n",
       "   'date': '29 October ',\n",
       "   'dateymd': '2020-10-29',\n",
       "   'totalconfirmed': '8087972',\n",
       "   'totaldeceased': '120540',\n",
       "   'totalrecovered': '7371739'},\n",
       "  {'dailyconfirmed': '48117',\n",
       "   'dailydeceased': '550',\n",
       "   'dailyrecovered': '59005',\n",
       "   'date': '30 October ',\n",
       "   'dateymd': '2020-10-30',\n",
       "   'totalconfirmed': '8136089',\n",
       "   'totaldeceased': '121090',\n",
       "   'totalrecovered': '7430744'},\n",
       "  {'dailyconfirmed': '47228',\n",
       "   'dailydeceased': '469',\n",
       "   'dailyrecovered': '58682',\n",
       "   'date': '31 October ',\n",
       "   'dateymd': '2020-10-31',\n",
       "   'totalconfirmed': '8183317',\n",
       "   'totaldeceased': '121559',\n",
       "   'totalrecovered': '7489426'},\n",
       "  {'dailyconfirmed': '45928',\n",
       "   'dailydeceased': '491',\n",
       "   'dailyrecovered': '53312',\n",
       "   'date': '01 November ',\n",
       "   'dateymd': '2020-11-01',\n",
       "   'totalconfirmed': '8229245',\n",
       "   'totaldeceased': '122050',\n",
       "   'totalrecovered': '7542738'},\n",
       "  {'dailyconfirmed': '37592',\n",
       "   'dailydeceased': '498',\n",
       "   'dailyrecovered': '58524',\n",
       "   'date': '02 November ',\n",
       "   'dateymd': '2020-11-02',\n",
       "   'totalconfirmed': '8266837',\n",
       "   'totaldeceased': '122548',\n",
       "   'totalrecovered': '7601262'},\n",
       "  {'dailyconfirmed': '46027',\n",
       "   'dailydeceased': '510',\n",
       "   'dailyrecovered': '53328',\n",
       "   'date': '03 November ',\n",
       "   'dateymd': '2020-11-03',\n",
       "   'totalconfirmed': '8312864',\n",
       "   'totaldeceased': '123058',\n",
       "   'totalrecovered': '7654590'},\n",
       "  {'dailyconfirmed': '50465',\n",
       "   'dailydeceased': '707',\n",
       "   'dailyrecovered': '55873',\n",
       "   'date': '04 November ',\n",
       "   'dateymd': '2020-11-04',\n",
       "   'totalconfirmed': '8363329',\n",
       "   'totaldeceased': '123765',\n",
       "   'totalrecovered': '7710463'},\n",
       "  {'dailyconfirmed': '47628',\n",
       "   'dailydeceased': '672',\n",
       "   'dailyrecovered': '54133',\n",
       "   'date': '05 November ',\n",
       "   'dateymd': '2020-11-05',\n",
       "   'totalconfirmed': '8410957',\n",
       "   'totaldeceased': '124437',\n",
       "   'totalrecovered': '7764596'},\n",
       "  {'dailyconfirmed': '50017',\n",
       "   'dailydeceased': '577',\n",
       "   'dailyrecovered': '53946',\n",
       "   'date': '06 November ',\n",
       "   'dateymd': '2020-11-06',\n",
       "   'totalconfirmed': '8460974',\n",
       "   'totaldeceased': '125014',\n",
       "   'totalrecovered': '7818542'},\n",
       "  {'dailyconfirmed': '46153',\n",
       "   'dailydeceased': '557',\n",
       "   'dailyrecovered': '48582',\n",
       "   'date': '07 November ',\n",
       "   'dateymd': '2020-11-07',\n",
       "   'totalconfirmed': '8507127',\n",
       "   'totaldeceased': '125571',\n",
       "   'totalrecovered': '7867124'},\n",
       "  {'dailyconfirmed': '46707',\n",
       "   'dailydeceased': '491',\n",
       "   'dailyrecovered': '48465',\n",
       "   'date': '08 November ',\n",
       "   'dateymd': '2020-11-08',\n",
       "   'totalconfirmed': '8553834',\n",
       "   'totaldeceased': '126062',\n",
       "   'totalrecovered': '7915589'},\n",
       "  {'dailyconfirmed': '37119',\n",
       "   'dailydeceased': '450',\n",
       "   'dailyrecovered': '41449',\n",
       "   'date': '09 November ',\n",
       "   'dateymd': '2020-11-09',\n",
       "   'totalconfirmed': '8590953',\n",
       "   'totaldeceased': '126512',\n",
       "   'totalrecovered': '7957038'},\n",
       "  {'dailyconfirmed': '44724',\n",
       "   'dailydeceased': '511',\n",
       "   'dailyrecovered': '54639',\n",
       "   'date': '10 November ',\n",
       "   'dateymd': '2020-11-10',\n",
       "   'totalconfirmed': '8635677',\n",
       "   'totaldeceased': '127023',\n",
       "   'totalrecovered': '8011677'},\n",
       "  {'dailyconfirmed': '48285',\n",
       "   'dailydeceased': '550',\n",
       "   'dailyrecovered': '52704',\n",
       "   'date': '11 November ',\n",
       "   'dateymd': '2020-11-11',\n",
       "   'totalconfirmed': '8683962',\n",
       "   'totaldeceased': '127573',\n",
       "   'totalrecovered': '8064381'},\n",
       "  {'dailyconfirmed': '44585',\n",
       "   'dailydeceased': '544',\n",
       "   'dailyrecovered': '49354',\n",
       "   'date': '12 November ',\n",
       "   'dateymd': '2020-11-12',\n",
       "   'totalconfirmed': '8728547',\n",
       "   'totaldeceased': '128117',\n",
       "   'totalrecovered': '8113735'},\n",
       "  {'dailyconfirmed': '44620',\n",
       "   'dailydeceased': '517',\n",
       "   'dailyrecovered': '47620',\n",
       "   'date': '13 November ',\n",
       "   'dateymd': '2020-11-13',\n",
       "   'totalconfirmed': '8773167',\n",
       "   'totaldeceased': '128634',\n",
       "   'totalrecovered': '8161355'},\n",
       "  {'dailyconfirmed': '41692',\n",
       "   'dailydeceased': '450',\n",
       "   'dailyrecovered': '42317',\n",
       "   'date': '14 November ',\n",
       "   'dateymd': '2020-11-14',\n",
       "   'totalconfirmed': '8814859',\n",
       "   'totaldeceased': '129084',\n",
       "   'totalrecovered': '8203672'},\n",
       "  {'dailyconfirmed': '30681',\n",
       "   'dailydeceased': '434',\n",
       "   'dailyrecovered': '44111',\n",
       "   'date': '15 November ',\n",
       "   'dateymd': '2020-11-15',\n",
       "   'totalconfirmed': '8845540',\n",
       "   'totaldeceased': '129518',\n",
       "   'totalrecovered': '8247783'},\n",
       "  {'dailyconfirmed': '28609',\n",
       "   'dailydeceased': '451',\n",
       "   'dailyrecovered': '40392',\n",
       "   'date': '16 November ',\n",
       "   'dateymd': '2020-11-16',\n",
       "   'totalconfirmed': '8874149',\n",
       "   'totaldeceased': '129969',\n",
       "   'totalrecovered': '8288175'},\n",
       "  {'dailyconfirmed': '38548',\n",
       "   'dailydeceased': '472',\n",
       "   'dailyrecovered': '44753',\n",
       "   'date': '17 November ',\n",
       "   'dateymd': '2020-11-17',\n",
       "   'totalconfirmed': '8912697',\n",
       "   'totaldeceased': '130441',\n",
       "   'totalrecovered': '8332928'},\n",
       "  {'dailyconfirmed': '45366',\n",
       "   'dailydeceased': '586',\n",
       "   'dailyrecovered': '48675',\n",
       "   'date': '18 November ',\n",
       "   'dateymd': '2020-11-18',\n",
       "   'totalconfirmed': '8958063',\n",
       "   'totaldeceased': '131027',\n",
       "   'totalrecovered': '8381603'},\n",
       "  {'dailyconfirmed': '46185',\n",
       "   'dailydeceased': '582',\n",
       "   'dailyrecovered': '45246',\n",
       "   'date': '19 November ',\n",
       "   'dateymd': '2020-11-19',\n",
       "   'totalconfirmed': '9004248',\n",
       "   'totaldeceased': '131609',\n",
       "   'totalrecovered': '8426849'},\n",
       "  {'dailyconfirmed': '46283',\n",
       "   'dailydeceased': '564',\n",
       "   'dailyrecovered': '48968',\n",
       "   'date': '20 November ',\n",
       "   'dateymd': '2020-11-20',\n",
       "   'totalconfirmed': '9050531',\n",
       "   'totaldeceased': '132173',\n",
       "   'totalrecovered': '8475817'},\n",
       "  {'dailyconfirmed': '45301',\n",
       "   'dailydeceased': '499',\n",
       "   'dailyrecovered': '44055',\n",
       "   'date': '21 November ',\n",
       "   'dateymd': '2020-11-21',\n",
       "   'totalconfirmed': '9095832',\n",
       "   'totaldeceased': '132672',\n",
       "   'totalrecovered': '8519872'},\n",
       "  {'dailyconfirmed': '44404',\n",
       "   'dailydeceased': '510',\n",
       "   'dailyrecovered': '41405',\n",
       "   'date': '22 November ',\n",
       "   'dateymd': '2020-11-22',\n",
       "   'totalconfirmed': '9140236',\n",
       "   'totaldeceased': '133182',\n",
       "   'totalrecovered': '8561277'},\n",
       "  {'dailyconfirmed': '37441',\n",
       "   'dailydeceased': '481',\n",
       "   'dailyrecovered': '42195',\n",
       "   'date': '23 November ',\n",
       "   'dateymd': '2020-11-23',\n",
       "   'totalconfirmed': '9177677',\n",
       "   'totaldeceased': '133663',\n",
       "   'totalrecovered': '8603472'},\n",
       "  {'dailyconfirmed': '44245',\n",
       "   'dailydeceased': '489',\n",
       "   'dailyrecovered': '37765',\n",
       "   'date': '24 November ',\n",
       "   'dateymd': '2020-11-24',\n",
       "   'totalconfirmed': '9221922',\n",
       "   'totaldeceased': '134152',\n",
       "   'totalrecovered': '8641237'},\n",
       "  {'dailyconfirmed': '44699',\n",
       "   'dailydeceased': '518',\n",
       "   'dailyrecovered': '36582',\n",
       "   'date': '25 November ',\n",
       "   'dateymd': '2020-11-25',\n",
       "   'totalconfirmed': '9266621',\n",
       "   'totaldeceased': '134670',\n",
       "   'totalrecovered': '8677819'},\n",
       "  {'dailyconfirmed': '43174',\n",
       "   'dailydeceased': '491',\n",
       "   'dailyrecovered': '39723',\n",
       "   'date': '26 November ',\n",
       "   'dateymd': '2020-11-26',\n",
       "   'totalconfirmed': '9309795',\n",
       "   'totaldeceased': '135161',\n",
       "   'totalrecovered': '8717542'},\n",
       "  {'dailyconfirmed': '41353',\n",
       "   'dailydeceased': '486',\n",
       "   'dailyrecovered': '41177',\n",
       "   'date': '27 November ',\n",
       "   'dateymd': '2020-11-27',\n",
       "   'totalconfirmed': '9351148',\n",
       "   'totaldeceased': '135647',\n",
       "   'totalrecovered': '8758719'},\n",
       "  {'dailyconfirmed': '41815',\n",
       "   'dailydeceased': '495',\n",
       "   'dailyrecovered': '42275',\n",
       "   'date': '28 November ',\n",
       "   'dateymd': '2020-11-28',\n",
       "   'totalconfirmed': '9392963',\n",
       "   'totaldeceased': '136142',\n",
       "   'totalrecovered': '8800994'},\n",
       "  {'dailyconfirmed': '39036',\n",
       "   'dailydeceased': '444',\n",
       "   'dailyrecovered': '45152',\n",
       "   'date': '29 November ',\n",
       "   'dateymd': '2020-11-29',\n",
       "   'totalconfirmed': '9431999',\n",
       "   'totaldeceased': '136586',\n",
       "   'totalrecovered': '8846146'},\n",
       "  {'dailyconfirmed': '31179',\n",
       "   'dailydeceased': '482',\n",
       "   'dailyrecovered': '42282',\n",
       "   'date': '30 November ',\n",
       "   'dateymd': '2020-11-30',\n",
       "   'totalconfirmed': '9463178',\n",
       "   'totaldeceased': '137068',\n",
       "   'totalrecovered': '8888428'},\n",
       "  {'dailyconfirmed': '36474',\n",
       "   'dailydeceased': '501',\n",
       "   'dailyrecovered': '43208',\n",
       "   'date': '01 December ',\n",
       "   'dateymd': '2020-12-01',\n",
       "   'totalconfirmed': '9499652',\n",
       "   'totaldeceased': '137569',\n",
       "   'totalrecovered': '8931636'},\n",
       "  {'dailyconfirmed': '35506',\n",
       "   'dailydeceased': '526',\n",
       "   'dailyrecovered': '40908',\n",
       "   'date': '02 December ',\n",
       "   'dateymd': '2020-12-02',\n",
       "   'totalconfirmed': '9535158',\n",
       "   'totaldeceased': '138095',\n",
       "   'totalrecovered': '8972544'},\n",
       "  {'dailyconfirmed': '36574',\n",
       "   'dailydeceased': '541',\n",
       "   'dailyrecovered': '42991',\n",
       "   'date': '03 December ',\n",
       "   'dateymd': '2020-12-03',\n",
       "   'totalconfirmed': '9571732',\n",
       "   'totaldeceased': '138636',\n",
       "   'totalrecovered': '9015535'},\n",
       "  {'dailyconfirmed': '36711',\n",
       "   'dailydeceased': '511',\n",
       "   'dailyrecovered': '42359',\n",
       "   'date': '04 December ',\n",
       "   'dateymd': '2020-12-04',\n",
       "   'totalconfirmed': '9608443',\n",
       "   'totaldeceased': '139147',\n",
       "   'totalrecovered': '9057894'},\n",
       "  {'dailyconfirmed': '36010',\n",
       "   'dailydeceased': '482',\n",
       "   'dailyrecovered': '41885',\n",
       "   'date': '05 December ',\n",
       "   'dateymd': '2020-12-05',\n",
       "   'totalconfirmed': '9644453',\n",
       "   'totaldeceased': '139629',\n",
       "   'totalrecovered': '9099779'},\n",
       "  {'dailyconfirmed': '33178',\n",
       "   'dailydeceased': '390',\n",
       "   'dailyrecovered': '39078',\n",
       "   'date': '06 December ',\n",
       "   'dateymd': '2020-12-06',\n",
       "   'totalconfirmed': '9677631',\n",
       "   'totaldeceased': '140019',\n",
       "   'totalrecovered': '9138857'},\n",
       "  {'dailyconfirmed': '26227',\n",
       "   'dailydeceased': '386',\n",
       "   'dailyrecovered': '39293',\n",
       "   'date': '07 December ',\n",
       "   'dateymd': '2020-12-07',\n",
       "   'totalconfirmed': '9703858',\n",
       "   'totaldeceased': '140405',\n",
       "   'totalrecovered': '9178150'},\n",
       "  {'dailyconfirmed': '32083',\n",
       "   'dailydeceased': '402',\n",
       "   'dailyrecovered': '36583',\n",
       "   'date': '08 December ',\n",
       "   'dateymd': '2020-12-08',\n",
       "   'totalconfirmed': '9735941',\n",
       "   'totaldeceased': '140807',\n",
       "   'totalrecovered': '9214733'},\n",
       "  {'dailyconfirmed': '31637',\n",
       "   'dailydeceased': '413',\n",
       "   'dailyrecovered': '37693',\n",
       "   'date': '09 December ',\n",
       "   'dateymd': '2020-12-09',\n",
       "   'totalconfirmed': '9767578',\n",
       "   'totaldeceased': '141220',\n",
       "   'totalrecovered': '9252426'},\n",
       "  {'dailyconfirmed': '29411',\n",
       "   'dailydeceased': '411',\n",
       "   'dailyrecovered': '37707',\n",
       "   'date': '10 December ',\n",
       "   'dateymd': '2020-12-10',\n",
       "   'totalconfirmed': '9796989',\n",
       "   'totaldeceased': '141631',\n",
       "   'totalrecovered': '9290133'},\n",
       "  {'dailyconfirmed': '29961',\n",
       "   'dailydeceased': '442',\n",
       "   'dailyrecovered': '33492',\n",
       "   'date': '11 December ',\n",
       "   'dateymd': '2020-12-11',\n",
       "   'totalconfirmed': '9826950',\n",
       "   'totaldeceased': '142073',\n",
       "   'totalrecovered': '9323625'},\n",
       "  {'dailyconfirmed': '30354',\n",
       "   'dailydeceased': '391',\n",
       "   'dailyrecovered': '33087',\n",
       "   'date': '12 December ',\n",
       "   'dateymd': '2020-12-12',\n",
       "   'totalconfirmed': '9857304',\n",
       "   'totaldeceased': '142464',\n",
       "   'totalrecovered': '9356712'},\n",
       "  {'dailyconfirmed': '27336',\n",
       "   'dailydeceased': '338',\n",
       "   'dailyrecovered': '30640',\n",
       "   'date': '13 December ',\n",
       "   'dateymd': '2020-12-13',\n",
       "   'totalconfirmed': '9884640',\n",
       "   'totaldeceased': '142802',\n",
       "   'totalrecovered': '9387352'},\n",
       "  {'dailyconfirmed': '21941',\n",
       "   'dailydeceased': '354',\n",
       "   'dailyrecovered': '34421',\n",
       "   'date': '14 December ',\n",
       "   'dateymd': '2020-12-14',\n",
       "   'totalconfirmed': '9906581',\n",
       "   'totaldeceased': '143156',\n",
       "   'totalrecovered': '9421773'},\n",
       "  {'dailyconfirmed': '26251',\n",
       "   'dailydeceased': '384',\n",
       "   'dailyrecovered': '33853',\n",
       "   'date': '15 December ',\n",
       "   'dateymd': '2020-12-15',\n",
       "   'totalconfirmed': '9932832',\n",
       "   'totaldeceased': '143540',\n",
       "   'totalrecovered': '9455626'},\n",
       "  {'dailyconfirmed': '18172',\n",
       "   'dailydeceased': '356',\n",
       "   'dailyrecovered': '33360',\n",
       "   'date': '16 December ',\n",
       "   'dateymd': '2020-12-16',\n",
       "   'totalconfirmed': '9951004',\n",
       "   'totaldeceased': '143896',\n",
       "   'totalrecovered': '9488986'},\n",
       "  {'dailyconfirmed': '26754',\n",
       "   'dailydeceased': '342',\n",
       "   'dailyrecovered': '30891',\n",
       "   'date': '17 December ',\n",
       "   'dateymd': '2020-12-17',\n",
       "   'totalconfirmed': '9977758',\n",
       "   'totaldeceased': '144238',\n",
       "   'totalrecovered': '9519877'},\n",
       "  {'dailyconfirmed': '26991',\n",
       "   'dailydeceased': '342',\n",
       "   'dailyrecovered': '29879',\n",
       "   'date': '18 December ',\n",
       "   'dateymd': '2020-12-18',\n",
       "   'totalconfirmed': '10004749',\n",
       "   'totaldeceased': '144580',\n",
       "   'totalrecovered': '9549756'},\n",
       "  {'dailyconfirmed': '26834',\n",
       "   'dailydeceased': '342',\n",
       "   'dailyrecovered': '29758',\n",
       "   'date': '19 December ',\n",
       "   'dateymd': '2020-12-19',\n",
       "   'totalconfirmed': '10031583',\n",
       "   'totaldeceased': '144922',\n",
       "   'totalrecovered': '9579514'},\n",
       "  {'dailyconfirmed': '24622',\n",
       "   'dailydeceased': '332',\n",
       "   'dailyrecovered': '25734',\n",
       "   'date': '20 December ',\n",
       "   'dateymd': '2020-12-20',\n",
       "   'totalconfirmed': '10056205',\n",
       "   'totaldeceased': '145254',\n",
       "   'totalrecovered': '9605248'},\n",
       "  {'dailyconfirmed': '19147',\n",
       "   'dailydeceased': '302',\n",
       "   'dailyrecovered': '30250',\n",
       "   'date': '21 December ',\n",
       "   'dateymd': '2020-12-21',\n",
       "   'totalconfirmed': '10075352',\n",
       "   'totaldeceased': '145556',\n",
       "   'totalrecovered': '9635498'},\n",
       "  {'dailyconfirmed': '23880',\n",
       "   'dailydeceased': '329',\n",
       "   'dailyrecovered': '27032',\n",
       "   'date': '22 December ',\n",
       "   'dateymd': '2020-12-22',\n",
       "   'totalconfirmed': '10099232',\n",
       "   'totaldeceased': '145885',\n",
       "   'totalrecovered': '9662530'},\n",
       "  {'dailyconfirmed': '24716',\n",
       "   'dailydeceased': '315',\n",
       "   'dailyrecovered': '29946',\n",
       "   'date': '23 December ',\n",
       "   'dateymd': '2020-12-23',\n",
       "   'totalconfirmed': '10123948',\n",
       "   'totaldeceased': '146200',\n",
       "   'totalrecovered': '9692476'},\n",
       "  {'dailyconfirmed': '23444',\n",
       "   'dailydeceased': '337',\n",
       "   'dailyrecovered': '24555',\n",
       "   'date': '24 December ',\n",
       "   'dateymd': '2020-12-24',\n",
       "   'totalconfirmed': '10147392',\n",
       "   'totaldeceased': '146537',\n",
       "   'totalrecovered': '9717031'},\n",
       "  {'dailyconfirmed': '22349',\n",
       "   'dailydeceased': '251',\n",
       "   'dailyrecovered': '22184',\n",
       "   'date': '25 December ',\n",
       "   'dateymd': '2020-12-25',\n",
       "   'totalconfirmed': '10169741',\n",
       "   'totaldeceased': '146788',\n",
       "   'totalrecovered': '9739215'},\n",
       "  {'dailyconfirmed': '18575',\n",
       "   'dailydeceased': '280',\n",
       "   'dailyrecovered': '21466',\n",
       "   'date': '26 December ',\n",
       "   'dateymd': '2020-12-26',\n",
       "   'totalconfirmed': '10188316',\n",
       "   'totaldeceased': '147068',\n",
       "   'totalrecovered': '9760681'},\n",
       "  {'dailyconfirmed': '20333',\n",
       "   'dailydeceased': '281',\n",
       "   'dailyrecovered': '21097',\n",
       "   'date': '27 December ',\n",
       "   'dateymd': '2020-12-27',\n",
       "   'totalconfirmed': '10208649',\n",
       "   'totaldeceased': '147349',\n",
       "   'totalrecovered': '9781778'},\n",
       "  {'dailyconfirmed': '16072',\n",
       "   'dailydeceased': '250',\n",
       "   'dailyrecovered': '24822',\n",
       "   'date': '28 December ',\n",
       "   'dateymd': '2020-12-28',\n",
       "   'totalconfirmed': '10224721',\n",
       "   'totaldeceased': '147599',\n",
       "   'totalrecovered': '9806600'},\n",
       "  {'dailyconfirmed': '20542',\n",
       "   'dailydeceased': '285',\n",
       "   'dailyrecovered': '26589',\n",
       "   'date': '29 December ',\n",
       "   'dateymd': '2020-12-29',\n",
       "   'totalconfirmed': '10245263',\n",
       "   'totaldeceased': '147884',\n",
       "   'totalrecovered': '9833189'},\n",
       "  {'dailyconfirmed': '21945',\n",
       "   'dailydeceased': '299',\n",
       "   'dailyrecovered': '26407',\n",
       "   'date': '30 December ',\n",
       "   'dateymd': '2020-12-30',\n",
       "   'totalconfirmed': '10267208',\n",
       "   'totaldeceased': '148183',\n",
       "   'totalrecovered': '9859596'},\n",
       "  {'dailyconfirmed': '19045',\n",
       "   'dailydeceased': '244',\n",
       "   'dailyrecovered': '22023',\n",
       "   'date': '31 December ',\n",
       "   'dateymd': '2020-12-31',\n",
       "   'totalconfirmed': '10286253',\n",
       "   'totaldeceased': '148427',\n",
       "   'totalrecovered': '9881619'},\n",
       "  {'dailyconfirmed': '20159',\n",
       "   'dailydeceased': '237',\n",
       "   'dailyrecovered': '23838',\n",
       "   'date': '01 January ',\n",
       "   'dateymd': '2021-01-01',\n",
       "   'totalconfirmed': '10306412',\n",
       "   'totaldeceased': '148664',\n",
       "   'totalrecovered': '9905457'},\n",
       "  {'dailyconfirmed': '18125',\n",
       "   'dailydeceased': '216',\n",
       "   'dailyrecovered': '20849',\n",
       "   'date': '02 January ',\n",
       "   'dateymd': '2021-01-02',\n",
       "   'totalconfirmed': '10324537',\n",
       "   'totaldeceased': '148880',\n",
       "   'totalrecovered': '9926306'}],\n",
       " 'statewise': [{'active': '243337',\n",
       "   'confirmed': '10339728',\n",
       "   'deaths': '149659',\n",
       "   'deltaconfirmed': '15115',\n",
       "   'deltadeaths': '188',\n",
       "   'deltarecovered': '17370',\n",
       "   'lastupdatedtime': '3/1/2021 23:37:36',\n",
       "   'migratedother': '2889',\n",
       "   'recovered': '9943843',\n",
       "   'state': 'Total',\n",
       "   'statecode': 'TT',\n",
       "   'statenotes': ''},\n",
       "  {'active': '54317',\n",
       "   'confirmed': '1942136',\n",
       "   'deaths': '49666',\n",
       "   'deltaconfirmed': '3282',\n",
       "   'deltadeaths': '35',\n",
       "   'deltarecovered': '2064',\n",
       "   'lastupdatedtime': '03/01/2021 20:00:41',\n",
       "   'migratedother': '1154',\n",
       "   'recovered': '1836999',\n",
       "   'state': 'Maharashtra',\n",
       "   'statecode': 'MH',\n",
       "   'statenotes': \"[Dec 16]:10,218 duplicate cases & other state cases removed from total cases.791 recovered cases also removed from total recovered cases while reconciling \\n[Sep 9] :239 cases have been removed from the hospitalized figures owing to the removal of duplicates and change of addresses as per the original residence\\n[Aug 15] : MH bulletin has reduced 819 confirmed cases in Mumbai and 72 confirmed cases from 'Other States' from the tally\\n[Jun 16] : 1328 deceased cases have been retroactively added to MH bulletin.\\n[Jun 20] : 69 deceased cases have been reduced based on state bulletin.\"},\n",
       "  {'active': '10893',\n",
       "   'confirmed': '921938',\n",
       "   'deaths': '12107',\n",
       "   'deltaconfirmed': '810',\n",
       "   'deltadeaths': '8',\n",
       "   'deltarecovered': '743',\n",
       "   'lastupdatedtime': '03/01/2021 21:52:46',\n",
       "   'migratedother': '19',\n",
       "   'recovered': '898919',\n",
       "   'state': 'Karnataka',\n",
       "   'statecode': 'KA',\n",
       "   'statenotes': ''},\n",
       "  {'active': '3070',\n",
       "   'confirmed': '883082',\n",
       "   'deaths': '7115',\n",
       "   'deltaconfirmed': '232',\n",
       "   'deltadeaths': '4',\n",
       "   'deltarecovered': '352',\n",
       "   'lastupdatedtime': '03/01/2021 20:22:46',\n",
       "   'migratedother': '0',\n",
       "   'recovered': '872897',\n",
       "   'state': 'Andhra Pradesh',\n",
       "   'statecode': 'AP',\n",
       "   'statenotes': ''},\n",
       "  {'active': '8127',\n",
       "   'confirmed': '820712',\n",
       "   'deaths': '12156',\n",
       "   'deltaconfirmed': '867',\n",
       "   'deltadeaths': '10',\n",
       "   'deltarecovered': '1002',\n",
       "   'lastupdatedtime': '03/01/2021 20:00:47',\n",
       "   'migratedother': '0',\n",
       "   'recovered': '800429',\n",
       "   'state': 'Tamil Nadu',\n",
       "   'statecode': 'TN',\n",
       "   'statenotes': '[July 22]: 444 backdated deceased entries added to Chennai in TN bulletin.\\n2 deaths cross notified to other states from Chennai and Coimbatore.\\n1 patient died after turning negative for infection in Chengalpattu.\\nThese cases have been added to TN deceased tally'},\n",
       "  {'active': '65277',\n",
       "   'confirmed': '775853',\n",
       "   'deaths': '3142',\n",
       "   'deltaconfirmed': '4600',\n",
       "   'deltadeaths': '25',\n",
       "   'deltarecovered': '4668',\n",
       "   'lastupdatedtime': '03/01/2021 20:46:39',\n",
       "   'migratedother': '190',\n",
       "   'recovered': '707244',\n",
       "   'state': 'Kerala',\n",
       "   'statecode': 'KL',\n",
       "   'statenotes': \"Mahe native who expired in Kannur included in Kerala's deceased tally.\\nSome non-covid deaths have also been reported in the bulletin.\\nThese have been reduced from active count\"},\n",
       "  {'active': '5044',\n",
       "   'confirmed': '626872',\n",
       "   'deaths': '10585',\n",
       "   'deltaconfirmed': '424',\n",
       "   'deltadeaths': '14',\n",
       "   'deltarecovered': '708',\n",
       "   'lastupdatedtime': '03/01/2021 20:22:50',\n",
       "   'migratedother': '0',\n",
       "   'recovered': '611243',\n",
       "   'state': 'Delhi',\n",
       "   'statecode': 'DL',\n",
       "   'statenotes': '[July 14]: Value for the total tests conducted has been reduced by 97008 in the state bulletin. Reason given : \"Reconciled with ICMR figures\". We have made the same change.'},\n",
       "  {'active': '13316',\n",
       "   'confirmed': '587434',\n",
       "   'deaths': '8387',\n",
       "   'deltaconfirmed': '0',\n",
       "   'deltadeaths': '0',\n",
       "   'deltarecovered': '0',\n",
       "   'lastupdatedtime': '02/01/2021 23:20:33',\n",
       "   'migratedother': '0',\n",
       "   'recovered': '565731',\n",
       "   'state': 'Uttar Pradesh',\n",
       "   'statecode': 'UP',\n",
       "   'statenotes': ''},\n",
       "  {'active': '10446',\n",
       "   'confirmed': '554975',\n",
       "   'deaths': '9792',\n",
       "   'deltaconfirmed': '896',\n",
       "   'deltadeaths': '26',\n",
       "   'deltarecovered': '1432',\n",
       "   'lastupdatedtime': '03/01/2021 21:52:48',\n",
       "   'migratedother': '0',\n",
       "   'recovered': '534737',\n",
       "   'state': 'West Bengal',\n",
       "   'statecode': 'WB',\n",
       "   'statenotes': ''},\n",
       "  {'active': '2164',\n",
       "   'confirmed': '330309',\n",
       "   'deaths': '1936',\n",
       "   'deltaconfirmed': '192',\n",
       "   'deltadeaths': '3',\n",
       "   'deltarecovered': '244',\n",
       "   'lastupdatedtime': '03/01/2021 23:37:38',\n",
       "   'migratedother': '0',\n",
       "   'recovered': '326209',\n",
       "   'state': 'Odisha',\n",
       "   'statecode': 'OR',\n",
       "   'statenotes': '[July 12th] :20 non-covid deaths reported in state dashboard are included in the deceased count'},\n",
       "  {'active': '8795',\n",
       "   'confirmed': '309319',\n",
       "   'deaths': '2705',\n",
       "   'deltaconfirmed': '0',\n",
       "   'deltadeaths': '0',\n",
       "   'deltarecovered': '0',\n",
       "   'lastupdatedtime': '02/01/2021 19:38:41',\n",
       "   'migratedother': '0',\n",
       "   'recovered': '297819',\n",
       "   'state': 'Rajasthan',\n",
       "   'statecode': 'RJ',\n",
       "   'statenotes': ''},\n",
       "  {'active': '5388',\n",
       "   'confirmed': '287502',\n",
       "   'deaths': '1549',\n",
       "   'deltaconfirmed': '394',\n",
       "   'deltadeaths': '3',\n",
       "   'deltarecovered': '574',\n",
       "   'lastupdatedtime': '03/01/2021 11:27:33',\n",
       "   'migratedother': '0',\n",
       "   'recovered': '280565',\n",
       "   'state': 'Telangana',\n",
       "   'statecode': 'TG',\n",
       "   'statenotes': '[July 27] : Telangana bulletin for the previous day is released on the next day. We will add the cases for Telangana against the date of release, as that is the convention that we are following for other states.\\n--\\nDistrict-wise numbers are not reported because cumulative counts for each district are not provided in Telangana bulletin'},\n",
       "  {'active': '9980',\n",
       "   'confirmed': '282368',\n",
       "   'deaths': '3400',\n",
       "   'deltaconfirmed': '714',\n",
       "   'deltadeaths': '14',\n",
       "   'deltarecovered': '1237',\n",
       "   'lastupdatedtime': '03/01/2021 21:11:58',\n",
       "   'migratedother': '0',\n",
       "   'recovered': '268988',\n",
       "   'state': 'Chhattisgarh',\n",
       "   'statecode': 'CT',\n",
       "   'statenotes': ''},\n",
       "  {'active': '2890',\n",
       "   'confirmed': '263068',\n",
       "   'deaths': '2917',\n",
       "   'deltaconfirmed': '218',\n",
       "   'deltadeaths': '2',\n",
       "   'deltarecovered': '450',\n",
       "   'lastupdatedtime': '03/01/2021 20:00:50',\n",
       "   'migratedother': '0',\n",
       "   'recovered': '257261',\n",
       "   'state': 'Haryana',\n",
       "   'statecode': 'HR',\n",
       "   'statenotes': ''},\n",
       "  {'active': '4318',\n",
       "   'confirmed': '253934',\n",
       "   'deaths': '1405',\n",
       "   'deltaconfirmed': '282',\n",
       "   'deltadeaths': '2',\n",
       "   'deltarecovered': '631',\n",
       "   'lastupdatedtime': '03/01/2021 20:22:53',\n",
       "   'migratedother': '1',\n",
       "   'recovered': '248210',\n",
       "   'state': 'Bihar',\n",
       "   'statecode': 'BR',\n",
       "   'statenotes': ''},\n",
       "  {'active': '9150',\n",
       "   'confirmed': '247228',\n",
       "   'deaths': '4318',\n",
       "   'deltaconfirmed': '715',\n",
       "   'deltadeaths': '4',\n",
       "   'deltarecovered': '938',\n",
       "   'lastupdatedtime': '03/01/2021 20:46:42',\n",
       "   'migratedother': '0',\n",
       "   'recovered': '233760',\n",
       "   'state': 'Gujarat',\n",
       "   'statecode': 'GJ',\n",
       "   'statenotes': ''},\n",
       "  {'active': '8852',\n",
       "   'confirmed': '244026',\n",
       "   'deaths': '3641',\n",
       "   'deltaconfirmed': '724',\n",
       "   'deltadeaths': '14',\n",
       "   'deltarecovered': '947',\n",
       "   'lastupdatedtime': '03/01/2021 20:22:55',\n",
       "   'migratedother': '0',\n",
       "   'recovered': '231533',\n",
       "   'state': 'Madhya Pradesh',\n",
       "   'statecode': 'MP',\n",
       "   'statenotes': '[Oct 14]: 4469 confirmed cases and 4469 recoveries added in MP bulletin as reconciliation with private labs and hospitals'},\n",
       "  {'active': '3120',\n",
       "   'confirmed': '216304',\n",
       "   'deaths': '1052',\n",
       "   'deltaconfirmed': '15',\n",
       "   'deltadeaths': '1',\n",
       "   'deltarecovered': '60',\n",
       "   'lastupdatedtime': '03/01/2021 22:53:39',\n",
       "   'migratedother': '3',\n",
       "   'recovered': '212129',\n",
       "   'state': 'Assam',\n",
       "   'statecode': 'AS',\n",
       "   'statenotes': ''},\n",
       "  {'active': '3361',\n",
       "   'confirmed': '167219',\n",
       "   'deaths': '5376',\n",
       "   'deltaconfirmed': '207',\n",
       "   'deltadeaths': '12',\n",
       "   'deltarecovered': '263',\n",
       "   'lastupdatedtime': '03/01/2021 20:00:55',\n",
       "   'migratedother': '0',\n",
       "   'recovered': '158482',\n",
       "   'state': 'Punjab',\n",
       "   'statecode': 'PB',\n",
       "   'statenotes': ''},\n",
       "  {'active': '2975',\n",
       "   'confirmed': '121653',\n",
       "   'deaths': '1886',\n",
       "   'deltaconfirmed': '182',\n",
       "   'deltadeaths': '1',\n",
       "   'deltarecovered': '205',\n",
       "   'lastupdatedtime': '03/01/2021 20:00:57',\n",
       "   'migratedother': '0',\n",
       "   'recovered': '116792',\n",
       "   'state': 'Jammu and Kashmir',\n",
       "   'statecode': 'JK',\n",
       "   'statenotes': ''},\n",
       "  {'active': '1601',\n",
       "   'confirmed': '115529',\n",
       "   'deaths': '1035',\n",
       "   'deltaconfirmed': '137',\n",
       "   'deltadeaths': '1',\n",
       "   'deltarecovered': '159',\n",
       "   'lastupdatedtime': '03/01/2021 22:53:41',\n",
       "   'migratedother': '0',\n",
       "   'recovered': '112893',\n",
       "   'state': 'Jharkhand',\n",
       "   'statecode': 'JH',\n",
       "   'statenotes': ''},\n",
       "  {'active': '4364',\n",
       "   'confirmed': '91544',\n",
       "   'deaths': '1522',\n",
       "   'deltaconfirmed': '0',\n",
       "   'deltadeaths': '0',\n",
       "   'deltarecovered': '0',\n",
       "   'lastupdatedtime': '02/01/2021 23:20:37',\n",
       "   'migratedother': '1197',\n",
       "   'recovered': '84461',\n",
       "   'state': 'Uttarakhand',\n",
       "   'statecode': 'UT',\n",
       "   'statenotes': '[Oct 30]: Metric of capturing the testing data has switched to \"Samples Tested\" from \"Samples Collected\"'},\n",
       "  {'active': '1830',\n",
       "   'confirmed': '55686',\n",
       "   'deaths': '932',\n",
       "   'deltaconfirmed': '67',\n",
       "   'deltadeaths': '6',\n",
       "   'deltarecovered': '433',\n",
       "   'lastupdatedtime': '03/01/2021 22:53:43',\n",
       "   'migratedother': '48',\n",
       "   'recovered': '52876',\n",
       "   'state': 'Himachal Pradesh',\n",
       "   'statecode': 'HP',\n",
       "   'statenotes': ''},\n",
       "  {'active': '901',\n",
       "   'confirmed': '51295',\n",
       "   'deaths': '741',\n",
       "   'deltaconfirmed': '65',\n",
       "   'deltadeaths': '2',\n",
       "   'deltarecovered': '83',\n",
       "   'lastupdatedtime': '03/01/2021 20:22:57',\n",
       "   'migratedother': '0',\n",
       "   'recovered': '49653',\n",
       "   'state': 'Goa',\n",
       "   'statecode': 'GA',\n",
       "   'statenotes': ''},\n",
       "  {'active': '358',\n",
       "   'confirmed': '38224',\n",
       "   'deaths': '633',\n",
       "   'deltaconfirmed': '50',\n",
       "   'deltadeaths': '0',\n",
       "   'deltarecovered': '38',\n",
       "   'lastupdatedtime': '03/01/2021 20:22:59',\n",
       "   'migratedother': '0',\n",
       "   'recovered': '37233',\n",
       "   'state': 'Puducherry',\n",
       "   'statecode': 'PY',\n",
       "   'statenotes': ''},\n",
       "  {'active': '88',\n",
       "   'confirmed': '33279',\n",
       "   'deaths': '382',\n",
       "   'deltaconfirmed': '6',\n",
       "   'deltadeaths': '0',\n",
       "   'deltarecovered': '14',\n",
       "   'lastupdatedtime': '03/01/2021 20:23:01',\n",
       "   'migratedother': '23',\n",
       "   'recovered': '32786',\n",
       "   'state': 'Tripura',\n",
       "   'statecode': 'TR',\n",
       "   'statenotes': '[Aug 4]: Tripura bulletin for the previous day is released on the next day. We will add the cases for Tripura against the date of release, as that is the convention that we are following for other states.'},\n",
       "  {'active': '1104',\n",
       "   'confirmed': '28243',\n",
       "   'deaths': '357',\n",
       "   'deltaconfirmed': '0',\n",
       "   'deltadeaths': '0',\n",
       "   'deltarecovered': '0',\n",
       "   'lastupdatedtime': '03/01/2021 02:22:31',\n",
       "   'migratedother': '0',\n",
       "   'recovered': '26782',\n",
       "   'state': 'Manipur',\n",
       "   'statecode': 'MN',\n",
       "   'statenotes': '[Dec 14]:824 out of 980 recovered cases are backdated.'},\n",
       "  {'active': '281',\n",
       "   'confirmed': '19881',\n",
       "   'deaths': '320',\n",
       "   'deltaconfirmed': '16',\n",
       "   'deltadeaths': '1',\n",
       "   'deltarecovered': '54',\n",
       "   'lastupdatedtime': '03/01/2021 20:01:01',\n",
       "   'migratedother': '0',\n",
       "   'recovered': '19280',\n",
       "   'state': 'Chandigarh',\n",
       "   'statecode': 'CH',\n",
       "   'statenotes': ''},\n",
       "  {'active': '93',\n",
       "   'confirmed': '16732',\n",
       "   'deaths': '56',\n",
       "   'deltaconfirmed': '5',\n",
       "   'deltadeaths': '0',\n",
       "   'deltarecovered': '7',\n",
       "   'lastupdatedtime': '03/01/2021 21:12:05',\n",
       "   'migratedother': '0',\n",
       "   'recovered': '16583',\n",
       "   'state': 'Arunachal Pradesh',\n",
       "   'statecode': 'AR',\n",
       "   'statenotes': '[July 25]: All numbers corresponding to Papum Pare and Captial Complex are tracked under Papum Pare district.'},\n",
       "  {'active': '135',\n",
       "   'confirmed': '13460',\n",
       "   'deaths': '139',\n",
       "   'deltaconfirmed': '12',\n",
       "   'deltadeaths': '0',\n",
       "   'deltarecovered': '13',\n",
       "   'lastupdatedtime': '03/01/2021 21:53:07',\n",
       "   'migratedother': '0',\n",
       "   'recovered': '13186',\n",
       "   'state': 'Meghalaya',\n",
       "   'statecode': 'ML',\n",
       "   'statenotes': ''},\n",
       "  {'active': '186',\n",
       "   'confirmed': '11929',\n",
       "   'deaths': '79',\n",
       "   'deltaconfirmed': '0',\n",
       "   'deltadeaths': '0',\n",
       "   'deltarecovered': '0',\n",
       "   'lastupdatedtime': '02/01/2021 23:20:39',\n",
       "   'migratedother': '131',\n",
       "   'recovered': '11533',\n",
       "   'state': 'Nagaland',\n",
       "   'statecode': 'NL',\n",
       "   'statenotes': ''},\n",
       "  {'active': '261',\n",
       "   'confirmed': '9550',\n",
       "   'deaths': '127',\n",
       "   'deltaconfirmed': '0',\n",
       "   'deltadeaths': '0',\n",
       "   'deltarecovered': '0',\n",
       "   'lastupdatedtime': '03/01/2021 00:05:31',\n",
       "   'migratedother': '0',\n",
       "   'recovered': '9162',\n",
       "   'state': 'Ladakh',\n",
       "   'statecode': 'LA',\n",
       "   'statenotes': ''},\n",
       "  {'active': '507',\n",
       "   'confirmed': '5920',\n",
       "   'deaths': '129',\n",
       "   'deltaconfirmed': '9',\n",
       "   'deltadeaths': '0',\n",
       "   'deltarecovered': '33',\n",
       "   'lastupdatedtime': '03/01/2021 23:37:41',\n",
       "   'migratedother': '94',\n",
       "   'recovered': '5190',\n",
       "   'state': 'Sikkim',\n",
       "   'statecode': 'SK',\n",
       "   'statenotes': ''},\n",
       "  {'active': '40',\n",
       "   'confirmed': '4948',\n",
       "   'deaths': '62',\n",
       "   'deltaconfirmed': '1',\n",
       "   'deltadeaths': '0',\n",
       "   'deltarecovered': '9',\n",
       "   'lastupdatedtime': '03/01/2021 22:53:46',\n",
       "   'migratedother': '0',\n",
       "   'recovered': '4846',\n",
       "   'state': 'Andaman and Nicobar Islands',\n",
       "   'statecode': 'AN',\n",
       "   'statenotes': ''},\n",
       "  {'active': '94',\n",
       "   'confirmed': '4211',\n",
       "   'deaths': '8',\n",
       "   'deltaconfirmed': '-8',\n",
       "   'deltadeaths': '0',\n",
       "   'deltarecovered': '6',\n",
       "   'lastupdatedtime': '03/01/2021 23:37:43',\n",
       "   'migratedother': '0',\n",
       "   'recovered': '4109',\n",
       "   'state': 'Mizoram',\n",
       "   'statecode': 'MZ',\n",
       "   'statenotes': ''},\n",
       "  {'active': '11',\n",
       "   'confirmed': '3365',\n",
       "   'deaths': '2',\n",
       "   'deltaconfirmed': '1',\n",
       "   'deltadeaths': '0',\n",
       "   'deltarecovered': '3',\n",
       "   'lastupdatedtime': '03/01/2021 21:53:09',\n",
       "   'migratedother': '29',\n",
       "   'recovered': '3323',\n",
       "   'state': 'Dadra and Nagar Haveli and Daman and Diu',\n",
       "   'statecode': 'DN',\n",
       "   'statenotes': ''},\n",
       "  {'active': '0',\n",
       "   'confirmed': '0',\n",
       "   'deaths': '0',\n",
       "   'deltaconfirmed': '0',\n",
       "   'deltadeaths': '0',\n",
       "   'deltarecovered': '0',\n",
       "   'lastupdatedtime': '19/07/2020 09:40:01',\n",
       "   'migratedother': '0',\n",
       "   'recovered': '0',\n",
       "   'state': 'State Unassigned',\n",
       "   'statecode': 'UN',\n",
       "   'statenotes': \"MoHFW website reports that these are the 'cases that are being reassigned to states'. \"},\n",
       "  {'active': '0',\n",
       "   'confirmed': '0',\n",
       "   'deaths': '0',\n",
       "   'deltaconfirmed': '0',\n",
       "   'deltadeaths': '0',\n",
       "   'deltarecovered': '0',\n",
       "   'lastupdatedtime': '26/03/2020 07:19:29',\n",
       "   'migratedother': '0',\n",
       "   'recovered': '0',\n",
       "   'state': 'Lakshadweep',\n",
       "   'statecode': 'LD',\n",
       "   'statenotes': ''}],\n",
       " 'tested': [{'dailyrtpcrsamplescollectedicmrapplication': '',\n",
       "   'individualstestedperconfirmedcase': '75.64',\n",
       "   'positivecasesfromsamplesreported': '',\n",
       "   'samplereportedtoday': '',\n",
       "   'source': 'Press_Release_ICMR_13March2020.pdf',\n",
       "   'source1': '',\n",
       "   'source3': '',\n",
       "   'testedasof': '13/03/2020',\n",
       "   'testpositivitylast7days': '',\n",
       "   'testpositivityrate': '1.20%',\n",
       "   'testsconductedbyprivatelabs': '',\n",
       "   'testsperconfirmedcase': '83.33',\n",
       "   'testspermillion': '5',\n",
       "   'totalindividualstested': '5900',\n",
       "   'totalpositivecases': '78',\n",
       "   'totalrtpcrsamplescollectedicmrapplication': '',\n",
       "   'totalsamplestested': '6500',\n",
       "   'updatetimestamp': '13/03/2020 00:00:00'},\n",
       "  {'dailyrtpcrsamplescollectedicmrapplication': '',\n",
       "   'individualstestedperconfirmedcase': '81.57',\n",
       "   'positivecasesfromsamplesreported': '',\n",
       "   'samplereportedtoday': '',\n",
       "   'source': 'ICMR_website_update_18March_6PM_IST.pdf',\n",
       "   'source1': '',\n",
       "   'source3': '',\n",
       "   'testedasof': '18/03/2020',\n",
       "   'testpositivitylast7days': '',\n",
       "   'testpositivityrate': '1.14%',\n",
       "   'testsconductedbyprivatelabs': '',\n",
       "   'testsperconfirmedcase': '87.50',\n",
       "   'testspermillion': '10',\n",
       "   'totalindividualstested': '12235',\n",
       "   'totalpositivecases': '150',\n",
       "   'totalrtpcrsamplescollectedicmrapplication': '',\n",
       "   'totalsamplestested': '13125',\n",
       "   'updatetimestamp': '18/03/2020 18:00:00'},\n",
       "  {'dailyrtpcrsamplescollectedicmrapplication': '',\n",
       "   'individualstestedperconfirmedcase': '73.96',\n",
       "   'positivecasesfromsamplesreported': '',\n",
       "   'samplereportedtoday': '',\n",
       "   'source': 'ICMR_website_update_19March_10AM_IST_V2.pdf',\n",
       "   'source1': '',\n",
       "   'source3': '',\n",
       "   'testedasof': '19/03/2020',\n",
       "   'testpositivitylast7days': '',\n",
       "   'testpositivityrate': '1.26%',\n",
       "   'testsconductedbyprivatelabs': '',\n",
       "   'testsperconfirmedcase': '79.26',\n",
       "   'testspermillion': '10',\n",
       "   'totalindividualstested': '12426',\n",
       "   'totalpositivecases': '168',\n",
       "   'totalrtpcrsamplescollectedicmrapplication': '',\n",
       "   'totalsamplestested': '13316',\n",
       "   'updatetimestamp': '19/03/2020 10:00:00'},\n",
       "  {'dailyrtpcrsamplescollectedicmrapplication': '',\n",
       "   'individualstestedperconfirmedcase': '72.99',\n",
       "   'positivecasesfromsamplesreported': '',\n",
       "   'samplereportedtoday': '',\n",
       "   'source': 'ICMR_website_update_19March_6PM_IST.pdf',\n",
       "   'source1': '',\n",
       "   'source3': '',\n",
       "   'testedasof': '19/03/2020',\n",
       "   'testpositivitylast7days': '',\n",
       "   'testpositivityrate': '1.28%',\n",
       "   'testsconductedbyprivatelabs': '',\n",
       "   'testsperconfirmedcase': '77.88',\n",
       "   'testspermillion': '11',\n",
       "   'totalindividualstested': '13285',\n",
       "   'totalpositivecases': '182',\n",
       "   'totalrtpcrsamplescollectedicmrapplication': '',\n",
       "   'totalsamplestested': '14175',\n",
       "   'updatetimestamp': '19/03/2020 18:00:00'},\n",
       "  {'dailyrtpcrsamplescollectedicmrapplication': '',\n",
       "   'individualstestedperconfirmedcase': '65.47',\n",
       "   'positivecasesfromsamplesreported': '',\n",
       "   'samplereportedtoday': '',\n",
       "   'source': 'ICMR_website_update_20March_10AM_IST.pdf',\n",
       "   'source1': '',\n",
       "   'source3': '',\n",
       "   'testedasof': '20/03/2020',\n",
       "   'testpositivitylast7days': '',\n",
       "   'testpositivityrate': '1.43%',\n",
       "   'testsconductedbyprivatelabs': '',\n",
       "   'testsperconfirmedcase': '69.79',\n",
       "   'testspermillion': '11',\n",
       "   'totalindividualstested': '13486',\n",
       "   'totalpositivecases': '206',\n",
       "   'totalrtpcrsamplescollectedicmrapplication': '',\n",
       "   'totalsamplestested': '14376',\n",
       "   'updatetimestamp': '20/03/2020 10:00:00'},\n",
       "  {'dailyrtpcrsamplescollectedicmrapplication': '',\n",
       "   'individualstestedperconfirmedcase': '61.50',\n",
       "   'positivecasesfromsamplesreported': '',\n",
       "   'samplereportedtoday': '',\n",
       "   'source': 'ICMR_website_update_20March_6PM_IST.pdf',\n",
       "   'source1': '',\n",
       "   'source3': '',\n",
       "   'testedasof': '20/03/2020',\n",
       "   'testpositivitylast7days': '',\n",
       "   'testpositivityrate': '1.53%',\n",
       "   'testsconductedbyprivatelabs': '',\n",
       "   'testsperconfirmedcase': '65.27',\n",
       "   'testspermillion': '12',\n",
       "   'totalindividualstested': '14514',\n",
       "   'totalpositivecases': '236',\n",
       "   'totalrtpcrsamplescollectedicmrapplication': '',\n",
       "   'totalsamplestested': '15404',\n",
       "   'updatetimestamp': '20/03/2020 18:00:00'},\n",
       "  {'dailyrtpcrsamplescollectedicmrapplication': '',\n",
       "   'individualstestedperconfirmedcase': '54.65',\n",
       "   'positivecasesfromsamplesreported': '',\n",
       "   'samplereportedtoday': '',\n",
       "   'source': 'ICMR_website_update_21March_10AM_IST.pdf',\n",
       "   'source1': '',\n",
       "   'source3': '',\n",
       "   'testedasof': '21/03/2020',\n",
       "   'testpositivitylast7days': '',\n",
       "   'testpositivityrate': '1.73%',\n",
       "   'testsconductedbyprivatelabs': '',\n",
       "   'testsperconfirmedcase': '57.94',\n",
       "   'testspermillion': '12',\n",
       "   'totalindividualstested': '14811',\n",
       "   'totalpositivecases': '271',\n",
       "   'totalrtpcrsamplescollectedicmrapplication': '',\n",
       "   'totalsamplestested': '15701',\n",
       "   'updatetimestamp': '21/03/2020 10:00:00'},\n",
       "  {'dailyrtpcrsamplescollectedicmrapplication': '',\n",
       "   'individualstestedperconfirmedcase': '50.86',\n",
       "   'positivecasesfromsamplesreported': '',\n",
       "   'samplereportedtoday': '',\n",
       "   'source': 'ICMR_website_update_21March_6PM_IST.pdf',\n",
       "   'source1': '',\n",
       "   'source3': '',\n",
       "   'testedasof': '21/03/2020',\n",
       "   'testpositivitylast7days': '',\n",
       "   'testpositivityrate': '1.86%',\n",
       "   'testsconductedbyprivatelabs': '',\n",
       "   'testsperconfirmedcase': '53.69',\n",
       "   'testspermillion': '13',\n",
       "   'totalindividualstested': '16021',\n",
       "   'totalpositivecases': '315',\n",
       "   'totalrtpcrsamplescollectedicmrapplication': '',\n",
       "   'totalsamplestested': '16911',\n",
       "   'updatetimestamp': '21/03/2020 18:00:00'},\n",
       "  {'dailyrtpcrsamplescollectedicmrapplication': '',\n",
       "   'individualstestedperconfirmedcase': '47.24',\n",
       "   'positivecasesfromsamplesreported': '',\n",
       "   'samplereportedtoday': '',\n",
       "   'source': 'ICMR_website_update_22March_10AM_IST.pdf',\n",
       "   'source1': '',\n",
       "   'source3': '',\n",
       "   'testedasof': '22/03/2020',\n",
       "   'testpositivitylast7days': '2.58%',\n",
       "   'testpositivityrate': '2.01%',\n",
       "   'testsconductedbyprivatelabs': '',\n",
       "   'testsperconfirmedcase': '49.85',\n",
       "   'testspermillion': '13',\n",
       "   'totalindividualstested': '16109',\n",
       "   'totalpositivecases': '341',\n",
       "   'totalrtpcrsamplescollectedicmrapplication': '',\n",
       "   'totalsamplestested': '16999',\n",
       "   'updatetimestamp': '22/03/2020 10:00:00'},\n",
       "  {'dailyrtpcrsamplescollectedicmrapplication': '',\n",
       "   'individualstestedperconfirmedcase': '43.53',\n",
       "   'positivecasesfromsamplesreported': '',\n",
       "   'samplereportedtoday': '',\n",
       "   'source': 'ICMR_website_update_22March_6PM_IST.pdf',\n",
       "   'source1': '',\n",
       "   'source3': '',\n",
       "   'testedasof': '22/03/2020',\n",
       "   'testpositivitylast7days': '2.43%',\n",
       "   'testpositivityrate': '2.18%',\n",
       "   'testsconductedbyprivatelabs': '',\n",
       "   'testsperconfirmedcase': '45.78',\n",
       "   'testspermillion': '14',\n",
       "   'totalindividualstested': '17237',\n",
       "   'totalpositivecases': '396',\n",
       "   'totalrtpcrsamplescollectedicmrapplication': '',\n",
       "   'totalsamplestested': '18127',\n",
       "   'updatetimestamp': '22/03/2020 18:00:00'},\n",
       "  {'dailyrtpcrsamplescollectedicmrapplication': '',\n",
       "   'individualstestedperconfirmedcase': '42.15',\n",
       "   'positivecasesfromsamplesreported': '',\n",
       "   'samplereportedtoday': '',\n",
       "   'source': 'ICMR_website_update_23March_10AM_IST.pdf',\n",
       "   'source1': '',\n",
       "   'source3': '',\n",
       "   'testedasof': '23/03/2020',\n",
       "   'testpositivitylast7days': '3.92%',\n",
       "   'testpositivityrate': '2.26%',\n",
       "   'testsconductedbyprivatelabs': '',\n",
       "   'testsperconfirmedcase': '44.30',\n",
       "   'testspermillion': '14',\n",
       "   'totalindividualstested': '17493',\n",
       "   'totalpositivecases': '415',\n",
       "   'totalrtpcrsamplescollectedicmrapplication': '',\n",
       "   'totalsamplestested': '18383',\n",
       "   'updatetimestamp': '23/03/2020 10:00:00'},\n",
       "  {'dailyrtpcrsamplescollectedicmrapplication': '',\n",
       "   'individualstestedperconfirmedcase': '42.07',\n",
       "   'positivecasesfromsamplesreported': '',\n",
       "   'samplereportedtoday': '',\n",
       "   'source': 'ICMR_website_update_23March_8PM_IST.pdf',\n",
       "   'source1': '',\n",
       "   'source3': '',\n",
       "   'testedasof': '23/03/2020',\n",
       "   'testpositivitylast7days': '3.66%',\n",
       "   'testpositivityrate': '2.27%',\n",
       "   'testsconductedbyprivatelabs': '',\n",
       "   'testsperconfirmedcase': '43.96',\n",
       "   'testspermillion': '16',\n",
       "   'totalindividualstested': '19817',\n",
       "   'totalpositivecases': '471',\n",
       "   'totalrtpcrsamplescollectedicmrapplication': '',\n",
       "   'totalsamplestested': '20707',\n",
       "   'updatetimestamp': '23/03/2020 20:00:00'},\n",
       "  {'dailyrtpcrsamplescollectedicmrapplication': '',\n",
       "   'individualstestedperconfirmedcase': '41.44',\n",
       "   'positivecasesfromsamplesreported': '',\n",
       "   'samplereportedtoday': '',\n",
       "   'source': 'ICMR_website_update_24March_10AM_IST.pdf',\n",
       "   'source1': '',\n",
       "   'source3': '',\n",
       "   'testedasof': '24/03/2020',\n",
       "   'testpositivitylast7days': '5.33%',\n",
       "   'testpositivityrate': '2.31%',\n",
       "   'testsconductedbyprivatelabs': '',\n",
       "   'testsperconfirmedcase': '43.29',\n",
       "   'testspermillion': '16',\n",
       "   'totalindividualstested': '19974',\n",
       "   'totalpositivecases': '482',\n",
       "   'totalrtpcrsamplescollectedicmrapplication': '',\n",
       "   'totalsamplestested': '20864',\n",
       "   'updatetimestamp': '24/03/2020 10:00:00'},\n",
       "  {'dailyrtpcrsamplescollectedicmrapplication': '',\n",
       "   'individualstestedperconfirmedcase': '40.68',\n",
       "   'positivecasesfromsamplesreported': '',\n",
       "   'samplereportedtoday': '',\n",
       "   'source': 'ICMR_website_update_24March_8PM_IST.pdf',\n",
       "   'source1': '',\n",
       "   'source3': '',\n",
       "   'testedasof': '24/03/2020',\n",
       "   'testpositivitylast7days': '5.31%',\n",
       "   'testpositivityrate': '2.36%',\n",
       "   'testsconductedbyprivatelabs': '',\n",
       "   'testsperconfirmedcase': '42.34',\n",
       "   'testspermillion': '17',\n",
       "   'totalindividualstested': '21804',\n",
       "   'totalpositivecases': '536',\n",
       "   'totalrtpcrsamplescollectedicmrapplication': '',\n",
       "   'totalsamplestested': '22694',\n",
       "   'updatetimestamp': '24/03/2020 20:00:00'},\n",
       "  {'dailyrtpcrsamplescollectedicmrapplication': '',\n",
       "   'individualstestedperconfirmedcase': '40.89',\n",
       "   'positivecasesfromsamplesreported': '',\n",
       "   'samplereportedtoday': '',\n",
       "   'source': 'ICMR_website_update_25March_10AM_IST.pdf',\n",
       "   'source1': '',\n",
       "   'source3': '',\n",
       "   'testedasof': '25/03/2020',\n",
       "   'testpositivitylast7days': '7.06%',\n",
       "   'testpositivityrate': '2.35%',\n",
       "   'testsconductedbyprivatelabs': '',\n",
       "   'testsperconfirmedcase': '42.54',\n",
       "   'testspermillion': '17',\n",
       "   'totalindividualstested': '22038',\n",
       "   'totalpositivecases': '539',\n",
       "   'totalrtpcrsamplescollectedicmrapplication': '',\n",
       "   'totalsamplestested': '22928',\n",
       "   'updatetimestamp': '25/03/2020 10:00:00'},\n",
       "  {'dailyrtpcrsamplescollectedicmrapplication': '',\n",
       "   'individualstestedperconfirmedcase': '41.75',\n",
       "   'positivecasesfromsamplesreported': '',\n",
       "   'samplereportedtoday': '',\n",
       "   'source': 'ICMR_website_update_25March_8PM_IST.pdf',\n",
       "   'source1': '',\n",
       "   'source3': '',\n",
       "   'testedasof': '25/03/2020',\n",
       "   'testpositivitylast7days': '5.97%',\n",
       "   'testpositivityrate': '2.31%',\n",
       "   'testsconductedbyprivatelabs': '',\n",
       "   'testsperconfirmedcase': '43.28',\n",
       "   'testspermillion': '19',\n",
       "   'totalindividualstested': '24254',\n",
       "   'totalpositivecases': '581',\n",
       "   'totalrtpcrsamplescollectedicmrapplication': '',\n",
       "   'totalsamplestested': '25144',\n",
       "   'updatetimestamp': '25/03/2020 20:00:00'},\n",
       "  {'dailyrtpcrsamplescollectedicmrapplication': '',\n",
       "   'individualstestedperconfirmedcase': '',\n",
       "   'positivecasesfromsamplesreported': '',\n",
       "   'samplereportedtoday': '',\n",
       "   'source': '',\n",
       "   'source1': '',\n",
       "   'source3': '',\n",
       "   'testedasof': '26/03/2020',\n",
       "   'testpositivitylast7days': '',\n",
       "   'testpositivityrate': '',\n",
       "   'testsconductedbyprivatelabs': '',\n",
       "   'testsperconfirmedcase': '',\n",
       "   'testspermillion': '',\n",
       "   'totalindividualstested': '',\n",
       "   'totalpositivecases': '',\n",
       "   'totalrtpcrsamplescollectedicmrapplication': '',\n",
       "   'totalsamplestested': '',\n",
       "   'updatetimestamp': '26/03/2020 10:00:00'},\n",
       "  {'dailyrtpcrsamplescollectedicmrapplication': '',\n",
       "   'individualstestedperconfirmedcase': '38.78',\n",
       "   'positivecasesfromsamplesreported': '',\n",
       "   'samplereportedtoday': '',\n",
       "   'source': 'ICMR_website_update_27March_9AM_IST.pdf',\n",
       "   'source1': '',\n",
       "   'source3': '',\n",
       "   'testedasof': '26/03/2020',\n",
       "   'testpositivitylast7days': '6.74%',\n",
       "   'testpositivityrate': '2.50%',\n",
       "   'testsconductedbyprivatelabs': '',\n",
       "   'testsperconfirmedcase': '40.07',\n",
       "   'testspermillion': '21',\n",
       "   'totalindividualstested': '26798',\n",
       "   'totalpositivecases': '691',\n",
       "   'totalrtpcrsamplescollectedicmrapplication': '',\n",
       "   'totalsamplestested': '27688',\n",
       "   'updatetimestamp': '27/03/2020 09:00:00'},\n",
       "  {'dailyrtpcrsamplescollectedicmrapplication': '',\n",
       "   'individualstestedperconfirmedcase': '',\n",
       "   'positivecasesfromsamplesreported': '',\n",
       "   'samplereportedtoday': '',\n",
       "   'source': 'MoH Press conference with Dr. Raman G',\n",
       "   'source1': '',\n",
       "   'source3': '',\n",
       "   'testedasof': '30/03/2020',\n",
       "   'testpositivitylast7days': '3.86%',\n",
       "   'testpositivityrate': '0.00%',\n",
       "   'testsconductedbyprivatelabs': '1334',\n",
       "   'testsperconfirmedcase': '',\n",
       "   'testspermillion': '29',\n",
       "   'totalindividualstested': '',\n",
       "   'totalpositivecases': '',\n",
       "   'totalrtpcrsamplescollectedicmrapplication': '',\n",
       "   'totalsamplestested': '38442',\n",
       "   'updatetimestamp': '30/03/2020 00:00:00'},\n",
       "  {'dailyrtpcrsamplescollectedicmrapplication': '',\n",
       "   'individualstestedperconfirmedcase': '',\n",
       "   'positivecasesfromsamplesreported': '',\n",
       "   'samplereportedtoday': '',\n",
       "   'source': 'MoH Press conference with Dr. Raman G',\n",
       "   'source1': '',\n",
       "   'source3': '',\n",
       "   'testedasof': '31/03/2020',\n",
       "   'testpositivitylast7days': '3.36%',\n",
       "   'testpositivityrate': '0.00%',\n",
       "   'testsconductedbyprivatelabs': '1733',\n",
       "   'testsperconfirmedcase': '',\n",
       "   'testspermillion': '32',\n",
       "   'totalindividualstested': '',\n",
       "   'totalpositivecases': '',\n",
       "   'totalrtpcrsamplescollectedicmrapplication': '',\n",
       "   'totalsamplestested': '42788',\n",
       "   'updatetimestamp': '31/03/2020 00:00:00'},\n",
       "  {'dailyrtpcrsamplescollectedicmrapplication': '',\n",
       "   'individualstestedperconfirmedcase': '0.00',\n",
       "   'positivecasesfromsamplesreported': '',\n",
       "   'samplereportedtoday': '',\n",
       "   'source': 'https://twitter.com/PTI_News/status/1245308976440340482',\n",
       "   'source1': '',\n",
       "   'source3': '',\n",
       "   'testedasof': '01/04/2020',\n",
       "   'testpositivitylast7days': '3.28%',\n",
       "   'testpositivityrate': '3.41%',\n",
       "   'testsconductedbyprivatelabs': '4562',\n",
       "   'testsperconfirmedcase': '29.29',\n",
       "   'testspermillion': '36',\n",
       "   'totalindividualstested': '',\n",
       "   'totalpositivecases': '1637',\n",
       "   'totalrtpcrsamplescollectedicmrapplication': '',\n",
       "   'totalsamplestested': '47951',\n",
       "   'updatetimestamp': '01/04/2020 00:00:00'},\n",
       "  {'dailyrtpcrsamplescollectedicmrapplication': '',\n",
       "   'individualstestedperconfirmedcase': '0.00',\n",
       "   'positivecasesfromsamplesreported': '',\n",
       "   'samplereportedtoday': '',\n",
       "   'source': 'ICMR_testing_update_02April_9PM_IST.pdf',\n",
       "   'source1': '',\n",
       "   'source3': '',\n",
       "   'testedasof': '02/04/2020',\n",
       "   'testpositivitylast7days': '3.23%',\n",
       "   'testpositivityrate': '3.68%',\n",
       "   'testsconductedbyprivatelabs': '',\n",
       "   'testsperconfirmedcase': '27.16',\n",
       "   'testspermillion': '42',\n",
       "   'totalindividualstested': '',\n",
       "   'totalpositivecases': '2056',\n",
       "   'totalrtpcrsamplescollectedicmrapplication': '',\n",
       "   'totalsamplestested': '55851',\n",
       "   'updatetimestamp': '02/04/2020 21:00:00'},\n",
       "  {'dailyrtpcrsamplescollectedicmrapplication': '',\n",
       "   'individualstestedperconfirmedcase': '0.00',\n",
       "   'positivecasesfromsamplesreported': '',\n",
       "   'samplereportedtoday': '',\n",
       "   'source': 'ICMR_testing_update_03April_9AM_IST.pdf',\n",
       "   'source1': '',\n",
       "   'source3': '',\n",
       "   'testedasof': '03/04/2020',\n",
       "   'testpositivitylast7days': '4.45%',\n",
       "   'testpositivityrate': '3.85%',\n",
       "   'testsconductedbyprivatelabs': '',\n",
       "   'testsperconfirmedcase': '25.96',\n",
       "   'testspermillion': '43',\n",
       "   'totalindividualstested': '',\n",
       "   'totalpositivecases': '2183',\n",
       "   'totalrtpcrsamplescollectedicmrapplication': '',\n",
       "   'totalsamplestested': '56680',\n",
       "   'updatetimestamp': '03/04/2020 09:00:00'},\n",
       "  {'dailyrtpcrsamplescollectedicmrapplication': '',\n",
       "   'individualstestedperconfirmedcase': '0.00',\n",
       "   'positivecasesfromsamplesreported': '575',\n",
       "   'samplereportedtoday': '10034',\n",
       "   'source': 'ICMR_testing_update_03April_9PM_IST.pdf',\n",
       "   'source1': '',\n",
       "   'source3': '',\n",
       "   'testedasof': '03/04/2020',\n",
       "   'testpositivitylast7days': '2.62%',\n",
       "   'testpositivityrate': '3.83%',\n",
       "   'testsconductedbyprivatelabs': '',\n",
       "   'testsperconfirmedcase': '26.10',\n",
       "   'testspermillion': '52',\n",
       "   'totalindividualstested': '',\n",
       "   'totalpositivecases': '2653',\n",
       "   'totalrtpcrsamplescollectedicmrapplication': '',\n",
       "   'totalsamplestested': '69245',\n",
       "   'updatetimestamp': '03/04/2020 21:00:00'},\n",
       "  {'dailyrtpcrsamplescollectedicmrapplication': '',\n",
       "   'individualstestedperconfirmedcase': '0.00',\n",
       "   'positivecasesfromsamplesreported': '',\n",
       "   'samplereportedtoday': '',\n",
       "   'source': 'https://icmr.nic.in/sites/default/files/whats_new/ICMR_testing_update_04April_9PM_IST.pdf',\n",
       "   'source1': '',\n",
       "   'source3': '',\n",
       "   'testedasof': '04/04/2020',\n",
       "   'testpositivitylast7days': '4.25%',\n",
       "   'testpositivityrate': '3.89%',\n",
       "   'testsconductedbyprivatelabs': '',\n",
       "   'testsperconfirmedcase': '25.68',\n",
       "   'testspermillion': '60',\n",
       "   'totalindividualstested': '',\n",
       "   'totalpositivecases': '3113',\n",
       "   'totalrtpcrsamplescollectedicmrapplication': '',\n",
       "   'totalsamplestested': '79950',\n",
       "   'updatetimestamp': '04/04/2020 21:00:00'},\n",
       "  {'dailyrtpcrsamplescollectedicmrapplication': '',\n",
       "   'individualstestedperconfirmedcase': '0.00',\n",
       "   'positivecasesfromsamplesreported': '295',\n",
       "   'samplereportedtoday': '9369',\n",
       "   'source': 'https://icmr.nic.in/sites/default/files/whats_new/ICMR_testing_update_05April_9PM_IST.pdf',\n",
       "   'source1': '',\n",
       "   'source3': '',\n",
       "   'testedasof': '05/04/2020',\n",
       "   'testpositivitylast7days': '5.22%',\n",
       "   'testpositivityrate': '3.97%',\n",
       "   'testsconductedbyprivatelabs': '',\n",
       "   'testsperconfirmedcase': '25.19',\n",
       "   'testspermillion': '67',\n",
       "   'totalindividualstested': '',\n",
       "   'totalpositivecases': '3554',\n",
       "   'totalrtpcrsamplescollectedicmrapplication': '',\n",
       "   'totalsamplestested': '89534',\n",
       "   'updatetimestamp': '05/04/2020 21:00:00'},\n",
       "  {'dailyrtpcrsamplescollectedicmrapplication': '',\n",
       "   'individualstestedperconfirmedcase': '0.00',\n",
       "   'positivecasesfromsamplesreported': '311',\n",
       "   'samplereportedtoday': '11432',\n",
       "   'source': 'https://icmr.nic.in/sites/default/files/whats_new/ICMR_testing_update_06April_9PM_IST.pdf',\n",
       "   'source1': '',\n",
       "   'source3': '',\n",
       "   'testedasof': '06/04/2020',\n",
       "   'testpositivitylast7days': '5.41%',\n",
       "   'testpositivityrate': '4.09%',\n",
       "   'testsconductedbyprivatelabs': '',\n",
       "   'testsperconfirmedcase': '24.44',\n",
       "   'testspermillion': '76',\n",
       "   'totalindividualstested': '',\n",
       "   'totalpositivecases': '4135',\n",
       "   'totalrtpcrsamplescollectedicmrapplication': '',\n",
       "   'totalsamplestested': '101068',\n",
       "   'updatetimestamp': '06/04/2020 21:00:00'},\n",
       "  {'dailyrtpcrsamplescollectedicmrapplication': '',\n",
       "   'individualstestedperconfirmedcase': '0.00',\n",
       "   'positivecasesfromsamplesreported': '285',\n",
       "   'samplereportedtoday': '12584',\n",
       "   'source': 'ICMR_testing_update_07April_9PM_IST.pdf',\n",
       "   'source1': '',\n",
       "   'source3': '',\n",
       "   'testedasof': '07/04/2020',\n",
       "   'testpositivitylast7days': '5.22%',\n",
       "   'testpositivityrate': '4.05%',\n",
       "   'testsconductedbyprivatelabs': '',\n",
       "   'testsperconfirmedcase': '24.70',\n",
       "   'testspermillion': '86',\n",
       "   'totalindividualstested': '',\n",
       "   'totalpositivecases': '4616',\n",
       "   'totalrtpcrsamplescollectedicmrapplication': '',\n",
       "   'totalsamplestested': '114015',\n",
       "   'updatetimestamp': '07/04/2020 21:00:00'},\n",
       "  {'dailyrtpcrsamplescollectedicmrapplication': '',\n",
       "   'individualstestedperconfirmedcase': '0.00',\n",
       "   'positivecasesfromsamplesreported': '320',\n",
       "   'samplereportedtoday': '13143',\n",
       "   'source': 'https://icmr.nic.in/sites/default/files/whats_new/ICMR_testing_update_08April_9PM_IST.pdf',\n",
       "   'source1': '',\n",
       "   'source3': '',\n",
       "   'testedasof': '08/04/2020',\n",
       "   'testpositivitylast7days': '5.15%',\n",
       "   'testpositivityrate': '4.00%',\n",
       "   'testsconductedbyprivatelabs': '',\n",
       "   'testsperconfirmedcase': '25.01',\n",
       "   'testspermillion': '96',\n",
       "   'totalindividualstested': '',\n",
       "   'totalpositivecases': '5114',\n",
       "   'totalrtpcrsamplescollectedicmrapplication': '',\n",
       "   'totalsamplestested': '127919',\n",
       "   'updatetimestamp': '08/04/2020 21:00:00'},\n",
       "  {'dailyrtpcrsamplescollectedicmrapplication': '',\n",
       "   'individualstestedperconfirmedcase': '22.93',\n",
       "   'positivecasesfromsamplesreported': '320',\n",
       "   'samplereportedtoday': '16002',\n",
       "   'source': 'https://icmr.nic.in/sites/default/files/whats_new/ICMR_testing_update_09April_9PM_IST.pdf',\n",
       "   'source1': '',\n",
       "   'source3': '',\n",
       "   'testedasof': '09/04/2020',\n",
       "   'testpositivitylast7days': '4.37%',\n",
       "   'testpositivityrate': '3.94%',\n",
       "   'testsconductedbyprivatelabs': '',\n",
       "   'testsperconfirmedcase': '25.40',\n",
       "   'testspermillion': '109',\n",
       "   'totalindividualstested': '130792',\n",
       "   'totalpositivecases': '5705',\n",
       "   'totalrtpcrsamplescollectedicmrapplication': '',\n",
       "   'totalsamplestested': '144910',\n",
       "   'updatetimestamp': '09/04/2020 21:00:00'},\n",
       "  {'dailyrtpcrsamplescollectedicmrapplication': '',\n",
       "   'individualstestedperconfirmedcase': '21.40',\n",
       "   'positivecasesfromsamplesreported': '433',\n",
       "   'samplereportedtoday': '15663',\n",
       "   'source': 'https://icmr.nic.in/sites/default/files/whats_new/ICMR_testing_update_10April_9PM_IST.pdf',\n",
       "   'source1': '',\n",
       "   'source3': '',\n",
       "   'testedasof': '10/04/2020',\n",
       "   'testpositivitylast7days': '4.54%',\n",
       "   'testpositivityrate': '4.26%',\n",
       "   'testsconductedbyprivatelabs': '',\n",
       "   'testsperconfirmedcase': '23.48',\n",
       "   'testspermillion': '121',\n",
       "   'totalindividualstested': '147034',\n",
       "   'totalpositivecases': '6872',\n",
       "   'totalrtpcrsamplescollectedicmrapplication': '',\n",
       "   'totalsamplestested': '161330',\n",
       "   'updatetimestamp': '10/04/2020 21:00:00'},\n",
       "  {'dailyrtpcrsamplescollectedicmrapplication': '',\n",
       "   'individualstestedperconfirmedcase': '21.39',\n",
       "   'positivecasesfromsamplesreported': '600',\n",
       "   'samplereportedtoday': '17143',\n",
       "   'source': 'https://icmr.nic.in/sites/default/files/whats_new/ICMR_testing_update_11April_9PM_IST.pdf',\n",
       "   'source1': '',\n",
       "   'source3': '',\n",
       "   'testedasof': '11/04/2020',\n",
       "   'testpositivitylast7days': '4.52%',\n",
       "   'testpositivityrate': '4.29%',\n",
       "   'testsconductedbyprivatelabs': '',\n",
       "   'testsperconfirmedcase': '23.29',\n",
       "   'testspermillion': '135',\n",
       "   'totalindividualstested': '164773',\n",
       "   'totalpositivecases': '7703',\n",
       "   'totalrtpcrsamplescollectedicmrapplication': '',\n",
       "   'totalsamplestested': '179374',\n",
       "   'updatetimestamp': '11/04/2020 21:00:00'},\n",
       "  {'dailyrtpcrsamplescollectedicmrapplication': '',\n",
       "   'individualstestedperconfirmedcase': '21.78',\n",
       "   'positivecasesfromsamplesreported': '544',\n",
       "   'samplereportedtoday': '15,583',\n",
       "   'source': 'https://icmr.nic.in/sites/default/files/whats_new/ICMR_testing_update_12April_9PM_IST.pdf',\n",
       "   'source1': '',\n",
       "   'source3': '',\n",
       "   'testedasof': '12/04/2020',\n",
       "   'testpositivitylast7days': '4.49%',\n",
       "   'testpositivityrate': '4.25%',\n",
       "   'testsconductedbyprivatelabs': '',\n",
       "   'testsperconfirmedcase': '23.55',\n",
       "   'testspermillion': '147',\n",
       "   'totalindividualstested': '181028',\n",
       "   'totalpositivecases': '8312',\n",
       "   'totalrtpcrsamplescollectedicmrapplication': '',\n",
       "   'totalsamplestested': '195748',\n",
       "   'updatetimestamp': '12/04/2020 21:00:00'},\n",
       "  {'dailyrtpcrsamplescollectedicmrapplication': '',\n",
       "   'individualstestedperconfirmedcase': '21.68',\n",
       "   'positivecasesfromsamplesreported': '',\n",
       "   'samplereportedtoday': '',\n",
       "   'source': 'https://icmr.nic.in/sites/default/files/whats_new/ICMR_testing_update_13April_9PM_IST_0.pdf',\n",
       "   'source1': '',\n",
       "   'source3': '',\n",
       "   'testedasof': '13/04/2020',\n",
       "   'testpositivitylast7days': '4.22%',\n",
       "   'testpositivityrate': '4.29%',\n",
       "   'testsconductedbyprivatelabs': '',\n",
       "   'testsperconfirmedcase': '23.29',\n",
       "   'testspermillion': '163',\n",
       "   'totalindividualstested': '202551',\n",
       "   'totalpositivecases': '9341',\n",
       "   'totalrtpcrsamplescollectedicmrapplication': '',\n",
       "   'totalsamplestested': '217554',\n",
       "   'updatetimestamp': '13/04/2020 21:00:00'},\n",
       "  {'dailyrtpcrsamplescollectedicmrapplication': '',\n",
       "   'individualstestedperconfirmedcase': '22.26',\n",
       "   'positivecasesfromsamplesreported': '853',\n",
       "   'samplereportedtoday': '26351',\n",
       "   'source': 'https://icmr.nic.in/sites/default/files/whats_new/ICMR_testing_update_14April_9PM_IST.pdf',\n",
       "   'source1': '',\n",
       "   'source3': '',\n",
       "   'testedasof': '14/04/2020',\n",
       "   'testpositivitylast7days': '4.34%',\n",
       "   'testpositivityrate': '4.21%',\n",
       "   'testsconductedbyprivatelabs': '',\n",
       "   'testsperconfirmedcase': '23.76',\n",
       "   'testspermillion': '184',\n",
       "   'totalindividualstested': '229426',\n",
       "   'totalpositivecases': '10307',\n",
       "   'totalrtpcrsamplescollectedicmrapplication': '',\n",
       "   'totalsamplestested': '244893',\n",
       "   'updatetimestamp': '14/04/2020 21:00:00'},\n",
       "  {'dailyrtpcrsamplescollectedicmrapplication': '',\n",
       "   'individualstestedperconfirmedcase': '22.90',\n",
       "   'positivecasesfromsamplesreported': '953',\n",
       "   'samplereportedtoday': '28941',\n",
       "   'source': 'https://icmr.nic.in/sites/default/files/whats_new/ICMR_testing_update_15April_9PM_IST.pdf',\n",
       "   'source1': '',\n",
       "   'source3': '',\n",
       "   'testedasof': '15/04/2020',\n",
       "   'testpositivitylast7days': '4.18%',\n",
       "   'testpositivityrate': '4.11%',\n",
       "   'testsconductedbyprivatelabs': '',\n",
       "   'testsperconfirmedcase': '24.31',\n",
       "   'testspermillion': '206',\n",
       "   'totalindividualstested': '258730',\n",
       "   'totalpositivecases': '11297',\n",
       "   'totalrtpcrsamplescollectedicmrapplication': '',\n",
       "   'totalsamplestested': '274599',\n",
       "   'updatetimestamp': '15/04/2020 21:00:00'},\n",
       "  {'dailyrtpcrsamplescollectedicmrapplication': '',\n",
       "   'individualstestedperconfirmedcase': '22.79',\n",
       "   'positivecasesfromsamplesreported': '1206',\n",
       "   'samplereportedtoday': '27256',\n",
       "   'source': 'https://icmr.nic.in/sites/default/files/whats_new/ICMR_testing_update_16April_9PM_IST.pdf',\n",
       "   'source1': '',\n",
       "   'source3': '',\n",
       "   'testedasof': '16/04/2020',\n",
       "   'testpositivitylast7days': '4.08%',\n",
       "   'testpositivityrate': '4.15%',\n",
       "   'testsconductedbyprivatelabs': '',\n",
       "   'testsperconfirmedcase': '24.08',\n",
       "   'testspermillion': '227',\n",
       "   'totalindividualstested': '286714',\n",
       "   'totalpositivecases': '12,581',\n",
       "   'totalrtpcrsamplescollectedicmrapplication': '',\n",
       "   'totalsamplestested': '302956',\n",
       "   'updatetimestamp': '16/04/2020 21:00:00'},\n",
       "  {'dailyrtpcrsamplescollectedicmrapplication': '',\n",
       "   'individualstestedperconfirmedcase': '22.59',\n",
       "   'positivecasesfromsamplesreported': '1443',\n",
       "   'samplereportedtoday': '31083',\n",
       "   'source': 'https://icmr.nic.in/sites/default/files/whats_new/ICMR_testing_update_17April_9PM_IST.pdf',\n",
       "   'source1': '',\n",
       "   'source3': '',\n",
       "   'testedasof': '17/04/2020',\n",
       "   'testpositivitylast7days': '3.86%',\n",
       "   'testpositivityrate': '4.21%',\n",
       "   'testsconductedbyprivatelabs': '',\n",
       "   'testsperconfirmedcase': '23.77',\n",
       "   'testspermillion': '251',\n",
       "   'totalindividualstested': '318449',\n",
       "   'totalpositivecases': '14098',\n",
       "   'totalrtpcrsamplescollectedicmrapplication': '',\n",
       "   'totalsamplestested': '335123',\n",
       "   'updatetimestamp': '17/04/2020 21:00:00'},\n",
       "  {'dailyrtpcrsamplescollectedicmrapplication': '',\n",
       "   'individualstestedperconfirmedcase': '21.69',\n",
       "   'positivecasesfromsamplesreported': '2154',\n",
       "   'samplereportedtoday': '35494',\n",
       "   'source': 'https://icmr.nic.in/sites/default/files/whats_new/ICMR_testing_update_18April_9PM_IST.pdf',\n",
       "   'source1': '',\n",
       "   'source3': '',\n",
       "   'testedasof': '18/04/2020',\n",
       "   'testpositivitylast7days': '3.50%',\n",
       "   'testpositivityrate': '4.40%',\n",
       "   'testsconductedbyprivatelabs': '',\n",
       "   'testsperconfirmedcase': '22.74',\n",
       "   'testspermillion': '279',\n",
       "   'totalindividualstested': '354969',\n",
       "   'totalpositivecases': '16365',\n",
       "   'totalrtpcrsamplescollectedicmrapplication': '',\n",
       "   'totalsamplestested': '372123',\n",
       "   'updatetimestamp': '18/04/2020 21:00:00'},\n",
       "  {'dailyrtpcrsamplescollectedicmrapplication': '',\n",
       "   'individualstestedperconfirmedcase': '21.80',\n",
       "   'positivecasesfromsamplesreported': '1135',\n",
       "   'samplereportedtoday': '27824',\n",
       "   'source': 'https://icmr.nic.in/sites/default/files/whats_new/ICMR_testing_update_19April_9PM_IST.pdf',\n",
       "   'source1': '',\n",
       "   'source3': '',\n",
       "   'testedasof': '19/04/2020',\n",
       "   'testpositivitylast7days': '3.53%',\n",
       "   'testpositivityrate': '4.39%',\n",
       "   'testsconductedbyprivatelabs': '',\n",
       "   'testsperconfirmedcase': '22.80',\n",
       "   'testspermillion': '301',\n",
       "   'totalindividualstested': '383985',\n",
       "   'totalpositivecases': '17615',\n",
       "   'totalrtpcrsamplescollectedicmrapplication': '',\n",
       "   'totalsamplestested': '401586',\n",
       "   'updatetimestamp': '19/04/2020 21:00:00'},\n",
       "  {'dailyrtpcrsamplescollectedicmrapplication': '',\n",
       "   'individualstestedperconfirmedcase': '',\n",
       "   'positivecasesfromsamplesreported': '',\n",
       "   'samplereportedtoday': '',\n",
       "   'source': '',\n",
       "   'source1': '',\n",
       "   'source3': '',\n",
       "   'testedasof': '20/04/2020',\n",
       "   'testpositivitylast7days': '',\n",
       "   'testpositivityrate': '',\n",
       "   'testsconductedbyprivatelabs': '',\n",
       "   'testsperconfirmedcase': '',\n",
       "   'testspermillion': '',\n",
       "   'totalindividualstested': '',\n",
       "   'totalpositivecases': '',\n",
       "   'totalrtpcrsamplescollectedicmrapplication': '',\n",
       "   'totalsamplestested': '',\n",
       "   'updatetimestamp': '20/04/2020 21:00:00'},\n",
       "  {'dailyrtpcrsamplescollectedicmrapplication': '',\n",
       "   'individualstestedperconfirmedcase': '',\n",
       "   'positivecasesfromsamplesreported': '',\n",
       "   'samplereportedtoday': '26943',\n",
       "   'source': 'https://icmr.nic.in/sites/default/files/whats_new/ICMR_testing_update_21April_9PM_IST.pdf',\n",
       "   'source1': '',\n",
       "   'source3': '',\n",
       "   'testedasof': '21/04/2020',\n",
       "   'testpositivitylast7days': '3.72%',\n",
       "   'testpositivityrate': '0.00%',\n",
       "   'testsconductedbyprivatelabs': '',\n",
       "   'testsperconfirmedcase': '',\n",
       "   'testspermillion': '347',\n",
       "   'totalindividualstested': '447812',\n",
       "   'totalpositivecases': '',\n",
       "   'totalrtpcrsamplescollectedicmrapplication': '',\n",
       "   'totalsamplestested': '462621',\n",
       "   'updatetimestamp': '21/04/2020 21:00:00'},\n",
       "  {'dailyrtpcrsamplescollectedicmrapplication': '',\n",
       "   'individualstestedperconfirmedcase': '',\n",
       "   'positivecasesfromsamplesreported': '',\n",
       "   'samplereportedtoday': '',\n",
       "   'source': '',\n",
       "   'source1': '',\n",
       "   'source3': '',\n",
       "   'testedasof': '',\n",
       "   'testpositivitylast7days': '',\n",
       "   'testpositivityrate': '',\n",
       "   'testsconductedbyprivatelabs': '',\n",
       "   'testsperconfirmedcase': '',\n",
       "   'testspermillion': '',\n",
       "   'totalindividualstested': '',\n",
       "   'totalpositivecases': '',\n",
       "   'totalrtpcrsamplescollectedicmrapplication': '',\n",
       "   'totalsamplestested': '',\n",
       "   'updatetimestamp': '22/04/2020 21:00:00'},\n",
       "  {'dailyrtpcrsamplescollectedicmrapplication': '',\n",
       "   'individualstestedperconfirmedcase': '22.26',\n",
       "   'positivecasesfromsamplesreported': '',\n",
       "   'samplereportedtoday': '',\n",
       "   'source': 'https://icmr.nic.in/sites/default/files/whats_new/ICMR_testing_update_23Apr2020_9AM_IST.pdf',\n",
       "   'source1': '',\n",
       "   'source3': '',\n",
       "   'testedasof': '22/04/2020',\n",
       "   'testpositivitylast7days': '4.56%',\n",
       "   'testpositivityrate': '4.27%',\n",
       "   'testsconductedbyprivatelabs': '',\n",
       "   'testsperconfirmedcase': '22.96',\n",
       "   'testspermillion': '376',\n",
       "   'totalindividualstested': '485172',\n",
       "   'totalpositivecases': '21797',\n",
       "   'totalrtpcrsamplescollectedicmrapplication': '',\n",
       "   'totalsamplestested': '500542',\n",
       "   'updatetimestamp': '23/04/2020 09:00:00'},\n",
       "  {'dailyrtpcrsamplescollectedicmrapplication': '',\n",
       "   'individualstestedperconfirmedcase': '22.37',\n",
       "   'positivecasesfromsamplesreported': '',\n",
       "   'samplereportedtoday': '',\n",
       "   'source': 'https://icmr.nic.in/sites/default/files/whats_new/ICMR_testing_update_24Apr2020_9AM_IST.pdf',\n",
       "   'source1': '',\n",
       "   'source3': '',\n",
       "   'testedasof': '23/04/2020',\n",
       "   'testpositivitylast7days': '4.65%',\n",
       "   'testpositivityrate': '4.25%',\n",
       "   'testsconductedbyprivatelabs': '',\n",
       "   'testsperconfirmedcase': '23.05',\n",
       "   'testspermillion': '406',\n",
       "   'totalindividualstested': '525667',\n",
       "   'totalpositivecases': '23502',\n",
       "   'totalrtpcrsamplescollectedicmrapplication': '',\n",
       "   'totalsamplestested': '541789',\n",
       "   'updatetimestamp': '24/04/2020 09:00:00'},\n",
       "  {'dailyrtpcrsamplescollectedicmrapplication': '',\n",
       "   'individualstestedperconfirmedcase': '',\n",
       "   'positivecasesfromsamplesreported': '',\n",
       "   'samplereportedtoday': '',\n",
       "   'source': 'https://icmr.nic.in/sites/default/files/whats_new/ICMR_testing_update_25Apr2020_9AM_IST.pdf',\n",
       "   'source1': '',\n",
       "   'source3': '',\n",
       "   'testedasof': '24/04/2020',\n",
       "   'testpositivitylast7days': '4.86%',\n",
       "   'testpositivityrate': '4.22%',\n",
       "   'testsconductedbyprivatelabs': '',\n",
       "   'testsperconfirmedcase': '',\n",
       "   'testspermillion': '435',\n",
       "   'totalindividualstested': '',\n",
       "   'totalpositivecases': '',\n",
       "   'totalrtpcrsamplescollectedicmrapplication': '',\n",
       "   'totalsamplestested': '579957',\n",
       "   'updatetimestamp': '25/04/2020 09:00:00'},\n",
       "  {'dailyrtpcrsamplescollectedicmrapplication': '',\n",
       "   'individualstestedperconfirmedcase': '',\n",
       "   'positivecasesfromsamplesreported': '',\n",
       "   'samplereportedtoday': '',\n",
       "   'source': 'https://icmr.nic.in/sites/default/files/whats_new/ICMR_testing_update_26Apr2020_9AM_IST.pdf',\n",
       "   'source1': '',\n",
       "   'source3': '',\n",
       "   'testedasof': '25/04/2020',\n",
       "   'testpositivitylast7days': '4.72%',\n",
       "   'testpositivityrate': '4.20%',\n",
       "   'testsconductedbyprivatelabs': '',\n",
       "   'testsperconfirmedcase': '',\n",
       "   'testspermillion': '469',\n",
       "   'totalindividualstested': '',\n",
       "   'totalpositivecases': '',\n",
       "   'totalrtpcrsamplescollectedicmrapplication': '',\n",
       "   'totalsamplestested': '625309',\n",
       "   'updatetimestamp': '26/04/2020 09:00:00'},\n",
       "  {'dailyrtpcrsamplescollectedicmrapplication': '',\n",
       "   'individualstestedperconfirmedcase': '',\n",
       "   'positivecasesfromsamplesreported': '',\n",
       "   'samplereportedtoday': '',\n",
       "   'source': 'https://icmr.nic.in/sites/default/files/whats_new/ICMR_testing_update_27Apr2020_9AM_IST.pdf',\n",
       "   'source1': '',\n",
       "   'source3': '',\n",
       "   'testedasof': '26/04/2020',\n",
       "   'testpositivitylast7days': '1.59%',\n",
       "   'testpositivityrate': '4.19%',\n",
       "   'testsconductedbyprivatelabs': '',\n",
       "   'testsperconfirmedcase': '',\n",
       "   'testspermillion': '500',\n",
       "   'totalindividualstested': '',\n",
       "   'totalpositivecases': '',\n",
       "   'totalrtpcrsamplescollectedicmrapplication': '',\n",
       "   'totalsamplestested': '665819',\n",
       "   'updatetimestamp': '27/04/2020 09:00:00'},\n",
       "  {'dailyrtpcrsamplescollectedicmrapplication': '',\n",
       "   'individualstestedperconfirmedcase': '',\n",
       "   'positivecasesfromsamplesreported': '',\n",
       "   'samplereportedtoday': '',\n",
       "   'source': 'https://www.icmr.nic.in/pdf/covid/update/ICMR_testing_update_28Apr2020_9AM_IST.pdf',\n",
       "   'source1': '',\n",
       "   'source3': '',\n",
       "   'testedasof': '27/04/2020',\n",
       "   'testpositivitylast7days': '4.29%',\n",
       "   'testpositivityrate': '4.11%',\n",
       "   'testsconductedbyprivatelabs': '',\n",
       "   'testsperconfirmedcase': '',\n",
       "   'testspermillion': '538',\n",
       "   'totalindividualstested': '',\n",
       "   'totalpositivecases': '',\n",
       "   'totalrtpcrsamplescollectedicmrapplication': '',\n",
       "   'totalsamplestested': '716733',\n",
       "   'updatetimestamp': '28/04/2020 09:00:00'},\n",
       "  {'dailyrtpcrsamplescollectedicmrapplication': '',\n",
       "   'individualstestedperconfirmedcase': '',\n",
       "   'positivecasesfromsamplesreported': '',\n",
       "   'samplereportedtoday': '',\n",
       "   'source': 'https://www.icmr.gov.in/pdf/covid/update/ICMR_testing_update_29Apr2020_9AM_IST.pdf',\n",
       "   'source1': '',\n",
       "   'source3': '',\n",
       "   'testedasof': '28/04/2020',\n",
       "   'testpositivitylast7days': '1.46%',\n",
       "   'testpositivityrate': '4.07%',\n",
       "   'testsconductedbyprivatelabs': '',\n",
       "   'testsperconfirmedcase': '',\n",
       "   'testspermillion': '578',\n",
       "   'totalindividualstested': '',\n",
       "   'totalpositivecases': '',\n",
       "   'totalrtpcrsamplescollectedicmrapplication': '',\n",
       "   'totalsamplestested': '770764',\n",
       "   'updatetimestamp': '29/04/2020 09:00:00'},\n",
       "  {'dailyrtpcrsamplescollectedicmrapplication': '',\n",
       "   'individualstestedperconfirmedcase': '',\n",
       "   'positivecasesfromsamplesreported': '',\n",
       "   'samplereportedtoday': '',\n",
       "   'source': 'https://www.icmr.gov.in/pdf/covid/update/ICMR_testing_update_30Apr2020_9AM_IST.pdf',\n",
       "   'source1': '',\n",
       "   'source3': '',\n",
       "   'testedasof': '29/04/2020',\n",
       "   'testpositivitylast7days': '3.55%',\n",
       "   'testpositivityrate': '3.98%',\n",
       "   'testsconductedbyprivatelabs': '',\n",
       "   'testsperconfirmedcase': '',\n",
       "   'testspermillion': '623',\n",
       "   'totalindividualstested': '',\n",
       "   'totalpositivecases': '',\n",
       "   'totalrtpcrsamplescollectedicmrapplication': '',\n",
       "   'totalsamplestested': '830201',\n",
       "   'updatetimestamp': '30/04/2020 09:00:00'},\n",
       "  {'dailyrtpcrsamplescollectedicmrapplication': '',\n",
       "   'individualstestedperconfirmedcase': '',\n",
       "   'positivecasesfromsamplesreported': '',\n",
       "   'samplereportedtoday': '',\n",
       "   'source': 'https://www.icmr.gov.in/pdf/covid/update/ICMR_testing_update_01May2020_9AM_IST.pdf',\n",
       "   'source1': '',\n",
       "   'source3': '',\n",
       "   'testedasof': '30/04/2020',\n",
       "   'testpositivitylast7days': '3.28%',\n",
       "   'testpositivityrate': '3.86%',\n",
       "   'testsconductedbyprivatelabs': '',\n",
       "   'testsperconfirmedcase': '',\n",
       "   'testspermillion': '677',\n",
       "   'totalindividualstested': '',\n",
       "   'totalpositivecases': '',\n",
       "   'totalrtpcrsamplescollectedicmrapplication': '',\n",
       "   'totalsamplestested': '902654',\n",
       "   'updatetimestamp': '01/05/2020 09:00:00'},\n",
       "  {'dailyrtpcrsamplescollectedicmrapplication': '',\n",
       "   'individualstestedperconfirmedcase': '',\n",
       "   'positivecasesfromsamplesreported': '',\n",
       "   'samplereportedtoday': '',\n",
       "   'source': 'https://www.icmr.gov.in/pdf/covid/update/ICMR_testing_update_02May2020_9AM_IST.pdf',\n",
       "   'source1': '',\n",
       "   'source3': '',\n",
       "   'testedasof': '01/05/2020',\n",
       "   'testpositivitylast7days': '3.23%',\n",
       "   'testpositivityrate': '3.82%',\n",
       "   'testsconductedbyprivatelabs': '',\n",
       "   'testsperconfirmedcase': '',\n",
       "   'testspermillion': '733',\n",
       "   'totalindividualstested': '',\n",
       "   'totalpositivecases': '',\n",
       "   'totalrtpcrsamplescollectedicmrapplication': '',\n",
       "   'totalsamplestested': '976363',\n",
       "   'updatetimestamp': '02/05/2020 09:00:00'},\n",
       "  {'dailyrtpcrsamplescollectedicmrapplication': '',\n",
       "   'individualstestedperconfirmedcase': '',\n",
       "   'positivecasesfromsamplesreported': '',\n",
       "   'samplereportedtoday': '',\n",
       "   'source': 'https://www.icmr.gov.in/pdf/covid/update/ICMR_testing_update_03May2020_9AM_IST.pdf',\n",
       "   'source1': '',\n",
       "   'source3': '',\n",
       "   'testedasof': '02/05/2020',\n",
       "   'testpositivitylast7days': '3.22%',\n",
       "   'testpositivityrate': '3.81%',\n",
       "   'testsconductedbyprivatelabs': '',\n",
       "   'testsperconfirmedcase': '',\n",
       "   'testspermillion': '785',\n",
       "   'totalindividualstested': '',\n",
       "   'totalpositivecases': '',\n",
       "   'totalrtpcrsamplescollectedicmrapplication': '',\n",
       "   'totalsamplestested': '1046450',\n",
       "   'updatetimestamp': '03/05/2020 09:00:00'},\n",
       "  {'dailyrtpcrsamplescollectedicmrapplication': '',\n",
       "   'individualstestedperconfirmedcase': '',\n",
       "   'positivecasesfromsamplesreported': '',\n",
       "   'samplereportedtoday': '',\n",
       "   'source': 'https://www.icmr.gov.in/pdf/covid/update/ICMR_testing_update_04May2020_9AM_IST.pdf',\n",
       "   'source1': '',\n",
       "   'source3': '',\n",
       "   'testedasof': '03/05/2020',\n",
       "   'testpositivitylast7days': '3.37%',\n",
       "   'testpositivityrate': '3.86%',\n",
       "   'testsconductedbyprivatelabs': '',\n",
       "   'testsperconfirmedcase': '',\n",
       "   'testspermillion': '831',\n",
       "   'totalindividualstested': '',\n",
       "   'totalpositivecases': '',\n",
       "   'totalrtpcrsamplescollectedicmrapplication': '',\n",
       "   'totalsamplestested': '1107233',\n",
       "   'updatetimestamp': '04/05/2020 09:00:00'},\n",
       "  {'dailyrtpcrsamplescollectedicmrapplication': '',\n",
       "   'individualstestedperconfirmedcase': '',\n",
       "   'positivecasesfromsamplesreported': '',\n",
       "   'samplereportedtoday': '',\n",
       "   'source': 'https://www.icmr.gov.in/pdf/covid/update/ICMR_testing_update_05May2020_9AM_IST.pdf',\n",
       "   'source1': '',\n",
       "   'source3': '',\n",
       "   'testedasof': '04/05/2020',\n",
       "   'testpositivitylast7days': '3.57%',\n",
       "   'testpositivityrate': '3.90%',\n",
       "   'testsconductedbyprivatelabs': '',\n",
       "   'testsperconfirmedcase': '',\n",
       "   'testspermillion': '894',\n",
       "   'totalindividualstested': '',\n",
       "   'totalpositivecases': '',\n",
       "   'totalrtpcrsamplescollectedicmrapplication': '',\n",
       "   'totalsamplestested': '1191946',\n",
       "   'updatetimestamp': '05/05/2020 09:00:00'},\n",
       "  {'dailyrtpcrsamplescollectedicmrapplication': '',\n",
       "   'individualstestedperconfirmedcase': '',\n",
       "   'positivecasesfromsamplesreported': '',\n",
       "   'samplereportedtoday': '',\n",
       "   'source': 'https://www.icmr.gov.in/pdf/covid/update/ICMR_testing_update_06May2020_9AM_IST.pdf',\n",
       "   'source1': '',\n",
       "   'source3': '',\n",
       "   'testedasof': '05/05/2020',\n",
       "   'testpositivitylast7days': '3.57%',\n",
       "   'testpositivityrate': '3.87%',\n",
       "   'testsconductedbyprivatelabs': '',\n",
       "   'testsperconfirmedcase': '',\n",
       "   'testspermillion': '958',\n",
       "   'totalindividualstested': '',\n",
       "   'totalpositivecases': '',\n",
       "   'totalrtpcrsamplescollectedicmrapplication': '',\n",
       "   'totalsamplestested': '1276781',\n",
       "   'updatetimestamp': '06/05/2020 09:00:00'},\n",
       "  {'dailyrtpcrsamplescollectedicmrapplication': '',\n",
       "   'individualstestedperconfirmedcase': '',\n",
       "   'positivecasesfromsamplesreported': '',\n",
       "   'samplereportedtoday': '',\n",
       "   'source': 'https://www.icmr.gov.in/pdf/covid/update/ICMR_testing_update_07May2020_9AM_IST.pdf',\n",
       "   'source1': '',\n",
       "   'source3': '',\n",
       "   'testedasof': '06/05/2020',\n",
       "   'testpositivitylast7days': '3.78%',\n",
       "   'testpositivityrate': '3.91%',\n",
       "   'testsconductedbyprivatelabs': '',\n",
       "   'testsperconfirmedcase': '',\n",
       "   'testspermillion': '1018',\n",
       "   'totalindividualstested': '',\n",
       "   'totalpositivecases': '',\n",
       "   'totalrtpcrsamplescollectedicmrapplication': '',\n",
       "   'totalsamplestested': '1357413',\n",
       "   'updatetimestamp': '07/05/2020 09:00:00'},\n",
       "  {'dailyrtpcrsamplescollectedicmrapplication': '',\n",
       "   'individualstestedperconfirmedcase': '',\n",
       "   'positivecasesfromsamplesreported': '',\n",
       "   'samplereportedtoday': '',\n",
       "   'source': 'https://www.icmr.gov.in/pdf/covid/update/ICMR_testing_update_08May2020_9AM_IST.pdf',\n",
       "   'source1': '',\n",
       "   'source3': '',\n",
       "   'testedasof': '07/05/2020',\n",
       "   'testpositivitylast7days': '4.01%',\n",
       "   'testpositivityrate': '3.92%',\n",
       "   'testsconductedbyprivatelabs': '',\n",
       "   'testsperconfirmedcase': '',\n",
       "   'testspermillion': '1079',\n",
       "   'totalindividualstested': '',\n",
       "   'totalpositivecases': '',\n",
       "   'totalrtpcrsamplescollectedicmrapplication': '',\n",
       "   'totalsamplestested': '1437788',\n",
       "   'updatetimestamp': '08/05/2020 09:00:00'},\n",
       "  {'dailyrtpcrsamplescollectedicmrapplication': '',\n",
       "   'individualstestedperconfirmedcase': '',\n",
       "   'positivecasesfromsamplesreported': '',\n",
       "   'samplereportedtoday': '',\n",
       "   'source': 'https://www.icmr.gov.in/pdf/covid/update/ICMR_testing_update_09May2020_9AM_IST.pdf',\n",
       "   'source1': '',\n",
       "   'source3': '',\n",
       "   'testedasof': '08/05/2020',\n",
       "   'testpositivitylast7days': '4.10%',\n",
       "   'testpositivityrate': '3.92%',\n",
       "   'testsconductedbyprivatelabs': '',\n",
       "   'testsperconfirmedcase': '',\n",
       "   'testspermillion': '1143',\n",
       "   'totalindividualstested': '',\n",
       "   'totalpositivecases': '',\n",
       "   'totalrtpcrsamplescollectedicmrapplication': '',\n",
       "   'totalsamplestested': '1523213',\n",
       "   'updatetimestamp': '09/05/2020 09:00:00'},\n",
       "  {'dailyrtpcrsamplescollectedicmrapplication': '',\n",
       "   'individualstestedperconfirmedcase': '',\n",
       "   'positivecasesfromsamplesreported': '',\n",
       "   'samplereportedtoday': '',\n",
       "   'source': 'https://www.icmr.gov.in/pdf/covid/update/ICMR_testing_update_10May2020_9AM_IST.pdf',\n",
       "   'source1': '',\n",
       "   'source3': '',\n",
       "   'testedasof': '09/05/2020',\n",
       "   'testpositivitylast7days': '4.10%',\n",
       "   'testpositivityrate': '3.91%',\n",
       "   'testsconductedbyprivatelabs': '',\n",
       "   'testsperconfirmedcase': '',\n",
       "   'testspermillion': '1207',\n",
       "   'totalindividualstested': '',\n",
       "   'totalpositivecases': '',\n",
       "   'totalrtpcrsamplescollectedicmrapplication': '',\n",
       "   'totalsamplestested': '1609037',\n",
       "   'updatetimestamp': '10/05/2020 09:00:00'},\n",
       "  {'dailyrtpcrsamplescollectedicmrapplication': '',\n",
       "   'individualstestedperconfirmedcase': '',\n",
       "   'positivecasesfromsamplesreported': '',\n",
       "   'samplereportedtoday': '',\n",
       "   'source': 'https://www.icmr.gov.in/pdf/covid/update/ICMR_testing_update_11May2020_9AM_IST.pdf',\n",
       "   'source1': '',\n",
       "   'source3': '',\n",
       "   'testedasof': '10/05/2020',\n",
       "   'testpositivitylast7days': '4.31%',\n",
       "   'testpositivityrate': '4.01%',\n",
       "   'testsconductedbyprivatelabs': '',\n",
       "   'testsperconfirmedcase': '',\n",
       "   'testspermillion': '1256',\n",
       "   'totalindividualstested': '',\n",
       "   'totalpositivecases': '',\n",
       "   'totalrtpcrsamplescollectedicmrapplication': '',\n",
       "   'totalsamplestested': '1673688',\n",
       "   'updatetimestamp': '11/05/2020 09:00:00'},\n",
       "  {'dailyrtpcrsamplescollectedicmrapplication': '',\n",
       "   'individualstestedperconfirmedcase': '',\n",
       "   'positivecasesfromsamplesreported': '',\n",
       "   'samplereportedtoday': '',\n",
       "   'source': 'https://www.icmr.gov.in/pdf/covid/update/ICMR_testing_update_12May2020_9AM_IST.pdf',\n",
       "   'source1': '',\n",
       "   'source3': '',\n",
       "   'testedasof': '11/05/2020',\n",
       "   'testpositivitylast7days': '4.29%',\n",
       "   'testpositivityrate': '4.02%',\n",
       "   'testsconductedbyprivatelabs': '',\n",
       "   'testsperconfirmedcase': '',\n",
       "   'testspermillion': '1320',\n",
       "   'totalindividualstested': '',\n",
       "   'totalpositivecases': '',\n",
       "   'totalrtpcrsamplescollectedicmrapplication': '',\n",
       "   'totalsamplestested': '1759579',\n",
       "   'updatetimestamp': '12/05/2020 09:00:00'},\n",
       "  {'dailyrtpcrsamplescollectedicmrapplication': '',\n",
       "   'individualstestedperconfirmedcase': '',\n",
       "   'positivecasesfromsamplesreported': '',\n",
       "   'samplereportedtoday': '',\n",
       "   'source': 'https://www.icmr.gov.in/pdf/covid/update/ICMR_testing_update_13May2020_9AM_IST.pdf',\n",
       "   'source1': '',\n",
       "   'source3': '',\n",
       "   'testedasof': '12/05/2020',\n",
       "   'testpositivitylast7days': '4.32%',\n",
       "   'testpositivityrate': '4.01%',\n",
       "   'testsconductedbyprivatelabs': '',\n",
       "   'testsperconfirmedcase': '',\n",
       "   'testspermillion': '1391',\n",
       "   'totalindividualstested': '',\n",
       "   'totalpositivecases': '',\n",
       "   'totalrtpcrsamplescollectedicmrapplication': '',\n",
       "   'totalsamplestested': '1854250',\n",
       "   'updatetimestamp': '13/05/2020 09:00:00'},\n",
       "  {'dailyrtpcrsamplescollectedicmrapplication': '',\n",
       "   'individualstestedperconfirmedcase': '',\n",
       "   'positivecasesfromsamplesreported': '',\n",
       "   'samplereportedtoday': '',\n",
       "   'source': 'https://www.icmr.gov.in/pdf/covid/update/ICMR_testing_update_14May2020_9AM_IST.pdf',\n",
       "   'source1': '',\n",
       "   'source3': '',\n",
       "   'testedasof': '13/05/2020',\n",
       "   'testpositivitylast7days': '4.25%',\n",
       "   'testpositivityrate': '4.01%',\n",
       "   'testsconductedbyprivatelabs': '',\n",
       "   'testsperconfirmedcase': '',\n",
       "   'testspermillion': '1461',\n",
       "   'totalindividualstested': '',\n",
       "   'totalpositivecases': '',\n",
       "   'totalrtpcrsamplescollectedicmrapplication': '',\n",
       "   'totalsamplestested': '1947041',\n",
       "   'updatetimestamp': '14/05/2020 09:00:00'},\n",
       "  {'dailyrtpcrsamplescollectedicmrapplication': '',\n",
       "   'individualstestedperconfirmedcase': '',\n",
       "   'positivecasesfromsamplesreported': '',\n",
       "   'samplereportedtoday': '',\n",
       "   'source': 'https://www.icmr.gov.in/pdf/covid/update/ICMR_testing_update_15May2020_9AM_IST.pdf',\n",
       "   'source1': '',\n",
       "   'source3': '',\n",
       "   'testedasof': '14/05/2020',\n",
       "   'testpositivitylast7days': '4.27%',\n",
       "   'testpositivityrate': '4.02%',\n",
       "   'testsconductedbyprivatelabs': '',\n",
       "   'testsperconfirmedcase': '',\n",
       "   'testspermillion': '1530',\n",
       "   'totalindividualstested': '',\n",
       "   'totalpositivecases': '',\n",
       "   'totalrtpcrsamplescollectedicmrapplication': '',\n",
       "   'totalsamplestested': '2039952',\n",
       "   'updatetimestamp': '15/05/2020 09:00:00'},\n",
       "  {'dailyrtpcrsamplescollectedicmrapplication': '',\n",
       "   'individualstestedperconfirmedcase': '',\n",
       "   'positivecasesfromsamplesreported': '',\n",
       "   'samplereportedtoday': '',\n",
       "   'source': 'https://www.icmr.gov.in/pdf/covid/update/ICMR_testing_update_16May2020_9AM_IST.pdf',\n",
       "   'source1': '',\n",
       "   'source3': '',\n",
       "   'testedasof': '15/05/2020',\n",
       "   'testpositivitylast7days': '4.28%',\n",
       "   'testpositivityrate': '4.02%',\n",
       "   'testsconductedbyprivatelabs': '',\n",
       "   'testsperconfirmedcase': '',\n",
       "   'testspermillion': '1601',\n",
       "   'totalindividualstested': '',\n",
       "   'totalpositivecases': '',\n",
       "   'totalrtpcrsamplescollectedicmrapplication': '',\n",
       "   'totalsamplestested': '2134277',\n",
       "   'updatetimestamp': '16/05/2020 09:00:00'},\n",
       "  {'dailyrtpcrsamplescollectedicmrapplication': '',\n",
       "   'individualstestedperconfirmedcase': '',\n",
       "   'positivecasesfromsamplesreported': '',\n",
       "   'samplereportedtoday': '',\n",
       "   'source': 'https://www.icmr.gov.in/pdf/covid/update/ICMR_testing_update_17May2020_9AM_IST.pdf',\n",
       "   'source1': '',\n",
       "   'source3': '',\n",
       "   'testedasof': '16/05/2020',\n",
       "   'testpositivitylast7days': '4.49%',\n",
       "   'testpositivityrate': '4.07%',\n",
       "   'testsconductedbyprivatelabs': '',\n",
       "   'testsperconfirmedcase': '',\n",
       "   'testspermillion': '1671',\n",
       "   'totalindividualstested': '',\n",
       "   'totalpositivecases': '',\n",
       "   'totalrtpcrsamplescollectedicmrapplication': '',\n",
       "   'totalsamplestested': '2227642',\n",
       "   'updatetimestamp': '17/05/2020 09:00:00'},\n",
       "  {'dailyrtpcrsamplescollectedicmrapplication': '',\n",
       "   'individualstestedperconfirmedcase': '',\n",
       "   'positivecasesfromsamplesreported': '',\n",
       "   'samplereportedtoday': '',\n",
       "   'source': 'https://www.icmr.gov.in/pdf/covid/update/ICMR_testing_update_18May2020_9AM_IST.pdf',\n",
       "   'source1': '',\n",
       "   'source3': '',\n",
       "   'testedasof': '17/05/2020',\n",
       "   'testpositivitylast7days': '4.53%',\n",
       "   'testpositivityrate': '4.16%',\n",
       "   'testsconductedbyprivatelabs': '',\n",
       "   'testsperconfirmedcase': '',\n",
       "   'testspermillion': '1728',\n",
       "   'totalindividualstested': '',\n",
       "   'totalpositivecases': '',\n",
       "   'totalrtpcrsamplescollectedicmrapplication': '',\n",
       "   'totalsamplestested': '2302792',\n",
       "   'updatetimestamp': '18/05/2020 09:00:00'},\n",
       "  {'dailyrtpcrsamplescollectedicmrapplication': '',\n",
       "   'individualstestedperconfirmedcase': '',\n",
       "   'positivecasesfromsamplesreported': '',\n",
       "   'samplereportedtoday': '',\n",
       "   'source': 'https://www.icmr.gov.in/pdf/covid/update/ICMR_testing_update_19May2020_9AM_IST.pdf',\n",
       "   'source1': '',\n",
       "   'source3': '',\n",
       "   'testedasof': '18/05/2020',\n",
       "   'testpositivitylast7days': '4.58%',\n",
       "   'testpositivityrate': '4.17%',\n",
       "   'testsconductedbyprivatelabs': '',\n",
       "   'testsperconfirmedcase': '',\n",
       "   'testspermillion': '1804',\n",
       "   'totalindividualstested': '',\n",
       "   'totalpositivecases': '',\n",
       "   'totalrtpcrsamplescollectedicmrapplication': '',\n",
       "   'totalsamplestested': '2404267',\n",
       "   'updatetimestamp': '19/05/2020 09:00:00'},\n",
       "  {'dailyrtpcrsamplescollectedicmrapplication': '',\n",
       "   'individualstestedperconfirmedcase': '',\n",
       "   'positivecasesfromsamplesreported': '',\n",
       "   'samplereportedtoday': '108121',\n",
       "   'source': 'https://www.icmr.gov.in/pdf/covid/update/ICMR_testing_update_20May2020_9AM_IST.pdf',\n",
       "   'source1': '',\n",
       "   'source3': '',\n",
       "   'testedasof': '19/05/2020',\n",
       "   'testpositivitylast7days': '4.88%',\n",
       "   'testpositivityrate': '4.24%',\n",
       "   'testsconductedbyprivatelabs': '',\n",
       "   'testsperconfirmedcase': '',\n",
       "   'testspermillion': '1885',\n",
       "   'totalindividualstested': '',\n",
       "   'totalpositivecases': '',\n",
       "   'totalrtpcrsamplescollectedicmrapplication': '',\n",
       "   'totalsamplestested': '2512388',\n",
       "   'updatetimestamp': '20/05/2020 09:00:00'},\n",
       "  {'dailyrtpcrsamplescollectedicmrapplication': '',\n",
       "   'individualstestedperconfirmedcase': '',\n",
       "   'positivecasesfromsamplesreported': '',\n",
       "   'samplereportedtoday': '103532',\n",
       "   'source': 'https://www.icmr.gov.in/pdf/covid/update/ICMR_testing_update_21May2020_9AM_IST.pdf',\n",
       "   'source1': '',\n",
       "   'source3': '',\n",
       "   'testedasof': '20/05/2020',\n",
       "   'testpositivitylast7days': '5.10%',\n",
       "   'testpositivityrate': '4.29%',\n",
       "   'testsconductedbyprivatelabs': '',\n",
       "   'testsperconfirmedcase': '',\n",
       "   'testspermillion': '1963',\n",
       "   'totalindividualstested': '',\n",
       "   'totalpositivecases': '',\n",
       "   'totalrtpcrsamplescollectedicmrapplication': '',\n",
       "   'totalsamplestested': '2615920',\n",
       "   'updatetimestamp': '21/05/2020 09:00:00'},\n",
       "  {'dailyrtpcrsamplescollectedicmrapplication': '',\n",
       "   'individualstestedperconfirmedcase': '',\n",
       "   'positivecasesfromsamplesreported': '',\n",
       "   'samplereportedtoday': '103514',\n",
       "   'source': 'https://t.me/Covid19india_Auxiliary_Test_Data/99',\n",
       "   'source1': '',\n",
       "   'source3': '',\n",
       "   'testedasof': '21/05/2020',\n",
       "   'testpositivitylast7days': '5.32%',\n",
       "   'testpositivityrate': '4.35%',\n",
       "   'testsconductedbyprivatelabs': '',\n",
       "   'testsperconfirmedcase': '',\n",
       "   'testspermillion': '2040',\n",
       "   'totalindividualstested': '',\n",
       "   'totalpositivecases': '',\n",
       "   'totalrtpcrsamplescollectedicmrapplication': '',\n",
       "   'totalsamplestested': '2719434',\n",
       "   'updatetimestamp': '22/05/2020 09:00:00'},\n",
       "  {'dailyrtpcrsamplescollectedicmrapplication': '',\n",
       "   'individualstestedperconfirmedcase': '',\n",
       "   'positivecasesfromsamplesreported': '',\n",
       "   'samplereportedtoday': '115364',\n",
       "   'source': 'https://t.me/Covid19india_Auxiliary_Test_Data/110',\n",
       "   'source1': '',\n",
       "   'source3': '',\n",
       "   'testedasof': '22/05/2020',\n",
       "   'testpositivitylast7days': '5.55%',\n",
       "   'testpositivityrate': '4.40%',\n",
       "   'testsconductedbyprivatelabs': '',\n",
       "   'testsperconfirmedcase': '',\n",
       "   'testspermillion': '2127',\n",
       "   'totalindividualstested': '',\n",
       "   'totalpositivecases': '',\n",
       "   'totalrtpcrsamplescollectedicmrapplication': '',\n",
       "   'totalsamplestested': '2834798',\n",
       "   'updatetimestamp': '23/05/2020 09:00:00'},\n",
       "  {'dailyrtpcrsamplescollectedicmrapplication': '',\n",
       "   'individualstestedperconfirmedcase': '',\n",
       "   'positivecasesfromsamplesreported': '',\n",
       "   'samplereportedtoday': '108623',\n",
       "   'source': 'https://t.me/Covid19india_Auxiliary_Test_Data/129',\n",
       "   'source1': '',\n",
       "   'source3': '',\n",
       "   'testedasof': '23/05/2020',\n",
       "   'testpositivitylast7days': '5.70%',\n",
       "   'testpositivityrate': '4.47%',\n",
       "   'testsconductedbyprivatelabs': '',\n",
       "   'testsperconfirmedcase': '',\n",
       "   'testspermillion': '2208',\n",
       "   'totalindividualstested': '',\n",
       "   'totalpositivecases': '',\n",
       "   'totalrtpcrsamplescollectedicmrapplication': '',\n",
       "   'totalsamplestested': '2943421',\n",
       "   'updatetimestamp': '24/05/2020 09:00:00'},\n",
       "  {'dailyrtpcrsamplescollectedicmrapplication': '',\n",
       "   'individualstestedperconfirmedcase': '',\n",
       "   'positivecasesfromsamplesreported': '',\n",
       "   'samplereportedtoday': '90170',\n",
       "   'source': 'https://t.me/Covid19india_Auxiliary_Test_Data/146',\n",
       "   'source1': '',\n",
       "   'source3': '',\n",
       "   'testedasof': '24/05/2020',\n",
       "   'testpositivitylast7days': '5.86%',\n",
       "   'testpositivityrate': '4.57%',\n",
       "   'testsconductedbyprivatelabs': '',\n",
       "   'testsperconfirmedcase': '',\n",
       "   'testspermillion': '2276',\n",
       "   'totalindividualstested': '',\n",
       "   'totalpositivecases': '',\n",
       "   'totalrtpcrsamplescollectedicmrapplication': '',\n",
       "   'totalsamplestested': '3033591',\n",
       "   'updatetimestamp': '25/05/2020 09:00:00'},\n",
       "  {'dailyrtpcrsamplescollectedicmrapplication': '',\n",
       "   'individualstestedperconfirmedcase': '',\n",
       "   'positivecasesfromsamplesreported': '',\n",
       "   'samplereportedtoday': '92528',\n",
       "   'source': 'https://t.me/Covid19india_Auxiliary_Test_Data/160',\n",
       "   'source1': '',\n",
       "   'source3': '',\n",
       "   'testedasof': '25/05/2020',\n",
       "   'testpositivitylast7days': '6.18%',\n",
       "   'testpositivityrate': '4.64%',\n",
       "   'testsconductedbyprivatelabs': '',\n",
       "   'testsperconfirmedcase': '',\n",
       "   'testspermillion': '2345',\n",
       "   'totalindividualstested': '',\n",
       "   'totalpositivecases': '',\n",
       "   'totalrtpcrsamplescollectedicmrapplication': '',\n",
       "   'totalsamplestested': '3126119',\n",
       "   'updatetimestamp': '26/05/2020 09:00:00'},\n",
       "  {'dailyrtpcrsamplescollectedicmrapplication': '',\n",
       "   'individualstestedperconfirmedcase': '',\n",
       "   'positivecasesfromsamplesreported': '',\n",
       "   'samplereportedtoday': '116041',\n",
       "   'source': 'https://t.me/Covid19india_Auxiliary_Test_Data/177',\n",
       "   'source1': '',\n",
       "   'source3': '',\n",
       "   'testedasof': '26/05/2020',\n",
       "   'testpositivitylast7days': '6.08%',\n",
       "   'testpositivityrate': '4.65%',\n",
       "   'testsconductedbyprivatelabs': '',\n",
       "   'testsperconfirmedcase': '',\n",
       "   'testspermillion': '2432',\n",
       "   'totalindividualstested': '',\n",
       "   'totalpositivecases': '',\n",
       "   'totalrtpcrsamplescollectedicmrapplication': '',\n",
       "   'totalsamplestested': '3242160',\n",
       "   'updatetimestamp': '27/05/2020 09:00:00'},\n",
       "  {'dailyrtpcrsamplescollectedicmrapplication': '',\n",
       "   'individualstestedperconfirmedcase': '',\n",
       "   'positivecasesfromsamplesreported': '',\n",
       "   'samplereportedtoday': '119976',\n",
       "   'source': 'https://t.me/Covid19india_Auxiliary_Test_Data/194',\n",
       "   'source1': '',\n",
       "   'source3': '',\n",
       "   'testedasof': '27/05/2020',\n",
       "   'testpositivitylast7days': '6.15%',\n",
       "   'testpositivityrate': '4.70%',\n",
       "   'testsconductedbyprivatelabs': '',\n",
       "   'testsperconfirmedcase': '',\n",
       "   'testspermillion': '2522',\n",
       "   'totalindividualstested': '',\n",
       "   'totalpositivecases': '',\n",
       "   'totalrtpcrsamplescollectedicmrapplication': '',\n",
       "   'totalsamplestested': '3362136',\n",
       "   'updatetimestamp': '28/05/2020 09:00:00'},\n",
       "  {'dailyrtpcrsamplescollectedicmrapplication': '',\n",
       "   'individualstestedperconfirmedcase': '',\n",
       "   'positivecasesfromsamplesreported': '',\n",
       "   'samplereportedtoday': '121702',\n",
       "   'source': 'https://t.me/Covid19india_Auxiliary_Test_Data/211',\n",
       "   'source1': '',\n",
       "   'source3': '',\n",
       "   'testedasof': '28/05/2020',\n",
       "   'testpositivitylast7days': '6.17%',\n",
       "   'testpositivityrate': '4.75%',\n",
       "   'testsconductedbyprivatelabs': '',\n",
       "   'testsperconfirmedcase': '',\n",
       "   'testspermillion': '2614',\n",
       "   'totalindividualstested': '',\n",
       "   'totalpositivecases': '',\n",
       "   'totalrtpcrsamplescollectedicmrapplication': '',\n",
       "   'totalsamplestested': '3483838',\n",
       "   'updatetimestamp': '29/05/2020 09:00:00'},\n",
       "  {'dailyrtpcrsamplescollectedicmrapplication': '',\n",
       "   'individualstestedperconfirmedcase': '',\n",
       "   'positivecasesfromsamplesreported': '',\n",
       "   'samplereportedtoday': '127761',\n",
       "   'source': 'https://t.me/Covid19india_Auxiliary_Test_Data/228',\n",
       "   'source1': '',\n",
       "   'source3': '',\n",
       "   'testedasof': '29/05/2020',\n",
       "   'testpositivitylast7days': '6.27%',\n",
       "   'testpositivityrate': '4.80%',\n",
       "   'testsconductedbyprivatelabs': '',\n",
       "   'testsperconfirmedcase': '',\n",
       "   'testspermillion': '2710',\n",
       "   'totalindividualstested': '',\n",
       "   'totalpositivecases': '',\n",
       "   'totalrtpcrsamplescollectedicmrapplication': '',\n",
       "   'totalsamplestested': '3611599',\n",
       "   'updatetimestamp': '30/05/2020 09:00:00'},\n",
       "  {'dailyrtpcrsamplescollectedicmrapplication': '',\n",
       "   'individualstestedperconfirmedcase': '',\n",
       "   'positivecasesfromsamplesreported': '',\n",
       "   'samplereportedtoday': '125428',\n",
       "   'source': 'https://t.me/Covid19india_Auxiliary_Test_Data/236',\n",
       "   'source1': '',\n",
       "   'source3': '',\n",
       "   'testedasof': '30/05/2020',\n",
       "   'testpositivitylast7days': '6.36%',\n",
       "   'testpositivityrate': '4.87%',\n",
       "   'testsconductedbyprivatelabs': '',\n",
       "   'testsperconfirmedcase': '',\n",
       "   'testspermillion': '2804',\n",
       "   'totalindividualstested': '',\n",
       "   'totalpositivecases': '',\n",
       "   'totalrtpcrsamplescollectedicmrapplication': '',\n",
       "   'totalsamplestested': '3737027',\n",
       "   'updatetimestamp': '31/05/2020 09:00:00'},\n",
       "  {'dailyrtpcrsamplescollectedicmrapplication': '',\n",
       "   'individualstestedperconfirmedcase': '',\n",
       "   'positivecasesfromsamplesreported': '',\n",
       "   'samplereportedtoday': '100180',\n",
       "   'source': 'https://t.me/Covid19india_Auxiliary_Test_Data/253',\n",
       "   'source1': '',\n",
       "   'source3': '',\n",
       "   'testedasof': '31/05/2020',\n",
       "   'testpositivitylast7days': '6.48%',\n",
       "   'testpositivityrate': '4.97%',\n",
       "   'testsconductedbyprivatelabs': '',\n",
       "   'testsperconfirmedcase': '',\n",
       "   'testspermillion': '2879',\n",
       "   'totalindividualstested': '',\n",
       "   'totalpositivecases': '',\n",
       "   'totalrtpcrsamplescollectedicmrapplication': '1624406',\n",
       "   'totalsamplestested': '3837207',\n",
       "   'updatetimestamp': '01/06/2020 09:00:00'},\n",
       "  {'dailyrtpcrsamplescollectedicmrapplication': '89644',\n",
       "   'individualstestedperconfirmedcase': '',\n",
       "   'positivecasesfromsamplesreported': '',\n",
       "   'samplereportedtoday': '128868',\n",
       "   'source': 'https://twitter.com/ICMRDELHI/status/1267665101781266433?s=20',\n",
       "   'source1': '',\n",
       "   'source3': '',\n",
       "   'testedasof': '01/06/2020',\n",
       "   'testpositivitylast7days': '6.56%',\n",
       "   'testpositivityrate': '5.00%',\n",
       "   'testsconductedbyprivatelabs': '',\n",
       "   'testsperconfirmedcase': '',\n",
       "   'testspermillion': '2976',\n",
       "   'totalindividualstested': '',\n",
       "   'totalpositivecases': '',\n",
       "   'totalrtpcrsamplescollectedicmrapplication': '1714050',\n",
       "   'totalsamplestested': '3966075',\n",
       "   'updatetimestamp': '02/06/2020 09:00:00'},\n",
       "  {'dailyrtpcrsamplescollectedicmrapplication': '84339',\n",
       "   'individualstestedperconfirmedcase': '',\n",
       "   'positivecasesfromsamplesreported': '',\n",
       "   'samplereportedtoday': '137158',\n",
       "   'source': 'https://twitter.com/ICMRDELHI/status/1268030064467165184?s=19',\n",
       "   'source1': '',\n",
       "   'source3': '',\n",
       "   'testedasof': '02/06/2020',\n",
       "   'testpositivitylast7days': '6.62%',\n",
       "   'testpositivityrate': '5.05%',\n",
       "   'testsconductedbyprivatelabs': '',\n",
       "   'testsperconfirmedcase': '',\n",
       "   'testspermillion': '3078',\n",
       "   'totalindividualstested': '',\n",
       "   'totalpositivecases': '',\n",
       "   'totalrtpcrsamplescollectedicmrapplication': '1798389',\n",
       "   'totalsamplestested': '4103233',\n",
       "   'updatetimestamp': '03/06/2020 09:00:00'},\n",
       "  {'dailyrtpcrsamplescollectedicmrapplication': '84519',\n",
       "   'individualstestedperconfirmedcase': '',\n",
       "   'positivecasesfromsamplesreported': '',\n",
       "   'samplereportedtoday': '139485',\n",
       "   'source': 'https://t.me/Covid19india_Auxiliary_Test_Data/294',\n",
       "   'source1': '',\n",
       "   'source3': '',\n",
       "   'testedasof': '03/06/2020',\n",
       "   'testpositivitylast7days': '6.79%',\n",
       "   'testpositivityrate': '5.11%',\n",
       "   'testsconductedbyprivatelabs': '',\n",
       "   'testsperconfirmedcase': '',\n",
       "   'testspermillion': '3183',\n",
       "   'totalindividualstested': '',\n",
       "   'totalpositivecases': '',\n",
       "   'totalrtpcrsamplescollectedicmrapplication': '1882908',\n",
       "   'totalsamplestested': '4242718',\n",
       "   'updatetimestamp': '04/06/2020 09:00:00'},\n",
       "  {'dailyrtpcrsamplescollectedicmrapplication': '86201',\n",
       "   'individualstestedperconfirmedcase': '',\n",
       "   'positivecasesfromsamplesreported': '',\n",
       "   'samplereportedtoday': '143661',\n",
       "   'source': 'https://t.me/Covid19india_Auxiliary_Test_Data/313',\n",
       "   'source1': '',\n",
       "   'source3': '',\n",
       "   'testedasof': '04/06/2020',\n",
       "   'testpositivitylast7days': '6.87%',\n",
       "   'testpositivityrate': '5.17%',\n",
       "   'testsconductedbyprivatelabs': '',\n",
       "   'testsperconfirmedcase': '',\n",
       "   'testspermillion': '3291',\n",
       "   'totalindividualstested': '',\n",
       "   'totalpositivecases': '',\n",
       "   'totalrtpcrsamplescollectedicmrapplication': '1969109',\n",
       "   'totalsamplestested': '4386379',\n",
       "   'updatetimestamp': '05/06/2020 09:00:00'},\n",
       "  {'dailyrtpcrsamplescollectedicmrapplication': '88580',\n",
       "   'individualstestedperconfirmedcase': '',\n",
       "   'positivecasesfromsamplesreported': '',\n",
       "   'samplereportedtoday': '137938',\n",
       "   'source': 'https://twitter.com/ICMRDELHI/status/1269111826618302464?s=19',\n",
       "   'source1': '',\n",
       "   'source3': '',\n",
       "   'testedasof': '05/06/2020',\n",
       "   'testpositivitylast7days': '6.90%',\n",
       "   'testpositivityrate': '5.22%',\n",
       "   'testsconductedbyprivatelabs': '',\n",
       "   'testsperconfirmedcase': '',\n",
       "   'testspermillion': '3394',\n",
       "   'totalindividualstested': '',\n",
       "   'totalpositivecases': '',\n",
       "   'totalrtpcrsamplescollectedicmrapplication': '2057689',\n",
       "   'totalsamplestested': '4524317',\n",
       "   'updatetimestamp': '06/06/2020 09:00:00'},\n",
       "  {'dailyrtpcrsamplescollectedicmrapplication': '57905',\n",
       "   'individualstestedperconfirmedcase': '',\n",
       "   'positivecasesfromsamplesreported': '',\n",
       "   'samplereportedtoday': '142069',\n",
       "   'source': 'https://t.me/Covid19india_Auxiliary_Test_Data/340',\n",
       "   'source1': '',\n",
       "   'source3': '',\n",
       "   'testedasof': '06/06/2020',\n",
       "   'testpositivitylast7days': '6.75%',\n",
       "   'testpositivityrate': '5.28%',\n",
       "   'testsconductedbyprivatelabs': '',\n",
       "   'testsperconfirmedcase': '',\n",
       "   'testspermillion': '3501',\n",
       "   'totalindividualstested': '',\n",
       "   'totalpositivecases': '',\n",
       "   'totalrtpcrsamplescollectedicmrapplication': '2115594',\n",
       "   'totalsamplestested': '4666386',\n",
       "   'updatetimestamp': '07/06/2020 09:00:00'},\n",
       "  {'dailyrtpcrsamplescollectedicmrapplication': '98544',\n",
       "   'individualstestedperconfirmedcase': '',\n",
       "   'positivecasesfromsamplesreported': '',\n",
       "   'samplereportedtoday': '108048',\n",
       "   'source': 'https://t.me/Covid19india_Auxiliary_Test_Data/355',\n",
       "   'source1': '',\n",
       "   'source3': '',\n",
       "   'testedasof': '07/06/2020',\n",
       "   'testpositivitylast7days': '7.31%',\n",
       "   'testpositivityrate': '5.39%',\n",
       "   'testsconductedbyprivatelabs': '',\n",
       "   'testsperconfirmedcase': '',\n",
       "   'testspermillion': '3582',\n",
       "   'totalindividualstested': '',\n",
       "   'totalpositivecases': '',\n",
       "   'totalrtpcrsamplescollectedicmrapplication': '2214138',\n",
       "   'totalsamplestested': '4774434',\n",
       "   'updatetimestamp': '08/06/2020 09:00:00'},\n",
       "  {'dailyrtpcrsamplescollectedicmrapplication': '95480',\n",
       "   'individualstestedperconfirmedcase': '',\n",
       "   'positivecasesfromsamplesreported': '',\n",
       "   'samplereportedtoday': '141682',\n",
       "   'source': 'https://t.me/Covid19india_Auxiliary_Test_Data/374',\n",
       "   'source1': '',\n",
       "   'source3': '',\n",
       "   'testedasof': '08/06/2020',\n",
       "   'testpositivitylast7days': '7.24%',\n",
       "   'testpositivityrate': '5.41%',\n",
       "   'testsconductedbyprivatelabs': '',\n",
       "   'testsperconfirmedcase': '',\n",
       "   'testspermillion': '3688',\n",
       "   'totalindividualstested': '',\n",
       "   'totalpositivecases': '',\n",
       "   'totalrtpcrsamplescollectedicmrapplication': '2309618',\n",
       "   'totalsamplestested': '4916116',\n",
       "   'updatetimestamp': '09/06/2020 09:00:00'},\n",
       "  {'dailyrtpcrsamplescollectedicmrapplication': '98838',\n",
       "   'individualstestedperconfirmedcase': '',\n",
       "   'positivecasesfromsamplesreported': '',\n",
       "   'samplereportedtoday': '145216',\n",
       "   'source': 'https://t.me/Covid19india_Auxiliary_Test_Data/388',\n",
       "   'source1': '',\n",
       "   'source3': '',\n",
       "   'testedasof': '09/06/2020',\n",
       "   'testpositivitylast7days': '7.22%',\n",
       "   'testpositivityrate': '5.45%',\n",
       "   'testsconductedbyprivatelabs': '',\n",
       "   'testsperconfirmedcase': '',\n",
       "   'testspermillion': '3797',\n",
       "   'totalindividualstested': '',\n",
       "   'totalpositivecases': '',\n",
       "   'totalrtpcrsamplescollectedicmrapplication': '2408456',\n",
       "   'totalsamplestested': '5061332',\n",
       "   'updatetimestamp': '10/06/2020 09:00:00'},\n",
       "  {'dailyrtpcrsamplescollectedicmrapplication': '101669',\n",
       "   'individualstestedperconfirmedcase': '',\n",
       "   'positivecasesfromsamplesreported': '',\n",
       "   'samplereportedtoday': '151808',\n",
       "   'source': 'https://t.me/Covid19india_Auxiliary_Test_Data/402',\n",
       "   'source1': '',\n",
       "   'source3': '',\n",
       "   'testedasof': '10/06/2020',\n",
       "   'testpositivitylast7days': '7.31%',\n",
       "   'testpositivityrate': '5.51%',\n",
       "   'testsconductedbyprivatelabs': '',\n",
       "   'testsperconfirmedcase': '',\n",
       "   'testspermillion': '3911',\n",
       "   'totalindividualstested': '',\n",
       "   'totalpositivecases': '',\n",
       "   'totalrtpcrsamplescollectedicmrapplication': '2510125',\n",
       "   'totalsamplestested': '5213140',\n",
       "   'updatetimestamp': '11/06/2020 09:00:00'},\n",
       "  {'dailyrtpcrsamplescollectedicmrapplication': '105017',\n",
       "   'individualstestedperconfirmedcase': '',\n",
       "   'positivecasesfromsamplesreported': '',\n",
       "   'samplereportedtoday': '150305',\n",
       "   'source': 'https://t.me/Covid19india_Auxiliary_Test_Data/419',\n",
       "   'source1': '',\n",
       "   'source3': '',\n",
       "   'testedasof': '11/06/2020',\n",
       "   'testpositivitylast7days': '7.40%',\n",
       "   'testpositivityrate': '5.56%',\n",
       "   'testsconductedbyprivatelabs': '',\n",
       "   'testsperconfirmedcase': '',\n",
       "   'testspermillion': '4024',\n",
       "   'totalindividualstested': '',\n",
       "   'totalpositivecases': '',\n",
       "   'totalrtpcrsamplescollectedicmrapplication': '2615142',\n",
       "   'totalsamplestested': '5363445',\n",
       "   'updatetimestamp': '12/06/2020 09:00:00'},\n",
       "  {'dailyrtpcrsamplescollectedicmrapplication': '102911',\n",
       "   'individualstestedperconfirmedcase': '',\n",
       "   'positivecasesfromsamplesreported': '',\n",
       "   'samplereportedtoday': '143737',\n",
       "   'source': 'https://twitter.com/ICMRDELHI/status/1271652968694075393?s=09',\n",
       "   'source1': '',\n",
       "   'source3': '',\n",
       "   'testedasof': '12/06/2020',\n",
       "   'testpositivitylast7days': '7.49%',\n",
       "   'testpositivityrate': '5.62%',\n",
       "   'testsconductedbyprivatelabs': '',\n",
       "   'testsperconfirmedcase': '',\n",
       "   'testspermillion': '4132',\n",
       "   'totalindividualstested': '',\n",
       "   'totalpositivecases': '',\n",
       "   'totalrtpcrsamplescollectedicmrapplication': '2718053',\n",
       "   'totalsamplestested': '5507182',\n",
       "   'updatetimestamp': '13/06/2020 09:00:00'},\n",
       "  {'dailyrtpcrsamplescollectedicmrapplication': '67013',\n",
       "   'individualstestedperconfirmedcase': '',\n",
       "   'positivecasesfromsamplesreported': '',\n",
       "   'samplereportedtoday': '151432',\n",
       "   'source': 'https://t.me/Covid19india_Auxiliary_Test_Data/448',\n",
       "   'source1': '',\n",
       "   'source3': '',\n",
       "   'testedasof': '13/06/2020',\n",
       "   'testpositivitylast7days': '7.26%',\n",
       "   'testpositivityrate': '5.68%',\n",
       "   'testsconductedbyprivatelabs': '',\n",
       "   'testsperconfirmedcase': '',\n",
       "   'testspermillion': '4245',\n",
       "   'totalindividualstested': '',\n",
       "   'totalpositivecases': '',\n",
       "   'totalrtpcrsamplescollectedicmrapplication': '2785066',\n",
       "   'totalsamplestested': '5658614',\n",
       "   'updatetimestamp': '14/06/2020 09:00:00'},\n",
       "  {'dailyrtpcrsamplescollectedicmrapplication': '126437',\n",
       "   'individualstestedperconfirmedcase': '',\n",
       "   'positivecasesfromsamplesreported': '',\n",
       "   'samplereportedtoday': '115519',\n",
       "   'source': 'https://t.me/Covid19india_Auxiliary_Test_Data/472',\n",
       "   'source1': '',\n",
       "   'source3': '',\n",
       "   'testedasof': '14/06/2020',\n",
       "   'testpositivitylast7days': '7.81%',\n",
       "   'testpositivityrate': '5.77%',\n",
       "   'testsconductedbyprivatelabs': '',\n",
       "   'testsperconfirmedcase': '',\n",
       "   'testspermillion': '4332',\n",
       "   'totalindividualstested': '',\n",
       "   'totalpositivecases': '',\n",
       "   'totalrtpcrsamplescollectedicmrapplication': '2911503',\n",
       "   'totalsamplestested': '5774133',\n",
       "   'updatetimestamp': '15/06/2020 09:00:00'},\n",
       "  {'dailyrtpcrsamplescollectedicmrapplication': '128725',\n",
       "   'individualstestedperconfirmedcase': '',\n",
       "   'positivecasesfromsamplesreported': '',\n",
       "   'samplereportedtoday': '154935',\n",
       "   'source': 'https://t.me/Covid19india_Auxiliary_Test_Data/490',\n",
       "   'source1': '',\n",
       "   'source3': '',\n",
       "   'testedasof': '15/06/2020',\n",
       "   'testpositivitylast7days': '7.80%',\n",
       "   'testpositivityrate': '5.79%',\n",
       "   'testsconductedbyprivatelabs': '',\n",
       "   'testsperconfirmedcase': '',\n",
       "   'testspermillion': '4442',\n",
       "   'totalindividualstested': '',\n",
       "   'totalpositivecases': '',\n",
       "   'totalrtpcrsamplescollectedicmrapplication': '3040228',\n",
       "   'totalsamplestested': '5921069',\n",
       "   'updatetimestamp': '16/06/2020 09:00:00'},\n",
       "  {'dailyrtpcrsamplescollectedicmrapplication': '132885',\n",
       "   'individualstestedperconfirmedcase': '',\n",
       "   'positivecasesfromsamplesreported': '',\n",
       "   'samplereportedtoday': '163187',\n",
       "   'source': 'https://t.me/Covid19india_Auxiliary_Test_Data/509',\n",
       "   'source1': '',\n",
       "   'source3': '',\n",
       "   'testedasof': '16/06/2020',\n",
       "   'testpositivitylast7days': '7.69%',\n",
       "   'testpositivityrate': '5.82%',\n",
       "   'testsconductedbyprivatelabs': '',\n",
       "   'testsperconfirmedcase': '',\n",
       "   'testspermillion': '4565',\n",
       "   'totalindividualstested': '',\n",
       "   'totalpositivecases': '',\n",
       "   'totalrtpcrsamplescollectedicmrapplication': '3173113',\n",
       "   'totalsamplestested': '6084256',\n",
       "   'updatetimestamp': '17/06/2020 09:00:00'},\n",
       "  {'dailyrtpcrsamplescollectedicmrapplication': '129434',\n",
       "   'individualstestedperconfirmedcase': '',\n",
       "   'positivecasesfromsamplesreported': '',\n",
       "   'samplereportedtoday': '165412',\n",
       "   'source': 'https://t.me/Covid19india_Auxiliary_Test_Data/525',\n",
       "   'source1': '',\n",
       "   'source3': '',\n",
       "   'testedasof': '17/06/2020',\n",
       "   'testpositivitylast7days': '7.78%',\n",
       "   'testpositivityrate': '5.88%',\n",
       "   'testsconductedbyprivatelabs': '',\n",
       "   'testsperconfirmedcase': '',\n",
       "   'testspermillion': '4689',\n",
       "   'totalindividualstested': '',\n",
       "   'totalpositivecases': '',\n",
       "   'totalrtpcrsamplescollectedicmrapplication': '3302547',\n",
       "   'totalsamplestested': '6249668',\n",
       "   'updatetimestamp': '18/06/2020 09:00:00'},\n",
       "  {'dailyrtpcrsamplescollectedicmrapplication': '138171',\n",
       "   'individualstestedperconfirmedcase': '',\n",
       "   'positivecasesfromsamplesreported': '',\n",
       "   'samplereportedtoday': '176959',\n",
       "   'source': 'https://t.me/Covid19india_Auxiliary_Test_Data/543',\n",
       "   'source1': '',\n",
       "   'source3': '',\n",
       "   'testedasof': '18/06/2020',\n",
       "   'testpositivitylast7days': '7.78%',\n",
       "   'testpositivityrate': '5.93%',\n",
       "   'testsconductedbyprivatelabs': '',\n",
       "   'testsperconfirmedcase': '',\n",
       "   'testspermillion': '4822',\n",
       "   'totalindividualstested': '',\n",
       "   'totalpositivecases': '',\n",
       "   'totalrtpcrsamplescollectedicmrapplication': '3440718',\n",
       "   'totalsamplestested': '6426627',\n",
       "   'updatetimestamp': '19/06/2020 09:00:00'},\n",
       "  {'dailyrtpcrsamplescollectedicmrapplication': '137386',\n",
       "   'individualstestedperconfirmedcase': '',\n",
       "   'positivecasesfromsamplesreported': '',\n",
       "   'samplereportedtoday': '189869',\n",
       "   'source': 'https://t.me/Covid19india_Auxiliary_Test_Data/562',\n",
       "   'source1': '',\n",
       "   'source3': '',\n",
       "   'testedasof': '19/06/2020',\n",
       "   'testpositivitylast7days': '7.75%',\n",
       "   'testpositivityrate': '5.98%',\n",
       "   'testsconductedbyprivatelabs': '',\n",
       "   'testsperconfirmedcase': '',\n",
       "   'testspermillion': '4964',\n",
       "   'totalindividualstested': '',\n",
       "   'totalpositivecases': '',\n",
       "   'totalrtpcrsamplescollectedicmrapplication': '3578104',\n",
       "   'totalsamplestested': '6616496',\n",
       "   'updatetimestamp': '20/06/2020 09:00:00'},\n",
       "  {'dailyrtpcrsamplescollectedicmrapplication': '77194',\n",
       "   'individualstestedperconfirmedcase': '',\n",
       "   'positivecasesfromsamplesreported': '',\n",
       "   'samplereportedtoday': '190730',\n",
       "   'source': 'https://t.me/Covid19india_Auxiliary_Test_Data/577',\n",
       "   'source1': '',\n",
       "   'source3': '',\n",
       "   'testedasof': '20/06/2020',\n",
       "   'testpositivitylast7days': '7.62%',\n",
       "   'testpositivityrate': '6.05%',\n",
       "   'testsconductedbyprivatelabs': '',\n",
       "   'testsperconfirmedcase': '',\n",
       "   'testspermillion': '5107',\n",
       "   'totalindividualstested': '',\n",
       "   'totalpositivecases': '',\n",
       "   'totalrtpcrsamplescollectedicmrapplication': '3655298',\n",
       "   'totalsamplestested': '6807226',\n",
       "   'updatetimestamp': '21/06/2020 09:00:00'},\n",
       "  {'dailyrtpcrsamplescollectedicmrapplication': '153451',\n",
       "   'individualstestedperconfirmedcase': '',\n",
       "   'positivecasesfromsamplesreported': '',\n",
       "   'samplereportedtoday': '143267',\n",
       "   'source': 'https://t.me/Covid19india_Auxiliary_Test_Data/594',\n",
       "   'source1': 'https://twitter.com/ICMRDELHI/status/1274913260559577090?s=19',\n",
       "   'source3': '',\n",
       "   'testedasof': '21/06/2020',\n",
       "   'testpositivitylast7days': '8.14%',\n",
       "   'testpositivityrate': '6.14%',\n",
       "   'testsconductedbyprivatelabs': '',\n",
       "   'testsperconfirmedcase': '',\n",
       "   'testspermillion': '5215',\n",
       "   'totalindividualstested': '',\n",
       "   'totalpositivecases': '',\n",
       "   'totalrtpcrsamplescollectedicmrapplication': '3808749',\n",
       "   'totalsamplestested': '6950493',\n",
       "   'updatetimestamp': '22/06/2020 09:00:00'},\n",
       "  {'dailyrtpcrsamplescollectedicmrapplication': '147291',\n",
       "   'individualstestedperconfirmedcase': '',\n",
       "   'positivecasesfromsamplesreported': '',\n",
       "   'samplereportedtoday': '187223',\n",
       "   'source': 'https://t.me/Covid19india_Auxiliary_Test_Data/610',\n",
       "   'source1': 'https://twitter.com/ICMRDELHI/status/1275277617864699906?s=19',\n",
       "   'source3': '',\n",
       "   'testedasof': '22/06/2020',\n",
       "   'testpositivitylast7days': '8.19%',\n",
       "   'testpositivityrate': '6.17%',\n",
       "   'testsconductedbyprivatelabs': '',\n",
       "   'testsperconfirmedcase': '',\n",
       "   'testspermillion': '5355',\n",
       "   'totalindividualstested': '',\n",
       "   'totalpositivecases': '',\n",
       "   'totalrtpcrsamplescollectedicmrapplication': '3956040',\n",
       "   'totalsamplestested': '7137716',\n",
       "   'updatetimestamp': '23/06/2020 09:00:00'},\n",
       "  {'dailyrtpcrsamplescollectedicmrapplication': '150413',\n",
       "   'individualstestedperconfirmedcase': '',\n",
       "   'positivecasesfromsamplesreported': '',\n",
       "   'samplereportedtoday': '215195',\n",
       "   'source': 'https://twitter.com/ICMRDELHI/status/1275632600481067008/photo/1',\n",
       "   'source1': 'https://t.me/Covid19india_Auxiliary_Test_Data/628',\n",
       "   'source3': '',\n",
       "   'testedasof': '23/06/2020',\n",
       "   'testpositivitylast7days': '8.05%',\n",
       "   'testpositivityrate': '6.20%',\n",
       "   'testsconductedbyprivatelabs': '',\n",
       "   'testsperconfirmedcase': '',\n",
       "   'testspermillion': '5516',\n",
       "   'totalindividualstested': '',\n",
       "   'totalpositivecases': '',\n",
       "   'totalrtpcrsamplescollectedicmrapplication': '4106453',\n",
       "   'totalsamplestested': '7352911',\n",
       "   'updatetimestamp': '24/06/2020 09:00:00'},\n",
       "  {'dailyrtpcrsamplescollectedicmrapplication': '146088',\n",
       "   'individualstestedperconfirmedcase': '',\n",
       "   'positivecasesfromsamplesreported': '',\n",
       "   'samplereportedtoday': '207871',\n",
       "   'source': 'https://twitter.com/ICMRDELHI/status/1275995927824588802',\n",
       "   'source1': '',\n",
       "   'source3': '',\n",
       "   'testedasof': '24/06/2020',\n",
       "   'testpositivitylast7days': '8.10%',\n",
       "   'testpositivityrate': '6.26%',\n",
       "   'testsconductedbyprivatelabs': '',\n",
       "   'testsperconfirmedcase': '',\n",
       "   'testspermillion': '5672',\n",
       "   'totalindividualstested': '',\n",
       "   'totalpositivecases': '',\n",
       "   'totalrtpcrsamplescollectedicmrapplication': '4252541',\n",
       "   'totalsamplestested': '7560782',\n",
       "   'updatetimestamp': '25/06/2020 09:00:00'},\n",
       "  {'dailyrtpcrsamplescollectedicmrapplication': '153175',\n",
       "   'individualstestedperconfirmedcase': '',\n",
       "   'positivecasesfromsamplesreported': '',\n",
       "   'samplereportedtoday': '215446',\n",
       "   'source': 'https://twitter.com/ICMRDELHI/status/1276356899642859520',\n",
       "   'source1': '',\n",
       "   'source3': '',\n",
       "   'testedasof': '25/06/2020',\n",
       "   'testpositivitylast7days': '8.22%',\n",
       "   'testpositivityrate': '6.32%',\n",
       "   'testsconductedbyprivatelabs': '',\n",
       "   'testsperconfirmedcase': '',\n",
       "   'testspermillion': '5834',\n",
       "   'totalindividualstested': '',\n",
       "   'totalpositivecases': '',\n",
       "   'totalrtpcrsamplescollectedicmrapplication': '4405716',\n",
       "   'totalsamplestested': '7776228',\n",
       "   'updatetimestamp': '26/06/2020 09:00:00'},\n",
       "  {'dailyrtpcrsamplescollectedicmrapplication': '153298',\n",
       "   'individualstestedperconfirmedcase': '',\n",
       "   'positivecasesfromsamplesreported': '',\n",
       "   'samplereportedtoday': '220479',\n",
       "   'source': 'https://twitter.com/ICMRDELHI/status/1276720050066452481',\n",
       "   'source1': 'https://t.me/Covid19india_Auxiliary_Test_Data/686',\n",
       "   'source3': '',\n",
       "   'testedasof': '26/06/2020',\n",
       "   'testpositivitylast7days': '8.21%',\n",
       "   'testpositivityrate': '6.37%',\n",
       "   'testsconductedbyprivatelabs': '',\n",
       "   'testsperconfirmedcase': '',\n",
       "   'testspermillion': '5999',\n",
       "   'totalindividualstested': '',\n",
       "   'totalpositivecases': '',\n",
       "   'totalrtpcrsamplescollectedicmrapplication': '4559014',\n",
       "   'totalsamplestested': '7996707',\n",
       "   'updatetimestamp': '27/06/2020 09:00:00'},\n",
       "  {'dailyrtpcrsamplescollectedicmrapplication': '90237',\n",
       "   'individualstestedperconfirmedcase': '',\n",
       "   'positivecasesfromsamplesreported': '',\n",
       "   'samplereportedtoday': '231095',\n",
       "   'source': 'https://twitter.com/ICMRDELHI/status/1277084645016797190',\n",
       "   'source1': 'https://t.me/Covid19india_Auxiliary_Test_Data/712',\n",
       "   'source3': '',\n",
       "   'testedasof': '27/06/2020',\n",
       "   'testpositivitylast7days': '8.04%',\n",
       "   'testpositivityrate': '6.44%',\n",
       "   'testsconductedbyprivatelabs': '',\n",
       "   'testsperconfirmedcase': '',\n",
       "   'testspermillion': '6173',\n",
       "   'totalindividualstested': '',\n",
       "   'totalpositivecases': '',\n",
       "   'totalrtpcrsamplescollectedicmrapplication': '4649251',\n",
       "   'totalsamplestested': '8227802',\n",
       "   'updatetimestamp': '28/06/2020 09:00:00'},\n",
       "  {'dailyrtpcrsamplescollectedicmrapplication': '168342',\n",
       "   'individualstestedperconfirmedcase': '',\n",
       "   'positivecasesfromsamplesreported': '',\n",
       "   'samplereportedtoday': '170560',\n",
       "   'source': 'https://twitter.com/ICMRDELHI/status/1277441381988921344',\n",
       "   'source1': 'https://t.me/Covid19india_Auxiliary_Test_Data/740',\n",
       "   'source3': '',\n",
       "   'testedasof': '28/06/2020',\n",
       "   'testpositivitylast7days': '8.63%',\n",
       "   'testpositivityrate': '6.54%',\n",
       "   'testsconductedbyprivatelabs': '',\n",
       "   'testsperconfirmedcase': '',\n",
       "   'testspermillion': '6301',\n",
       "   'totalindividualstested': '',\n",
       "   'totalpositivecases': '',\n",
       "   'totalrtpcrsamplescollectedicmrapplication': '4817593',\n",
       "   'totalsamplestested': '8398362',\n",
       "   'updatetimestamp': '29/06/2020 09:00:00'},\n",
       "  {'dailyrtpcrsamplescollectedicmrapplication': '171411',\n",
       "   'individualstestedperconfirmedcase': '',\n",
       "   'positivecasesfromsamplesreported': '',\n",
       "   'samplereportedtoday': '210292',\n",
       "   'source': 'https://twitter.com/ICMRDELHI/status/1277811671281446913',\n",
       "   'source1': 'https://t.me/Covid19india_Auxiliary_Test_Data/774',\n",
       "   'source3': '',\n",
       "   'testedasof': '29/06/2020',\n",
       "   'testpositivitylast7days': '8.87%',\n",
       "   'testpositivityrate': '6.59%',\n",
       "   'testsconductedbyprivatelabs': '',\n",
       "   'testsperconfirmedcase': '',\n",
       "   'testspermillion': '6459',\n",
       "   'totalindividualstested': '',\n",
       "   'totalpositivecases': '',\n",
       "   'totalrtpcrsamplescollectedicmrapplication': '4989004',\n",
       "   'totalsamplestested': '8608654',\n",
       "   'updatetimestamp': '30/06/2020 09:00:00'},\n",
       "  {'dailyrtpcrsamplescollectedicmrapplication': '165921',\n",
       "   'individualstestedperconfirmedcase': '',\n",
       "   'positivecasesfromsamplesreported': '',\n",
       "   'samplereportedtoday': '217931',\n",
       "   'source': 'https://twitter.com/ICMRDELHI/status/1278172186612609025',\n",
       "   'source1': 'https://t.me/Covid19india_Auxiliary_Test_Data/804',\n",
       "   'source3': '',\n",
       "   'testedasof': '30/06/2020',\n",
       "   'testpositivitylast7days': '8.91%',\n",
       "   'testpositivityrate': '6.64%',\n",
       "   'testsconductedbyprivatelabs': '',\n",
       "   'testsperconfirmedcase': '',\n",
       "   'testspermillion': '6622',\n",
       "   'totalindividualstested': '',\n",
       "   'totalpositivecases': '',\n",
       "   'totalrtpcrsamplescollectedicmrapplication': '5154925',\n",
       "   'totalsamplestested': '8826585',\n",
       "   'updatetimestamp': '01/07/2020 09:00:00'},\n",
       "  {'dailyrtpcrsamplescollectedicmrapplication': '177160',\n",
       "   'individualstestedperconfirmedcase': '',\n",
       "   'positivecasesfromsamplesreported': '',\n",
       "   'samplereportedtoday': '229588',\n",
       "   'source': 'https://twitter.com/ICMRDELHI/status/1278529927797551104',\n",
       "   'source1': 'https://t.me/Covid19india_Auxiliary_Test_Data/830',\n",
       "   'source3': '',\n",
       "   'testedasof': '01/07/2020',\n",
       "   'testpositivitylast7days': '8.91%',\n",
       "   'testpositivityrate': '6.68%',\n",
       "   'testsconductedbyprivatelabs': '',\n",
       "   'testsperconfirmedcase': '',\n",
       "   'testspermillion': '6794',\n",
       "   'totalindividualstested': '',\n",
       "   'totalpositivecases': '',\n",
       "   'totalrtpcrsamplescollectedicmrapplication': '5332085',\n",
       "   'totalsamplestested': '9056173',\n",
       "   'updatetimestamp': '02/07/2020 09:00:00'},\n",
       "  {'dailyrtpcrsamplescollectedicmrapplication': '183381',\n",
       "   'individualstestedperconfirmedcase': '',\n",
       "   'positivecasesfromsamplesreported': '',\n",
       "   'samplereportedtoday': '241576',\n",
       "   'source': 'https://twitter.com/ICMRDELHI/status/1278893457470222337',\n",
       "   'source1': 'https://t.me/Covid19india_Auxiliary_Test_Data/866',\n",
       "   'source3': '',\n",
       "   'testedasof': '02/07/2020',\n",
       "   'testpositivitylast7days': '9.05%',\n",
       "   'testpositivityrate': '6.75%',\n",
       "   'testsconductedbyprivatelabs': '',\n",
       "   'testsperconfirmedcase': '',\n",
       "   'testspermillion': '6976',\n",
       "   'totalindividualstested': '',\n",
       "   'totalpositivecases': '',\n",
       "   'totalrtpcrsamplescollectedicmrapplication': '5515466',\n",
       "   'totalsamplestested': '9297749',\n",
       "   'updatetimestamp': '03/07/2020 09:00:00'},\n",
       "  {'dailyrtpcrsamplescollectedicmrapplication': '186322',\n",
       "   'individualstestedperconfirmedcase': '',\n",
       "   'positivecasesfromsamplesreported': '',\n",
       "   'samplereportedtoday': '242383',\n",
       "   'source': 'https://twitter.com/ICMRDELHI/status/1279256992754790405',\n",
       "   'source1': 'https://t.me/Covid19india_Auxiliary_Test_Data/882',\n",
       "   'source3': '',\n",
       "   'testedasof': '03/07/2020',\n",
       "   'testpositivitylast7days': '9.17%',\n",
       "   'testpositivityrate': '6.81%',\n",
       "   'testsconductedbyprivatelabs': '',\n",
       "   'testsperconfirmedcase': '',\n",
       "   'testspermillion': '7157',\n",
       "   'totalindividualstested': '',\n",
       "   'totalpositivecases': '',\n",
       "   'totalrtpcrsamplescollectedicmrapplication': '5701788',\n",
       "   'totalsamplestested': '9540132',\n",
       "   'updatetimestamp': '04/07/2020 09:00:00'},\n",
       "  {'dailyrtpcrsamplescollectedicmrapplication': '102514',\n",
       "   'individualstestedperconfirmedcase': '',\n",
       "   'positivecasesfromsamplesreported': '',\n",
       "   'samplereportedtoday': '248934',\n",
       "   'source': 'https://twitter.com/ICMRDELHI/status/1279624025497427968',\n",
       "   'source1': 'https://t.me/Covid19india_Auxiliary_Test_Data/920',\n",
       "   'source3': '',\n",
       "   'testedasof': '04/07/2020',\n",
       "   'testpositivitylast7days': '8.97%',\n",
       "   'testpositivityrate': '6.88%',\n",
       "   'testsconductedbyprivatelabs': '',\n",
       "   'testsperconfirmedcase': '',\n",
       "   'testspermillion': '7344',\n",
       "   'totalindividualstested': '',\n",
       "   'totalpositivecases': '',\n",
       "   'totalrtpcrsamplescollectedicmrapplication': '5804302',\n",
       "   'totalsamplestested': '9789066',\n",
       "   'updatetimestamp': '05/07/2020 09:00:00'},\n",
       "  {'dailyrtpcrsamplescollectedicmrapplication': '210089',\n",
       "   'individualstestedperconfirmedcase': '',\n",
       "   'positivecasesfromsamplesreported': '',\n",
       "   'samplereportedtoday': '180596',\n",
       "   'source': 'https://twitter.com/ICMRDELHI/status/1279980092995694592',\n",
       "   'source1': 'https://t.me/Covid19india_Auxiliary_Test_Data/946',\n",
       "   'source3': '',\n",
       "   'testedasof': '05/07/2020',\n",
       "   'testpositivitylast7days': '9.57%',\n",
       "   'testpositivityrate': '7.00%',\n",
       "   'testsconductedbyprivatelabs': '',\n",
       "   'testsperconfirmedcase': '',\n",
       "   'testspermillion': '7480',\n",
       "   'totalindividualstested': '',\n",
       "   'totalpositivecases': '',\n",
       "   'totalrtpcrsamplescollectedicmrapplication': '6014391',\n",
       "   'totalsamplestested': '9969662',\n",
       "   'updatetimestamp': '06/07/2020 09:00:00'},\n",
       "  {'dailyrtpcrsamplescollectedicmrapplication': '206263',\n",
       "   'individualstestedperconfirmedcase': '',\n",
       "   'positivecasesfromsamplesreported': '',\n",
       "   'samplereportedtoday': '241430',\n",
       "   'source': 'https://twitter.com/ICMRDELHI/status/1280347767114629120',\n",
       "   'source1': 'https://t.me/Covid19india_Auxiliary_Test_Data/975',\n",
       "   'source3': '',\n",
       "   'testedasof': '06/07/2020',\n",
       "   'testpositivitylast7days': '9.72%',\n",
       "   'testpositivityrate': '7.05%',\n",
       "   'testsconductedbyprivatelabs': '',\n",
       "   'testsperconfirmedcase': '',\n",
       "   'testspermillion': '7661',\n",
       "   'totalindividualstested': '',\n",
       "   'totalpositivecases': '',\n",
       "   'totalrtpcrsamplescollectedicmrapplication': '6220654',\n",
       "   'totalsamplestested': '10211092',\n",
       "   'updatetimestamp': '07/07/2020 09:00:00'},\n",
       "  {'dailyrtpcrsamplescollectedicmrapplication': '205708',\n",
       "   'individualstestedperconfirmedcase': '',\n",
       "   'positivecasesfromsamplesreported': '',\n",
       "   'samplereportedtoday': '262679',\n",
       "   'source': 'https://twitter.com/ICMRDELHI/status/1280707600015749120',\n",
       "   'source1': 'https://t.me/Covid19india_Auxiliary_Test_Data/1000',\n",
       "   'source3': '',\n",
       "   'testedasof': '07/07/2020',\n",
       "   'testpositivitylast7days': '9.75%',\n",
       "   'testpositivityrate': '7.10%',\n",
       "   'testsconductedbyprivatelabs': '',\n",
       "   'testsperconfirmedcase': '',\n",
       "   'testspermillion': '7858',\n",
       "   'totalindividualstested': '',\n",
       "   'totalpositivecases': '',\n",
       "   'totalrtpcrsamplescollectedicmrapplication': '6426362',\n",
       "   'totalsamplestested': '10473771',\n",
       "   'updatetimestamp': '08/07/2020 09:00:00'},\n",
       "  {'dailyrtpcrsamplescollectedicmrapplication': '214410',\n",
       "   'individualstestedperconfirmedcase': '',\n",
       "   'positivecasesfromsamplesreported': '',\n",
       "   'samplereportedtoday': '267061',\n",
       "   'source': 'https://twitter.com/ICMRDELHI/status/1281068228542738432',\n",
       "   'source1': 'https://t.me/Covid19india_Auxiliary_Test_Data/1022',\n",
       "   'source3': '',\n",
       "   'testedasof': '08/07/2020',\n",
       "   'testpositivitylast7days': '9.83%',\n",
       "   'testpositivityrate': '7.16%',\n",
       "   'testsconductedbyprivatelabs': '',\n",
       "   'testsperconfirmedcase': '',\n",
       "   'testspermillion': '8058',\n",
       "   'totalindividualstested': '',\n",
       "   'totalpositivecases': '',\n",
       "   'totalrtpcrsamplescollectedicmrapplication': '6640772',\n",
       "   'totalsamplestested': '10740832',\n",
       "   'updatetimestamp': '09/07/2020 09:00:00'},\n",
       "  {'dailyrtpcrsamplescollectedicmrapplication': '220582',\n",
       "   'individualstestedperconfirmedcase': '',\n",
       "   'positivecasesfromsamplesreported': '',\n",
       "   'samplereportedtoday': '283659',\n",
       "   'source': 'https://twitter.com/ICMRDELHI/status/1281436467487629312',\n",
       "   'source1': 'https://t.me/Covid19india_Auxiliary_Test_Data/1048',\n",
       "   'source3': '',\n",
       "   'testedasof': '09/07/2020',\n",
       "   'testpositivitylast7days': '9.77%',\n",
       "   'testpositivityrate': '7.21%',\n",
       "   'testsconductedbyprivatelabs': '',\n",
       "   'testsperconfirmedcase': '',\n",
       "   'testspermillion': '8271',\n",
       "   'totalindividualstested': '',\n",
       "   'totalpositivecases': '',\n",
       "   'totalrtpcrsamplescollectedicmrapplication': '6861354',\n",
       "   'totalsamplestested': '11024491',\n",
       "   'updatetimestamp': '10/07/2020 09:00:00'},\n",
       "  {'dailyrtpcrsamplescollectedicmrapplication': '207819',\n",
       "   'individualstestedperconfirmedcase': '',\n",
       "   'positivecasesfromsamplesreported': '',\n",
       "   'samplereportedtoday': '282511',\n",
       "   'source': 'https://twitter.com/ICMRDELHI/status/1281794800195301376',\n",
       "   'source1': 'https://t.me/Covid19india_Auxiliary_Test_Data/1066',\n",
       "   'source3': '',\n",
       "   'testedasof': '10/07/2020',\n",
       "   'testpositivitylast7days': '9.80%',\n",
       "   'testpositivityrate': '7.28%',\n",
       "   'testsconductedbyprivatelabs': '',\n",
       "   'testsperconfirmedcase': '',\n",
       "   'testspermillion': '8483',\n",
       "   'totalindividualstested': '',\n",
       "   'totalpositivecases': '',\n",
       "   'totalrtpcrsamplescollectedicmrapplication': '7069173',\n",
       "   'totalsamplestested': '11307002',\n",
       "   'updatetimestamp': '11/07/2020 09:00:00'},\n",
       "  {'dailyrtpcrsamplescollectedicmrapplication': '121324',\n",
       "   'individualstestedperconfirmedcase': '',\n",
       "   'positivecasesfromsamplesreported': '',\n",
       "   'samplereportedtoday': '280151',\n",
       "   'source': 'https://twitter.com/ICMRDELHI/status/1282160902507130881',\n",
       "   'source1': 'https://t.me/Covid19india_Auxiliary_Test_Data/1091',\n",
       "   'source3': '',\n",
       "   'testedasof': '11/07/2020',\n",
       "   'testpositivitylast7days': '9.43%',\n",
       "   'testpositivityrate': '7.34%',\n",
       "   'testsconductedbyprivatelabs': '',\n",
       "   'testsperconfirmedcase': '',\n",
       "   'testspermillion': '8693',\n",
       "   'totalindividualstested': '',\n",
       "   'totalpositivecases': '',\n",
       "   'totalrtpcrsamplescollectedicmrapplication': '7190497',\n",
       "   'totalsamplestested': '11587153',\n",
       "   'updatetimestamp': '12/07/2020 09:00:00'},\n",
       "  {'dailyrtpcrsamplescollectedicmrapplication': '254734',\n",
       "   'individualstestedperconfirmedcase': '',\n",
       "   'positivecasesfromsamplesreported': '',\n",
       "   'samplereportedtoday': '219103',\n",
       "   'source': 'https://twitter.com/ICMRDELHI/status/1282518284718358528',\n",
       "   'source1': 'https://t.me/Covid19india_Auxiliary_Test_Data/1108',\n",
       "   'source3': '',\n",
       "   'testedasof': '12/07/2020',\n",
       "   'testpositivitylast7days': '9.98%',\n",
       "   'testpositivityrate': '7.45%',\n",
       "   'testsconductedbyprivatelabs': '',\n",
       "   'testsperconfirmedcase': '',\n",
       "   'testspermillion': '8858',\n",
       "   'totalindividualstested': '',\n",
       "   'totalpositivecases': '',\n",
       "   'totalrtpcrsamplescollectedicmrapplication': '7445231',\n",
       "   'totalsamplestested': '11806256',\n",
       "   'updatetimestamp': '13/07/2020 09:00:00'},\n",
       "  {'dailyrtpcrsamplescollectedicmrapplication': '249260',\n",
       "   'individualstestedperconfirmedcase': '',\n",
       "   'positivecasesfromsamplesreported': '',\n",
       "   'samplereportedtoday': '286247',\n",
       "   'source': 'https://twitter.com/ICMRDELHI/status/1282888590230319104',\n",
       "   'source1': 'https://t.me/Covid19india_Auxiliary_Test_Data/1132',\n",
       "   'source3': '',\n",
       "   'testedasof': '13/07/2020',\n",
       "   'testpositivitylast7days': '10.14%',\n",
       "   'testpositivityrate': '7.51%',\n",
       "   'testsconductedbyprivatelabs': '',\n",
       "   'testsperconfirmedcase': '',\n",
       "   'testspermillion': '9072',\n",
       "   'totalindividualstested': '',\n",
       "   'totalpositivecases': '',\n",
       "   'totalrtpcrsamplescollectedicmrapplication': '7694491',\n",
       "   'totalsamplestested': '12092503',\n",
       "   'updatetimestamp': '14/07/2020 09:00:00'},\n",
       "  {'dailyrtpcrsamplescollectedicmrapplication': '246359',\n",
       "   'individualstestedperconfirmedcase': '',\n",
       "   'positivecasesfromsamplesreported': '',\n",
       "   'samplereportedtoday': '320161',\n",
       "   'source': 'https://twitter.com/ICMRDELHI/status/1283242773781467136',\n",
       "   'source1': 'https://t.me/Covid19india_Auxiliary_Test_Data/1159',\n",
       "   'source3': '',\n",
       "   'testedasof': '14/07/2020',\n",
       "   'testpositivitylast7days': '10.08%',\n",
       "   'testpositivityrate': '7.55%',\n",
       "   'testsconductedbyprivatelabs': '',\n",
       "   'testsperconfirmedcase': '',\n",
       "   'testspermillion': '9313',\n",
       "   'totalindividualstested': '',\n",
       "   'totalpositivecases': '',\n",
       "   'totalrtpcrsamplescollectedicmrapplication': '7940850',\n",
       "   'totalsamplestested': '12412664',\n",
       "   'updatetimestamp': '15/07/2020 09:00:00'},\n",
       "  {'dailyrtpcrsamplescollectedicmrapplication': '236139',\n",
       "   'individualstestedperconfirmedcase': '',\n",
       "   'positivecasesfromsamplesreported': '',\n",
       "   'samplereportedtoday': '326826',\n",
       "   'source': 'https://twitter.com/ICMRDELHI/status/1283601928279080960/photo/1',\n",
       "   'source1': 'https://t.me/Covid19india_Auxiliary_Test_Data/1177',\n",
       "   'source3': '',\n",
       "   'testedasof': '15/07/2020',\n",
       "   'testpositivitylast7days': '10.22%',\n",
       "   'testpositivityrate': '7.62%',\n",
       "   'testsconductedbyprivatelabs': '',\n",
       "   'testsperconfirmedcase': '',\n",
       "   'testspermillion': '9558',\n",
       "   'totalindividualstested': '',\n",
       "   'totalpositivecases': '',\n",
       "   'totalrtpcrsamplescollectedicmrapplication': '8176989',\n",
       "   'totalsamplestested': '12739490',\n",
       "   'updatetimestamp': '16/07/2020 09:00:00'},\n",
       "  {'dailyrtpcrsamplescollectedicmrapplication': '245724',\n",
       "   'individualstestedperconfirmedcase': '',\n",
       "   'positivecasesfromsamplesreported': '',\n",
       "   'samplereportedtoday': '333228',\n",
       "   'source': 'https://twitter.com/ICMRDELHI/status/1283977904246845442',\n",
       "   'source1': 'https://t.me/Covid19india_Auxiliary_Test_Data/1189',\n",
       "   'source3': '',\n",
       "   'testedasof': '16/07/2020',\n",
       "   'testpositivitylast7days': '10.37%',\n",
       "   'testpositivityrate': '7.69%',\n",
       "   'testsconductedbyprivatelabs': '',\n",
       "   'testsperconfirmedcase': '',\n",
       "   'testspermillion': '9808',\n",
       "   'totalindividualstested': '',\n",
       "   'totalpositivecases': '',\n",
       "   'totalrtpcrsamplescollectedicmrapplication': '8422713',\n",
       "   'totalsamplestested': '13072718',\n",
       "   'updatetimestamp': '17/07/2020 09:00:00'},\n",
       "  {'dailyrtpcrsamplescollectedicmrapplication': '240339',\n",
       "   'individualstestedperconfirmedcase': '',\n",
       "   'positivecasesfromsamplesreported': '',\n",
       "   'samplereportedtoday': '361024',\n",
       "   'source': 'https://twitter.com/ICMRDELHI/status/1284329467804966912',\n",
       "   'source1': 'https://t.me/Covid19india_Auxiliary_Test_Data/1208',\n",
       "   'source3': '',\n",
       "   'testedasof': '17/07/2020',\n",
       "   'testpositivitylast7days': '10.29%',\n",
       "   'testpositivityrate': '7.75%',\n",
       "   'testsconductedbyprivatelabs': '',\n",
       "   'testsperconfirmedcase': '',\n",
       "   'testspermillion': '10079',\n",
       "   'totalindividualstested': '',\n",
       "   'totalpositivecases': '',\n",
       "   'totalrtpcrsamplescollectedicmrapplication': '8663052',\n",
       "   'totalsamplestested': '13433742',\n",
       "   'updatetimestamp': '18/07/2020 09:00:00'},\n",
       "  {'dailyrtpcrsamplescollectedicmrapplication': '139173',\n",
       "   'individualstestedperconfirmedcase': '',\n",
       "   'positivecasesfromsamplesreported': '',\n",
       "   'samplereportedtoday': '358127',\n",
       "   'source': 'https://twitter.com/ICMRDELHI/status/1284689929360928771',\n",
       "   'source1': 'https://t.me/Covid19india_Auxiliary_Test_Data/1225',\n",
       "   'source3': '',\n",
       "   'testedasof': '18/07/2020',\n",
       "   'testpositivitylast7days': '9.99%',\n",
       "   'testpositivityrate': '7.82%',\n",
       "   'testsconductedbyprivatelabs': '',\n",
       "   'testsperconfirmedcase': '',\n",
       "   'testspermillion': '10347',\n",
       "   'totalindividualstested': '',\n",
       "   'totalpositivecases': '',\n",
       "   'totalrtpcrsamplescollectedicmrapplication': '8802225',\n",
       "   'totalsamplestested': '13791869',\n",
       "   'updatetimestamp': '19/07/2020 09:00:00'},\n",
       "  {'dailyrtpcrsamplescollectedicmrapplication': '237985',\n",
       "   'individualstestedperconfirmedcase': '',\n",
       "   'positivecasesfromsamplesreported': '',\n",
       "   'samplereportedtoday': '256039',\n",
       "   'source': 'https://twitter.com/ICMRDELHI/status/1285050262583865355',\n",
       "   'source1': 'https://t.me/Covid19india_Auxiliary_Test_Data/1236',\n",
       "   'source3': '',\n",
       "   'testedasof': '19/07/2020',\n",
       "   'testpositivitylast7days': '10.76%',\n",
       "   'testpositivityrate': '7.96%',\n",
       "   'testsconductedbyprivatelabs': '',\n",
       "   'testsperconfirmedcase': '',\n",
       "   'testspermillion': '10539',\n",
       "   'totalindividualstested': '',\n",
       "   'totalpositivecases': '',\n",
       "   'totalrtpcrsamplescollectedicmrapplication': '9040210',\n",
       "   'totalsamplestested': '14047908',\n",
       "   'updatetimestamp': '20/07/2020 09:00:00'},\n",
       "  {'dailyrtpcrsamplescollectedicmrapplication': '252017',\n",
       "   'individualstestedperconfirmedcase': '',\n",
       "   'positivecasesfromsamplesreported': '',\n",
       "   'samplereportedtoday': '333395',\n",
       "   'source': 'https://twitter.com/ICMRDELHI/status/1285414282545393664',\n",
       "   'source1': 'https://t.me/Covid19india_Auxiliary_Test_Data/1258',\n",
       "   'source3': '',\n",
       "   'testedasof': '20/07/2020',\n",
       "   'testpositivitylast7days': '11.04%',\n",
       "   'testpositivityrate': '8.03%',\n",
       "   'testsconductedbyprivatelabs': '',\n",
       "   'testsperconfirmedcase': '',\n",
       "   'testspermillion': '10789',\n",
       "   'totalindividualstested': '',\n",
       "   'totalpositivecases': '',\n",
       "   'totalrtpcrsamplescollectedicmrapplication': '9292227',\n",
       "   'totalsamplestested': '14381303',\n",
       "   'updatetimestamp': '21/07/2020 09:00:00'},\n",
       "  {'dailyrtpcrsamplescollectedicmrapplication': '257257',\n",
       "   'individualstestedperconfirmedcase': '',\n",
       "   'positivecasesfromsamplesreported': '',\n",
       "   'samplereportedtoday': '343243',\n",
       "   'source': 'https://twitter.com/ICMRDELHI/status/1285783025494581249',\n",
       "   'source1': 'https://t.me/Covid19india_Auxiliary_Test_Data/1284',\n",
       "   'source3': '',\n",
       "   'testedasof': '21/07/2020',\n",
       "   'testpositivitylast7days': '11.28%',\n",
       "   'testpositivityrate': '8.11%',\n",
       "   'testsconductedbyprivatelabs': '',\n",
       "   'testsperconfirmedcase': '',\n",
       "   'testspermillion': '11047',\n",
       "   'totalindividualstested': '',\n",
       "   'totalpositivecases': '',\n",
       "   'totalrtpcrsamplescollectedicmrapplication': '9549484',\n",
       "   'totalsamplestested': '14724546',\n",
       "   'updatetimestamp': '22/07/2020 09:00:00'},\n",
       "  {'dailyrtpcrsamplescollectedicmrapplication': '244935',\n",
       "   'individualstestedperconfirmedcase': '',\n",
       "   'positivecasesfromsamplesreported': '',\n",
       "   'samplereportedtoday': '350823',\n",
       "   'source': 'https://twitter.com/ICMRDELHI/status/1286141514586836993',\n",
       "   'source1': 'https://t.me/Covid19india_Auxiliary_Test_Data/1314',\n",
       "   'source3': '',\n",
       "   'testedasof': '22/07/2020',\n",
       "   'testpositivitylast7days': '11.69%',\n",
       "   'testpositivityrate': '8.22%',\n",
       "   'testsconductedbyprivatelabs': '',\n",
       "   'testsperconfirmedcase': '',\n",
       "   'testspermillion': '11310',\n",
       "   'totalindividualstested': '',\n",
       "   'totalpositivecases': '',\n",
       "   'totalrtpcrsamplescollectedicmrapplication': '9794419',\n",
       "   'totalsamplestested': '15075369',\n",
       "   'updatetimestamp': '23/07/2020 09:00:00'},\n",
       "  {'dailyrtpcrsamplescollectedicmrapplication': '257793',\n",
       "   'individualstestedperconfirmedcase': '',\n",
       "   'positivecasesfromsamplesreported': '',\n",
       "   'samplereportedtoday': '352801',\n",
       "   'source': 'https://twitter.com/ICMRDELHI/status/1286510593147510785',\n",
       "   'source1': 'https://t.me/Covid19india_Auxiliary_Test_Data/1342',\n",
       "   'source3': '',\n",
       "   'testedasof': '23/07/2020',\n",
       "   'testpositivitylast7days': '12.42%',\n",
       "   'testpositivityrate': '8.35%',\n",
       "   'testsconductedbyprivatelabs': '',\n",
       "   'testsperconfirmedcase': '',\n",
       "   'testspermillion': '11575',\n",
       "   'totalindividualstested': '',\n",
       "   'totalpositivecases': '',\n",
       "   'totalrtpcrsamplescollectedicmrapplication': '10052212',\n",
       "   'totalsamplestested': '15428170',\n",
       "   'updatetimestamp': '24/07/2020 09:00:00'},\n",
       "  {'dailyrtpcrsamplescollectedicmrapplication': '240722',\n",
       "   'individualstestedperconfirmedcase': '',\n",
       "   'positivecasesfromsamplesreported': '',\n",
       "   'samplereportedtoday': '420898',\n",
       "   'source': 'https://twitter.com/ICMRDELHI/status/1286867899387281408',\n",
       "   'source1': 'https://t.me/Covid19india_Auxiliary_Test_Data/1361',\n",
       "   'source3': '',\n",
       "   'testedasof': '24/07/2020',\n",
       "   'testpositivitylast7days': '12.60%',\n",
       "   'testpositivityrate': '8.44%',\n",
       "   'testsconductedbyprivatelabs': '',\n",
       "   'testsperconfirmedcase': '',\n",
       "   'testspermillion': '11891',\n",
       "   'totalindividualstested': '',\n",
       "   'totalpositivecases': '',\n",
       "   'totalrtpcrsamplescollectedicmrapplication': '10292934',\n",
       "   'totalsamplestested': '15849068',\n",
       "   'updatetimestamp': '25/07/2020 09:00:00'},\n",
       "  {'dailyrtpcrsamplescollectedicmrapplication': '145033',\n",
       "   'individualstestedperconfirmedcase': '',\n",
       "   'positivecasesfromsamplesreported': '',\n",
       "   'samplereportedtoday': '442263',\n",
       "   'source': 'https://twitter.com/ICMRDELHI/status/1287231590263734273',\n",
       "   'source1': 'https://t.me/Covid19india_Auxiliary_Test_Data/1375',\n",
       "   'source3': '',\n",
       "   'testedasof': '25/07/2020',\n",
       "   'testpositivitylast7days': '11.99%',\n",
       "   'testpositivityrate': '8.51%',\n",
       "   'testsconductedbyprivatelabs': '',\n",
       "   'testsperconfirmedcase': '',\n",
       "   'testspermillion': '12222',\n",
       "   'totalindividualstested': '',\n",
       "   'totalpositivecases': '',\n",
       "   'totalrtpcrsamplescollectedicmrapplication': '10437967',\n",
       "   'totalsamplestested': '16291331',\n",
       "   'updatetimestamp': '26/07/2020 09:00:00'},\n",
       "  {'dailyrtpcrsamplescollectedicmrapplication': '272964',\n",
       "   'individualstestedperconfirmedcase': '',\n",
       "   'positivecasesfromsamplesreported': '',\n",
       "   'samplereportedtoday': '515472',\n",
       "   'source': 'http://twitter.com/ICMRDELHI/status/1287592304845320192',\n",
       "   'source1': 'https://t.me/Covid19india_Auxiliary_Test_Data/1397',\n",
       "   'source3': '',\n",
       "   'testedasof': '26/07/2020',\n",
       "   'testpositivitylast7days': '11.59%',\n",
       "   'testpositivityrate': '8.54%',\n",
       "   'testsconductedbyprivatelabs': '',\n",
       "   'testsperconfirmedcase': '',\n",
       "   'testspermillion': '12609',\n",
       "   'totalindividualstested': '',\n",
       "   'totalpositivecases': '',\n",
       "   'totalrtpcrsamplescollectedicmrapplication': '10710931',\n",
       "   'totalsamplestested': '16806803',\n",
       "   'updatetimestamp': '27/07/2020 09:00:00'},\n",
       "  {'dailyrtpcrsamplescollectedicmrapplication': '276664',\n",
       "   'individualstestedperconfirmedcase': '',\n",
       "   'positivecasesfromsamplesreported': '',\n",
       "   'samplereportedtoday': '528082',\n",
       "   'source': 'https://twitter.com/ICMRDELHI/status/1287966108058677249',\n",
       "   'source1': 'https://t.me/Covid19india_Auxiliary_Test_Data/1415',\n",
       "   'source3': '',\n",
       "   'testedasof': '27/07/2020',\n",
       "   'testpositivitylast7days': '11.05%',\n",
       "   'testpositivityrate': '8.55%',\n",
       "   'testsconductedbyprivatelabs': '',\n",
       "   'testsperconfirmedcase': '',\n",
       "   'testspermillion': '13005',\n",
       "   'totalindividualstested': '',\n",
       "   'totalpositivecases': '',\n",
       "   'totalrtpcrsamplescollectedicmrapplication': '10987595',\n",
       "   'totalsamplestested': '17334885',\n",
       "   'updatetimestamp': '28/07/2020 09:00:00'},\n",
       "  {'dailyrtpcrsamplescollectedicmrapplication': '271658',\n",
       "   'individualstestedperconfirmedcase': '',\n",
       "   'positivecasesfromsamplesreported': '',\n",
       "   'samplereportedtoday': '408855',\n",
       "   'source': 'http://twitter.com/ICMRDELHI/status/1288314973576245249',\n",
       "   'source1': 'https://t.me/Covid19india_Auxiliary_Test_Data/1427',\n",
       "   'source3': '',\n",
       "   'testedasof': '28/07/2020',\n",
       "   'testpositivitylast7days': '10.96%',\n",
       "   'testpositivityrate': '8.63%',\n",
       "   'testsconductedbyprivatelabs': '',\n",
       "   'testsperconfirmedcase': '',\n",
       "   'testspermillion': '13312',\n",
       "   'totalindividualstested': '',\n",
       "   'totalpositivecases': '',\n",
       "   'totalrtpcrsamplescollectedicmrapplication': '11259253',\n",
       "   'totalsamplestested': '17743740',\n",
       "   'updatetimestamp': '29/07/2020 09:00:00'},\n",
       "  {'dailyrtpcrsamplescollectedicmrapplication': '288560',\n",
       "   'individualstestedperconfirmedcase': '',\n",
       "   'positivecasesfromsamplesreported': '',\n",
       "   'samplereportedtoday': '446642',\n",
       "   'source': 'http://twitter.com/ICMRDELHI/status/1288670449858048002',\n",
       "   'source1': 'https://t.me/Covid19india_Auxiliary_Test_Data/1445',\n",
       "   'source3': '',\n",
       "   'testedasof': '29/07/2020',\n",
       "   'testpositivitylast7days': '10.73%',\n",
       "   'testpositivityrate': '8.71%',\n",
       "   'testsconductedbyprivatelabs': '',\n",
       "   'testsperconfirmedcase': '',\n",
       "   'testspermillion': '13647',\n",
       "   'totalindividualstested': '',\n",
       "   'totalpositivecases': '',\n",
       "   'totalrtpcrsamplescollectedicmrapplication': '11547813',\n",
       "   'totalsamplestested': '18190382',\n",
       "   'updatetimestamp': '30/07/2020 09:00:00'},\n",
       "  {'dailyrtpcrsamplescollectedicmrapplication': '290235',\n",
       "   'individualstestedperconfirmedcase': '',\n",
       "   'positivecasesfromsamplesreported': '',\n",
       "   'samplereportedtoday': '642588',\n",
       "   'source': 'http://twitter.com/ICMRDELHI/status/1289043276205457410',\n",
       "   'source1': 'https://t.me/Covid19india_Auxiliary_Test_Data/1464',\n",
       "   'source3': '',\n",
       "   'testedasof': '30/07/2020',\n",
       "   'testpositivitylast7days': '10.14%',\n",
       "   'testpositivityrate': '8.71%',\n",
       "   'testsconductedbyprivatelabs': '',\n",
       "   'testsperconfirmedcase': '',\n",
       "   'testspermillion': '14129',\n",
       "   'totalindividualstested': '',\n",
       "   'totalpositivecases': '',\n",
       "   'totalrtpcrsamplescollectedicmrapplication': '11838048',\n",
       "   'totalsamplestested': '18832970',\n",
       "   'updatetimestamp': '31/07/2020 09:00:00'},\n",
       "  {'dailyrtpcrsamplescollectedicmrapplication': '239760',\n",
       "   'individualstestedperconfirmedcase': '',\n",
       "   'positivecasesfromsamplesreported': '',\n",
       "   'samplereportedtoday': '525689',\n",
       "   'source': 'https://twitter.com/ICMRDELHI/status/1289405341722001408?s=20)',\n",
       "   'source1': 'https://t.me/Covid19india_Auxiliary_Test_Data/1478',\n",
       "   'source3': '',\n",
       "   'testedasof': '31/07/2020',\n",
       "   'testpositivitylast7days': '10.11%',\n",
       "   'testpositivityrate': '8.77%',\n",
       "   'testsconductedbyprivatelabs': '',\n",
       "   'testsperconfirmedcase': '',\n",
       "   'testspermillion': '14524',\n",
       "   'totalindividualstested': '',\n",
       "   'totalpositivecases': '',\n",
       "   'totalrtpcrsamplescollectedicmrapplication': '12077808',\n",
       "   'totalsamplestested': '19358659',\n",
       "   'updatetimestamp': '01/08/2020 09:00:00'},\n",
       "  {'dailyrtpcrsamplescollectedicmrapplication': '175763',\n",
       "   'individualstestedperconfirmedcase': '',\n",
       "   'positivecasesfromsamplesreported': '',\n",
       "   'samplereportedtoday': '463172',\n",
       "   'source': 'https://twitter.com/ICMRDELHI/status/1289776921459359745',\n",
       "   'source1': 'https://t.me/Covid19india_Auxiliary_Test_Data/1492',\n",
       "   'source3': '',\n",
       "   'testedasof': '01/08/2020',\n",
       "   'testpositivitylast7days': '10.49%',\n",
       "   'testpositivityrate': '8.84%',\n",
       "   'testsconductedbyprivatelabs': '',\n",
       "   'testsperconfirmedcase': '',\n",
       "   'testspermillion': '14871',\n",
       "   'totalindividualstested': '',\n",
       "   'totalpositivecases': '',\n",
       "   'totalrtpcrsamplescollectedicmrapplication': '12253571',\n",
       "   'totalsamplestested': '19821831',\n",
       "   'updatetimestamp': '02/08/2020 09:00:00'},\n",
       "  {'dailyrtpcrsamplescollectedicmrapplication': '254035',\n",
       "   'individualstestedperconfirmedcase': '',\n",
       "   'positivecasesfromsamplesreported': '',\n",
       "   'samplereportedtoday': '381027',\n",
       "   'source': 'https://twitter.com/ICMRDELHI/status/1290136251295657986',\n",
       "   'source1': 'https://t.me/Covid19india_Auxiliary_Test_Data/1508',\n",
       "   'source3': '',\n",
       "   'testedasof': '02/08/2020',\n",
       "   'testpositivitylast7days': '11.24%',\n",
       "   'testpositivityrate': '8.93%',\n",
       "   'testsconductedbyprivatelabs': '',\n",
       "   'testsperconfirmedcase': '',\n",
       "   'testspermillion': '15157',\n",
       "   'totalindividualstested': '',\n",
       "   'totalpositivecases': '',\n",
       "   'totalrtpcrsamplescollectedicmrapplication': '12507606',\n",
       "   'totalsamplestested': '20202858',\n",
       "   'updatetimestamp': '03/08/2020 09:00:00'},\n",
       "  {'dailyrtpcrsamplescollectedicmrapplication': '310481',\n",
       "   'individualstestedperconfirmedcase': '',\n",
       "   'positivecasesfromsamplesreported': '',\n",
       "   'samplereportedtoday': '661892',\n",
       "   'source': 'http://twitter.com/ICMRDELHI/status/1290484131848024066',\n",
       "   'source1': 'https://t.me/Covid19india_Auxiliary_Test_Data/1522',\n",
       "   'source3': '',\n",
       "   'testedasof': '03/08/2020',\n",
       "   'testpositivitylast7days': '10.36%',\n",
       "   'testpositivityrate': '8.89%',\n",
       "   'testsconductedbyprivatelabs': '',\n",
       "   'testsperconfirmedcase': '',\n",
       "   'testspermillion': '15654',\n",
       "   'totalindividualstested': '',\n",
       "   'totalpositivecases': '',\n",
       "   'totalrtpcrsamplescollectedicmrapplication': '12818087',\n",
       "   'totalsamplestested': '20864750',\n",
       "   'updatetimestamp': '04/08/2020 09:00:00'},\n",
       "  {'dailyrtpcrsamplescollectedicmrapplication': '310226',\n",
       "   'individualstestedperconfirmedcase': '',\n",
       "   'positivecasesfromsamplesreported': '',\n",
       "   'samplereportedtoday': '619652',\n",
       "   'source': 'http://twitter.com/ICMRDELHI/status/1290849286985404417',\n",
       "   'source1': 'https://t.me/Covid19india_Auxiliary_Test_Data/1540',\n",
       "   'source3': '',\n",
       "   'testedasof': '04/08/2020',\n",
       "   'testpositivitylast7days': '9.78%',\n",
       "   'testpositivityrate': '8.87%',\n",
       "   'testsconductedbyprivatelabs': '',\n",
       "   'testsperconfirmedcase': '',\n",
       "   'testspermillion': '16119',\n",
       "   'totalindividualstested': '',\n",
       "   'totalpositivecases': '',\n",
       "   'totalrtpcrsamplescollectedicmrapplication': '13128313',\n",
       "   'totalsamplestested': '21484402',\n",
       "   'updatetimestamp': '05/08/2020 09:00:00'},\n",
       "  {'dailyrtpcrsamplescollectedicmrapplication': '316470',\n",
       "   'individualstestedperconfirmedcase': '',\n",
       "   'positivecasesfromsamplesreported': '',\n",
       "   'samplereportedtoday': '664949',\n",
       "   'source': 'http://twitter.com/ICMRDELHI/status/1291210644855730176',\n",
       "   'source1': 'https://t.me/Covid19india_Auxiliary_Test_Data/1560',\n",
       "   'source3': '',\n",
       "   'testedasof': '05/08/2020',\n",
       "   'testpositivitylast7days': '9.76%',\n",
       "   'testpositivityrate': '8.86%',\n",
       "   'testsconductedbyprivatelabs': '',\n",
       "   'testsperconfirmedcase': '',\n",
       "   'testspermillion': '16617',\n",
       "   'totalindividualstested': '',\n",
       "   'totalpositivecases': '',\n",
       "   'totalrtpcrsamplescollectedicmrapplication': '13444783',\n",
       "   'totalsamplestested': '22149351',\n",
       "   'updatetimestamp': '06/08/2020 09:00:00'},\n",
       "  {'dailyrtpcrsamplescollectedicmrapplication': '330118',\n",
       "   'individualstestedperconfirmedcase': '',\n",
       "   'positivecasesfromsamplesreported': '',\n",
       "   'samplereportedtoday': '639042',\n",
       "   'source': 'http://twitter.com/ICMRDELHI/status/1291581826817908737',\n",
       "   'source1': 'https://t.me/Covid19india_Auxiliary_Test_Data/1574',\n",
       "   'source3': '',\n",
       "   'testedasof': '06/08/2020',\n",
       "   'testpositivitylast7days': '9.57%',\n",
       "   'testpositivityrate': '8.89%',\n",
       "   'testsconductedbyprivatelabs': '',\n",
       "   'testsperconfirmedcase': '',\n",
       "   'testspermillion': '17097',\n",
       "   'totalindividualstested': '',\n",
       "   'totalpositivecases': '',\n",
       "   'totalrtpcrsamplescollectedicmrapplication': '13774901',\n",
       "   'totalsamplestested': '22788393',\n",
       "   'updatetimestamp': '07/08/2020 09:00:00'},\n",
       "  {'dailyrtpcrsamplescollectedicmrapplication': '313118',\n",
       "   'individualstestedperconfirmedcase': '',\n",
       "   'positivecasesfromsamplesreported': '',\n",
       "   'samplereportedtoday': '598778',\n",
       "   'source': 'http://twitter.com/ICMRDELHI/status/1291945755314249731',\n",
       "   'source1': 'https://t.me/Covid19india_Auxiliary_Test_Data/1596',\n",
       "   'source3': '',\n",
       "   'testedasof': '07/08/2020',\n",
       "   'testpositivitylast7days': '9.39%',\n",
       "   'testpositivityrate': '8.92%',\n",
       "   'testsconductedbyprivatelabs': '',\n",
       "   'testsperconfirmedcase': '',\n",
       "   'testspermillion': '17546',\n",
       "   'totalindividualstested': '',\n",
       "   'totalpositivecases': '',\n",
       "   'totalrtpcrsamplescollectedicmrapplication': '14088019',\n",
       "   'totalsamplestested': '23387171',\n",
       "   'updatetimestamp': '08/08/2020 09:00:00'},\n",
       "  {'dailyrtpcrsamplescollectedicmrapplication': '177363',\n",
       "   'individualstestedperconfirmedcase': '',\n",
       "   'positivecasesfromsamplesreported': '',\n",
       "   'samplereportedtoday': '719364',\n",
       "   'source': 'http://twitter.com/ICMRDELHI/status/1292303919930945537',\n",
       "   'source1': 'https://t.me/Covid19india_Auxiliary_Test_Data/1622',\n",
       "   'source3': '',\n",
       "   'testedasof': '08/08/2020',\n",
       "   'testpositivitylast7days': '8.89%',\n",
       "   'testpositivityrate': '8.93%',\n",
       "   'testsconductedbyprivatelabs': '',\n",
       "   'testsperconfirmedcase': '',\n",
       "   'testspermillion': '18086',\n",
       "   'totalindividualstested': '',\n",
       "   'totalpositivecases': '',\n",
       "   'totalrtpcrsamplescollectedicmrapplication': '14265382',\n",
       "   'totalsamplestested': '24106535',\n",
       "   'updatetimestamp': '09/08/2020 09:00:00'},\n",
       "  {'dailyrtpcrsamplescollectedicmrapplication': '178394',\n",
       "   'individualstestedperconfirmedcase': '',\n",
       "   'positivecasesfromsamplesreported': '',\n",
       "   'samplereportedtoday': '477023',\n",
       "   'source': 'https://twitter.com/ICMRDELHI/status/1292671584549789696',\n",
       "   'source1': 'https://t.me/Covid19india_Auxiliary_Test_Data/1642',\n",
       "   'source3': 'https://t.me/Covid19india_Auxiliary_Test_Data/1889',\n",
       "   'testedasof': '09/08/2020',\n",
       "   'testpositivitylast7days': '9.65%',\n",
       "   'testpositivityrate': '9.01%',\n",
       "   'testsconductedbyprivatelabs': '',\n",
       "   'testsperconfirmedcase': '',\n",
       "   'testspermillion': '18444',\n",
       "   'totalindividualstested': '',\n",
       "   'totalpositivecases': '',\n",
       "   'totalrtpcrsamplescollectedicmrapplication': '14377704',\n",
       "   'totalsamplestested': '24583558',\n",
       "   'updatetimestamp': '10/08/2020 09:00:00'},\n",
       "  {'dailyrtpcrsamplescollectedicmrapplication': '365020',\n",
       "   'individualstestedperconfirmedcase': '',\n",
       "   'positivecasesfromsamplesreported': '',\n",
       "   'samplereportedtoday': '698290',\n",
       "   'source': 'http://twitter.com/ICMRDELHI/status/1293043854820519936',\n",
       "   'source1': 'https://t.me/Covid19india_Auxiliary_Test_Data/1660',\n",
       "   'source3': 'https://t.me/Covid19india_Auxiliary_Test_Data/1891',\n",
       "   'testedasof': '10/08/2020',\n",
       "   'testpositivitylast7days': '9.49%',\n",
       "   'testpositivityrate': '8.97%',\n",
       "   'testsconductedbyprivatelabs': '',\n",
       "   'testsperconfirmedcase': '',\n",
       "   'testspermillion': '18968',\n",
       "   'totalindividualstested': '',\n",
       "   'totalpositivecases': '',\n",
       "   'totalrtpcrsamplescollectedicmrapplication': '14742724',\n",
       "   'totalsamplestested': '25281848',\n",
       "   'updatetimestamp': '11/08/2020 09:00:00'},\n",
       "  {'dailyrtpcrsamplescollectedicmrapplication': '368344',\n",
       "   'individualstestedperconfirmedcase': '',\n",
       "   'positivecasesfromsamplesreported': '',\n",
       "   'samplereportedtoday': '733449',\n",
       "   'source': 'https://twitter.com/ICMRDELHI/status/1293400350183940096',\n",
       "   'source1': 'https://t.me/Covid19india_Auxiliary_Test_Data/1677',\n",
       "   'source3': 'https://t.me/Covid19india_Auxiliary_Test_Data/1891',\n",
       "   'testedasof': '11/08/2020',\n",
       "   'testpositivitylast7days': '9.45%',\n",
       "   'testpositivityrate': '8.95%',\n",
       "   'testsconductedbyprivatelabs': '',\n",
       "   'testsperconfirmedcase': '',\n",
       "   'testspermillion': '19518',\n",
       "   'totalindividualstested': '',\n",
       "   'totalpositivecases': '',\n",
       "   'totalrtpcrsamplescollectedicmrapplication': '15111068',\n",
       "   'totalsamplestested': '26015297',\n",
       "   'updatetimestamp': '12/08/2020 09:00:00'},\n",
       "  {'dailyrtpcrsamplescollectedicmrapplication': '392348',\n",
       "   'individualstestedperconfirmedcase': '',\n",
       "   'positivecasesfromsamplesreported': '',\n",
       "   'samplereportedtoday': '830391',\n",
       "   'source': 'https://twitter.com/ICMRDELHI/status/1293766272744697856?s=20',\n",
       "   'source1': 'https://t.me/Covid19india_Auxiliary_Test_Data/1692',\n",
       "   'source3': 'https://t.me/Covid19india_Auxiliary_Test_Data/1891',\n",
       "   'testedasof': '12/08/2020',\n",
       "   'testpositivitylast7days': '9.12%',\n",
       "   'testpositivityrate': '8.92%',\n",
       "   'testsconductedbyprivatelabs': '',\n",
       "   'testsperconfirmedcase': '',\n",
       "   'testspermillion': '20141',\n",
       "   'totalindividualstested': '',\n",
       "   'totalpositivecases': '',\n",
       "   'totalrtpcrsamplescollectedicmrapplication': '15503416',\n",
       "   'totalsamplestested': '26845688',\n",
       "   'updatetimestamp': '13/08/2020 09:00:00'},\n",
       "  {'dailyrtpcrsamplescollectedicmrapplication': '410635',\n",
       "   'individualstestedperconfirmedcase': '',\n",
       "   'positivecasesfromsamplesreported': '',\n",
       "   'samplereportedtoday': '848728',\n",
       "   'source': 'http://twitter.com/ICMRDELHI/status/1294118346384797697',\n",
       "   'source1': 'https://t.me/Covid19india_Auxiliary_Test_Data/1704',\n",
       "   'source3': 'https://t.me/Covid19india_Auxiliary_Test_Data/1891',\n",
       "   'testedasof': '13/08/2020',\n",
       "   'testpositivitylast7days': '8.65%',\n",
       "   'testpositivityrate': '8.88%',\n",
       "   'testsconductedbyprivatelabs': '',\n",
       "   'testsperconfirmedcase': '',\n",
       "   'testspermillion': '20778',\n",
       "   'totalindividualstested': '',\n",
       "   'totalpositivecases': '',\n",
       "   'totalrtpcrsamplescollectedicmrapplication': '15914051',\n",
       "   'totalsamplestested': '27694416',\n",
       "   'updatetimestamp': '14/08/2020 09:00:00'},\n",
       "  {'dailyrtpcrsamplescollectedicmrapplication': '391987',\n",
       "   'individualstestedperconfirmedcase': '',\n",
       "   'positivecasesfromsamplesreported': '',\n",
       "   'samplereportedtoday': '868679',\n",
       "   'source': 'http://twitter.com/ICMRDELHI/status/1294485146712698880',\n",
       "   'source1': 'https://t.me/Covid19india_Auxiliary_Test_Data/1724',\n",
       "   'source3': 'https://t.me/Covid19india_Auxiliary_Test_Data/1891',\n",
       "   'testedasof': '14/08/2020',\n",
       "   'testpositivitylast7days': '8.37%',\n",
       "   'testpositivityrate': '8.84%',\n",
       "   'testsconductedbyprivatelabs': '',\n",
       "   'testsperconfirmedcase': '',\n",
       "   'testspermillion': '21429',\n",
       "   'totalindividualstested': '',\n",
       "   'totalpositivecases': '',\n",
       "   'totalrtpcrsamplescollectedicmrapplication': '16306038',\n",
       "   'totalsamplestested': '28563095',\n",
       "   'updatetimestamp': '15/08/2020 09:00:00'},\n",
       "  {'dailyrtpcrsamplescollectedicmrapplication': '262944',\n",
       "   'individualstestedperconfirmedcase': '',\n",
       "   'positivecasesfromsamplesreported': '',\n",
       "   'samplereportedtoday': '746608',\n",
       "   'source': 'http://twitter.com/ICMRDELHI/status/1294841110259326976',\n",
       "   'source1': 'https://t.me/Covid19india_Auxiliary_Test_Data/1739',\n",
       "   'source3': 'https://t.me/Covid19india_Auxiliary_Test_Data/1891',\n",
       "   'testedasof': '15/08/2020',\n",
       "   'testpositivitylast7days': '7.94%',\n",
       "   'testpositivityrate': '8.83%',\n",
       "   'testsconductedbyprivatelabs': '',\n",
       "   'testsperconfirmedcase': '',\n",
       "   'testspermillion': '21989',\n",
       "   'totalindividualstested': '',\n",
       "   'totalpositivecases': '',\n",
       "   'totalrtpcrsamplescollectedicmrapplication': '16568982',\n",
       "   'totalsamplestested': '29309703',\n",
       "   'updatetimestamp': '16/08/2020 09:00:00'},\n",
       "  {'dailyrtpcrsamplescollectedicmrapplication': '234952',\n",
       "   'individualstestedperconfirmedcase': '',\n",
       "   'positivecasesfromsamplesreported': '',\n",
       "   'samplereportedtoday': '731697',\n",
       "   'source': 'http://twitter.com/ICMRDELHI/status/1295198089125355521',\n",
       "   'source1': 'https://t.me/Covid19india_Auxiliary_Test_Data/1752',\n",
       "   'source3': '',\n",
       "   'testedasof': '16/08/2020',\n",
       "   'testpositivitylast7days': '7.99%',\n",
       "   'testpositivityrate': '8.81%',\n",
       "   'testsconductedbyprivatelabs': '',\n",
       "   'testsperconfirmedcase': '',\n",
       "   'testspermillion': '22538',\n",
       "   'totalindividualstested': '',\n",
       "   'totalpositivecases': '',\n",
       "   'totalrtpcrsamplescollectedicmrapplication': '16803934',\n",
       "   'totalsamplestested': '30041400',\n",
       "   'updatetimestamp': '17/08/2020 09:00:00'},\n",
       "  {'dailyrtpcrsamplescollectedicmrapplication': '447058',\n",
       "   'individualstestedperconfirmedcase': '',\n",
       "   'positivecasesfromsamplesreported': '',\n",
       "   'samplereportedtoday': '899864',\n",
       "   'source': 'https://twitter.com/ICMRDELHI/status/1295561779540459520',\n",
       "   'source1': 'https://t.me/Covid19india_Auxiliary_Test_Data/1771',\n",
       "   'source3': 'https://t.me/Covid19india_Auxiliary_Test_Data/1894',\n",
       "   'testedasof': '17/08/2020',\n",
       "   'testpositivitylast7days': '7.58%',\n",
       "   'testpositivityrate': '8.73%',\n",
       "   'testsconductedbyprivatelabs': '',\n",
       "   'testsperconfirmedcase': '',\n",
       "   'testspermillion': '23213',\n",
       "   'totalindividualstested': '',\n",
       "   'totalpositivecases': '',\n",
       "   'totalrtpcrsamplescollectedicmrapplication': '17250992',\n",
       "   'totalsamplestested': '30941264',\n",
       "   'updatetimestamp': '18/08/2020 09:00:00'},\n",
       "  {'dailyrtpcrsamplescollectedicmrapplication': '438072',\n",
       "   'individualstestedperconfirmedcase': '',\n",
       "   'positivecasesfromsamplesreported': '',\n",
       "   'samplereportedtoday': '801518',\n",
       "   'source': 'http://twitter.com/ICMRDELHI/status/1295929066009182210',\n",
       "   'source1': 'https://t.me/Covid19india_Auxiliary_Test_Data/1791',\n",
       "   'source3': 'https://t.me/Covid19india_Auxiliary_Test_Data/1894',\n",
       "   'testedasof': '18/08/2020',\n",
       "   'testpositivitylast7days': '7.58%',\n",
       "   'testpositivityrate': '8.72%',\n",
       "   'testsconductedbyprivatelabs': '',\n",
       "   'testsperconfirmedcase': '',\n",
       "   'testspermillion': '23815',\n",
       "   'totalindividualstested': '',\n",
       "   'totalpositivecases': '',\n",
       "   'totalrtpcrsamplescollectedicmrapplication': '17689064',\n",
       "   'totalsamplestested': '31742782',\n",
       "   'updatetimestamp': '19/08/2020 09:00:00'},\n",
       "  {'dailyrtpcrsamplescollectedicmrapplication': '424438',\n",
       "   'individualstestedperconfirmedcase': '',\n",
       "   'positivecasesfromsamplesreported': '',\n",
       "   'samplereportedtoday': '918470',\n",
       "   'source': 'https://twitter.com/ICMRDELHI/status/1296296417372250113',\n",
       "   'source1': 'https://t.me/Covid19india_Auxiliary_Test_Data/1804',\n",
       "   'source3': 'https://t.me/Covid19india_Auxiliary_Test_Data/1894',\n",
       "   'testedasof': '19/08/2020',\n",
       "   'testpositivitylast7days': '7.57%',\n",
       "   'testpositivityrate': '8.68%',\n",
       "   'testsconductedbyprivatelabs': '',\n",
       "   'testsperconfirmedcase': '',\n",
       "   'testspermillion': '24504',\n",
       "   'totalindividualstested': '',\n",
       "   'totalpositivecases': '',\n",
       "   'totalrtpcrsamplescollectedicmrapplication': '18113502',\n",
       "   'totalsamplestested': '32661252',\n",
       "   'updatetimestamp': '20/08/2020 09:00:00'},\n",
       "  {'dailyrtpcrsamplescollectedicmrapplication': '423479',\n",
       "   'individualstestedperconfirmedcase': '',\n",
       "   'positivecasesfromsamplesreported': '',\n",
       "   'samplereportedtoday': '805985',\n",
       "   'source': 'http://twitter.com/ICMRDELHI/status/1296650359285243905',\n",
       "   'source1': 'https://t.me/Covid19india_Auxiliary_Test_Data/1820',\n",
       "   'source3': 'https://t.me/Covid19india_Auxiliary_Test_Data/1894',\n",
       "   'testedasof': '20/08/2020',\n",
       "   'testpositivitylast7days': '7.73%',\n",
       "   'testpositivityrate': '8.68%',\n",
       "   'testsconductedbyprivatelabs': '',\n",
       "   'testsperconfirmedcase': '',\n",
       "   'testspermillion': '25109',\n",
       "   'totalindividualstested': '',\n",
       "   'totalpositivecases': '',\n",
       "   'totalrtpcrsamplescollectedicmrapplication': '18536981',\n",
       "   'totalsamplestested': '33467237',\n",
       "   'updatetimestamp': '21/08/2020 09:00:00'},\n",
       "  {'dailyrtpcrsamplescollectedicmrapplication': '416067',\n",
       "   'individualstestedperconfirmedcase': '',\n",
       "   'positivecasesfromsamplesreported': '',\n",
       "   'samplereportedtoday': '1023836',\n",
       "   'source': 'http://twitter.com/ICMRDELHI/status/1297010234624315393',\n",
       "   'source1': 'https://t.me/Covid19india_Auxiliary_Test_Data/1839',\n",
       "   'source3': 'https://t.me/Covid19india_Auxiliary_Test_Data/1879',\n",
       "   'testedasof': '21/08/2020',\n",
       "   'testpositivitylast7days': '7.41%',\n",
       "   'testpositivityrate': '8.62%',\n",
       "   'testsconductedbyprivatelabs': '',\n",
       "   'testsperconfirmedcase': '',\n",
       "   'testspermillion': '25877',\n",
       "   'totalindividualstested': '',\n",
       "   'totalpositivecases': '',\n",
       "   'totalrtpcrsamplescollectedicmrapplication': '18953048',\n",
       "   'totalsamplestested': '34491073',\n",
       "   'updatetimestamp': '22/08/2020 09:00:00'},\n",
       "  {'dailyrtpcrsamplescollectedicmrapplication': '331560',\n",
       "   'individualstestedperconfirmedcase': '',\n",
       "   'positivecasesfromsamplesreported': '',\n",
       "   'samplereportedtoday': '801147',\n",
       "   'source': 'https://twitter.com/ICMRDELHI/status/1297387806818353152',\n",
       "   'source1': 'https://t.me/Covid19india_Auxiliary_Test_Data/1862',\n",
       "   'source3': 'https://t.me/Covid19india_Auxiliary_Test_Data/1881',\n",
       "   'testedasof': '22/08/2020',\n",
       "   'testpositivitylast7days': '7.54%',\n",
       "   'testpositivityrate': '8.62%',\n",
       "   'testsconductedbyprivatelabs': '',\n",
       "   'testsperconfirmedcase': '',\n",
       "   'testspermillion': '26478',\n",
       "   'totalindividualstested': '',\n",
       "   'totalpositivecases': '',\n",
       "   'totalrtpcrsamplescollectedicmrapplication': '19284608',\n",
       "   'totalsamplestested': '35292220',\n",
       "   'updatetimestamp': '23/08/2020 09:00:00'},\n",
       "  {'dailyrtpcrsamplescollectedicmrapplication': '256070',\n",
       "   'individualstestedperconfirmedcase': '',\n",
       "   'positivecasesfromsamplesreported': '',\n",
       "   'samplereportedtoday': '609917',\n",
       "   'source': 'https://twitter.com/ICMRDELHI/status/1297742879255719936?s=20',\n",
       "   'source1': 'https://t.me/Covid19india_Auxiliary_Test_Data/1874',\n",
       "   'source3': 'https://t.me/Covid19india_Auxiliary_Test_Data/1875',\n",
       "   'testedasof': '23/08/2020',\n",
       "   'testpositivitylast7days': '8.14%',\n",
       "   'testpositivityrate': '8.65%',\n",
       "   'testsconductedbyprivatelabs': '',\n",
       "   'testsperconfirmedcase': '',\n",
       "   'testspermillion': '26935',\n",
       "   'totalindividualstested': '',\n",
       "   'totalpositivecases': '',\n",
       "   'totalrtpcrsamplescollectedicmrapplication': '19540678',\n",
       "   'totalsamplestested': '35902137',\n",
       "   'updatetimestamp': '24/08/2020 09:00:00'},\n",
       "  {'dailyrtpcrsamplescollectedicmrapplication': '458481',\n",
       "   'individualstestedperconfirmedcase': '',\n",
       "   'positivecasesfromsamplesreported': '',\n",
       "   'samplereportedtoday': '925383',\n",
       "   'source': 'https://twitter.com/ICMRDELHI/status/1298107913597153280?s=20',\n",
       "   'source1': 'https://t.me/Covid19india_Auxiliary_Test_Data/1904',\n",
       "   'source3': 'https://t.me/Covid19india_Auxiliary_Test_Data/1902',\n",
       "   'testedasof': '24/08/2020',\n",
       "   'testpositivitylast7days': '7.83%',\n",
       "   'testpositivityrate': '8.59%',\n",
       "   'testsconductedbyprivatelabs': '',\n",
       "   'testsperconfirmedcase': '',\n",
       "   'testspermillion': '27630',\n",
       "   'totalindividualstested': '',\n",
       "   'totalpositivecases': '',\n",
       "   'totalrtpcrsamplescollectedicmrapplication': '19999159',\n",
       "   'totalsamplestested': '36827520',\n",
       "   'updatetimestamp': '25/08/2020 09:00:00'},\n",
       "  {'dailyrtpcrsamplescollectedicmrapplication': '474795',\n",
       "   'individualstestedperconfirmedcase': '',\n",
       "   'positivecasesfromsamplesreported': '',\n",
       "   'samplereportedtoday': '823992',\n",
       "   'source': 'https://twitter.com/ICMRDELHI/status/1298463649770553344?s=20',\n",
       "   'source1': 'https://t.me/Covid19india_Auxiliary_Test_Data/1923',\n",
       "   'source3': 'https://t.me/Covid19india_Auxiliary_Test_Data/1920',\n",
       "   'testedasof': '25/08/2020',\n",
       "   'testpositivitylast7days': '7.93%',\n",
       "   'testpositivityrate': '8.58%',\n",
       "   'testsconductedbyprivatelabs': '',\n",
       "   'testsperconfirmedcase': '',\n",
       "   'testspermillion': '28248',\n",
       "   'totalindividualstested': '',\n",
       "   'totalpositivecases': '',\n",
       "   'totalrtpcrsamplescollectedicmrapplication': '20473954',\n",
       "   'totalsamplestested': '37651512',\n",
       "   'updatetimestamp': '26/08/2020 09:00:00'},\n",
       "  {'dailyrtpcrsamplescollectedicmrapplication': '473145',\n",
       "   'individualstestedperconfirmedcase': '',\n",
       "   'positivecasesfromsamplesreported': '',\n",
       "   'samplereportedtoday': '924998',\n",
       "   'source': 'https://twitter.com/ICMRDELHI/status/1298823131100938241?s=20',\n",
       "   'source1': 'https://t.me/Covid19india_Auxiliary_Test_Data/1944',\n",
       "   'source3': 'https://t.me/Covid19india_Auxiliary_Test_Data/1941',\n",
       "   'testedasof': '26/08/2020',\n",
       "   'testpositivitylast7days': '7.90%',\n",
       "   'testpositivityrate': '8.57%',\n",
       "   'testsconductedbyprivatelabs': '',\n",
       "   'testsperconfirmedcase': '',\n",
       "   'testspermillion': '28942',\n",
       "   'totalindividualstested': '',\n",
       "   'totalpositivecases': '',\n",
       "   'totalrtpcrsamplescollectedicmrapplication': '20947099',\n",
       "   'totalsamplestested': '38576510',\n",
       "   'updatetimestamp': '27/08/2020 09:00:00'},\n",
       "  {'dailyrtpcrsamplescollectedicmrapplication': '458987',\n",
       "   'individualstestedperconfirmedcase': '',\n",
       "   'positivecasesfromsamplesreported': '',\n",
       "   'samplereportedtoday': '901338',\n",
       "   'source': 'https://twitter.com/ICMRDELHI/status/1299192086776786944?s=20',\n",
       "   'source1': 'https://t.me/Covid19india_Auxiliary_Test_Data/1964',\n",
       "   'source3': 'https://t.me/Covid19india_Auxiliary_Test_Data/1961',\n",
       "   'testedasof': '27/08/2020',\n",
       "   'testpositivitylast7days': '8.25%',\n",
       "   'testpositivityrate': '8.57%',\n",
       "   'testsconductedbyprivatelabs': '',\n",
       "   'testsperconfirmedcase': '',\n",
       "   'testspermillion': '29618',\n",
       "   'totalindividualstested': '',\n",
       "   'totalpositivecases': '',\n",
       "   'totalrtpcrsamplescollectedicmrapplication': '21406086',\n",
       "   'totalsamplestested': '39477848',\n",
       "   'updatetimestamp': '28/08/2020 09:00:00'},\n",
       "  {'dailyrtpcrsamplescollectedicmrapplication': '450468',\n",
       "   'individualstestedperconfirmedcase': '',\n",
       "   'positivecasesfromsamplesreported': '',\n",
       "   'samplereportedtoday': '928761',\n",
       "   'source': 'https://twitter.com/ICMRDELHI/status/1299572890631770112?s=20',\n",
       "   'source1': 'https://t.me/Covid19india_Auxiliary_Test_Data/1985',\n",
       "   'source3': 'https://t.me/Covid19india_Auxiliary_Test_Data/1982',\n",
       "   'testedasof': '28/08/2020',\n",
       "   'testpositivitylast7days': '8.17%',\n",
       "   'testpositivityrate': '8.57%',\n",
       "   'testsconductedbyprivatelabs': '',\n",
       "   'testsperconfirmedcase': '',\n",
       "   'testspermillion': '30315',\n",
       "   'totalindividualstested': '',\n",
       "   'totalpositivecases': '',\n",
       "   'totalrtpcrsamplescollectedicmrapplication': '21856554',\n",
       "   'totalsamplestested': '40406609',\n",
       "   'updatetimestamp': '29/08/2020 09:00:00'},\n",
       "  {'dailyrtpcrsamplescollectedicmrapplication': '431191',\n",
       "   'individualstestedperconfirmedcase': '',\n",
       "   'positivecasesfromsamplesreported': '',\n",
       "   'samplereportedtoday': '1055027',\n",
       "   'source': 'http://twitter.com/ICMRDELHI/status/1299912932717813761',\n",
       "   'source1': 'https://t.me/Covid19india_Auxiliary_Test_Data/2002',\n",
       "   'source3': 'https://t.me/Covid19india_Auxiliary_Test_Data/2004?single',\n",
       "   'testedasof': '29/08/2020',\n",
       "   'testpositivitylast7days': '7.82%',\n",
       "   'testpositivityrate': '8.54%',\n",
       "   'testsconductedbyprivatelabs': '',\n",
       "   'testsperconfirmedcase': '',\n",
       "   'testspermillion': '31106',\n",
       "   'totalindividualstested': '',\n",
       "   'totalpositivecases': '',\n",
       "   'totalrtpcrsamplescollectedicmrapplication': '22287745',\n",
       "   'totalsamplestested': '41461636',\n",
       "   'updatetimestamp': '30/08/2020 09:00:00'},\n",
       "  {'dailyrtpcrsamplescollectedicmrapplication': '257124',\n",
       "   'individualstestedperconfirmedcase': '',\n",
       "   'positivecasesfromsamplesreported': '',\n",
       "   'samplereportedtoday': '846278',\n",
       "   'source': 'https://twitter.com/ICMRDELHI/status/1300277342275690497?s=20',\n",
       "   'source1': 'https://t.me/Covid19india_Auxiliary_Test_Data/2038',\n",
       "   'source3': 'https://t.me/Covid19india_Auxiliary_Test_Data/2036',\n",
       "   'testedasof': '30/08/2020',\n",
       "   'testpositivitylast7days': '8.29%',\n",
       "   'testpositivityrate': '8.55%',\n",
       "   'testsconductedbyprivatelabs': '',\n",
       "   'testsperconfirmedcase': '',\n",
       "   'testspermillion': '31741',\n",
       "   'totalindividualstested': '',\n",
       "   'totalpositivecases': '',\n",
       "   'totalrtpcrsamplescollectedicmrapplication': '22544869',\n",
       "   'totalsamplestested': '42307914',\n",
       "   'updatetimestamp': '31/08/2020 09:00:00'},\n",
       "  {'dailyrtpcrsamplescollectedicmrapplication': '481071',\n",
       "   'individualstestedperconfirmedcase': '',\n",
       "   'positivecasesfromsamplesreported': '',\n",
       "   'samplereportedtoday': '1016920',\n",
       "   'source': 'https://twitter.com/ICMRDELHI/status/1300631123190374403?s=20',\n",
       "   'source1': 'https://t.me/Covid19india_Auxiliary_Test_Data/2058',\n",
       "   'source3': 'https://t.me/Covid19india_Auxiliary_Test_Data/2050',\n",
       "   'testedasof': '31/08/2020',\n",
       "   'testpositivitylast7days': '8.04%',\n",
       "   'testpositivityrate': '8.51%',\n",
       "   'testsconductedbyprivatelabs': '',\n",
       "   'testsperconfirmedcase': '',\n",
       "   'testspermillion': '32504',\n",
       "   'totalindividualstested': '',\n",
       "   'totalpositivecases': '',\n",
       "   'totalrtpcrsamplescollectedicmrapplication': '23025940',\n",
       "   'totalsamplestested': '43324834',\n",
       "   'updatetimestamp': '01/09/2020 09:00:00'},\n",
       "  {'dailyrtpcrsamplescollectedicmrapplication': '460496',\n",
       "   'individualstestedperconfirmedcase': '',\n",
       "   'positivecasesfromsamplesreported': '',\n",
       "   'samplereportedtoday': '1012367',\n",
       "   'source': 'https://twitter.com/ICMRDELHI/status/1300994754692358144?s=20',\n",
       "   'source1': 'https://t.me/Covid19india_Auxiliary_Test_Data/2080',\n",
       "   'source3': 'https://t.me/Covid19india_Auxiliary_Test_Data/2078',\n",
       "   'testedasof': '01/09/2020',\n",
       "   'testpositivitylast7days': '7.96%',\n",
       "   'testpositivityrate': '8.49%',\n",
       "   'testsconductedbyprivatelabs': '',\n",
       "   'testsperconfirmedcase': '',\n",
       "   'testspermillion': '33264',\n",
       "   'totalindividualstested': '',\n",
       "   'totalpositivecases': '',\n",
       "   'totalrtpcrsamplescollectedicmrapplication': '23486436',\n",
       "   'totalsamplestested': '44337201',\n",
       "   'updatetimestamp': '02/09/2020 09:00:00'},\n",
       "  {'dailyrtpcrsamplescollectedicmrapplication': '447027',\n",
       "   'individualstestedperconfirmedcase': '',\n",
       "   'positivecasesfromsamplesreported': '',\n",
       "   'samplereportedtoday': '1172179',\n",
       "   'source': 'https://twitter.com/ICMRDELHI/status/1301358861308157953?s=20',\n",
       "   'source1': 'https://t.me/Covid19india_Auxiliary_Test_Data/2107',\n",
       "   'source3': 'https://t.me/Covid19india_Auxiliary_Test_Data/2104',\n",
       "   'testedasof': '02/09/2020',\n",
       "   'testpositivitylast7days': '7.70%',\n",
       "   'testpositivityrate': '8.46%',\n",
       "   'testsconductedbyprivatelabs': '',\n",
       "   'testsperconfirmedcase': '',\n",
       "   'testspermillion': '34143',\n",
       "   'totalindividualstested': '',\n",
       "   'totalpositivecases': '',\n",
       "   'totalrtpcrsamplescollectedicmrapplication': '23933463',\n",
       "   'totalsamplestested': '45509380',\n",
       "   'updatetimestamp': '03/09/2020 09:00:00'},\n",
       "  {'dailyrtpcrsamplescollectedicmrapplication': '452079',\n",
       "   'individualstestedperconfirmedcase': '',\n",
       "   'positivecasesfromsamplesreported': '',\n",
       "   'samplereportedtoday': '1169765',\n",
       "   'source': 'https://twitter.com/ICMRDELHI/status/1301719643657175040?s=20',\n",
       "   'source1': 'https://t.me/Covid19india_Auxiliary_Test_Data/2132',\n",
       "   'source3': 'https://t.me/Covid19india_Auxiliary_Test_Data/2130',\n",
       "   'testedasof': '03/09/2020',\n",
       "   'testpositivitylast7days': '7.52%',\n",
       "   'testpositivityrate': '8.43%',\n",
       "   'testsconductedbyprivatelabs': '',\n",
       "   'testsperconfirmedcase': '',\n",
       "   'testspermillion': '35021',\n",
       "   'totalindividualstested': '',\n",
       "   'totalpositivecases': '',\n",
       "   'totalrtpcrsamplescollectedicmrapplication': '24385542',\n",
       "   'totalsamplestested': '46679145',\n",
       "   'updatetimestamp': '04/09/2020 09:00:00'},\n",
       "  {'dailyrtpcrsamplescollectedicmrapplication': '466152',\n",
       "   'individualstestedperconfirmedcase': '',\n",
       "   'positivecasesfromsamplesreported': '',\n",
       "   'samplereportedtoday': '1059346',\n",
       "   'source': 'https://twitter.com/ICMRDELHI/status/1302095137435086848?s=20',\n",
       "   'source1': 'https://t.me/Covid19india_Auxiliary_Test_Data/2154',\n",
       "   'source3': 'https://t.me/Covid19india_Auxiliary_Test_Data/2152',\n",
       "   'testedasof': '04/09/2020',\n",
       "   'testpositivitylast7days': '7.66%',\n",
       "   'testpositivityrate': '8.42%',\n",
       "   'testsconductedbyprivatelabs': '',\n",
       "   'testsperconfirmedcase': '',\n",
       "   'testspermillion': '35816',\n",
       "   'totalindividualstested': '',\n",
       "   'totalpositivecases': '',\n",
       "   'totalrtpcrsamplescollectedicmrapplication': '24851694',\n",
       "   'totalsamplestested': '47738491',\n",
       "   'updatetimestamp': '05/09/2020 09:00:00'},\n",
       "  {'dailyrtpcrsamplescollectedicmrapplication': '437621',\n",
       "   'individualstestedperconfirmedcase': '',\n",
       "   'positivecasesfromsamplesreported': '',\n",
       "   'samplereportedtoday': '1092654',\n",
       "   'source': 'http://twitter.com/ICMRDELHI/status/1302441910481559552',\n",
       "   'source1': 'https://t.me/Covid19india_Auxiliary_Test_Data/2181',\n",
       "   'source3': 'https://t.me/Covid19india_Auxiliary_Test_Data/2179',\n",
       "   'testedasof': '05/09/2020',\n",
       "   'testpositivitylast7days': '7.54%',\n",
       "   'testpositivityrate': '8.42%',\n",
       "   'testsconductedbyprivatelabs': '',\n",
       "   'testsperconfirmedcase': '',\n",
       "   'testspermillion': '36635',\n",
       "   'totalindividualstested': '',\n",
       "   'totalpositivecases': '',\n",
       "   'totalrtpcrsamplescollectedicmrapplication': '25289315',\n",
       "   'totalsamplestested': '48831145',\n",
       "   'updatetimestamp': '06/09/2020 09:00:00'},\n",
       "  {'dailyrtpcrsamplescollectedicmrapplication': '258804',\n",
       "   'individualstestedperconfirmedcase': '',\n",
       "   'positivecasesfromsamplesreported': '',\n",
       "   'samplereportedtoday': '720362',\n",
       "   'source': 'https://www.icmr.gov.in/pdf/covid/update/ICMR_testing_update_07Sept2020.pdf',\n",
       "   'source1': 'https://t.me/Covid19india_Auxiliary_Test_Data/2204',\n",
       "   'source3': 'https://t.me/Covid19india_Auxiliary_Test_Data/2208',\n",
       "   'testedasof': '06/09/2020',\n",
       "   'testpositivitylast7days': '8.26%',\n",
       "   'testpositivityrate': '8.48%',\n",
       "   'testsconductedbyprivatelabs': '',\n",
       "   'testsperconfirmedcase': '',\n",
       "   'testspermillion': '37176',\n",
       "   'totalindividualstested': '',\n",
       "   'totalpositivecases': '',\n",
       "   'totalrtpcrsamplescollectedicmrapplication': '25548119',\n",
       "   'totalsamplestested': '49551507',\n",
       "   'updatetimestamp': '07/09/2020 09:00:00'},\n",
       "  {'dailyrtpcrsamplescollectedicmrapplication': '467276',\n",
       "   'individualstestedperconfirmedcase': '',\n",
       "   'positivecasesfromsamplesreported': '',\n",
       "   'samplereportedtoday': '1098621',\n",
       "   'source': 'http://twitter.com/ICMRDELHI/status/1303170261689094144',\n",
       "   'source1': 'https://t.me/Covid19india_Auxiliary_Test_Data/2234',\n",
       "   'source3': 'https://t.me/Covid19india_Auxiliary_Test_Data/2232',\n",
       "   'testedasof': '07/09/2020',\n",
       "   'testpositivitylast7days': '8.10%',\n",
       "   'testpositivityrate': '8.45%',\n",
       "   'testsconductedbyprivatelabs': '',\n",
       "   'testsperconfirmedcase': '',\n",
       "   'testspermillion': '38000',\n",
       "   'totalindividualstested': '',\n",
       "   'totalpositivecases': '',\n",
       "   'totalrtpcrsamplescollectedicmrapplication': '26015395',\n",
       "   'totalsamplestested': '50650128',\n",
       "   'updatetimestamp': '08/09/2020 09:00:00'},\n",
       "  {'dailyrtpcrsamplescollectedicmrapplication': '487554',\n",
       "   'individualstestedperconfirmedcase': '',\n",
       "   'positivecasesfromsamplesreported': '',\n",
       "   'samplereportedtoday': '1154549',\n",
       "   'source': 'https://twitter.com/ICMRDELHI/status/1303528964766408704?s=20',\n",
       "   'source1': 'https://t.me/Covid19india_Auxiliary_Test_Data/2253',\n",
       "   'source3': 'https://t.me/Covid19india_Auxiliary_Test_Data/2250',\n",
       "   'testedasof': '08/09/2020',\n",
       "   'testpositivitylast7days': '8.24%',\n",
       "   'testpositivityrate': '8.43%',\n",
       "   'testsconductedbyprivatelabs': '',\n",
       "   'testsperconfirmedcase': '',\n",
       "   'testspermillion': '38866',\n",
       "   'totalindividualstested': '',\n",
       "   'totalpositivecases': '',\n",
       "   'totalrtpcrsamplescollectedicmrapplication': '26502949',\n",
       "   'totalsamplestested': '51804677',\n",
       "   'updatetimestamp': '09/09/2020 09:00:00'},\n",
       "  {'dailyrtpcrsamplescollectedicmrapplication': '480433',\n",
       "   'individualstestedperconfirmedcase': '',\n",
       "   'positivecasesfromsamplesreported': '',\n",
       "   'samplereportedtoday': '1129756',\n",
       "   'source': 'http://twitter.com/ICMRDELHI/status/1303895987639918595',\n",
       "   'source1': 'https://t.me/Covid19india_Auxiliary_Test_Data/2271',\n",
       "   'source3': 'https://t.me/Covid19india_Auxiliary_Test_Data/2269',\n",
       "   'testedasof': '09/09/2020',\n",
       "   'testpositivitylast7days': '8.47%',\n",
       "   'testpositivityrate': '8.43%',\n",
       "   'testsconductedbyprivatelabs': '',\n",
       "   'testsperconfirmedcase': '',\n",
       "   'testspermillion': '39714',\n",
       "   'totalindividualstested': '',\n",
       "   'totalpositivecases': '',\n",
       "   'totalrtpcrsamplescollectedicmrapplication': '26983382',\n",
       "   'totalsamplestested': '52934433',\n",
       "   'updatetimestamp': '10/09/2020 09:00:00'},\n",
       "  {'dailyrtpcrsamplescollectedicmrapplication': '474975',\n",
       "   'individualstestedperconfirmedcase': '',\n",
       "   'positivecasesfromsamplesreported': '',\n",
       "   'samplereportedtoday': '1163542',\n",
       "   'source': 'http://twitter.com/ICMRDELHI/status/1304256905628585984',\n",
       "   'source1': 'https://t.me/Covid19india_Auxiliary_Test_Data/2293',\n",
       "   'source3': 'https://t.me/Covid19india_Auxiliary_Test_Data/2294',\n",
       "   'testedasof': '10/09/2020',\n",
       "   'testpositivitylast7days': '8.48%',\n",
       "   'testpositivityrate': '8.43%',\n",
       "   'testsconductedbyprivatelabs': '',\n",
       "   'testsperconfirmedcase': '',\n",
       "   'testspermillion': '40587',\n",
       "   'totalindividualstested': '',\n",
       "   'totalpositivecases': '',\n",
       "   'totalrtpcrsamplescollectedicmrapplication': '27458357',\n",
       "   'totalsamplestested': '54097975',\n",
       "   'updatetimestamp': '11/09/2020 09:00:00'},\n",
       "  {'dailyrtpcrsamplescollectedicmrapplication': '473131',\n",
       "   'individualstestedperconfirmedcase': '',\n",
       "   'positivecasesfromsamplesreported': '',\n",
       "   'samplereportedtoday': '1091251',\n",
       "   'source': 'https://www.icmr.gov.in/pdf/covid/update/ICMR_testing_update_12Sept2020.pdf',\n",
       "   'source1': 'https://t.me/Covid19india_Auxiliary_Test_Data/2317',\n",
       "   'source3': 'https://t.me/Covid19india_Auxiliary_Test_Data/2315',\n",
       "   'testedasof': '11/09/2020',\n",
       "   'testpositivitylast7days': '8.60%',\n",
       "   'testpositivityrate': '8.44%',\n",
       "   'testsconductedbyprivatelabs': '',\n",
       "   'testsperconfirmedcase': '',\n",
       "   'testspermillion': '41405',\n",
       "   'totalindividualstested': '',\n",
       "   'totalpositivecases': '',\n",
       "   'totalrtpcrsamplescollectedicmrapplication': '27931488',\n",
       "   'totalsamplestested': '55189226',\n",
       "   'updatetimestamp': '12/09/2020 09:00:00'},\n",
       "  {'dailyrtpcrsamplescollectedicmrapplication': '444887',\n",
       "   'individualstestedperconfirmedcase': '',\n",
       "   'positivecasesfromsamplesreported': '',\n",
       "   'samplereportedtoday': '1071702',\n",
       "   'source': 'https://www.icmr.gov.in/pdf/covid/update/ICMR_testing_update_13Sept2020.pdf',\n",
       "   'source1': 'https://t.me/Covid19india_Auxiliary_Test_Data/2334',\n",
       "   'source3': 'https://t.me/Covid19india_Auxiliary_Test_Data/2335',\n",
       "   'testedasof': '12/09/2020',\n",
       "   'testpositivitylast7days': '8.19%',\n",
       "   'testpositivityrate': '8.45%',\n",
       "   'testsconductedbyprivatelabs': '',\n",
       "   'testsperconfirmedcase': '',\n",
       "   'testspermillion': '42209',\n",
       "   'totalindividualstested': '',\n",
       "   'totalpositivecases': '',\n",
       "   'totalrtpcrsamplescollectedicmrapplication': '28376375',\n",
       "   'totalsamplestested': '56260928',\n",
       "   'updatetimestamp': '13/09/2020 09:00:00'},\n",
       "  {'dailyrtpcrsamplescollectedicmrapplication': '263973',\n",
       "   'individualstestedperconfirmedcase': '',\n",
       "   'positivecasesfromsamplesreported': '',\n",
       "   'samplereportedtoday': '978500',\n",
       "   'source': 'https://www.icmr.gov.in/pdf/covid/update/ICMR_testing_update_14Sept2020.pdf',\n",
       "   'source1': 'https://t.me/Covid19india_Auxiliary_Test_Data/2357',\n",
       "   'source3': 'https://t.me/Covid19india_Auxiliary_Test_Data/2355',\n",
       "   'testedasof': '13/09/2020',\n",
       "   'testpositivitylast7days': '8.61%',\n",
       "   'testpositivityrate': '8.46%',\n",
       "   'testsconductedbyprivatelabs': '',\n",
       "   'testsperconfirmedcase': '',\n",
       "   'testspermillion': '42944',\n",
       "   'totalindividualstested': '',\n",
       "   'totalpositivecases': '',\n",
       "   'totalrtpcrsamplescollectedicmrapplication': '28640348',\n",
       "   'totalsamplestested': '57239428',\n",
       "   'updatetimestamp': '14/09/2020 09:00:00'},\n",
       "  {'dailyrtpcrsamplescollectedicmrapplication': '485458',\n",
       "   'individualstestedperconfirmedcase': '',\n",
       "   'positivecasesfromsamplesreported': '',\n",
       "   'samplereportedtoday': '1072845',\n",
       "   'source': 'http://twitter.com/ICMRDELHI/status/1305699536300511232',\n",
       "   'source1': 'https://t.me/Covid19india_Auxiliary_Test_Data/2377',\n",
       "   'source3': 'https://t.me/Covid19india_Auxiliary_Test_Data/2375',\n",
       "   'testedasof': '14/09/2020',\n",
       "   'testpositivitylast7days': '8.60%',\n",
       "   'testpositivityrate': '8.45%',\n",
       "   'testsconductedbyprivatelabs': '',\n",
       "   'testsperconfirmedcase': '',\n",
       "   'testspermillion': '43748',\n",
       "   'totalindividualstested': '',\n",
       "   'totalpositivecases': '',\n",
       "   'totalrtpcrsamplescollectedicmrapplication': '29125806',\n",
       "   'totalsamplestested': '58312273',\n",
       "   'updatetimestamp': '15/09/2020 09:00:00'},\n",
       "  {'dailyrtpcrsamplescollectedicmrapplication': '496917',\n",
       "   'individualstestedperconfirmedcase': '',\n",
       "   'positivecasesfromsamplesreported': '',\n",
       "   'samplereportedtoday': '1116842',\n",
       "   'source': 'https://www.icmr.gov.in/pdf/covid/update/ICMR_testing_update_16Sept2020.pdf',\n",
       "   'source1': 'https://t.me/Covid19india_Auxiliary_Test_Data/2401',\n",
       "   'source3': 'https://t.me/Covid19india_Auxiliary_Test_Data/2398',\n",
       "   'testedasof': '15/09/2020',\n",
       "   'testpositivitylast7days': '8.55%',\n",
       "   'testpositivityrate': '8.44%',\n",
       "   'testsconductedbyprivatelabs': '',\n",
       "   'testsperconfirmedcase': '',\n",
       "   'testspermillion': '44586',\n",
       "   'totalindividualstested': '',\n",
       "   'totalpositivecases': '',\n",
       "   'totalrtpcrsamplescollectedicmrapplication': '29622723',\n",
       "   'totalsamplestested': '59429115',\n",
       "   'updatetimestamp': '16/09/2020 09:00:00'},\n",
       "  {'dailyrtpcrsamplescollectedicmrapplication': '488309',\n",
       "   'individualstestedperconfirmedcase': '',\n",
       "   'positivecasesfromsamplesreported': '',\n",
       "   'samplereportedtoday': '1136613',\n",
       "   'source': 'http://twitter.com/ICMRDELHI/status/1306426219882258433',\n",
       "   'source1': 'https://t.me/Covid19india_Auxiliary_Test_Data/2419',\n",
       "   'source3': 'https://t.me/Covid19india_Auxiliary_Test_Data/2420',\n",
       "   'testedasof': '16/09/2020',\n",
       "   'testpositivitylast7days': '8.60%',\n",
       "   'testpositivityrate': '8.45%',\n",
       "   'testsconductedbyprivatelabs': '',\n",
       "   'testsperconfirmedcase': '',\n",
       "   'testspermillion': '45439',\n",
       "   'totalindividualstested': '',\n",
       "   'totalpositivecases': '',\n",
       "   'totalrtpcrsamplescollectedicmrapplication': '30111032',\n",
       "   'totalsamplestested': '60565728',\n",
       "   'updatetimestamp': '17/09/2020 09:00:00'},\n",
       "  {'dailyrtpcrsamplescollectedicmrapplication': '416189',\n",
       "   'individualstestedperconfirmedcase': '',\n",
       "   'positivecasesfromsamplesreported': '',\n",
       "   'samplereportedtoday': '1006615',\n",
       "   'source': 'https://www.icmr.gov.in/pdf/covid/update/ICMR_testing_update_18Sept2020.pdf',\n",
       "   'source1': 'https://t.me/Covid19india_Auxiliary_Test_Data/2436',\n",
       "   'source3': 'https://t.me/Covid19india_Auxiliary_Test_Data/2437',\n",
       "   'testedasof': '17/09/2020',\n",
       "   'testpositivitylast7days': '8.70%',\n",
       "   'testpositivityrate': '8.47%',\n",
       "   'testsconductedbyprivatelabs': '',\n",
       "   'testsperconfirmedcase': '',\n",
       "   'testspermillion': '46194',\n",
       "   'totalindividualstested': '',\n",
       "   'totalpositivecases': '',\n",
       "   'totalrtpcrsamplescollectedicmrapplication': '30527221',\n",
       "   'totalsamplestested': '61572343',\n",
       "   'updatetimestamp': '18/09/2020 09:00:00'},\n",
       "  {'dailyrtpcrsamplescollectedicmrapplication': '477426',\n",
       "   'individualstestedperconfirmedcase': '',\n",
       "   'positivecasesfromsamplesreported': '',\n",
       "   'samplereportedtoday': '881911',\n",
       "   'source': 'https://www.icmr.gov.in/pdf/covid/update/ICMR_testing_update_19Sept2020.pdf',\n",
       "   'source1': 'https://t.me/Covid19india_Auxiliary_Test_Data/2453',\n",
       "   'source3': 'https://t.me/Covid19india_Auxiliary_Test_Data/2451',\n",
       "   'testedasof': '18/09/2020',\n",
       "   'testpositivitylast7days': '8.94%',\n",
       "   'testpositivityrate': '8.50%',\n",
       "   'testsconductedbyprivatelabs': '',\n",
       "   'testsperconfirmedcase': '',\n",
       "   'testspermillion': '46856',\n",
       "   'totalindividualstested': '',\n",
       "   'totalpositivecases': '',\n",
       "   'totalrtpcrsamplescollectedicmrapplication': '31004647',\n",
       "   'totalsamplestested': '62454254',\n",
       "   'updatetimestamp': '19/09/2020 09:00:00'},\n",
       "  {'dailyrtpcrsamplescollectedicmrapplication': '454782',\n",
       "   'individualstestedperconfirmedcase': '',\n",
       "   'positivecasesfromsamplesreported': '',\n",
       "   'samplereportedtoday': '1206806',\n",
       "   'source': 'http://twitter.com/ICMRDELHI/status/1307521264051912704',\n",
       "   'source1': 'https://t.me/Covid19india_Auxiliary_Test_Data/2470',\n",
       "   'source3': 'https://t.me/Covid19india_Auxiliary_Test_Data/2471',\n",
       "   'testedasof': '19/09/2020',\n",
       "   'testpositivitylast7days': '8.61%',\n",
       "   'testpositivityrate': '8.48%',\n",
       "   'testsconductedbyprivatelabs': '',\n",
       "   'testsperconfirmedcase': '',\n",
       "   'testspermillion': '47761',\n",
       "   'totalindividualstested': '',\n",
       "   'totalpositivecases': '',\n",
       "   'totalrtpcrsamplescollectedicmrapplication': '31459429',\n",
       "   'totalsamplestested': '63661060',\n",
       "   'updatetimestamp': '20/09/2020 09:00:00'},\n",
       "  {'dailyrtpcrsamplescollectedicmrapplication': '284397',\n",
       "   'individualstestedperconfirmedcase': '',\n",
       "   'positivecasesfromsamplesreported': '',\n",
       "   'samplereportedtoday': '731534',\n",
       "   'source': 'http://twitter.com/ICMRDELHI/status/1307882901397073920',\n",
       "   'source1': 'https://t.me/Covid19india_Auxiliary_Test_Data/2491',\n",
       "   'source3': 'https://t.me/Covid19india_Auxiliary_Test_Data/2492',\n",
       "   'testedasof': '20/09/2020',\n",
       "   'testpositivitylast7days': '9.19%',\n",
       "   'testpositivityrate': '8.52%',\n",
       "   'testsconductedbyprivatelabs': '',\n",
       "   'testsperconfirmedcase': '',\n",
       "   'testspermillion': '48310',\n",
       "   'totalindividualstested': '',\n",
       "   'totalpositivecases': '',\n",
       "   'totalrtpcrsamplescollectedicmrapplication': '31743826',\n",
       "   'totalsamplestested': '64392594',\n",
       "   'updatetimestamp': '21/09/2020 09:00:00'},\n",
       "  {'dailyrtpcrsamplescollectedicmrapplication': '502378',\n",
       "   'individualstestedperconfirmedcase': '',\n",
       "   'positivecasesfromsamplesreported': '',\n",
       "   'samplereportedtoday': '933185',\n",
       "   'source': 'http://twitter.com/ICMRDELHI/status/1308247067198799873',\n",
       "   'source1': 'https://t.me/Covid19india_Auxiliary_Test_Data/2511',\n",
       "   'source3': 'https://t.me/Covid19india_Auxiliary_Test_Data/2512',\n",
       "   'testedasof': '21/09/2020',\n",
       "   'testpositivitylast7days': '9.19%',\n",
       "   'testpositivityrate': '8.51%',\n",
       "   'testsconductedbyprivatelabs': '',\n",
       "   'testsperconfirmedcase': '',\n",
       "   'testspermillion': '49010',\n",
       "   'totalindividualstested': '',\n",
       "   'totalpositivecases': '',\n",
       "   'totalrtpcrsamplescollectedicmrapplication': '32246204',\n",
       "   'totalsamplestested': '65325779',\n",
       "   'updatetimestamp': '22/09/2020 09:00:00'},\n",
       "  {'dailyrtpcrsamplescollectedicmrapplication': '477203',\n",
       "   'individualstestedperconfirmedcase': '',\n",
       "   'positivecasesfromsamplesreported': '',\n",
       "   'samplereportedtoday': '953683',\n",
       "   'source': 'https://www.icmr.gov.in/pdf/covid/update/ICMR_testing_update_23Sept2020.pdf',\n",
       "   'source1': 'https://t.me/Covid19india_Auxiliary_Test_Data/2535',\n",
       "   'source3': 'https://t.me/Covid19india_Auxiliary_Test_Data/2536',\n",
       "   'testedasof': '22/09/2020',\n",
       "   'testpositivitylast7days': '9.23%',\n",
       "   'testpositivityrate': '8.51%',\n",
       "   'testsconductedbyprivatelabs': '',\n",
       "   'testsperconfirmedcase': '',\n",
       "   'testspermillion': '49726',\n",
       "   'totalindividualstested': '',\n",
       "   'totalpositivecases': '',\n",
       "   'totalrtpcrsamplescollectedicmrapplication': '32723407',\n",
       "   'totalsamplestested': '66279462',\n",
       "   'updatetimestamp': '23/09/2020 09:00:00'},\n",
       "  {'dailyrtpcrsamplescollectedicmrapplication': '467424',\n",
       "   'individualstestedperconfirmedcase': '',\n",
       "   'positivecasesfromsamplesreported': '',\n",
       "   'samplereportedtoday': '1156569',\n",
       "   'source': 'http://twitter.com/ICMRDELHI/status/1308967193292365825',\n",
       "   'source1': 'https://t.me/Covid19india_Auxiliary_Test_Data/2555',\n",
       "   'source3': 'https://t.me/Covid19india_Auxiliary_Test_Data/2557?single',\n",
       "   'testedasof': '23/09/2020',\n",
       "   'testpositivitylast7days': '8.83%',\n",
       "   'testpositivityrate': '8.50%',\n",
       "   'testsconductedbyprivatelabs': '',\n",
       "   'testsperconfirmedcase': '',\n",
       "   'testspermillion': '50593',\n",
       "   'totalindividualstested': '',\n",
       "   'totalpositivecases': '',\n",
       "   'totalrtpcrsamplescollectedicmrapplication': '33190831',\n",
       "   'totalsamplestested': '67436031',\n",
       "   'updatetimestamp': '24/09/2020 09:00:00'},\n",
       "  {'dailyrtpcrsamplescollectedicmrapplication': '455629',\n",
       "   'individualstestedperconfirmedcase': '',\n",
       "   'positivecasesfromsamplesreported': '',\n",
       "   'samplereportedtoday': '1492409',\n",
       "   'source': 'http://twitter.com/ICMRDELHI/status/1309329991100817409',\n",
       "   'source1': 'https://t.me/Covid19india_Auxiliary_Test_Data/2597',\n",
       "   'source3': 'https://t.me/Covid19india_Auxiliary_Test_Data/2595',\n",
       "   'testedasof': '24/09/2020',\n",
       "   'testpositivitylast7days': '7.88%',\n",
       "   'testpositivityrate': '8.44%',\n",
       "   'testsconductedbyprivatelabs': '',\n",
       "   'testsperconfirmedcase': '',\n",
       "   'testspermillion': '51713',\n",
       "   'totalindividualstested': '',\n",
       "   'totalpositivecases': '',\n",
       "   'totalrtpcrsamplescollectedicmrapplication': '33646460',\n",
       "   'totalsamplestested': '68928440',\n",
       "   'updatetimestamp': '25/09/2020 09:00:00'},\n",
       "  {'dailyrtpcrsamplescollectedicmrapplication': '449466',\n",
       "   'individualstestedperconfirmedcase': '',\n",
       "   'positivecasesfromsamplesreported': '',\n",
       "   'samplereportedtoday': '1341535',\n",
       "   'source': 'http://twitter.com/ICMRDELHI/status/1309693135790854144',\n",
       "   'source1': 'https://t.me/Covid19india_Auxiliary_Test_Data/2615',\n",
       "   'source3': 'https://t.me/Covid19india_Auxiliary_Test_Data/2613',\n",
       "   'testedasof': '25/09/2020',\n",
       "   'testpositivitylast7days': '7.62%',\n",
       "   'testpositivityrate': '8.40%',\n",
       "   'testsconductedbyprivatelabs': '',\n",
       "   'testsperconfirmedcase': '',\n",
       "   'testspermillion': '52720',\n",
       "   'totalindividualstested': '',\n",
       "   'totalpositivecases': '',\n",
       "   'totalrtpcrsamplescollectedicmrapplication': '34095926',\n",
       "   'totalsamplestested': '70269975',\n",
       "   'updatetimestamp': '26/09/2020 09:00:00'},\n",
       "  {'dailyrtpcrsamplescollectedicmrapplication': '445709',\n",
       "   'individualstestedperconfirmedcase': '',\n",
       "   'positivecasesfromsamplesreported': '',\n",
       "   'samplereportedtoday': '987861',\n",
       "   'source': 'https://www.icmr.gov.in/pdf/covid/update/ICMR_testing_update_27Sept2020.pdf',\n",
       "   'source1': 'https://t.me/Covid19india_Auxiliary_Test_Data/2642',\n",
       "   'source3': 'https://t.me/Covid19india_Auxiliary_Test_Data/2639',\n",
       "   'testedasof': '26/09/2020',\n",
       "   'testpositivitylast7days': '7.36%',\n",
       "   'testpositivityrate': '8.41%',\n",
       "   'testsconductedbyprivatelabs': '',\n",
       "   'testsperconfirmedcase': '',\n",
       "   'testspermillion': '53461',\n",
       "   'totalindividualstested': '',\n",
       "   'totalpositivecases': '',\n",
       "   'totalrtpcrsamplescollectedicmrapplication': '34541635',\n",
       "   'totalsamplestested': '71257836',\n",
       "   'updatetimestamp': '27/09/2020 09:00:00'},\n",
       "  {'dailyrtpcrsamplescollectedicmrapplication': '280943',\n",
       "   'individualstestedperconfirmedcase': '',\n",
       "   'positivecasesfromsamplesreported': '',\n",
       "   'samplereportedtoday': '709394',\n",
       "   'source': 'https://www.icmr.gov.in/pdf/covid/update/ICMR_testing_update_28Sept2020.pdf',\n",
       "   'source1': 'https://t.me/Covid19india_Auxiliary_Test_Data/2661',\n",
       "   'source3': 'https://t.me/Covid19india_Auxiliary_Test_Data/2662',\n",
       "   'testedasof': '27/09/2020',\n",
       "   'testpositivitylast7days': '7.73%',\n",
       "   'testpositivityrate': '8.44%',\n",
       "   'testsconductedbyprivatelabs': '',\n",
       "   'testsperconfirmedcase': '',\n",
       "   'testspermillion': '53993',\n",
       "   'totalindividualstested': '',\n",
       "   'totalpositivecases': '',\n",
       "   'totalrtpcrsamplescollectedicmrapplication': '34822578',\n",
       "   'totalsamplestested': '71967230',\n",
       "   'updatetimestamp': '28/09/2020 09:00:00'},\n",
       "  {'dailyrtpcrsamplescollectedicmrapplication': '588645',\n",
       "   'individualstestedperconfirmedcase': '',\n",
       "   'positivecasesfromsamplesreported': '',\n",
       "   'samplereportedtoday': '1142811',\n",
       "   'source': 'https://www.icmr.gov.in/pdf/covid/update/ICMR_testing_update_29Sept2020.pdf',\n",
       "   'source1': 'https://t.me/Covid19india_Auxiliary_Test_Data/2685',\n",
       "   'source3': 'https://t.me/Covid19india_Auxiliary_Test_Data/2682',\n",
       "   'testedasof': '28/09/2020',\n",
       "   'testpositivitylast7days': '7.31%',\n",
       "   'testpositivityrate': '8.40%',\n",
       "   'testsconductedbyprivatelabs': '',\n",
       "   'testsperconfirmedcase': '',\n",
       "   'testspermillion': '54850',\n",
       "   'totalindividualstested': '',\n",
       "   'totalpositivecases': '',\n",
       "   'totalrtpcrsamplescollectedicmrapplication': '35411223',\n",
       "   'totalsamplestested': '73110041',\n",
       "   'updatetimestamp': '29/09/2020 09:00:00'},\n",
       "  {'dailyrtpcrsamplescollectedicmrapplication': '591125',\n",
       "   'individualstestedperconfirmedcase': '',\n",
       "   'positivecasesfromsamplesreported': '',\n",
       "   'samplereportedtoday': '1086688',\n",
       "   'source': 'https://www.icmr.gov.in/pdf/covid/update/ICMR_testing_update_30Sept2020.pdf',\n",
       "   'source1': 'https://t.me/Covid19india_Auxiliary_Test_Data/2709',\n",
       "   'source3': 'https://t.me/Covid19india_Auxiliary_Test_Data/2707',\n",
       "   'testedasof': '29/09/2020',\n",
       "   'testpositivitylast7days': '7.30%',\n",
       "   'testpositivityrate': '8.39%',\n",
       "   'testsconductedbyprivatelabs': '',\n",
       "   'testsperconfirmedcase': '',\n",
       "   'testspermillion': '55666',\n",
       "   'totalindividualstested': '',\n",
       "   'totalpositivecases': '',\n",
       "   'totalrtpcrsamplescollectedicmrapplication': '36002348',\n",
       "   'totalsamplestested': '74196729',\n",
       "   'updatetimestamp': '30/09/2020 09:00:00'},\n",
       "  {'dailyrtpcrsamplescollectedicmrapplication': '581367',\n",
       "   'individualstestedperconfirmedcase': '',\n",
       "   'positivecasesfromsamplesreported': '',\n",
       "   'samplereportedtoday': '1423052',\n",
       "   'source': 'https://www.icmr.gov.in/pdf/covid/update/ICMR_testing_update_01Oct2020.pdf',\n",
       "   'source1': 'https://t.me/Covid19india_Auxiliary_Test_Data/2729',\n",
       "   'source3': 'https://t.me/Covid19india_Auxiliary_Test_Data/2727',\n",
       "   'testedasof': '30/09/2020',\n",
       "   'testpositivitylast7days': '7.39%',\n",
       "   'testpositivityrate': '8.34%',\n",
       "   'testsconductedbyprivatelabs': '',\n",
       "   'testsperconfirmedcase': '',\n",
       "   'testspermillion': '56733',\n",
       "   'totalindividualstested': '',\n",
       "   'totalpositivecases': '',\n",
       "   'totalrtpcrsamplescollectedicmrapplication': '36583715',\n",
       "   'totalsamplestested': '75619781',\n",
       "   'updatetimestamp': '01/10/2020 09:00:00'},\n",
       "  {'dailyrtpcrsamplescollectedicmrapplication': '501362',\n",
       "   'individualstestedperconfirmedcase': '',\n",
       "   'positivecasesfromsamplesreported': '',\n",
       "   'samplereportedtoday': '1097947',\n",
       "   'source': 'https://www.icmr.gov.in/pdf/covid/update/ICMR_testing_update_02Oct2020.pdf',\n",
       "   'source1': 'https://t.me/Covid19india_Auxiliary_Test_Data/2742',\n",
       "   'source3': 'https://t.me/Covid19india_Auxiliary_Test_Data/2743',\n",
       "   'testedasof': '01/10/2020',\n",
       "   'testpositivitylast7days': '7.60%',\n",
       "   'testpositivityrate': '8.33%',\n",
       "   'testsconductedbyprivatelabs': '',\n",
       "   'testsperconfirmedcase': '',\n",
       "   'testspermillion': '57557',\n",
       "   'totalindividualstested': '',\n",
       "   'totalpositivecases': '',\n",
       "   'totalrtpcrsamplescollectedicmrapplication': '37085077',\n",
       "   'totalsamplestested': '76717728',\n",
       "   'updatetimestamp': '02/10/2020 09:00:00'},\n",
       "  {'dailyrtpcrsamplescollectedicmrapplication': '382957',\n",
       "   'individualstestedperconfirmedcase': '',\n",
       "   'positivecasesfromsamplesreported': '',\n",
       "   'samplereportedtoday': '1132675',\n",
       "   'source': 'https://www.icmr.gov.in/pdf/covid/update/ICMR_testing_update_03Oct2020.pdf',\n",
       "   'source1': 'https://t.me/Covid19india_Auxiliary_Test_Data/2765',\n",
       "   'source3': 'https://t.me/Covid19india_Auxiliary_Test_Data/2770',\n",
       "   'testedasof': '02/10/2020',\n",
       "   'testpositivitylast7days': '7.30%',\n",
       "   'testpositivityrate': '8.31%',\n",
       "   'testsconductedbyprivatelabs': '',\n",
       "   'testsperconfirmedcase': '',\n",
       "   'testspermillion': '58407',\n",
       "   'totalindividualstested': '',\n",
       "   'totalpositivecases': '',\n",
       "   'totalrtpcrsamplescollectedicmrapplication': '37468034',\n",
       "   'totalsamplestested': '77850403',\n",
       "   'updatetimestamp': '03/10/2020 09:00:00'},\n",
       "  {'dailyrtpcrsamplescollectedicmrapplication': '463646',\n",
       "   'individualstestedperconfirmedcase': '',\n",
       "   'positivecasesfromsamplesreported': '',\n",
       "   'samplereportedtoday': '1142131',\n",
       "   'source': 'http://twitter.com/ICMRDELHI/status/1312595656842698753',\n",
       "   'source1': 'https://t.me/Covid19india_Auxiliary_Test_Data/2784',\n",
       "   'source3': 'https://t.me/Covid19india_Auxiliary_Test_Data/2782',\n",
       "   'testedasof': '03/10/2020',\n",
       "   'testpositivitylast7days': '6.75%',\n",
       "   'testpositivityrate': '8.29%',\n",
       "   'testsconductedbyprivatelabs': '',\n",
       "   'testsperconfirmedcase': '',\n",
       "   'testspermillion': '59264',\n",
       "   'totalindividualstested': '',\n",
       "   'totalpositivecases': '',\n",
       "   'totalrtpcrsamplescollectedicmrapplication': '37931680',\n",
       "   'totalsamplestested': '78992534',\n",
       "   'updatetimestamp': '04/10/2020 09:00:00'},\n",
       "  {'dailyrtpcrsamplescollectedicmrapplication': '280597',\n",
       "   'individualstestedperconfirmedcase': '',\n",
       "   'positivecasesfromsamplesreported': '',\n",
       "   'samplereportedtoday': '989860',\n",
       "   'source': 'http://twitter.com/ICMRDELHI/status/1312955037144891392',\n",
       "   'source1': 'https://t.me/Covid19india_Auxiliary_Test_Data/2802',\n",
       "   'source3': 'https://t.me/Covid19india_Auxiliary_Test_Data/2800',\n",
       "   'testedasof': '04/10/2020',\n",
       "   'testpositivitylast7days': '6.97%',\n",
       "   'testpositivityrate': '8.28%',\n",
       "   'testsconductedbyprivatelabs': '',\n",
       "   'testsperconfirmedcase': '',\n",
       "   'testspermillion': '60006',\n",
       "   'totalindividualstested': '',\n",
       "   'totalpositivecases': '',\n",
       "   'totalrtpcrsamplescollectedicmrapplication': '38212277',\n",
       "   'totalsamplestested': '79982394',\n",
       "   'updatetimestamp': '05/10/2020 09:00:00'},\n",
       "  {'dailyrtpcrsamplescollectedicmrapplication': '505659',\n",
       "   'individualstestedperconfirmedcase': '',\n",
       "   'positivecasesfromsamplesreported': '',\n",
       "   'samplereportedtoday': '1089503',\n",
       "   'source': 'http://twitter.com/ICMRDELHI/status/1313322633006473217',\n",
       "   'source1': 'https://t.me/Covid19india_Auxiliary_Test_Data/2822',\n",
       "   'source3': 'https://t.me/Covid19india_Auxiliary_Test_Data/2823',\n",
       "   'testedasof': '05/10/2020',\n",
       "   'testpositivitylast7days': '6.67%',\n",
       "   'testpositivityrate': '8.24%',\n",
       "   'testsconductedbyprivatelabs': '',\n",
       "   'testsperconfirmedcase': '',\n",
       "   'testspermillion': '60824',\n",
       "   'totalindividualstested': '',\n",
       "   'totalpositivecases': '',\n",
       "   'totalrtpcrsamplescollectedicmrapplication': '38717936',\n",
       "   'totalsamplestested': '81071797',\n",
       "   'updatetimestamp': '06/10/2020 09:00:00'},\n",
       "  {'dailyrtpcrsamplescollectedicmrapplication': '501236',\n",
       "   'individualstestedperconfirmedcase': '',\n",
       "   'positivecasesfromsamplesreported': '',\n",
       "   'samplereportedtoday': '1199857',\n",
       "   'source': 'http://twitter.com/ICMRDELHI/status/1313681967225794560',\n",
       "   'source1': 'https://t.me/Covid19india_Auxiliary_Test_Data/2845',\n",
       "   'source3': 'https://t.me/Covid19india_Auxiliary_Test_Data/2846',\n",
       "   'testedasof': '06/10/2020',\n",
       "   'testpositivitylast7days': '6.67%',\n",
       "   'testpositivityrate': '8.21%',\n",
       "   'testsconductedbyprivatelabs': '',\n",
       "   'testsperconfirmedcase': '',\n",
       "   'testspermillion': '61724',\n",
       "   'totalindividualstested': '',\n",
       "   'totalpositivecases': '',\n",
       "   'totalrtpcrsamplescollectedicmrapplication': '39219172',\n",
       "   'totalsamplestested': '82271654',\n",
       "   'updatetimestamp': '07/10/2020 09:00:00'},\n",
       "  {'dailyrtpcrsamplescollectedicmrapplication': '510461',\n",
       "   'individualstestedperconfirmedcase': '',\n",
       "   'positivecasesfromsamplesreported': '',\n",
       "   'samplereportedtoday': '1194321',\n",
       "   'source': 'https://twitter.com/ICMRDELHI/status/1314043766722891776/photo/1',\n",
       "   'source1': 'https://t.me/Covid19india_Auxiliary_Test_Data/2870?single',\n",
       "   'source3': 'https://t.me/Covid19india_Auxiliary_Test_Data/2868',\n",
       "   'testedasof': '07/10/2020',\n",
       "   'testpositivitylast7days': '6.53%',\n",
       "   'testpositivityrate': '8.19%',\n",
       "   'testsconductedbyprivatelabs': '',\n",
       "   'testsperconfirmedcase': '',\n",
       "   'testspermillion': '62620',\n",
       "   'totalindividualstested': '',\n",
       "   'totalpositivecases': '',\n",
       "   'totalrtpcrsamplescollectedicmrapplication': '39729633',\n",
       "   'totalsamplestested': '83465975',\n",
       "   'updatetimestamp': '08/10/2020 09:00:00'},\n",
       "  {'dailyrtpcrsamplescollectedicmrapplication': '499707',\n",
       "   'individualstestedperconfirmedcase': '',\n",
       "   'positivecasesfromsamplesreported': '',\n",
       "   'samplereportedtoday': '1168705',\n",
       "   'source': 'http://twitter.com/ICMRDELHI/status/1314436130092150785',\n",
       "   'source1': 'https://t.me/Covid19india_Auxiliary_Test_Data/2891',\n",
       "   'source3': 'https://t.me/Covid19india_Auxiliary_Test_Data/2892',\n",
       "   'testedasof': '08/10/2020',\n",
       "   'testpositivitylast7days': '6.37%',\n",
       "   'testpositivityrate': '8.16%',\n",
       "   'testsconductedbyprivatelabs': '',\n",
       "   'testsperconfirmedcase': '',\n",
       "   'testspermillion': '63497',\n",
       "   'totalindividualstested': '',\n",
       "   'totalpositivecases': '',\n",
       "   'totalrtpcrsamplescollectedicmrapplication': '40229340',\n",
       "   'totalsamplestested': '84634680',\n",
       "   'updatetimestamp': '09/10/2020 09:00:00'},\n",
       "  {'dailyrtpcrsamplescollectedicmrapplication': '500344',\n",
       "   'individualstestedperconfirmedcase': '',\n",
       "   'positivecasesfromsamplesreported': '',\n",
       "   'samplereportedtoday': '1164018',\n",
       "   'source': 'http://twitter.com/ICMRDELHI/status/1314769857041231873',\n",
       "   'source1': 'https://t.me/Covid19india_Auxiliary_Test_Data/2909',\n",
       "   'source3': 'https://t.me/Covid19india_Auxiliary_Test_Data/2907',\n",
       "   'testedasof': '09/10/2020',\n",
       "   'testpositivitylast7days': '6.31%',\n",
       "   'testpositivityrate': '8.13%',\n",
       "   'testsconductedbyprivatelabs': '',\n",
       "   'testsperconfirmedcase': '',\n",
       "   'testspermillion': '64370',\n",
       "   'totalindividualstested': '',\n",
       "   'totalpositivecases': '',\n",
       "   'totalrtpcrsamplescollectedicmrapplication': '40729684',\n",
       "   'totalsamplestested': '85798698',\n",
       "   'updatetimestamp': '10/10/2020 09:00:00'},\n",
       "  {'dailyrtpcrsamplescollectedicmrapplication': '469497',\n",
       "   'individualstestedperconfirmedcase': '',\n",
       "   'positivecasesfromsamplesreported': '',\n",
       "   'samplereportedtoday': '1078544',\n",
       "   'source': 'http://twitter.com/ICMRDELHI/status/1315130096689111045',\n",
       "   'source1': 'https://t.me/Covid19india_Auxiliary_Test_Data/2922',\n",
       "   'source3': 'https://t.me/Covid19india_Auxiliary_Test_Data/2934',\n",
       "   'testedasof': '10/10/2020',\n",
       "   'testpositivitylast7days': '6.23%',\n",
       "   'testpositivityrate': '8.12%',\n",
       "   'testsconductedbyprivatelabs': '',\n",
       "   'testsperconfirmedcase': '',\n",
       "   'testspermillion': '65179',\n",
       "   'totalindividualstested': '',\n",
       "   'totalpositivecases': '',\n",
       "   'totalrtpcrsamplescollectedicmrapplication': '41199181',\n",
       "   'totalsamplestested': '86877242',\n",
       "   'updatetimestamp': '11/10/2020 09:00:00'},\n",
       "  {'dailyrtpcrsamplescollectedicmrapplication': '287718',\n",
       "   'individualstestedperconfirmedcase': '',\n",
       "   'positivecasesfromsamplesreported': '',\n",
       "   'samplereportedtoday': '994851',\n",
       "   'source': 'https://twitter.com/ICMRDELHI/status/1315497605456039937/photo/1',\n",
       "   'source1': 'https://t.me/Covid19india_Auxiliary_Test_Data/2943',\n",
       "   'source3': 'https://t.me/Covid19india_Auxiliary_Test_Data/2950',\n",
       "   'testedasof': '11/10/2020',\n",
       "   'testpositivitylast7days': '6.43%',\n",
       "   'testpositivityrate': '8.10%',\n",
       "   'testsconductedbyprivatelabs': '',\n",
       "   'testsperconfirmedcase': '',\n",
       "   'testspermillion': '65925',\n",
       "   'totalindividualstested': '',\n",
       "   'totalpositivecases': '',\n",
       "   'totalrtpcrsamplescollectedicmrapplication': '41486899',\n",
       "   'totalsamplestested': '87872093',\n",
       "   'updatetimestamp': '12/10/2020 09:00:00'},\n",
       "  {'dailyrtpcrsamplescollectedicmrapplication': '581322',\n",
       "   'individualstestedperconfirmedcase': '',\n",
       "   'positivecasesfromsamplesreported': '',\n",
       "   'samplereportedtoday': '1073014',\n",
       "   'source': 'http://twitter.com/ICMRDELHI/status/1315855012623335424',\n",
       "   'source1': 'https://t.me/Covid19india_Auxiliary_Test_Data/2963',\n",
       "   'source3': 'https://t.me/Covid19india_Auxiliary_Test_Data/2964',\n",
       "   'testedasof': '12/10/2020',\n",
       "   'testpositivitylast7days': '6.28%',\n",
       "   'testpositivityrate': '8.07%',\n",
       "   'testsconductedbyprivatelabs': '',\n",
       "   'testsperconfirmedcase': '',\n",
       "   'testspermillion': '66731',\n",
       "   'totalindividualstested': '',\n",
       "   'totalpositivecases': '',\n",
       "   'totalrtpcrsamplescollectedicmrapplication': '42068221',\n",
       "   'totalsamplestested': '88945107',\n",
       "   'updatetimestamp': '13/10/2020 09:00:00'},\n",
       "  {'dailyrtpcrsamplescollectedicmrapplication': '576342',\n",
       "   'individualstestedperconfirmedcase': '',\n",
       "   'positivecasesfromsamplesreported': '',\n",
       "   'samplereportedtoday': '1145015',\n",
       "   'source': 'https://www.icmr.gov.in/pdf/covid/update/ICMR_testing_update_14Oct2020.pdf',\n",
       "   'source1': 'https://t.me/Covid19india_Auxiliary_Test_Data/2986',\n",
       "   'source3': 'https://t.me/Covid19india_Auxiliary_Test_Data/2984',\n",
       "   'testedasof': '13/10/2020',\n",
       "   'testpositivitylast7days': '6.10%',\n",
       "   'testpositivityrate': '8.03%',\n",
       "   'testsconductedbyprivatelabs': '',\n",
       "   'testsperconfirmedcase': '',\n",
       "   'testspermillion': '67590',\n",
       "   'totalindividualstested': '',\n",
       "   'totalpositivecases': '',\n",
       "   'totalrtpcrsamplescollectedicmrapplication': '42644563',\n",
       "   'totalsamplestested': '90090122',\n",
       "   'updatetimestamp': '14/10/2020 09:00:00'},\n",
       "  {'dailyrtpcrsamplescollectedicmrapplication': '554307',\n",
       "   'individualstestedperconfirmedcase': '',\n",
       "   'positivecasesfromsamplesreported': '',\n",
       "   'samplereportedtoday': '1136183',\n",
       "   'source': 'https://www.icmr.gov.in/pdf/covid/update/ICMR_testing_update_15Oct2020.pdf',\n",
       "   'source1': 'https://t.me/Covid19india_Auxiliary_Test_Data/2999',\n",
       "   'source3': 'https://t.me/Covid19india_Auxiliary_Test_Data/3000',\n",
       "   'testedasof': '14/10/2020',\n",
       "   'testpositivitylast7days': '6.09%',\n",
       "   'testpositivityrate': '8.01%',\n",
       "   'testsconductedbyprivatelabs': '',\n",
       "   'testsperconfirmedcase': '',\n",
       "   'testspermillion': '68442',\n",
       "   'totalindividualstested': '',\n",
       "   'totalpositivecases': '',\n",
       "   'totalrtpcrsamplescollectedicmrapplication': '43198870',\n",
       "   'totalsamplestested': '91226305',\n",
       "   'updatetimestamp': '15/10/2020 09:00:00'},\n",
       "  {'dailyrtpcrsamplescollectedicmrapplication': '494383',\n",
       "   'individualstestedperconfirmedcase': '',\n",
       "   'positivecasesfromsamplesreported': '',\n",
       "   'samplereportedtoday': '1028622',\n",
       "   'source': 'https://www.icmr.gov.in/pdf/covid/update/ICMR_testing_update_16Oct2020.pdf',\n",
       "   'source1': 'https://t.me/Covid19india_Auxiliary_Test_Data/3020',\n",
       "   'source3': 'https://t.me/Covid19india_Auxiliary_Test_Data/3018',\n",
       "   'testedasof': '15/10/2020',\n",
       "   'testpositivitylast7days': '6.06%',\n",
       "   'testpositivityrate': '7.99%',\n",
       "   'testsconductedbyprivatelabs': '',\n",
       "   'testsperconfirmedcase': '',\n",
       "   'testspermillion': '69214',\n",
       "   'totalindividualstested': '',\n",
       "   'totalpositivecases': '',\n",
       "   'totalrtpcrsamplescollectedicmrapplication': '43693253',\n",
       "   'totalsamplestested': '92254927',\n",
       "   'updatetimestamp': '16/10/2020 09:00:00'},\n",
       "  {'dailyrtpcrsamplescollectedicmrapplication': '484845',\n",
       "   'individualstestedperconfirmedcase': '',\n",
       "   'positivecasesfromsamplesreported': '',\n",
       "   'samplereportedtoday': '999090',\n",
       "   'source': 'http://twitter.com/ICMRDELHI/status/1317307451083878401',\n",
       "   'source1': 'https://t.me/Covid19india_Auxiliary_Test_Data/3041',\n",
       "   'source3': 'https://t.me/Covid19india_Auxiliary_Test_Data/3039',\n",
       "   'testedasof': '16/10/2020',\n",
       "   'testpositivitylast7days': '5.95%',\n",
       "   'testpositivityrate': '7.97%',\n",
       "   'testsconductedbyprivatelabs': '',\n",
       "   'testsperconfirmedcase': '',\n",
       "   'testspermillion': '69963',\n",
       "   'totalindividualstested': '',\n",
       "   'totalpositivecases': '',\n",
       "   'totalrtpcrsamplescollectedicmrapplication': '44178098',\n",
       "   'totalsamplestested': '93254017',\n",
       "   'updatetimestamp': '17/10/2020 09:00:00'},\n",
       "  {'dailyrtpcrsamplescollectedicmrapplication': '427118',\n",
       "   'individualstestedperconfirmedcase': '',\n",
       "   'positivecasesfromsamplesreported': '',\n",
       "   'samplereportedtoday': '970173',\n",
       "   'source': 'http://twitter.com/ICMRDELHI/status/1317670159289516034',\n",
       "   'source1': 'https://t.me/Covid19india_Auxiliary_Test_Data/3059',\n",
       "   'source3': 'https://t.me/Covid19india_Auxiliary_Test_Data/3060',\n",
       "   'testedasof': '17/10/2020',\n",
       "   'testpositivitylast7days': '5.88%',\n",
       "   'testpositivityrate': '7.95%',\n",
       "   'testsconductedbyprivatelabs': '',\n",
       "   'testsperconfirmedcase': '',\n",
       "   'testspermillion': '70691',\n",
       "   'totalindividualstested': '',\n",
       "   'totalpositivecases': '',\n",
       "   'totalrtpcrsamplescollectedicmrapplication': '44605216',\n",
       "   'totalsamplestested': '94224190',\n",
       "   'updatetimestamp': '18/10/2020 09:00:00'},\n",
       "  {'dailyrtpcrsamplescollectedicmrapplication': '262975',\n",
       "   'individualstestedperconfirmedcase': '',\n",
       "   'positivecasesfromsamplesreported': '',\n",
       "   'samplereportedtoday': '859786',\n",
       "   'source': 'http://twitter.com/ICMRDELHI/status/1318037255374602240',\n",
       "   'source1': 'https://t.me/Covid19india_Auxiliary_Test_Data/3078',\n",
       "   'source3': 'https://t.me/Covid19india_Auxiliary_Test_Data/3079',\n",
       "   'testedasof': '18/10/2020',\n",
       "   'testpositivitylast7days': '6.12%',\n",
       "   'testpositivityrate': '7.94%',\n",
       "   'testsconductedbyprivatelabs': '',\n",
       "   'testsperconfirmedcase': '',\n",
       "   'testspermillion': '71336',\n",
       "   'totalindividualstested': '',\n",
       "   'totalpositivecases': '',\n",
       "   'totalrtpcrsamplescollectedicmrapplication': '44868191',\n",
       "   'totalsamplestested': '95083976',\n",
       "   'updatetimestamp': '19/10/2020 09:00:00'},\n",
       "  {'dailyrtpcrsamplescollectedicmrapplication': '495081',\n",
       "   'individualstestedperconfirmedcase': '',\n",
       "   'positivecasesfromsamplesreported': '',\n",
       "   'samplereportedtoday': '1032795',\n",
       "   'source': 'https://www.icmr.gov.in/pdf/covid/update/ICMR_testing_update_20Oct2020.pdf',\n",
       "   'source1': 'https://t.me/Covid19india_Auxiliary_Test_Data/3100',\n",
       "   'source3': 'https://t.me/Covid19india_Auxiliary_Test_Data/3101',\n",
       "   'testedasof': '19/10/2020',\n",
       "   'testpositivitylast7days': '5.93%',\n",
       "   'testpositivityrate': '7.90%',\n",
       "   'testsconductedbyprivatelabs': '',\n",
       "   'testsperconfirmedcase': '',\n",
       "   'testspermillion': '72111',\n",
       "   'totalindividualstested': '',\n",
       "   'totalpositivecases': '',\n",
       "   'totalrtpcrsamplescollectedicmrapplication': '45363272',\n",
       "   'totalsamplestested': '96116771',\n",
       "   'updatetimestamp': '20/10/2020 09:00:00'},\n",
       "  {'dailyrtpcrsamplescollectedicmrapplication': '485536',\n",
       "   'individualstestedperconfirmedcase': '',\n",
       "   'positivecasesfromsamplesreported': '',\n",
       "   'samplereportedtoday': '1083608',\n",
       "   'source': 'https://www.icmr.gov.in/pdf/covid/update/ICMR_testing_update_21Oct2020.pdf',\n",
       "   'source1': 'https://t.me/Covid19india_Auxiliary_Test_Data/3119',\n",
       "   'source3': 'https://t.me/Covid19india_Auxiliary_Test_Data/3117',\n",
       "   'testedasof': '20/10/2020',\n",
       "   'testpositivitylast7days': '5.76%',\n",
       "   'testpositivityrate': '7.87%',\n",
       "   'testsconductedbyprivatelabs': '',\n",
       "   'testsperconfirmedcase': '',\n",
       "   'testspermillion': '72924',\n",
       "   'totalindividualstested': '',\n",
       "   'totalpositivecases': '',\n",
       "   'totalrtpcrsamplescollectedicmrapplication': '45848808',\n",
       "   'totalsamplestested': '97200379',\n",
       "   'updatetimestamp': '21/10/2020 09:00:00'},\n",
       "  {'dailyrtpcrsamplescollectedicmrapplication': '502194',\n",
       "   'individualstestedperconfirmedcase': '',\n",
       "   'positivecasesfromsamplesreported': '',\n",
       "   'samplereportedtoday': '1469984',\n",
       "   'source': 'https://www.icmr.gov.in/pdf/covid/update/ICMR_testing_update_22Oct2020.pdf',\n",
       "   'source1': 'https://t.me/Covid19india_Auxiliary_Test_Data/3141',\n",
       "   'source3': '',\n",
       "   'testedasof': '21/10/2020',\n",
       "   'testpositivitylast7days': '5.25%',\n",
       "   'testpositivityrate': '7.81%',\n",
       "   'testsconductedbyprivatelabs': '',\n",
       "   'testsperconfirmedcase': '',\n",
       "   'testspermillion': '74027',\n",
       "   'totalindividualstested': '',\n",
       "   'totalpositivecases': '',\n",
       "   'totalrtpcrsamplescollectedicmrapplication': '46351002',\n",
       "   'totalsamplestested': '98670363',\n",
       "   'updatetimestamp': '22/10/2020 09:00:00'},\n",
       "  {'dailyrtpcrsamplescollectedicmrapplication': '477515',\n",
       "   'individualstestedperconfirmedcase': '',\n",
       "   'positivecasesfromsamplesreported': '',\n",
       "   'samplereportedtoday': '1442722',\n",
       "   'source': 'https://www.icmr.gov.in/pdf/covid/update/ICMR_testing_update_23Oct2020.pdf',\n",
       "   'source1': 'https://t.me/Covid19india_Auxiliary_Test_Data/3162',\n",
       "   'source3': 'https://t.me/Covid19india_Auxiliary_Test_Data/3160',\n",
       "   'testedasof': '22/10/2020',\n",
       "   'testpositivitylast7days': '4.80%',\n",
       "   'testpositivityrate': '7.75%',\n",
       "   'testsconductedbyprivatelabs': '',\n",
       "   'testsperconfirmedcase': '',\n",
       "   'testspermillion': '75109',\n",
       "   'totalindividualstested': '',\n",
       "   'totalpositivecases': '',\n",
       "   'totalrtpcrsamplescollectedicmrapplication': '46828517',\n",
       "   'totalsamplestested': '100113085',\n",
       "   'updatetimestamp': '23/10/2020 09:00:00'},\n",
       "  {'dailyrtpcrsamplescollectedicmrapplication': '441068',\n",
       "   'individualstestedperconfirmedcase': '',\n",
       "   'positivecasesfromsamplesreported': '',\n",
       "   'samplereportedtoday': '1269479',\n",
       "   'source': 'https://www.icmr.gov.in/pdf/covid/update/ICMR_testing_update_24Oct2020.pdf',\n",
       "   'source1': 'https://t.me/Covid19india_Auxiliary_Test_Data/3181',\n",
       "   'source3': 'https://t.me/Covid19india_Auxiliary_Test_Data/3179',\n",
       "   'testedasof': '23/10/2020',\n",
       "   'testpositivitylast7days': '4.48%',\n",
       "   'testpositivityrate': '7.71%',\n",
       "   'testsconductedbyprivatelabs': '',\n",
       "   'testsperconfirmedcase': '',\n",
       "   'testspermillion': '76062',\n",
       "   'totalindividualstested': '',\n",
       "   'totalpositivecases': '',\n",
       "   'totalrtpcrsamplescollectedicmrapplication': '47269585',\n",
       "   'totalsamplestested': '101382564',\n",
       "   'updatetimestamp': '24/10/2020 09:00:00'},\n",
       "  {'dailyrtpcrsamplescollectedicmrapplication': '368626',\n",
       "   'individualstestedperconfirmedcase': '',\n",
       "   'positivecasesfromsamplesreported': '',\n",
       "   'samplereportedtoday': '1140905',\n",
       "   'source': 'https://twitter.com/ICMRDELHI/status/1320208228383256579?s=20',\n",
       "   'source1': 'https://t.me/Covid19india_Auxiliary_Test_Data/3201',\n",
       "   'source3': 'https://t.me/Covid19india_Auxiliary_Test_Data/3199',\n",
       "   'testedasof': '24/10/2020',\n",
       "   'testpositivitylast7days': '4.23%',\n",
       "   'testpositivityrate': '7.67%',\n",
       "   'testsconductedbyprivatelabs': '',\n",
       "   'testsperconfirmedcase': '',\n",
       "   'testspermillion': '76918',\n",
       "   'totalindividualstested': '',\n",
       "   'totalpositivecases': '',\n",
       "   'totalrtpcrsamplescollectedicmrapplication': '47638211',\n",
       "   'totalsamplestested': '102523469',\n",
       "   'updatetimestamp': '25/10/2020 09:00:00'},\n",
       "  {'dailyrtpcrsamplescollectedicmrapplication': '206259',\n",
       "   'individualstestedperconfirmedcase': '',\n",
       "   'positivecasesfromsamplesreported': '',\n",
       "   'samplereportedtoday': '939309',\n",
       "   'source': 'http://twitter.com/ICMRDELHI/status/1320569378073554945',\n",
       "   'source1': 'https://t.me/Covid19india_Auxiliary_Test_Data/3218',\n",
       "   'source3': 'https://t.me/Covid19india_Auxiliary_Test_Data/3236',\n",
       "   'testedasof': '25/10/2020',\n",
       "   'testpositivitylast7days': '4.29%',\n",
       "   'testpositivityrate': '7.65%',\n",
       "   'testsconductedbyprivatelabs': '',\n",
       "   'testsperconfirmedcase': '',\n",
       "   'testspermillion': '77622',\n",
       "   'totalindividualstested': '',\n",
       "   'totalpositivecases': '',\n",
       "   'totalrtpcrsamplescollectedicmrapplication': '47844470',\n",
       "   'totalsamplestested': '103462778',\n",
       "   'updatetimestamp': '26/10/2020 09:00:00'},\n",
       "  {'dailyrtpcrsamplescollectedicmrapplication': '342295',\n",
       "   'individualstestedperconfirmedcase': '',\n",
       "   'positivecasesfromsamplesreported': '',\n",
       "   'samplereportedtoday': '958116',\n",
       "   'source': 'http://twitter.com/ICMRDELHI/status/1320932027005165570',\n",
       "   'source1': 'https://t.me/Covid19india_Auxiliary_Test_Data/3241',\n",
       "   'source3': 'https://t.me/Covid19india_Auxiliary_Test_Data/3239',\n",
       "   'testedasof': '26/10/2020',\n",
       "   'testpositivitylast7days': '4.11%',\n",
       "   'testpositivityrate': '7.61%',\n",
       "   'testsconductedbyprivatelabs': '',\n",
       "   'testsperconfirmedcase': '',\n",
       "   'testspermillion': '78341',\n",
       "   'totalindividualstested': '',\n",
       "   'totalpositivecases': '',\n",
       "   'totalrtpcrsamplescollectedicmrapplication': '48186765',\n",
       "   'totalsamplestested': '104420894',\n",
       "   'updatetimestamp': '27/10/2020 09:00:00'},\n",
       "  {'dailyrtpcrsamplescollectedicmrapplication': '471156',\n",
       "   'individualstestedperconfirmedcase': '',\n",
       "   'positivecasesfromsamplesreported': '',\n",
       "   'samplereportedtoday': '1066786',\n",
       "   'source': 'http://twitter.com/ICMRDELHI/status/1321290607042637825',\n",
       "   'source1': 'https://t.me/Covid19india_Auxiliary_Test_Data/3267',\n",
       "   'source3': 'https://t.me/Covid19india_Auxiliary_Test_Data/3265',\n",
       "   'testedasof': '27/10/2020',\n",
       "   'testpositivitylast7days': '4.16%',\n",
       "   'testpositivityrate': '7.57%',\n",
       "   'testsconductedbyprivatelabs': '',\n",
       "   'testsperconfirmedcase': '',\n",
       "   'testspermillion': '79141',\n",
       "   'totalindividualstested': '',\n",
       "   'totalpositivecases': '',\n",
       "   'totalrtpcrsamplescollectedicmrapplication': '48657921',\n",
       "   'totalsamplestested': '105487680',\n",
       "   'updatetimestamp': '28/10/2020 09:00:00'},\n",
       "  {'dailyrtpcrsamplescollectedicmrapplication': '485050',\n",
       "   'individualstestedperconfirmedcase': '',\n",
       "   'positivecasesfromsamplesreported': '',\n",
       "   'samplereportedtoday': '1075760',\n",
       "   'source': 'http://twitter.com/ICMRDELHI/status/1321659225051865090',\n",
       "   'source1': 'https://t.me/Covid19india_Auxiliary_Test_Data/3288',\n",
       "   'source3': 'https://t.me/Covid19india_Auxiliary_Test_Data/3291',\n",
       "   'testedasof': '28/10/2020',\n",
       "   'testpositivitylast7days': '4.33%',\n",
       "   'testpositivityrate': '7.54%',\n",
       "   'testsconductedbyprivatelabs': '',\n",
       "   'testsperconfirmedcase': '',\n",
       "   'testspermillion': '79949',\n",
       "   'totalindividualstested': '',\n",
       "   'totalpositivecases': '',\n",
       "   'totalrtpcrsamplescollectedicmrapplication': '49142971',\n",
       "   'totalsamplestested': '106563440',\n",
       "   'updatetimestamp': '29/10/2020 09:00:00'},\n",
       "  {'dailyrtpcrsamplescollectedicmrapplication': '480554',\n",
       "   'individualstestedperconfirmedcase': '',\n",
       "   'positivecasesfromsamplesreported': '',\n",
       "   'samplereportedtoday': '1164648',\n",
       "   'source': 'http://twitter.com/ICMRDELHI/status/1322020841295552515',\n",
       "   'source1': 'https://t.me/Covid19india_Auxiliary_Test_Data/3321',\n",
       "   'source3': '',\n",
       "   'testedasof': '29/10/2020',\n",
       "   'testpositivitylast7days': '4.32%',\n",
       "   'testpositivityrate': '7.51%',\n",
       "   'testsconductedbyprivatelabs': '',\n",
       "   'testsperconfirmedcase': '',\n",
       "   'testspermillion': '80822',\n",
       "   'totalindividualstested': '',\n",
       "   'totalpositivecases': '',\n",
       "   'totalrtpcrsamplescollectedicmrapplication': '49623525',\n",
       "   'totalsamplestested': '107728088',\n",
       "   'updatetimestamp': '30/10/2020 09:00:00'},\n",
       "  {'dailyrtpcrsamplescollectedicmrapplication': '417053',\n",
       "   'individualstestedperconfirmedcase': '',\n",
       "   'positivecasesfromsamplesreported': '',\n",
       "   'samplereportedtoday': '1067976',\n",
       "   'source': 'https://www.icmr.gov.in/pdf/covid/update/ICMR_testing_update_31Oct2020.pdf',\n",
       "   'source1': 'https://t.me/Covid19india_Auxiliary_Test_Data/3349',\n",
       "   'source3': '',\n",
       "   'testedasof': '30/10/2020',\n",
       "   'testpositivitylast7days': '4.34%',\n",
       "   'testpositivityrate': '7.48%',\n",
       "   'testsconductedbyprivatelabs': '',\n",
       "   'testsperconfirmedcase': '',\n",
       "   'testspermillion': '81624',\n",
       "   'totalindividualstested': '',\n",
       "   'totalpositivecases': '',\n",
       "   'totalrtpcrsamplescollectedicmrapplication': '50040578',\n",
       "   'totalsamplestested': '108796064',\n",
       "   'updatetimestamp': '31/10/2020 09:00:00'},\n",
       "  {'dailyrtpcrsamplescollectedicmrapplication': '455151',\n",
       "   'individualstestedperconfirmedcase': '',\n",
       "   'positivecasesfromsamplesreported': '',\n",
       "   'samplereportedtoday': '1091239',\n",
       "   'source': 'http://twitter.com/ICMRDELHI/status/1322743671599501313',\n",
       "   'source1': 'https://t.me/Covid19india_Auxiliary_Test_Data/3390',\n",
       "   'source3': '',\n",
       "   'testedasof': '31/10/2020',\n",
       "   'testpositivitylast7days': '4.25%',\n",
       "   'testpositivityrate': '7.45%',\n",
       "   'testsconductedbyprivatelabs': '',\n",
       "   'testsperconfirmedcase': '',\n",
       "   'testspermillion': '82442',\n",
       "   'totalindividualstested': '',\n",
       "   'totalpositivecases': '',\n",
       "   'totalrtpcrsamplescollectedicmrapplication': '50495729',\n",
       "   'totalsamplestested': '109887303',\n",
       "   'updatetimestamp': '01/11/2020 09:00:00'},\n",
       "  {'dailyrtpcrsamplescollectedicmrapplication': '287501',\n",
       "   'individualstestedperconfirmedcase': '',\n",
       "   'positivecasesfromsamplesreported': '',\n",
       "   'samplereportedtoday': '855800',\n",
       "   'source': 'https://www.icmr.gov.in/pdf/covid/update/ICMR_testing_update_02Nov2020.pdf',\n",
       "   'source1': 'https://t.me/Covid19india_Auxiliary_Test_Data/3419',\n",
       "   'source3': '',\n",
       "   'testedasof': '1/11/2020',\n",
       "   'testpositivitylast7days': '4.48%',\n",
       "   'testpositivityrate': '7.43%',\n",
       "   'testsconductedbyprivatelabs': '',\n",
       "   'testsperconfirmedcase': '',\n",
       "   'testspermillion': '83084',\n",
       "   'totalindividualstested': '',\n",
       "   'totalpositivecases': '',\n",
       "   'totalrtpcrsamplescollectedicmrapplication': '50783230',\n",
       "   'totalsamplestested': '110743103',\n",
       "   'updatetimestamp': '02/11/2020 09:00:00'},\n",
       "  {'dailyrtpcrsamplescollectedicmrapplication': '509065',\n",
       "   'individualstestedperconfirmedcase': '',\n",
       "   'positivecasesfromsamplesreported': '',\n",
       "   'samplereportedtoday': '1046247',\n",
       "   'source': 'http://twitter.com/ICMRDELHI/status/1323472917510811649',\n",
       "   'source1': 'https://t.me/Covid19india_Auxiliary_Test_Data/3461',\n",
       "   'source3': '',\n",
       "   'testedasof': '2/11/2020',\n",
       "   'testpositivitylast7days': '4.41%',\n",
       "   'testpositivityrate': '7.40%',\n",
       "   'testsconductedbyprivatelabs': '',\n",
       "   'testsperconfirmedcase': '',\n",
       "   'testspermillion': '83869',\n",
       "   'totalindividualstested': '',\n",
       "   'totalpositivecases': '',\n",
       "   'totalrtpcrsamplescollectedicmrapplication': '51292295',\n",
       "   'totalsamplestested': '111789350',\n",
       "   'updatetimestamp': '03/11/2020 09:00:00'},\n",
       "  {'dailyrtpcrsamplescollectedicmrapplication': '491598',\n",
       "   'individualstestedperconfirmedcase': '',\n",
       "   'positivecasesfromsamplesreported': '',\n",
       "   'samplereportedtoday': '1209609',\n",
       "   'source': 'http://twitter.com/ICMRDELHI/status/1323831899815469056',\n",
       "   'source1': '',\n",
       "   'source3': '',\n",
       "   'testedasof': '3/11/2020',\n",
       "   'testpositivitylast7days': '4.25%',\n",
       "   'testpositivityrate': '7.36%',\n",
       "   'testsconductedbyprivatelabs': '',\n",
       "   'testsperconfirmedcase': '',\n",
       "   'testspermillion': '84777',\n",
       "   'totalindividualstested': '',\n",
       "   'totalpositivecases': '',\n",
       "   'totalrtpcrsamplescollectedicmrapplication': '51783893',\n",
       "   'totalsamplestested': '112998959',\n",
       "   'updatetimestamp': '04/11/2020 09:00:00'},\n",
       "  {'dailyrtpcrsamplescollectedicmrapplication': '469345',\n",
       "   'individualstestedperconfirmedcase': '',\n",
       "   'positivecasesfromsamplesreported': '',\n",
       "   'samplereportedtoday': '1209425',\n",
       "   'source': 'http://twitter.com/ICMRDELHI/status/1324191902778880000',\n",
       "   'source1': '',\n",
       "   'source3': '',\n",
       "   'testedasof': '4/11/2020',\n",
       "   'testpositivitylast7days': '4.25%',\n",
       "   'testpositivityrate': '7.32%',\n",
       "   'testsconductedbyprivatelabs': '',\n",
       "   'testsperconfirmedcase': '',\n",
       "   'testspermillion': '85684',\n",
       "   'totalindividualstested': '',\n",
       "   'totalpositivecases': '',\n",
       "   'totalrtpcrsamplescollectedicmrapplication': '52253238',\n",
       "   'totalsamplestested': '114208384',\n",
       "   'updatetimestamp': '05/11/2020 09:00:00'},\n",
       "  {'dailyrtpcrsamplescollectedicmrapplication': '481437',\n",
       "   'individualstestedperconfirmedcase': '',\n",
       "   'positivecasesfromsamplesreported': '',\n",
       "   'samplereportedtoday': '1220711',\n",
       "   'source': 'http://twitter.com/ICMRDELHI/status/1324573683118006275',\n",
       "   'source1': '',\n",
       "   'source3': '',\n",
       "   'testedasof': '5/11/2020',\n",
       "   'testpositivitylast7days': '4.14%',\n",
       "   'testpositivityrate': '7.29%',\n",
       "   'testsconductedbyprivatelabs': '',\n",
       "   'testsperconfirmedcase': '',\n",
       "   'testspermillion': '86600',\n",
       "   'totalindividualstested': '',\n",
       "   'totalpositivecases': '',\n",
       "   'totalrtpcrsamplescollectedicmrapplication': '52734675',\n",
       "   'totalsamplestested': '115429095',\n",
       "   'updatetimestamp': '06/11/2020 09:00:00'},\n",
       "  {'dailyrtpcrsamplescollectedicmrapplication': '485998',\n",
       "   'individualstestedperconfirmedcase': '',\n",
       "   'positivecasesfromsamplesreported': '',\n",
       "   'samplereportedtoday': '1113209',\n",
       "   'source': 'http://twitter.com/ICMRDELHI/status/1324920723220037632',\n",
       "   'source1': '',\n",
       "   'source3': '',\n",
       "   'testedasof': '6/11/2020',\n",
       "   'testpositivitylast7days': '4.17%',\n",
       "   'testpositivityrate': '7.26%',\n",
       "   'testsconductedbyprivatelabs': '',\n",
       "   'testsperconfirmedcase': '',\n",
       "   'testspermillion': '87435',\n",
       "   'totalindividualstested': '',\n",
       "   'totalpositivecases': '',\n",
       "   'totalrtpcrsamplescollectedicmrapplication': '53220673',\n",
       "   'totalsamplestested': '116542304',\n",
       "   'updatetimestamp': '07/11/2020 09:00:00'},\n",
       "  {'dailyrtpcrsamplescollectedicmrapplication': '458271',\n",
       "   'individualstestedperconfirmedcase': '',\n",
       "   'positivecasesfromsamplesreported': '',\n",
       "   'samplereportedtoday': '1194487',\n",
       "   'source': 'http://twitter.com/ICMRDELHI/status/1325288495703732224',\n",
       "   'source1': '',\n",
       "   'source3': '',\n",
       "   'testedasof': '7/11/2020',\n",
       "   'testpositivitylast7days': '3.97%',\n",
       "   'testpositivityrate': '7.23%',\n",
       "   'testsconductedbyprivatelabs': '',\n",
       "   'testsperconfirmedcase': '',\n",
       "   'testspermillion': '88331',\n",
       "   'totalindividualstested': '',\n",
       "   'totalpositivecases': '',\n",
       "   'totalrtpcrsamplescollectedicmrapplication': '53678944',\n",
       "   'totalsamplestested': '117736791',\n",
       "   'updatetimestamp': '08/11/2020 09:00:00'},\n",
       "  {'dailyrtpcrsamplescollectedicmrapplication': '273283',\n",
       "   'individualstestedperconfirmedcase': '',\n",
       "   'positivecasesfromsamplesreported': '',\n",
       "   'samplereportedtoday': '835401',\n",
       "   'source': 'http://twitter.com/ICMRDELHI/status/1325646872417988608',\n",
       "   'source1': '',\n",
       "   'source3': '',\n",
       "   'testedasof': '8/11/2020',\n",
       "   'testpositivitylast7days': '4.23%',\n",
       "   'testpositivityrate': '7.21%',\n",
       "   'testsconductedbyprivatelabs': '',\n",
       "   'testsperconfirmedcase': '',\n",
       "   'testspermillion': '88958',\n",
       "   'totalindividualstested': '',\n",
       "   'totalpositivecases': '',\n",
       "   'totalrtpcrsamplescollectedicmrapplication': '53952227',\n",
       "   'totalsamplestested': '118572192',\n",
       "   'updatetimestamp': '09/11/2020 09:00:00'},\n",
       "  {'dailyrtpcrsamplescollectedicmrapplication': '506379',\n",
       "   'individualstestedperconfirmedcase': '',\n",
       "   'positivecasesfromsamplesreported': '',\n",
       "   'samplereportedtoday': '1043665',\n",
       "   'source': 'https://www.icmr.gov.in/pdf/covid/update/ICMR_testing_update_10Nov2020.pdf',\n",
       "   'source1': '',\n",
       "   'source3': '',\n",
       "   'testedasof': '9/11/2020',\n",
       "   'testpositivitylast7days': '4.20%',\n",
       "   'testpositivityrate': '7.18%',\n",
       "   'testsconductedbyprivatelabs': '',\n",
       "   'testsperconfirmedcase': '',\n",
       "   'testspermillion': '89741',\n",
       "   'totalindividualstested': '',\n",
       "   'totalpositivecases': '',\n",
       "   'totalrtpcrsamplescollectedicmrapplication': '54458606',\n",
       "   'totalsamplestested': '119615857',\n",
       "   'updatetimestamp': '10/11/2020 09:00:00'},\n",
       "  {'dailyrtpcrsamplescollectedicmrapplication': '480849',\n",
       "   'individualstestedperconfirmedcase': '',\n",
       "   'positivecasesfromsamplesreported': '',\n",
       "   'samplereportedtoday': '1153294',\n",
       "   'source': 'http://twitter.com/ICMRDELHI/status/1326365809195716609',\n",
       "   'source1': '',\n",
       "   'source3': '',\n",
       "   'testedasof': '10/11/2020',\n",
       "   'testpositivitylast7days': '4.15%',\n",
       "   'testpositivityrate': '7.15%',\n",
       "   'testsconductedbyprivatelabs': '',\n",
       "   'testsperconfirmedcase': '',\n",
       "   'testspermillion': '90606',\n",
       "   'totalindividualstested': '',\n",
       "   'totalpositivecases': '',\n",
       "   'totalrtpcrsamplescollectedicmrapplication': '54939455',\n",
       "   'totalsamplestested': '120769151',\n",
       "   'updatetimestamp': '11/11/2020 09:00:00'},\n",
       "  {'dailyrtpcrsamplescollectedicmrapplication': '477723',\n",
       "   'individualstestedperconfirmedcase': '',\n",
       "   'positivecasesfromsamplesreported': '',\n",
       "   'samplereportedtoday': '1193358',\n",
       "   'source': 'https://twitter.com/ICMRDELHI/status/1326732107004084224',\n",
       "   'source1': '',\n",
       "   'source3': '',\n",
       "   'testedasof': '11/11/2020',\n",
       "   'testpositivitylast7days': '4.18%',\n",
       "   'testpositivityrate': '7.12%',\n",
       "   'testsconductedbyprivatelabs': '',\n",
       "   'testsperconfirmedcase': '',\n",
       "   'testspermillion': '91502',\n",
       "   'totalindividualstested': '',\n",
       "   'totalpositivecases': '',\n",
       "   'totalrtpcrsamplescollectedicmrapplication': '55417178',\n",
       "   'totalsamplestested': '121962509',\n",
       "   'updatetimestamp': '12/11/2020 09:00:00'},\n",
       "  {'dailyrtpcrsamplescollectedicmrapplication': '462600',\n",
       "   'individualstestedperconfirmedcase': '',\n",
       "   'positivecasesfromsamplesreported': '',\n",
       "   'samplereportedtoday': '1139230',\n",
       "   'source': 'http://twitter.com/ICMRDELHI/status/1327091930115710976',\n",
       "   'source1': '',\n",
       "   'source3': '',\n",
       "   'testedasof': '12/11/2020',\n",
       "   'testpositivitylast7days': '4.08%',\n",
       "   'testpositivityrate': '7.09%',\n",
       "   'testsconductedbyprivatelabs': '',\n",
       "   'testsperconfirmedcase': '',\n",
       "   'testspermillion': '92356',\n",
       "   'totalindividualstested': '',\n",
       "   'totalpositivecases': '',\n",
       "   'totalrtpcrsamplescollectedicmrapplication': '55879778',\n",
       "   'totalsamplestested': '123101739',\n",
       "   'updatetimestamp': '13/11/2020 09:00:00'},\n",
       "  {'dailyrtpcrsamplescollectedicmrapplication': '433736',\n",
       "   'individualstestedperconfirmedcase': '',\n",
       "   'positivecasesfromsamplesreported': '',\n",
       "   'samplereportedtoday': '929491',\n",
       "   'source': 'http://twitter.com/ICMRDELHI/status/1327452240676753408',\n",
       "   'source1': '',\n",
       "   'source3': '',\n",
       "   'testedasof': '13/11/2020',\n",
       "   'testpositivitylast7days': '4.23%',\n",
       "   'testpositivityrate': '7.07%',\n",
       "   'testsconductedbyprivatelabs': '',\n",
       "   'testsperconfirmedcase': '',\n",
       "   'testspermillion': '93054',\n",
       "   'totalindividualstested': '',\n",
       "   'totalpositivecases': '',\n",
       "   'totalrtpcrsamplescollectedicmrapplication': '56313514',\n",
       "   'totalsamplestested': '124031230',\n",
       "   'updatetimestamp': '14/11/2020 09:00:00'},\n",
       "  {'dailyrtpcrsamplescollectedicmrapplication': '213948',\n",
       "   'individualstestedperconfirmedcase': '',\n",
       "   'positivecasesfromsamplesreported': '',\n",
       "   'samplereportedtoday': '805589',\n",
       "   'source': 'http://twitter.com/ICMRDELHI/status/1327818555035828224',\n",
       "   'source1': '',\n",
       "   'source3': '',\n",
       "   'testedasof': '14/11/2020',\n",
       "   'testpositivitylast7days': '4.17%',\n",
       "   'testpositivityrate': '7.06%',\n",
       "   'testsconductedbyprivatelabs': '',\n",
       "   'testsperconfirmedcase': '',\n",
       "   'testspermillion': '93658',\n",
       "   'totalindividualstested': '',\n",
       "   'totalpositivecases': '',\n",
       "   'totalrtpcrsamplescollectedicmrapplication': '56527462',\n",
       "   'totalsamplestested': '124836819',\n",
       "   'updatetimestamp': '15/11/2020 09:00:00'},\n",
       "  {'dailyrtpcrsamplescollectedicmrapplication': '207819',\n",
       "   'individualstestedperconfirmedcase': '',\n",
       "   'positivecasesfromsamplesreported': '',\n",
       "   'samplereportedtoday': '861706',\n",
       "   'source': 'https://twitter.com/ICMRDELHI/status/1328175103880822784?s=20',\n",
       "   'source1': '',\n",
       "   'source3': '',\n",
       "   'testedasof': '15/11/2020',\n",
       "   'testpositivitylast7days': '4.19%',\n",
       "   'testpositivityrate': '7.04%',\n",
       "   'testsconductedbyprivatelabs': '',\n",
       "   'testsperconfirmedcase': '',\n",
       "   'testspermillion': '94305',\n",
       "   'totalindividualstested': '',\n",
       "   'totalpositivecases': '',\n",
       "   'totalrtpcrsamplescollectedicmrapplication': '56735281',\n",
       "   'totalsamplestested': '125698525',\n",
       "   'updatetimestamp': '16/11/2020 09:00:00'},\n",
       "  {'dailyrtpcrsamplescollectedicmrapplication': '361403',\n",
       "   'individualstestedperconfirmedcase': '',\n",
       "   'positivecasesfromsamplesreported': '',\n",
       "   'samplereportedtoday': '844382',\n",
       "   'source': 'http://twitter.com/ICMRDELHI/status/1328542403368603654',\n",
       "   'source1': '',\n",
       "   'source3': '',\n",
       "   'testedasof': '16/11/2020',\n",
       "   'testpositivitylast7days': '4.13%',\n",
       "   'testpositivityrate': '7.01%',\n",
       "   'testsconductedbyprivatelabs': '',\n",
       "   'testsperconfirmedcase': '',\n",
       "   'testspermillion': '94938',\n",
       "   'totalindividualstested': '',\n",
       "   'totalpositivecases': '',\n",
       "   'totalrtpcrsamplescollectedicmrapplication': '57096684',\n",
       "   'totalsamplestested': '126542907',\n",
       "   'updatetimestamp': '17/11/2020 09:00:00'},\n",
       "  {'dailyrtpcrsamplescollectedicmrapplication': '525029',\n",
       "   'individualstestedperconfirmedcase': '',\n",
       "   'positivecasesfromsamplesreported': '',\n",
       "   'samplereportedtoday': '937279',\n",
       "   'source': 'http://twitter.com/ICMRDELHI/status/1328903118575177730',\n",
       "   'source1': '',\n",
       "   'source3': '',\n",
       "   'testedasof': '17/11/2020',\n",
       "   'testpositivitylast7days': '4.15%',\n",
       "   'testpositivityrate': '6.99%',\n",
       "   'testsconductedbyprivatelabs': '',\n",
       "   'testsperconfirmedcase': '',\n",
       "   'testspermillion': '95641',\n",
       "   'totalindividualstested': '',\n",
       "   'totalpositivecases': '',\n",
       "   'totalrtpcrsamplescollectedicmrapplication': '57621713',\n",
       "   'totalsamplestested': '127480186',\n",
       "   'updatetimestamp': '18/11/2020 09:00:00'},\n",
       "  {'dailyrtpcrsamplescollectedicmrapplication': '560703',\n",
       "   'individualstestedperconfirmedcase': '',\n",
       "   'positivecasesfromsamplesreported': '',\n",
       "   'samplereportedtoday': '1028203',\n",
       "   'source': 'http://twitter.com/ICMRDELHI/status/1329267164138803201',\n",
       "   'source1': '',\n",
       "   'source3': '',\n",
       "   'testedasof': '18/11/2020',\n",
       "   'testpositivitylast7days': '4.25%',\n",
       "   'testpositivityrate': '6.97%',\n",
       "   'testsconductedbyprivatelabs': '',\n",
       "   'testsperconfirmedcase': '',\n",
       "   'testspermillion': '96413',\n",
       "   'totalindividualstested': '',\n",
       "   'totalpositivecases': '',\n",
       "   'totalrtpcrsamplescollectedicmrapplication': '58182416',\n",
       "   'totalsamplestested': '128508389',\n",
       "   'updatetimestamp': '19/11/2020 09:00:00'},\n",
       "  {'dailyrtpcrsamplescollectedicmrapplication': '535878',\n",
       "   'individualstestedperconfirmedcase': '',\n",
       "   'positivecasesfromsamplesreported': '',\n",
       "   'samplereportedtoday': '1083397',\n",
       "   'source': 'https://www.icmr.gov.in/pdf/covid/update/ICMR_testing_update_20Nov2020.pdf',\n",
       "   'source1': '',\n",
       "   'source3': '',\n",
       "   'testedasof': '19/11/2020',\n",
       "   'testpositivitylast7days': '4.16%',\n",
       "   'testpositivityrate': '6.95%',\n",
       "   'testsconductedbyprivatelabs': '',\n",
       "   'testsperconfirmedcase': '',\n",
       "   'testspermillion': '97225',\n",
       "   'totalindividualstested': '',\n",
       "   'totalpositivecases': '',\n",
       "   'totalrtpcrsamplescollectedicmrapplication': '58718294',\n",
       "   'totalsamplestested': '129591786',\n",
       "   'updatetimestamp': '20/11/2020 09:00:00'},\n",
       "  {'dailyrtpcrsamplescollectedicmrapplication': '567454',\n",
       "   'individualstestedperconfirmedcase': '',\n",
       "   'positivecasesfromsamplesreported': '',\n",
       "   'samplereportedtoday': '1066022',\n",
       "   'source': 'http://twitter.com/ICMRDELHI/status/1329993707647451138',\n",
       "   'source1': '',\n",
       "   'source3': '',\n",
       "   'testedasof': '20/11/2020',\n",
       "   'testpositivitylast7days': '4.05%',\n",
       "   'testpositivityrate': '6.93%',\n",
       "   'testsconductedbyprivatelabs': '',\n",
       "   'testsperconfirmedcase': '',\n",
       "   'testspermillion': '98025',\n",
       "   'totalindividualstested': '',\n",
       "   'totalpositivecases': '',\n",
       "   'totalrtpcrsamplescollectedicmrapplication': '59285748',\n",
       "   'totalsamplestested': '130657808',\n",
       "   'updatetimestamp': '21/11/2020 09:00:00'},\n",
       "  {'dailyrtpcrsamplescollectedicmrapplication': '536629',\n",
       "   'individualstestedperconfirmedcase': '',\n",
       "   'positivecasesfromsamplesreported': '',\n",
       "   'samplereportedtoday': '1075326',\n",
       "   'source': 'http://twitter.com/ICMRDELHI/status/1330352228213743616',\n",
       "   'source1': '',\n",
       "   'source3': '',\n",
       "   'testedasof': '21/11/2020',\n",
       "   'testpositivitylast7days': '4.15%',\n",
       "   'testpositivityrate': '6.90%',\n",
       "   'testsconductedbyprivatelabs': '',\n",
       "   'testsperconfirmedcase': '',\n",
       "   'testspermillion': '98832',\n",
       "   'totalindividualstested': '',\n",
       "   'totalpositivecases': '',\n",
       "   'totalrtpcrsamplescollectedicmrapplication': '59822377',\n",
       "   'totalsamplestested': '131733134',\n",
       "   'updatetimestamp': '22/11/2020 09:00:00'},\n",
       "  {'dailyrtpcrsamplescollectedicmrapplication': '301185',\n",
       "   'individualstestedperconfirmedcase': '',\n",
       "   'positivecasesfromsamplesreported': '',\n",
       "   'samplereportedtoday': '849596',\n",
       "   'source': 'https://twitter.com/ICMRDELHI/status/1330715081617801217?s=20',\n",
       "   'source1': '',\n",
       "   'source3': '',\n",
       "   'testedasof': '22/11/2020',\n",
       "   'testpositivitylast7days': '4.41%',\n",
       "   'testpositivityrate': '6.89%',\n",
       "   'testsconductedbyprivatelabs': '',\n",
       "   'testsperconfirmedcase': '',\n",
       "   'testspermillion': '99469',\n",
       "   'totalindividualstested': '',\n",
       "   'totalpositivecases': '',\n",
       "   'totalrtpcrsamplescollectedicmrapplication': '60123562',\n",
       "   'totalsamplestested': '132582730',\n",
       "   'updatetimestamp': '23/11/2020 09:00:00'},\n",
       "  {'dailyrtpcrsamplescollectedicmrapplication': '563281',\n",
       "   'individualstestedperconfirmedcase': '',\n",
       "   'positivecasesfromsamplesreported': '',\n",
       "   'samplereportedtoday': '1099545',\n",
       "   'source': 'https://www.icmr.gov.in/pdf/covid/update/ICMR_testing_update_24Nov2020.pdf',\n",
       "   'source1': '',\n",
       "   'source3': '',\n",
       "   'testedasof': '23/11/2020',\n",
       "   'testpositivitylast7days': '4.27%',\n",
       "   'testpositivityrate': '6.87%',\n",
       "   'testsconductedbyprivatelabs': '',\n",
       "   'testsperconfirmedcase': '',\n",
       "   'testspermillion': '100294',\n",
       "   'totalindividualstested': '',\n",
       "   'totalpositivecases': '',\n",
       "   'totalrtpcrsamplescollectedicmrapplication': '60686843',\n",
       "   'totalsamplestested': '133682275',\n",
       "   'updatetimestamp': '24/11/2020 09:00:00'},\n",
       "  {'dailyrtpcrsamplescollectedicmrapplication': '552422',\n",
       "   'individualstestedperconfirmedcase': '',\n",
       "   'positivecasesfromsamplesreported': '',\n",
       "   'samplereportedtoday': '1159032',\n",
       "   'source': 'https://www.icmr.gov.in/pdf/covid/update/ICMR_testing_update_25Nov2020.pdf',\n",
       "   'source1': '',\n",
       "   'source3': '',\n",
       "   'testedasof': '24/11/2020',\n",
       "   'testpositivitylast7days': '4.17%',\n",
       "   'testpositivityrate': '6.84%',\n",
       "   'testsconductedbyprivatelabs': '',\n",
       "   'testsperconfirmedcase': '',\n",
       "   'testspermillion': '101164',\n",
       "   'totalindividualstested': '',\n",
       "   'totalpositivecases': '',\n",
       "   'totalrtpcrsamplescollectedicmrapplication': '61239265',\n",
       "   'totalsamplestested': '134841307',\n",
       "   'updatetimestamp': '25/11/2020 09:00:00'},\n",
       "  {'dailyrtpcrsamplescollectedicmrapplication': '520170',\n",
       "   'individualstestedperconfirmedcase': '',\n",
       "   'positivecasesfromsamplesreported': '',\n",
       "   'samplereportedtoday': '1090238',\n",
       "   'source': 'http://twitter.com/ICMRDELHI/status/1331805544739348480',\n",
       "   'source1': '',\n",
       "   'source3': '',\n",
       "   'testedasof': '25/11/2020',\n",
       "   'testpositivitylast7days': '4.14%',\n",
       "   'testpositivityrate': '6.82%',\n",
       "   'testsconductedbyprivatelabs': '',\n",
       "   'testsperconfirmedcase': '',\n",
       "   'testspermillion': '101982',\n",
       "   'totalindividualstested': '',\n",
       "   'totalpositivecases': '',\n",
       "   'totalrtpcrsamplescollectedicmrapplication': '61759435',\n",
       "   'totalsamplestested': '135931545',\n",
       "   'updatetimestamp': '26/11/2020 09:00:00'},\n",
       "  {'dailyrtpcrsamplescollectedicmrapplication': '496598',\n",
       "   'individualstestedperconfirmedcase': '',\n",
       "   'positivecasesfromsamplesreported': '',\n",
       "   'samplereportedtoday': '1131204',\n",
       "   'source': 'https://www.icmr.gov.in/pdf/covid/update/ICMR_testing_update_27Nov2020.pdf',\n",
       "   'source1': '',\n",
       "   'source3': '',\n",
       "   'testedasof': '26/11/2020',\n",
       "   'testpositivitylast7days': '4.05%',\n",
       "   'testpositivityrate': '6.79%',\n",
       "   'testsconductedbyprivatelabs': '',\n",
       "   'testsperconfirmedcase': '',\n",
       "   'testspermillion': '102830',\n",
       "   'totalindividualstested': '',\n",
       "   'totalpositivecases': '',\n",
       "   'totalrtpcrsamplescollectedicmrapplication': '62256033',\n",
       "   'totalsamplestested': '137062749',\n",
       "   'updatetimestamp': '27/11/2020 09:00:00'},\n",
       "  {'dailyrtpcrsamplescollectedicmrapplication': '535495',\n",
       "   'individualstestedperconfirmedcase': '',\n",
       "   'positivecasesfromsamplesreported': '',\n",
       "   'samplereportedtoday': '1157605',\n",
       "   'source': 'http://twitter.com/ICMRDELHI/status/1332552259826188291',\n",
       "   'source1': '',\n",
       "   'source3': '',\n",
       "   'testedasof': '27/11/2020',\n",
       "   'testpositivitylast7days': '3.94%',\n",
       "   'testpositivityrate': '6.77%',\n",
       "   'testsconductedbyprivatelabs': '',\n",
       "   'testsperconfirmedcase': '',\n",
       "   'testspermillion': '103699',\n",
       "   'totalindividualstested': '',\n",
       "   'totalpositivecases': '',\n",
       "   'totalrtpcrsamplescollectedicmrapplication': '62791528',\n",
       "   'totalsamplestested': '138220354',\n",
       "   'updatetimestamp': '28/11/2020 09:00:00'},\n",
       "  {'dailyrtpcrsamplescollectedicmrapplication': '570035',\n",
       "   'individualstestedperconfirmedcase': '',\n",
       "   'positivecasesfromsamplesreported': '',\n",
       "   'samplereportedtoday': '1283449',\n",
       "   'source': 'https://www.icmr.gov.in/pdf/covid/update/ICMR_testing_update_29Nov2020.pdf',\n",
       "   'source1': '',\n",
       "   'source3': '',\n",
       "   'testedasof': '28/11/2020',\n",
       "   'testpositivitylast7days': '3.65%',\n",
       "   'testpositivityrate': '6.73%',\n",
       "   'testsconductedbyprivatelabs': '',\n",
       "   'testsperconfirmedcase': '',\n",
       "   'testspermillion': '104662',\n",
       "   'totalindividualstested': '',\n",
       "   'totalpositivecases': '',\n",
       "   'totalrtpcrsamplescollectedicmrapplication': '63361563',\n",
       "   'totalsamplestested': '139503803',\n",
       "   'updatetimestamp': '29/11/2020 09:00:00'},\n",
       "  {'dailyrtpcrsamplescollectedicmrapplication': '332341',\n",
       "   'individualstestedperconfirmedcase': '',\n",
       "   'positivecasesfromsamplesreported': '',\n",
       "   'samplereportedtoday': '876173',\n",
       "   'source': 'http://twitter.com/ICMRDELHI/status/1333254628410945536',\n",
       "   'source1': '',\n",
       "   'source3': '',\n",
       "   'testedasof': '29/11/2020',\n",
       "   'testpositivitylast7days': '3.80%',\n",
       "   'testpositivityrate': '6.72%',\n",
       "   'testsconductedbyprivatelabs': '',\n",
       "   'testsperconfirmedcase': '',\n",
       "   'testspermillion': '105319',\n",
       "   'totalindividualstested': '',\n",
       "   'totalpositivecases': '',\n",
       "   'totalrtpcrsamplescollectedicmrapplication': '63693904',\n",
       "   'totalsamplestested': '140379976',\n",
       "   'updatetimestamp': '30/11/2020 09:00:00'},\n",
       "  {'dailyrtpcrsamplescollectedicmrapplication': '475345',\n",
       "   'individualstestedperconfirmedcase': '',\n",
       "   'positivecasesfromsamplesreported': '',\n",
       "   'samplereportedtoday': '969325',\n",
       "   'source': 'https://twitter.com/ICMRDELHI/status/1333632992900567041?s=20',\n",
       "   'source1': '',\n",
       "   'source3': '',\n",
       "   'testedasof': '30/11/2020',\n",
       "   'testpositivitylast7days': '3.71%',\n",
       "   'testpositivityrate': '6.69%',\n",
       "   'testsconductedbyprivatelabs': '',\n",
       "   'testsperconfirmedcase': '',\n",
       "   'testspermillion': '106046',\n",
       "   'totalindividualstested': '',\n",
       "   'totalpositivecases': '',\n",
       "   'totalrtpcrsamplescollectedicmrapplication': '64169249',\n",
       "   'totalsamplestested': '141349301',\n",
       "   'updatetimestamp': '01/12/2020 09:00:00'},\n",
       "  {'dailyrtpcrsamplescollectedicmrapplication': '548347',\n",
       "   'individualstestedperconfirmedcase': '',\n",
       "   'positivecasesfromsamplesreported': '',\n",
       "   'samplereportedtoday': '1096651',\n",
       "   'source': 'http://twitter.com/ICMRDELHI/status/1333975480140259328',\n",
       "   'source1': '',\n",
       "   'source3': '',\n",
       "   'testedasof': '1/12/2020',\n",
       "   'testpositivitylast7days': '3.58%',\n",
       "   'testpositivityrate': '6.67%',\n",
       "   'testsconductedbyprivatelabs': '',\n",
       "   'testsperconfirmedcase': '',\n",
       "   'testspermillion': '106869',\n",
       "   'totalindividualstested': '',\n",
       "   'totalpositivecases': '',\n",
       "   'totalrtpcrsamplescollectedicmrapplication': '64717596',\n",
       "   'totalsamplestested': '142445952',\n",
       "   'updatetimestamp': '02/12/2020 09:00:00'},\n",
       "  {'dailyrtpcrsamplescollectedicmrapplication': '543945',\n",
       "   'individualstestedperconfirmedcase': '',\n",
       "   'positivecasesfromsamplesreported': '',\n",
       "   'samplereportedtoday': '1111698',\n",
       "   'source': 'http://twitter.com/ICMRDELHI/status/1334338099531243520',\n",
       "   'source1': '',\n",
       "   'source3': '',\n",
       "   'testedasof': '2/12/2020',\n",
       "   'testpositivitylast7days': '3.47%',\n",
       "   'testpositivityrate': '6.64%',\n",
       "   'testsconductedbyprivatelabs': '',\n",
       "   'testsperconfirmedcase': '',\n",
       "   'testspermillion': '107703',\n",
       "   'totalindividualstested': '',\n",
       "   'totalpositivecases': '',\n",
       "   'totalrtpcrsamplescollectedicmrapplication': '65261541',\n",
       "   'totalsamplestested': '143557650',\n",
       "   'updatetimestamp': '03/12/2020 09:00:00'},\n",
       "  {'dailyrtpcrsamplescollectedicmrapplication': '512076',\n",
       "   'individualstestedperconfirmedcase': '',\n",
       "   'positivecasesfromsamplesreported': '',\n",
       "   'samplereportedtoday': '1170102',\n",
       "   'source': 'http://twitter.com/ICMRDELHI/status/1334701824960471044',\n",
       "   'source1': '',\n",
       "   'source3': '',\n",
       "   'testedasof': '3/12/2020',\n",
       "   'testpositivitylast7days': '3.39%',\n",
       "   'testpositivityrate': '6.61%',\n",
       "   'testsconductedbyprivatelabs': '',\n",
       "   'testsperconfirmedcase': '',\n",
       "   'testspermillion': '108581',\n",
       "   'totalindividualstested': '',\n",
       "   'totalpositivecases': '',\n",
       "   'totalrtpcrsamplescollectedicmrapplication': '65773617',\n",
       "   'totalsamplestested': '144727749',\n",
       "   'updatetimestamp': '04/12/2020 09:00:00'},\n",
       "  {'dailyrtpcrsamplescollectedicmrapplication': '531258',\n",
       "   'individualstestedperconfirmedcase': '',\n",
       "   'positivecasesfromsamplesreported': '',\n",
       "   'samplereportedtoday': '1157763',\n",
       "   'source': 'http://twitter.com/ICMRDELHI/status/1335079645113327616',\n",
       "   'source1': '',\n",
       "   'source3': '',\n",
       "   'testedasof': '4/12/2020',\n",
       "   'testpositivitylast7days': '3.38%',\n",
       "   'testpositivityrate': '6.59%',\n",
       "   'testsconductedbyprivatelabs': '',\n",
       "   'testsperconfirmedcase': '',\n",
       "   'testspermillion': '109450',\n",
       "   'totalindividualstested': '',\n",
       "   'totalpositivecases': '',\n",
       "   'totalrtpcrsamplescollectedicmrapplication': '66304875',\n",
       "   'totalsamplestested': '145885512',\n",
       "   'updatetimestamp': '05/12/2020 09:00:00'},\n",
       "  {'dailyrtpcrsamplescollectedicmrapplication': '491370',\n",
       "   'individualstestedperconfirmedcase': '',\n",
       "   'positivecasesfromsamplesreported': '',\n",
       "   'samplereportedtoday': '1101063',\n",
       "   'source': 'https://www.icmr.gov.in/pdf/covid/update/ICMR_testing_update_06Dec2020.pdf',\n",
       "   'source1': '',\n",
       "   'source3': '',\n",
       "   'testedasof': '5/12/2020',\n",
       "   'testpositivitylast7days': '3.22%',\n",
       "   'testpositivityrate': '6.56%',\n",
       "   'testsconductedbyprivatelabs': '',\n",
       "   'testsperconfirmedcase': '',\n",
       "   'testspermillion': '110276',\n",
       "   'totalindividualstested': '',\n",
       "   'totalpositivecases': '',\n",
       "   'totalrtpcrsamplescollectedicmrapplication': '66796245',\n",
       "   'totalsamplestested': '146986575',\n",
       "   'updatetimestamp': '06/12/2020 09:00:00'},\n",
       "  {'dailyrtpcrsamplescollectedicmrapplication': '276031',\n",
       "   'individualstestedperconfirmedcase': '',\n",
       "   'positivecasesfromsamplesreported': '',\n",
       "   'samplereportedtoday': '801081',\n",
       "   'source': 'http://twitter.com/ICMRDELHI/status/1335788462729924609',\n",
       "   'source1': '',\n",
       "   'source3': '',\n",
       "   'testedasof': '6/12/2020',\n",
       "   'testpositivitylast7days': '3.33%',\n",
       "   'testpositivityrate': '6.55%',\n",
       "   'testsconductedbyprivatelabs': '',\n",
       "   'testsperconfirmedcase': '',\n",
       "   'testspermillion': '110877',\n",
       "   'totalindividualstested': '',\n",
       "   'totalpositivecases': '',\n",
       "   'totalrtpcrsamplescollectedicmrapplication': '67072276',\n",
       "   'totalsamplestested': '147787656',\n",
       "   'updatetimestamp': '07/12/2020 09:00:00'},\n",
       "  {'dailyrtpcrsamplescollectedicmrapplication': '530428',\n",
       "   'individualstestedperconfirmedcase': '',\n",
       "   'positivecasesfromsamplesreported': '',\n",
       "   'samplereportedtoday': '1026399',\n",
       "   'source': 'https://twitter.com/ICMRDELHI/status/1336164537226018816?s=20',\n",
       "   'source1': '',\n",
       "   'source3': '',\n",
       "   'testedasof': '7/12/2020',\n",
       "   'testpositivitylast7days': '3.21%',\n",
       "   'testpositivityrate': '6.52%',\n",
       "   'testsconductedbyprivatelabs': '',\n",
       "   'testsperconfirmedcase': '',\n",
       "   'testspermillion': '111647',\n",
       "   'totalindividualstested': '',\n",
       "   'totalpositivecases': '',\n",
       "   'totalrtpcrsamplescollectedicmrapplication': '67602704',\n",
       "   'totalsamplestested': '148814055',\n",
       "   'updatetimestamp': '08/12/2020 09:00:00'},\n",
       "  {'dailyrtpcrsamplescollectedicmrapplication': '461101',\n",
       "   'individualstestedperconfirmedcase': '',\n",
       "   'positivecasesfromsamplesreported': '',\n",
       "   'samplereportedtoday': '1022712',\n",
       "   'source': 'twitter.com/ICMRDELHI/status/1336512573538140161/',\n",
       "   'source1': '',\n",
       "   'source3': '',\n",
       "   'testedasof': '8/12/2020',\n",
       "   'testpositivitylast7days': '3.20%',\n",
       "   'testpositivityrate': '6.50%',\n",
       "   'testsconductedbyprivatelabs': '',\n",
       "   'testsperconfirmedcase': '',\n",
       "   'testspermillion': '112414',\n",
       "   'totalindividualstested': '',\n",
       "   'totalpositivecases': '',\n",
       "   'totalrtpcrsamplescollectedicmrapplication': '68063805',\n",
       "   'totalsamplestested': '149836767',\n",
       "   'updatetimestamp': '09/12/2020 09:00:00'},\n",
       "  {'dailyrtpcrsamplescollectedicmrapplication': '501207',\n",
       "   'individualstestedperconfirmedcase': '',\n",
       "   'positivecasesfromsamplesreported': '',\n",
       "   'samplereportedtoday': '922959',\n",
       "   'source': 'https://twitter.com/ICMRDELHI/status/1336875858988916736',\n",
       "   'source1': '',\n",
       "   'source3': '',\n",
       "   'testedasof': '9/12/2020',\n",
       "   'testpositivitylast7days': '3.25%',\n",
       "   'testpositivityrate': '6.48%',\n",
       "   'testsconductedbyprivatelabs': '',\n",
       "   'testsperconfirmedcase': '',\n",
       "   'testspermillion': '113107',\n",
       "   'totalindividualstested': '',\n",
       "   'totalpositivecases': '',\n",
       "   'totalrtpcrsamplescollectedicmrapplication': '68565012',\n",
       "   'totalsamplestested': '150759726',\n",
       "   'updatetimestamp': '10/12/2020 09:00:00'},\n",
       "  {'dailyrtpcrsamplescollectedicmrapplication': '472563',\n",
       "   'individualstestedperconfirmedcase': '',\n",
       "   'positivecasesfromsamplesreported': '',\n",
       "   'samplereportedtoday': '872479',\n",
       "   'source': 'https://twitter.com/ICMRDELHI/status/1337259604325978118',\n",
       "   'source1': '',\n",
       "   'source3': '',\n",
       "   'testedasof': '10/12/2020',\n",
       "   'testpositivitylast7days': '3.28%',\n",
       "   'testpositivityrate': '6.46%',\n",
       "   'testsconductedbyprivatelabs': '',\n",
       "   'testsperconfirmedcase': '',\n",
       "   'testspermillion': '113761',\n",
       "   'totalindividualstested': '',\n",
       "   'totalpositivecases': '',\n",
       "   'totalrtpcrsamplescollectedicmrapplication': '69037575',\n",
       "   'totalsamplestested': '151632223',\n",
       "   'updatetimestamp': '11/12/2020 09:00:00'},\n",
       "  {'dailyrtpcrsamplescollectedicmrapplication': '478394',\n",
       "   'individualstestedperconfirmedcase': '',\n",
       "   'positivecasesfromsamplesreported': '',\n",
       "   'samplereportedtoday': '1065176',\n",
       "   'source': 'https://twitter.com/ICMRDELHI/status/1337598387277844481',\n",
       "   'source1': '',\n",
       "   'source3': '',\n",
       "   'testedasof': '11/12/2020',\n",
       "   'testpositivitylast7days': '3.20%',\n",
       "   'testpositivityrate': '6.44%',\n",
       "   'testsconductedbyprivatelabs': '',\n",
       "   'testsperconfirmedcase': '',\n",
       "   'testspermillion': '114560',\n",
       "   'totalindividualstested': '',\n",
       "   'totalpositivecases': '',\n",
       "   'totalrtpcrsamplescollectedicmrapplication': '69515969',\n",
       "   'totalsamplestested': '152697399',\n",
       "   'updatetimestamp': '12/12/2020 09:00:00'},\n",
       "  {'dailyrtpcrsamplescollectedicmrapplication': '455870',\n",
       "   'individualstestedperconfirmedcase': '',\n",
       "   'positivecasesfromsamplesreported': '',\n",
       "   'samplereportedtoday': '1014434',\n",
       "   'source': 'https://twitter.com/ICMRDELHI/status/1337968190370897922',\n",
       "   'source1': '',\n",
       "   'source3': '',\n",
       "   'testedasof': '12/12/2020',\n",
       "   'testpositivitylast7days': '3.03%',\n",
       "   'testpositivityrate': '6.41%',\n",
       "   'testsconductedbyprivatelabs': '',\n",
       "   'testsperconfirmedcase': '',\n",
       "   'testspermillion': '115321',\n",
       "   'totalindividualstested': '',\n",
       "   'totalpositivecases': '',\n",
       "   'totalrtpcrsamplescollectedicmrapplication': '69971839',\n",
       "   'totalsamplestested': '153711833',\n",
       "   'updatetimestamp': '13/12/2020 09:00:00'},\n",
       "  {'dailyrtpcrsamplescollectedicmrapplication': '276789',\n",
       "   'individualstestedperconfirmedcase': '',\n",
       "   'positivecasesfromsamplesreported': '',\n",
       "   'samplereportedtoday': '855157',\n",
       "   'source': 'https://www.icmr.gov.in/pdf/covid/update/ICMR_testing_update_14Dec2020.pdf',\n",
       "   'source1': '',\n",
       "   'source3': '',\n",
       "   'testedasof': '13/12/2020',\n",
       "   'testpositivitylast7days': '3.14%',\n",
       "   'testpositivityrate': '6.40%',\n",
       "   'testsconductedbyprivatelabs': '',\n",
       "   'testsperconfirmedcase': '',\n",
       "   'testspermillion': '115963',\n",
       "   'totalindividualstested': '',\n",
       "   'totalpositivecases': '',\n",
       "   'totalrtpcrsamplescollectedicmrapplication': '70248628',\n",
       "   'totalsamplestested': '154566990',\n",
       "   'updatetimestamp': '14/12/2020 09:00:00'},\n",
       "  {'dailyrtpcrsamplescollectedicmrapplication': '533871',\n",
       "   'individualstestedperconfirmedcase': '',\n",
       "   'positivecasesfromsamplesreported': '',\n",
       "   'samplereportedtoday': '993665',\n",
       "   'source': 'http://twitter.com/ICMRDELHI/status/1338691630828679168',\n",
       "   'source1': '',\n",
       "   'source3': '',\n",
       "   'testedasof': '14/12/2020',\n",
       "   'testpositivitylast7days': '2.98%',\n",
       "   'testpositivityrate': '6.37%',\n",
       "   'testsconductedbyprivatelabs': '',\n",
       "   'testsperconfirmedcase': '',\n",
       "   'testspermillion': '116708',\n",
       "   'totalindividualstested': '',\n",
       "   'totalpositivecases': '',\n",
       "   'totalrtpcrsamplescollectedicmrapplication': '70782499',\n",
       "   'totalsamplestested': '155560655',\n",
       "   'updatetimestamp': '15/12/2020 09:00:00'},\n",
       "  {'dailyrtpcrsamplescollectedicmrapplication': '529601',\n",
       "   'individualstestedperconfirmedcase': '',\n",
       "   'positivecasesfromsamplesreported': '',\n",
       "   'samplereportedtoday': '1085625',\n",
       "   'source': 'http://twitter.com/ICMRDELHI/status/1339049762482388992',\n",
       "   'source1': '',\n",
       "   'source3': '',\n",
       "   'testedasof': '15/12/2020',\n",
       "   'testpositivitylast7days': '2.81%',\n",
       "   'testpositivityrate': '6.34%',\n",
       "   'testsconductedbyprivatelabs': '',\n",
       "   'testsperconfirmedcase': '',\n",
       "   'testspermillion': '117523',\n",
       "   'totalindividualstested': '',\n",
       "   'totalpositivecases': '',\n",
       "   'totalrtpcrsamplescollectedicmrapplication': '71312100',\n",
       "   'totalsamplestested': '156646280',\n",
       "   'updatetimestamp': '16/12/2020 09:00:00'},\n",
       "  {'dailyrtpcrsamplescollectedicmrapplication': '520837',\n",
       "   'individualstestedperconfirmedcase': '',\n",
       "   'positivecasesfromsamplesreported': '',\n",
       "   'samplereportedtoday': '1158960',\n",
       "   'source': 'https://www.icmr.gov.in/pdf/covid/update/ICMR_testing_update_17Dec2020.pdf',\n",
       "   'source1': '',\n",
       "   'source3': '',\n",
       "   'testedasof': '16/12/2020',\n",
       "   'testpositivitylast7days': '2.49%',\n",
       "   'testpositivityrate': '6.31%',\n",
       "   'testsconductedbyprivatelabs': '',\n",
       "   'testsperconfirmedcase': '',\n",
       "   'testspermillion': '118392',\n",
       "   'totalindividualstested': '',\n",
       "   'totalpositivecases': '',\n",
       "   'totalrtpcrsamplescollectedicmrapplication': '71832937',\n",
       "   'totalsamplestested': '157805240',\n",
       "   'updatetimestamp': '17/12/2020 09:00:00'},\n",
       "  {'dailyrtpcrsamplescollectedicmrapplication': '507356',\n",
       "   'individualstestedperconfirmedcase': '',\n",
       "   'positivecasesfromsamplesreported': '',\n",
       "   'samplereportedtoday': '1113706',\n",
       "   'source': 'http://twitter.com/ICMRDELHI/status/1339777157145366529',\n",
       "   'source1': '',\n",
       "   'source3': '',\n",
       "   'testedasof': '17/12/2020',\n",
       "   'testpositivitylast7days': '2.42%',\n",
       "   'testpositivityrate': '6.28%',\n",
       "   'testsconductedbyprivatelabs': '',\n",
       "   'testsperconfirmedcase': '',\n",
       "   'testspermillion': '119228',\n",
       "   'totalindividualstested': '',\n",
       "   'totalpositivecases': '',\n",
       "   'totalrtpcrsamplescollectedicmrapplication': '72340293',\n",
       "   'totalsamplestested': '158918946',\n",
       "   'updatetimestamp': '18/12/2020 09:00:00'},\n",
       "  {'dailyrtpcrsamplescollectedicmrapplication': '499914',\n",
       "   'individualstestedperconfirmedcase': '',\n",
       "   'positivecasesfromsamplesreported': '',\n",
       "   'samplereportedtoday': '1171868',\n",
       "   'source': 'https://twitter.com/ICMRDELHI/status/1340135615648522240',\n",
       "   'source1': '',\n",
       "   'source3': '',\n",
       "   'testedasof': '18/12/2020',\n",
       "   'testpositivitylast7days': '2.31%',\n",
       "   'testpositivityrate': '6.25%',\n",
       "   'testsconductedbyprivatelabs': '',\n",
       "   'testsperconfirmedcase': '',\n",
       "   'testspermillion': '120107',\n",
       "   'totalindividualstested': '',\n",
       "   'totalpositivecases': '',\n",
       "   'totalrtpcrsamplescollectedicmrapplication': '72840207',\n",
       "   'totalsamplestested': '160090814',\n",
       "   'updatetimestamp': '19/12/2020 09:00:00'},\n",
       "  {'dailyrtpcrsamplescollectedicmrapplication': '476129',\n",
       "   'individualstestedperconfirmedcase': '',\n",
       "   'positivecasesfromsamplesreported': '',\n",
       "   'samplereportedtoday': '1107681',\n",
       "   'source': 'http://twitter.com/ICMRDELHI/status/1340500933642313732',\n",
       "   'source1': '',\n",
       "   'source3': '',\n",
       "   'testedasof': '19/12/2020',\n",
       "   'testpositivitylast7days': '2.22%',\n",
       "   'testpositivityrate': '6.22%',\n",
       "   'testsconductedbyprivatelabs': '',\n",
       "   'testsperconfirmedcase': '',\n",
       "   'testspermillion': '120938',\n",
       "   'totalindividualstested': '',\n",
       "   'totalpositivecases': '',\n",
       "   'totalrtpcrsamplescollectedicmrapplication': '73316336',\n",
       "   'totalsamplestested': '161198495',\n",
       "   'updatetimestamp': '20/12/2020 09:00:00'},\n",
       "  {'dailyrtpcrsamplescollectedicmrapplication': '263537',\n",
       "   'individualstestedperconfirmedcase': '',\n",
       "   'positivecasesfromsamplesreported': '',\n",
       "   'samplereportedtoday': '900134',\n",
       "   'source': 'http://twitter.com/ICMRDELHI/status/1340865870218711040',\n",
       "   'source1': '',\n",
       "   'source3': '',\n",
       "   'testedasof': '20/12/2020',\n",
       "   'testpositivitylast7days': '2.29%',\n",
       "   'testpositivityrate': '6.20%',\n",
       "   'testsconductedbyprivatelabs': '',\n",
       "   'testsperconfirmedcase': '',\n",
       "   'testspermillion': '121613',\n",
       "   'totalindividualstested': '',\n",
       "   'totalpositivecases': '',\n",
       "   'totalrtpcrsamplescollectedicmrapplication': '73579873',\n",
       "   'totalsamplestested': '162098629',\n",
       "   'updatetimestamp': '21/12/2020 09:00:00'},\n",
       "  {'dailyrtpcrsamplescollectedicmrapplication': '529668',\n",
       "   'individualstestedperconfirmedcase': '',\n",
       "   'positivecasesfromsamplesreported': '',\n",
       "   'samplereportedtoday': '1072228',\n",
       "   'source': 'http://twitter.com/ICMRDELHI/status/1341227615261052929',\n",
       "   'source1': '',\n",
       "   'source3': '',\n",
       "   'testedasof': '21/12/2020',\n",
       "   'testpositivitylast7days': '2.18%',\n",
       "   'testpositivityrate': '6.17%',\n",
       "   'testsconductedbyprivatelabs': '',\n",
       "   'testsperconfirmedcase': '',\n",
       "   'testspermillion': '122418',\n",
       "   'totalindividualstested': '',\n",
       "   'totalpositivecases': '',\n",
       "   'totalrtpcrsamplescollectedicmrapplication': '74109541',\n",
       "   'totalsamplestested': '163170857',\n",
       "   'updatetimestamp': '22/12/2020 09:00:00'},\n",
       "  {'dailyrtpcrsamplescollectedicmrapplication': '499843',\n",
       "   'individualstestedperconfirmedcase': '',\n",
       "   'positivecasesfromsamplesreported': '',\n",
       "   'samplereportedtoday': '1098164',\n",
       "   'source': 'http://twitter.com/ICMRDELHI/status/1341585266620813314',\n",
       "   'source1': '',\n",
       "   'source3': '',\n",
       "   'testedasof': '22/12/2020',\n",
       "   'testpositivitylast7days': '2.29%',\n",
       "   'testpositivityrate': '6.15%',\n",
       "   'testsconductedbyprivatelabs': '',\n",
       "   'testsperconfirmedcase': '',\n",
       "   'testspermillion': '',\n",
       "   'totalindividualstested': '',\n",
       "   'totalpositivecases': '',\n",
       "   'totalrtpcrsamplescollectedicmrapplication': '74609384',\n",
       "   'totalsamplestested': '164269021',\n",
       "   'updatetimestamp': '23/12/2020 09:00:00'},\n",
       "  {'dailyrtpcrsamplescollectedicmrapplication': '504458',\n",
       "   'individualstestedperconfirmedcase': '',\n",
       "   'positivecasesfromsamplesreported': '',\n",
       "   'samplereportedtoday': '1039645',\n",
       "   'source': 'http://twitter.com/ICMRDELHI/status/1341952269596561414',\n",
       "   'source1': '',\n",
       "   'source3': '',\n",
       "   'testedasof': '23/12/2020',\n",
       "   'testpositivitylast7days': '2.29%',\n",
       "   'testpositivityrate': '6.12%',\n",
       "   'testsconductedbyprivatelabs': '',\n",
       "   'testsperconfirmedcase': '',\n",
       "   'testspermillion': '',\n",
       "   'totalindividualstested': '',\n",
       "   'totalpositivecases': '',\n",
       "   'totalrtpcrsamplescollectedicmrapplication': '75113842',\n",
       "   'totalsamplestested': '165308666',\n",
       "   'updatetimestamp': '24/12/2020 09:00:00'},\n",
       "  {'dailyrtpcrsamplescollectedicmrapplication': '474301',\n",
       "   'individualstestedperconfirmedcase': '',\n",
       "   'positivecasesfromsamplesreported': '',\n",
       "   'samplereportedtoday': '997396',\n",
       "   'source': 'https://twitter.com/ICMRDELHI/status/1342313771524476928',\n",
       "   'source1': '',\n",
       "   'source3': '',\n",
       "   'testedasof': '24/12/2020',\n",
       "   'testpositivitylast7days': '2.30%',\n",
       "   'testpositivityrate': '6.10%',\n",
       "   'testsconductedbyprivatelabs': '',\n",
       "   'testsperconfirmedcase': '',\n",
       "   'testspermillion': '',\n",
       "   'totalindividualstested': '',\n",
       "   'totalpositivecases': '',\n",
       "   'totalrtpcrsamplescollectedicmrapplication': '75588143',\n",
       "   'totalsamplestested': '166306062',\n",
       "   'updatetimestamp': '25/12/2020 09:00:00'},\n",
       "  {'dailyrtpcrsamplescollectedicmrapplication': '331011',\n",
       "   'individualstestedperconfirmedcase': '',\n",
       "   'positivecasesfromsamplesreported': '',\n",
       "   'samplereportedtoday': '853527',\n",
       "   'source': 'https://twitter.com/ICMRDELHI/status/1342679504796360709',\n",
       "   'source1': '',\n",
       "   'source3': '',\n",
       "   'testedasof': '25/12/2020',\n",
       "   'testpositivitylast7days': '2.32%',\n",
       "   'testpositivityrate': '6.08%',\n",
       "   'testsconductedbyprivatelabs': '',\n",
       "   'testsperconfirmedcase': '',\n",
       "   'testspermillion': '',\n",
       "   'totalindividualstested': '',\n",
       "   'totalpositivecases': '',\n",
       "   'totalrtpcrsamplescollectedicmrapplication': '75919154',\n",
       "   'totalsamplestested': '167159589',\n",
       "   'updatetimestamp': '26/12/2020 09:00:00'},\n",
       "  {'dailyrtpcrsamplescollectedicmrapplication': '451990',\n",
       "   'individualstestedperconfirmedcase': '',\n",
       "   'positivecasesfromsamplesreported': '',\n",
       "   'samplereportedtoday': '943368',\n",
       "   'source': 'http://twitter.com/ICMRDELHI/status/1343043553375657984',\n",
       "   'source1': '',\n",
       "   'source3': '',\n",
       "   'testedasof': '26/12/2020',\n",
       "   'testpositivitylast7days': '2.20%',\n",
       "   'testpositivityrate': '6.06%',\n",
       "   'testsconductedbyprivatelabs': '',\n",
       "   'testsperconfirmedcase': '',\n",
       "   'testspermillion': '',\n",
       "   'totalindividualstested': '',\n",
       "   'totalpositivecases': '',\n",
       "   'totalrtpcrsamplescollectedicmrapplication': '76371144',\n",
       "   'totalsamplestested': '168102957',\n",
       "   'updatetimestamp': '27/12/2020 09:00:00'},\n",
       "  {'dailyrtpcrsamplescollectedicmrapplication': '254695',\n",
       "   'individualstestedperconfirmedcase': '',\n",
       "   'positivecasesfromsamplesreported': '',\n",
       "   'samplereportedtoday': '715397',\n",
       "   'source': 'https://twitter.com/ICMRDELHI/status/1343397721122557952',\n",
       "   'source1': '',\n",
       "   'source3': '',\n",
       "   'testedasof': '27/12/2020',\n",
       "   'testpositivitylast7days': '2.36%',\n",
       "   'testpositivityrate': '6.05%',\n",
       "   'testsconductedbyprivatelabs': '',\n",
       "   'testsperconfirmedcase': '',\n",
       "   'testspermillion': '',\n",
       "   'totalindividualstested': '',\n",
       "   'totalpositivecases': '',\n",
       "   'totalrtpcrsamplescollectedicmrapplication': '76625839',\n",
       "   'totalsamplestested': '168818354',\n",
       "   'updatetimestamp': '28/12/2020 09:00:00'},\n",
       "  {'dailyrtpcrsamplescollectedicmrapplication': '536439',\n",
       "   'individualstestedperconfirmedcase': '',\n",
       "   'positivecasesfromsamplesreported': '',\n",
       "   'samplereportedtoday': '983695',\n",
       "   'source': 'https://www.icmr.gov.in/pdf/covid/update/ICMR_testing_update_29Dec2020.pdf',\n",
       "   'source1': '',\n",
       "   'source3': '',\n",
       "   'testedasof': '28/12/2020',\n",
       "   'testpositivitylast7days': '2.27%',\n",
       "   'testpositivityrate': '6.02%',\n",
       "   'testsconductedbyprivatelabs': '',\n",
       "   'testsperconfirmedcase': '',\n",
       "   'testspermillion': '',\n",
       "   'totalindividualstested': '',\n",
       "   'totalpositivecases': '',\n",
       "   'totalrtpcrsamplescollectedicmrapplication': '77162278',\n",
       "   'totalsamplestested': '169802049',\n",
       "   'updatetimestamp': '29/12/2020 09:00:00'},\n",
       "  {'dailyrtpcrsamplescollectedicmrapplication': '555188',\n",
       "   'individualstestedperconfirmedcase': '',\n",
       "   'positivecasesfromsamplesreported': '',\n",
       "   'samplereportedtoday': '1120281',\n",
       "   'source': 'https://www.icmr.gov.in/pdf/covid/update/ICMR_testing_update_30Dec2020.pdf',\n",
       "   'source1': '',\n",
       "   'source3': '',\n",
       "   'testedasof': '29/12/2020',\n",
       "   'testpositivitylast7days': '',\n",
       "   'testpositivityrate': '',\n",
       "   'testsconductedbyprivatelabs': '',\n",
       "   'testsperconfirmedcase': '',\n",
       "   'testspermillion': '',\n",
       "   'totalindividualstested': '',\n",
       "   'totalpositivecases': '',\n",
       "   'totalrtpcrsamplescollectedicmrapplication': '77717466',\n",
       "   'totalsamplestested': '170922330',\n",
       "   'updatetimestamp': '30/12/2020 09:00:00'},\n",
       "  {'dailyrtpcrsamplescollectedicmrapplication': '544381',\n",
       "   'individualstestedperconfirmedcase': '',\n",
       "   'positivecasesfromsamplesreported': '',\n",
       "   'samplereportedtoday': '1127244',\n",
       "   'source': 'https://www.icmr.gov.in/pdf/covid/update/ICMR_testing_update_31Dec2020.pdf',\n",
       "   'source1': '',\n",
       "   'source3': '',\n",
       "   'testedasof': '30/12/2020',\n",
       "   'testpositivitylast7days': '',\n",
       "   'testpositivityrate': '',\n",
       "   'testsconductedbyprivatelabs': '',\n",
       "   'testsperconfirmedcase': '',\n",
       "   'testspermillion': '',\n",
       "   'totalindividualstested': '',\n",
       "   'totalpositivecases': '',\n",
       "   'totalrtpcrsamplescollectedicmrapplication': '78261847',\n",
       "   'totalsamplestested': '172049574',\n",
       "   'updatetimestamp': '31/12/2020 09:00:00'},\n",
       "  {'dailyrtpcrsamplescollectedicmrapplication': '517787',\n",
       "   'individualstestedperconfirmedcase': '',\n",
       "   'positivecasesfromsamplesreported': '',\n",
       "   'samplereportedtoday': '1062420',\n",
       "   'source': 'https://twitter.com/ICMRDELHI/status/1344857554367614976',\n",
       "   'source1': '',\n",
       "   'source3': '',\n",
       "   'testedasof': '31/12/2020',\n",
       "   'testpositivitylast7days': '',\n",
       "   'testpositivityrate': '',\n",
       "   'testsconductedbyprivatelabs': '',\n",
       "   'testsperconfirmedcase': '',\n",
       "   'testspermillion': '',\n",
       "   'totalindividualstested': '',\n",
       "   'totalpositivecases': '',\n",
       "   'totalrtpcrsamplescollectedicmrapplication': '78779634',\n",
       "   'totalsamplestested': '173111994',\n",
       "   'updatetimestamp': '01/01/2021 09:00:00'},\n",
       "  {'dailyrtpcrsamplescollectedicmrapplication': '368159',\n",
       "   'individualstestedperconfirmedcase': '',\n",
       "   'positivecasesfromsamplesreported': '',\n",
       "   'samplereportedtoday': '829964',\n",
       "   'source': 'https://www.icmr.gov.in/pdf/covid/update/ICMR_testing_update_02Jan2021.pdf',\n",
       "   'source1': '',\n",
       "   'source3': '',\n",
       "   'testedasof': '1/1/2021',\n",
       "   'testpositivitylast7days': '',\n",
       "   'testpositivityrate': '',\n",
       "   'testsconductedbyprivatelabs': '',\n",
       "   'testsperconfirmedcase': '',\n",
       "   'testspermillion': '',\n",
       "   'totalindividualstested': '',\n",
       "   'totalpositivecases': '',\n",
       "   'totalrtpcrsamplescollectedicmrapplication': '79147793',\n",
       "   'totalsamplestested': '173941958',\n",
       "   'updatetimestamp': '02/01/2021 09:00:00'},\n",
       "  {'dailyrtpcrsamplescollectedicmrapplication': '461605',\n",
       "   'individualstestedperconfirmedcase': '',\n",
       "   'positivecasesfromsamplesreported': '',\n",
       "   'samplereportedtoday': '958125',\n",
       "   'source': 'http://twitter.com/ICMRDELHI/status/1345578137304764416',\n",
       "   'source1': '',\n",
       "   'source3': '',\n",
       "   'testedasof': '2/1/2021',\n",
       "   'testpositivitylast7days': '',\n",
       "   'testpositivityrate': '',\n",
       "   'testsconductedbyprivatelabs': '',\n",
       "   'testsperconfirmedcase': '',\n",
       "   'testspermillion': '',\n",
       "   'totalindividualstested': '',\n",
       "   'totalpositivecases': '',\n",
       "   'totalrtpcrsamplescollectedicmrapplication': '79609398',\n",
       "   'totalsamplestested': '174900083',\n",
       "   'updatetimestamp': '03/01/2021 09:00:00'}]}"
      ]
     },
     "execution_count": 225,
     "metadata": {},
     "output_type": "execute_result"
    }
   ],
   "source": [
    "# decode json data into a dict object\n",
    "data = json.loads(r.data.decode('utf-8'))\n",
    "data"
   ]
  },
  {
   "cell_type": "code",
   "execution_count": 226,
   "metadata": {},
   "outputs": [
    {
     "data": {
      "text/html": [
       "<div>\n",
       "<style scoped>\n",
       "    .dataframe tbody tr th:only-of-type {\n",
       "        vertical-align: middle;\n",
       "    }\n",
       "\n",
       "    .dataframe tbody tr th {\n",
       "        vertical-align: top;\n",
       "    }\n",
       "\n",
       "    .dataframe thead th {\n",
       "        text-align: right;\n",
       "    }\n",
       "</style>\n",
       "<table border=\"1\" class=\"dataframe\">\n",
       "  <thead>\n",
       "    <tr style=\"text-align: right;\">\n",
       "      <th></th>\n",
       "      <th>active</th>\n",
       "      <th>confirmed</th>\n",
       "      <th>deaths</th>\n",
       "      <th>deltaconfirmed</th>\n",
       "      <th>deltadeaths</th>\n",
       "      <th>deltarecovered</th>\n",
       "      <th>lastupdatedtime</th>\n",
       "      <th>migratedother</th>\n",
       "      <th>recovered</th>\n",
       "      <th>state</th>\n",
       "      <th>statecode</th>\n",
       "      <th>statenotes</th>\n",
       "    </tr>\n",
       "  </thead>\n",
       "  <tbody>\n",
       "    <tr>\n",
       "      <th>0</th>\n",
       "      <td>243337</td>\n",
       "      <td>10339728</td>\n",
       "      <td>149659</td>\n",
       "      <td>15115</td>\n",
       "      <td>188</td>\n",
       "      <td>17370</td>\n",
       "      <td>3/1/2021 23:37:36</td>\n",
       "      <td>2889</td>\n",
       "      <td>9943843</td>\n",
       "      <td>Total</td>\n",
       "      <td>TT</td>\n",
       "      <td></td>\n",
       "    </tr>\n",
       "    <tr>\n",
       "      <th>1</th>\n",
       "      <td>54317</td>\n",
       "      <td>1942136</td>\n",
       "      <td>49666</td>\n",
       "      <td>3282</td>\n",
       "      <td>35</td>\n",
       "      <td>2064</td>\n",
       "      <td>03/01/2021 20:00:41</td>\n",
       "      <td>1154</td>\n",
       "      <td>1836999</td>\n",
       "      <td>Maharashtra</td>\n",
       "      <td>MH</td>\n",
       "      <td>[Dec 16]:10,218 duplicate cases &amp; other state ...</td>\n",
       "    </tr>\n",
       "    <tr>\n",
       "      <th>2</th>\n",
       "      <td>10893</td>\n",
       "      <td>921938</td>\n",
       "      <td>12107</td>\n",
       "      <td>810</td>\n",
       "      <td>8</td>\n",
       "      <td>743</td>\n",
       "      <td>03/01/2021 21:52:46</td>\n",
       "      <td>19</td>\n",
       "      <td>898919</td>\n",
       "      <td>Karnataka</td>\n",
       "      <td>KA</td>\n",
       "      <td></td>\n",
       "    </tr>\n",
       "    <tr>\n",
       "      <th>3</th>\n",
       "      <td>3070</td>\n",
       "      <td>883082</td>\n",
       "      <td>7115</td>\n",
       "      <td>232</td>\n",
       "      <td>4</td>\n",
       "      <td>352</td>\n",
       "      <td>03/01/2021 20:22:46</td>\n",
       "      <td>0</td>\n",
       "      <td>872897</td>\n",
       "      <td>Andhra Pradesh</td>\n",
       "      <td>AP</td>\n",
       "      <td></td>\n",
       "    </tr>\n",
       "    <tr>\n",
       "      <th>4</th>\n",
       "      <td>8127</td>\n",
       "      <td>820712</td>\n",
       "      <td>12156</td>\n",
       "      <td>867</td>\n",
       "      <td>10</td>\n",
       "      <td>1002</td>\n",
       "      <td>03/01/2021 20:00:47</td>\n",
       "      <td>0</td>\n",
       "      <td>800429</td>\n",
       "      <td>Tamil Nadu</td>\n",
       "      <td>TN</td>\n",
       "      <td>[July 22]: 444 backdated deceased entries adde...</td>\n",
       "    </tr>\n",
       "  </tbody>\n",
       "</table>\n",
       "</div>"
      ],
      "text/plain": [
       "   active confirmed  deaths deltaconfirmed deltadeaths deltarecovered  \\\n",
       "0  243337  10339728  149659          15115         188          17370   \n",
       "1   54317   1942136   49666           3282          35           2064   \n",
       "2   10893    921938   12107            810           8            743   \n",
       "3    3070    883082    7115            232           4            352   \n",
       "4    8127    820712   12156            867          10           1002   \n",
       "\n",
       "       lastupdatedtime migratedother recovered           state statecode  \\\n",
       "0    3/1/2021 23:37:36          2889   9943843           Total        TT   \n",
       "1  03/01/2021 20:00:41          1154   1836999     Maharashtra        MH   \n",
       "2  03/01/2021 21:52:46            19    898919       Karnataka        KA   \n",
       "3  03/01/2021 20:22:46             0    872897  Andhra Pradesh        AP   \n",
       "4  03/01/2021 20:00:47             0    800429      Tamil Nadu        TN   \n",
       "\n",
       "                                          statenotes  \n",
       "0                                                     \n",
       "1  [Dec 16]:10,218 duplicate cases & other state ...  \n",
       "2                                                     \n",
       "3                                                     \n",
       "4  [July 22]: 444 backdated deceased entries adde...  "
      ]
     },
     "execution_count": 226,
     "metadata": {},
     "output_type": "execute_result"
    }
   ],
   "source": [
    "# in this dataset, the data to extract is under 'features'\n",
    "df = pd.json_normalize(data,\"statewise\")\n",
    "df.head()"
   ]
  },
  {
   "cell_type": "code",
   "execution_count": 227,
   "metadata": {},
   "outputs": [
    {
     "data": {
      "text/plain": [
       "array(['Total', 'Maharashtra', 'Karnataka', 'Andhra Pradesh',\n",
       "       'Tamil Nadu', 'Kerala', 'Delhi', 'Uttar Pradesh', 'West Bengal',\n",
       "       'Odisha', 'Rajasthan', 'Telangana', 'Chhattisgarh', 'Haryana',\n",
       "       'Bihar', 'Gujarat', 'Madhya Pradesh', 'Assam', 'Punjab',\n",
       "       'Jammu and Kashmir', 'Jharkhand', 'Uttarakhand',\n",
       "       'Himachal Pradesh', 'Goa', 'Puducherry', 'Tripura', 'Manipur',\n",
       "       'Chandigarh', 'Arunachal Pradesh', 'Meghalaya', 'Nagaland',\n",
       "       'Ladakh', 'Sikkim', 'Andaman and Nicobar Islands', 'Mizoram',\n",
       "       'Dadra and Nagar Haveli and Daman and Diu', 'State Unassigned',\n",
       "       'Lakshadweep'], dtype=object)"
      ]
     },
     "execution_count": 227,
     "metadata": {},
     "output_type": "execute_result"
    }
   ],
   "source": [
    "df['state'].unique()"
   ]
  },
  {
   "cell_type": "code",
   "execution_count": 228,
   "metadata": {},
   "outputs": [],
   "source": [
    "d1=df"
   ]
  },
  {
   "cell_type": "markdown",
   "metadata": {},
   "source": [
    "# Totoal Confirm cases statewise"
   ]
  },
  {
   "cell_type": "code",
   "execution_count": 229,
   "metadata": {},
   "outputs": [
    {
     "data": {
      "text/plain": [
       "5    775853\n",
       "Name: confirmed, dtype: object"
      ]
     },
     "execution_count": 229,
     "metadata": {},
     "output_type": "execute_result"
    }
   ],
   "source": [
    "tr1=d1[d1['state']=='Kerala']['confirmed']\n",
    "tr1"
   ]
  },
  {
   "cell_type": "code",
   "execution_count": 230,
   "metadata": {
    "scrolled": true
   },
   "outputs": [
    {
     "data": {
      "text/plain": [
       "array(['Total', 'Maharashtra', 'Karnataka', 'Andhra Pradesh',\n",
       "       'Tamil Nadu', 'Kerala', 'Delhi', 'Uttar Pradesh', 'West Bengal',\n",
       "       'Odisha', 'Rajasthan', 'Telangana', 'Chhattisgarh', 'Haryana',\n",
       "       'Bihar', 'Gujarat', 'Madhya Pradesh', 'Assam', 'Punjab',\n",
       "       'Jammu and Kashmir', 'Jharkhand', 'Uttarakhand',\n",
       "       'Himachal Pradesh', 'Goa', 'Puducherry', 'Tripura', 'Manipur',\n",
       "       'Chandigarh', 'Arunachal Pradesh', 'Meghalaya', 'Nagaland',\n",
       "       'Ladakh', 'Sikkim', 'Andaman and Nicobar Islands', 'Mizoram',\n",
       "       'Dadra and Nagar Haveli and Daman and Diu', 'State Unassigned',\n",
       "       'Lakshadweep'], dtype=object)"
      ]
     },
     "execution_count": 230,
     "metadata": {},
     "output_type": "execute_result"
    }
   ],
   "source": [
    "d1['state'].unique()"
   ]
  },
  {
   "cell_type": "code",
   "execution_count": 231,
   "metadata": {},
   "outputs": [],
   "source": [
    "d1.loc[d1['state'] == 'Total','state']= np.nan\n",
    "d1.loc[d1['state'] == 'State Unassigned','state']= np.nan\n",
    "d1.loc[d1['state'] == 'Lakshadweep','state']= np.nan"
   ]
  },
  {
   "cell_type": "code",
   "execution_count": 232,
   "metadata": {},
   "outputs": [
    {
     "data": {
      "text/plain": [
       "array(['Maharashtra', 'Karnataka', 'Andhra Pradesh', 'Tamil Nadu',\n",
       "       'Kerala', 'Delhi', 'Uttar Pradesh', 'West Bengal', 'Odisha',\n",
       "       'Rajasthan', 'Telangana', 'Chhattisgarh', 'Haryana', 'Bihar',\n",
       "       'Gujarat', 'Madhya Pradesh', 'Assam', 'Punjab',\n",
       "       'Jammu and Kashmir', 'Jharkhand', 'Uttarakhand',\n",
       "       'Himachal Pradesh', 'Goa', 'Puducherry', 'Tripura', 'Manipur',\n",
       "       'Chandigarh', 'Arunachal Pradesh', 'Meghalaya', 'Nagaland',\n",
       "       'Ladakh', 'Sikkim', 'Andaman and Nicobar Islands', 'Mizoram',\n",
       "       'Dadra and Nagar Haveli and Daman and Diu'], dtype=object)"
      ]
     },
     "execution_count": 232,
     "metadata": {},
     "output_type": "execute_result"
    }
   ],
   "source": [
    "d1.dropna(inplace=True)\n",
    "d1['state'].unique()"
   ]
  },
  {
   "cell_type": "code",
   "execution_count": 233,
   "metadata": {},
   "outputs": [
    {
     "data": {
      "text/plain": [
       "array(['Maharashtra', 'Karnataka', 'Andhra Pradesh', 'Tamil Nadu',\n",
       "       'Kerala', 'Delhi', 'Uttar Pradesh', 'West Bengal', 'Odisha',\n",
       "       'Rajasthan', 'Telangana', 'Chhattisgarh', 'Haryana', 'Bihar',\n",
       "       'Gujarat', 'Madhya Pradesh', 'Assam', 'Punjab',\n",
       "       'Jammu and Kashmir', 'Jharkhand', 'Uttarakhand',\n",
       "       'Himachal Pradesh', 'Goa', 'Puducherry', 'Tripura', 'Manipur',\n",
       "       'Chandigarh', 'Arunachal Pradesh', 'Meghalaya', 'Nagaland',\n",
       "       'Ladakh', 'Sikkim', 'Andaman and Nicobar Islands', 'Mizoram',\n",
       "       'Dadra and Nagar Haveli and Daman and Diu'], dtype=object)"
      ]
     },
     "execution_count": 233,
     "metadata": {},
     "output_type": "execute_result"
    }
   ],
   "source": [
    "#d1.loc[d1['State/UnionTerritory'] == 'Telengana','State/UnionTerritory']='Telangana'\n",
    "#d1.loc[d1['State/UnionTerritory'] == 'Telangana***','State/UnionTerritory']='Telangana'  \n",
    "#d1.loc[d1['State/UnionTerritory'] == 'Telengana***','State/UnionTerritory']='Telangana'\n",
    "\n",
    "#d1.loc[d1['State/UnionTerritory'] == 'Maharashtra***','State/UnionTerritory']='Maharashtra'\n",
    "#d1.loc[d1['State/UnionTerritory'] == 'Chandigarh***','State/UnionTerritory']='Chandigarh'\n",
    "#d1.loc[d1['State/UnionTerritory'] == 'Punjab***','State/UnionTerritory']='Punjab'\n",
    "\n",
    "#d1.loc[d1['State/UnionTerritory'] == 'Daman & Diu','State/UnionTerritory']='Dadra and Nagar Haveli and Daman and Diu'\n",
    "#d1.loc[d1['State/UnionTerritory'] == 'Dadar Nagar Haveli','State/UnionTerritory']='Dadra and Nagar Haveli and Daman and Diu'\n",
    "\n",
    "#d1.loc[d1['State/UnionTerritory'] == 'Cases being reassigned to states','State/UnionTerritory']= np.nan\n",
    "#d1.loc[d1['State/UnionTerritory'] == 'Unassigned','State/UnionTerritory']= np.nan\n",
    "\n",
    "#d1.dropna(inplace=True)\n",
    "\n",
    "in_states=d1['state'].unique()\n",
    "in_states"
   ]
  },
  {
   "cell_type": "code",
   "execution_count": 234,
   "metadata": {
    "scrolled": false
   },
   "outputs": [
    {
     "data": {
      "application/vnd.plotly.v1+json": {
       "config": {
        "plotlyServerURL": "https://plot.ly"
       },
       "data": [
        {
         "alignmentgroup": "True",
         "hovertemplate": "Total_confirm_result=%{x}<br>state=%{y}<extra></extra>",
         "legendgroup": "",
         "marker": {
          "color": "#636efa"
         },
         "name": "",
         "offsetgroup": "",
         "orientation": "h",
         "showlegend": false,
         "textposition": "auto",
         "type": "bar",
         "x": [
          1942136,
          921938,
          883082,
          820712,
          775853,
          626872,
          587434,
          554975,
          330309,
          309319,
          287502,
          282368,
          263068,
          253934,
          247228,
          244026,
          216304,
          167219,
          121653,
          115529,
          91544,
          55686,
          51295,
          38224,
          33279,
          28243,
          19881,
          16732,
          13460,
          11929,
          9550,
          5920,
          4948,
          4211,
          3365
         ],
         "xaxis": "x",
         "y": [
          "Maharashtra",
          "Karnataka",
          "Andhra Pradesh",
          "Tamil Nadu",
          "Kerala",
          "Delhi",
          "Uttar Pradesh",
          "West Bengal",
          "Odisha",
          "Rajasthan",
          "Telangana",
          "Chhattisgarh",
          "Haryana",
          "Bihar",
          "Gujarat",
          "Madhya Pradesh",
          "Assam",
          "Punjab",
          "Jammu and Kashmir",
          "Jharkhand",
          "Uttarakhand",
          "Himachal Pradesh",
          "Goa",
          "Puducherry",
          "Tripura",
          "Manipur",
          "Chandigarh",
          "Arunachal Pradesh",
          "Meghalaya",
          "Nagaland",
          "Ladakh",
          "Sikkim",
          "Andaman and Nicobar Islands",
          "Mizoram",
          "Dadra and Nagar Haveli and Daman and Diu"
         ],
         "yaxis": "y"
        }
       ],
       "layout": {
        "barmode": "relative",
        "font": {
         "color": "#7FDBFF"
        },
        "legend": {
         "tracegroupgap": 0
        },
        "margin": {
         "t": 60
        },
        "paper_bgcolor": "#111111",
        "plot_bgcolor": "#111111",
        "template": {
         "data": {
          "bar": [
           {
            "error_x": {
             "color": "#2a3f5f"
            },
            "error_y": {
             "color": "#2a3f5f"
            },
            "marker": {
             "line": {
              "color": "#E5ECF6",
              "width": 0.5
             }
            },
            "type": "bar"
           }
          ],
          "barpolar": [
           {
            "marker": {
             "line": {
              "color": "#E5ECF6",
              "width": 0.5
             }
            },
            "type": "barpolar"
           }
          ],
          "carpet": [
           {
            "aaxis": {
             "endlinecolor": "#2a3f5f",
             "gridcolor": "white",
             "linecolor": "white",
             "minorgridcolor": "white",
             "startlinecolor": "#2a3f5f"
            },
            "baxis": {
             "endlinecolor": "#2a3f5f",
             "gridcolor": "white",
             "linecolor": "white",
             "minorgridcolor": "white",
             "startlinecolor": "#2a3f5f"
            },
            "type": "carpet"
           }
          ],
          "choropleth": [
           {
            "colorbar": {
             "outlinewidth": 0,
             "ticks": ""
            },
            "type": "choropleth"
           }
          ],
          "contour": [
           {
            "colorbar": {
             "outlinewidth": 0,
             "ticks": ""
            },
            "colorscale": [
             [
              0,
              "#0d0887"
             ],
             [
              0.1111111111111111,
              "#46039f"
             ],
             [
              0.2222222222222222,
              "#7201a8"
             ],
             [
              0.3333333333333333,
              "#9c179e"
             ],
             [
              0.4444444444444444,
              "#bd3786"
             ],
             [
              0.5555555555555556,
              "#d8576b"
             ],
             [
              0.6666666666666666,
              "#ed7953"
             ],
             [
              0.7777777777777778,
              "#fb9f3a"
             ],
             [
              0.8888888888888888,
              "#fdca26"
             ],
             [
              1,
              "#f0f921"
             ]
            ],
            "type": "contour"
           }
          ],
          "contourcarpet": [
           {
            "colorbar": {
             "outlinewidth": 0,
             "ticks": ""
            },
            "type": "contourcarpet"
           }
          ],
          "heatmap": [
           {
            "colorbar": {
             "outlinewidth": 0,
             "ticks": ""
            },
            "colorscale": [
             [
              0,
              "#0d0887"
             ],
             [
              0.1111111111111111,
              "#46039f"
             ],
             [
              0.2222222222222222,
              "#7201a8"
             ],
             [
              0.3333333333333333,
              "#9c179e"
             ],
             [
              0.4444444444444444,
              "#bd3786"
             ],
             [
              0.5555555555555556,
              "#d8576b"
             ],
             [
              0.6666666666666666,
              "#ed7953"
             ],
             [
              0.7777777777777778,
              "#fb9f3a"
             ],
             [
              0.8888888888888888,
              "#fdca26"
             ],
             [
              1,
              "#f0f921"
             ]
            ],
            "type": "heatmap"
           }
          ],
          "heatmapgl": [
           {
            "colorbar": {
             "outlinewidth": 0,
             "ticks": ""
            },
            "colorscale": [
             [
              0,
              "#0d0887"
             ],
             [
              0.1111111111111111,
              "#46039f"
             ],
             [
              0.2222222222222222,
              "#7201a8"
             ],
             [
              0.3333333333333333,
              "#9c179e"
             ],
             [
              0.4444444444444444,
              "#bd3786"
             ],
             [
              0.5555555555555556,
              "#d8576b"
             ],
             [
              0.6666666666666666,
              "#ed7953"
             ],
             [
              0.7777777777777778,
              "#fb9f3a"
             ],
             [
              0.8888888888888888,
              "#fdca26"
             ],
             [
              1,
              "#f0f921"
             ]
            ],
            "type": "heatmapgl"
           }
          ],
          "histogram": [
           {
            "marker": {
             "colorbar": {
              "outlinewidth": 0,
              "ticks": ""
             }
            },
            "type": "histogram"
           }
          ],
          "histogram2d": [
           {
            "colorbar": {
             "outlinewidth": 0,
             "ticks": ""
            },
            "colorscale": [
             [
              0,
              "#0d0887"
             ],
             [
              0.1111111111111111,
              "#46039f"
             ],
             [
              0.2222222222222222,
              "#7201a8"
             ],
             [
              0.3333333333333333,
              "#9c179e"
             ],
             [
              0.4444444444444444,
              "#bd3786"
             ],
             [
              0.5555555555555556,
              "#d8576b"
             ],
             [
              0.6666666666666666,
              "#ed7953"
             ],
             [
              0.7777777777777778,
              "#fb9f3a"
             ],
             [
              0.8888888888888888,
              "#fdca26"
             ],
             [
              1,
              "#f0f921"
             ]
            ],
            "type": "histogram2d"
           }
          ],
          "histogram2dcontour": [
           {
            "colorbar": {
             "outlinewidth": 0,
             "ticks": ""
            },
            "colorscale": [
             [
              0,
              "#0d0887"
             ],
             [
              0.1111111111111111,
              "#46039f"
             ],
             [
              0.2222222222222222,
              "#7201a8"
             ],
             [
              0.3333333333333333,
              "#9c179e"
             ],
             [
              0.4444444444444444,
              "#bd3786"
             ],
             [
              0.5555555555555556,
              "#d8576b"
             ],
             [
              0.6666666666666666,
              "#ed7953"
             ],
             [
              0.7777777777777778,
              "#fb9f3a"
             ],
             [
              0.8888888888888888,
              "#fdca26"
             ],
             [
              1,
              "#f0f921"
             ]
            ],
            "type": "histogram2dcontour"
           }
          ],
          "mesh3d": [
           {
            "colorbar": {
             "outlinewidth": 0,
             "ticks": ""
            },
            "type": "mesh3d"
           }
          ],
          "parcoords": [
           {
            "line": {
             "colorbar": {
              "outlinewidth": 0,
              "ticks": ""
             }
            },
            "type": "parcoords"
           }
          ],
          "pie": [
           {
            "automargin": true,
            "type": "pie"
           }
          ],
          "scatter": [
           {
            "marker": {
             "colorbar": {
              "outlinewidth": 0,
              "ticks": ""
             }
            },
            "type": "scatter"
           }
          ],
          "scatter3d": [
           {
            "line": {
             "colorbar": {
              "outlinewidth": 0,
              "ticks": ""
             }
            },
            "marker": {
             "colorbar": {
              "outlinewidth": 0,
              "ticks": ""
             }
            },
            "type": "scatter3d"
           }
          ],
          "scattercarpet": [
           {
            "marker": {
             "colorbar": {
              "outlinewidth": 0,
              "ticks": ""
             }
            },
            "type": "scattercarpet"
           }
          ],
          "scattergeo": [
           {
            "marker": {
             "colorbar": {
              "outlinewidth": 0,
              "ticks": ""
             }
            },
            "type": "scattergeo"
           }
          ],
          "scattergl": [
           {
            "marker": {
             "colorbar": {
              "outlinewidth": 0,
              "ticks": ""
             }
            },
            "type": "scattergl"
           }
          ],
          "scattermapbox": [
           {
            "marker": {
             "colorbar": {
              "outlinewidth": 0,
              "ticks": ""
             }
            },
            "type": "scattermapbox"
           }
          ],
          "scatterpolar": [
           {
            "marker": {
             "colorbar": {
              "outlinewidth": 0,
              "ticks": ""
             }
            },
            "type": "scatterpolar"
           }
          ],
          "scatterpolargl": [
           {
            "marker": {
             "colorbar": {
              "outlinewidth": 0,
              "ticks": ""
             }
            },
            "type": "scatterpolargl"
           }
          ],
          "scatterternary": [
           {
            "marker": {
             "colorbar": {
              "outlinewidth": 0,
              "ticks": ""
             }
            },
            "type": "scatterternary"
           }
          ],
          "surface": [
           {
            "colorbar": {
             "outlinewidth": 0,
             "ticks": ""
            },
            "colorscale": [
             [
              0,
              "#0d0887"
             ],
             [
              0.1111111111111111,
              "#46039f"
             ],
             [
              0.2222222222222222,
              "#7201a8"
             ],
             [
              0.3333333333333333,
              "#9c179e"
             ],
             [
              0.4444444444444444,
              "#bd3786"
             ],
             [
              0.5555555555555556,
              "#d8576b"
             ],
             [
              0.6666666666666666,
              "#ed7953"
             ],
             [
              0.7777777777777778,
              "#fb9f3a"
             ],
             [
              0.8888888888888888,
              "#fdca26"
             ],
             [
              1,
              "#f0f921"
             ]
            ],
            "type": "surface"
           }
          ],
          "table": [
           {
            "cells": {
             "fill": {
              "color": "#EBF0F8"
             },
             "line": {
              "color": "white"
             }
            },
            "header": {
             "fill": {
              "color": "#C8D4E3"
             },
             "line": {
              "color": "white"
             }
            },
            "type": "table"
           }
          ]
         },
         "layout": {
          "annotationdefaults": {
           "arrowcolor": "#2a3f5f",
           "arrowhead": 0,
           "arrowwidth": 1
          },
          "autotypenumbers": "strict",
          "coloraxis": {
           "colorbar": {
            "outlinewidth": 0,
            "ticks": ""
           }
          },
          "colorscale": {
           "diverging": [
            [
             0,
             "#8e0152"
            ],
            [
             0.1,
             "#c51b7d"
            ],
            [
             0.2,
             "#de77ae"
            ],
            [
             0.3,
             "#f1b6da"
            ],
            [
             0.4,
             "#fde0ef"
            ],
            [
             0.5,
             "#f7f7f7"
            ],
            [
             0.6,
             "#e6f5d0"
            ],
            [
             0.7,
             "#b8e186"
            ],
            [
             0.8,
             "#7fbc41"
            ],
            [
             0.9,
             "#4d9221"
            ],
            [
             1,
             "#276419"
            ]
           ],
           "sequential": [
            [
             0,
             "#0d0887"
            ],
            [
             0.1111111111111111,
             "#46039f"
            ],
            [
             0.2222222222222222,
             "#7201a8"
            ],
            [
             0.3333333333333333,
             "#9c179e"
            ],
            [
             0.4444444444444444,
             "#bd3786"
            ],
            [
             0.5555555555555556,
             "#d8576b"
            ],
            [
             0.6666666666666666,
             "#ed7953"
            ],
            [
             0.7777777777777778,
             "#fb9f3a"
            ],
            [
             0.8888888888888888,
             "#fdca26"
            ],
            [
             1,
             "#f0f921"
            ]
           ],
           "sequentialminus": [
            [
             0,
             "#0d0887"
            ],
            [
             0.1111111111111111,
             "#46039f"
            ],
            [
             0.2222222222222222,
             "#7201a8"
            ],
            [
             0.3333333333333333,
             "#9c179e"
            ],
            [
             0.4444444444444444,
             "#bd3786"
            ],
            [
             0.5555555555555556,
             "#d8576b"
            ],
            [
             0.6666666666666666,
             "#ed7953"
            ],
            [
             0.7777777777777778,
             "#fb9f3a"
            ],
            [
             0.8888888888888888,
             "#fdca26"
            ],
            [
             1,
             "#f0f921"
            ]
           ]
          },
          "colorway": [
           "#636efa",
           "#EF553B",
           "#00cc96",
           "#ab63fa",
           "#FFA15A",
           "#19d3f3",
           "#FF6692",
           "#B6E880",
           "#FF97FF",
           "#FECB52"
          ],
          "font": {
           "color": "#2a3f5f"
          },
          "geo": {
           "bgcolor": "white",
           "lakecolor": "white",
           "landcolor": "#E5ECF6",
           "showlakes": true,
           "showland": true,
           "subunitcolor": "white"
          },
          "hoverlabel": {
           "align": "left"
          },
          "hovermode": "closest",
          "mapbox": {
           "style": "light"
          },
          "paper_bgcolor": "white",
          "plot_bgcolor": "#E5ECF6",
          "polar": {
           "angularaxis": {
            "gridcolor": "white",
            "linecolor": "white",
            "ticks": ""
           },
           "bgcolor": "#E5ECF6",
           "radialaxis": {
            "gridcolor": "white",
            "linecolor": "white",
            "ticks": ""
           }
          },
          "scene": {
           "xaxis": {
            "backgroundcolor": "#E5ECF6",
            "gridcolor": "white",
            "gridwidth": 2,
            "linecolor": "white",
            "showbackground": true,
            "ticks": "",
            "zerolinecolor": "white"
           },
           "yaxis": {
            "backgroundcolor": "#E5ECF6",
            "gridcolor": "white",
            "gridwidth": 2,
            "linecolor": "white",
            "showbackground": true,
            "ticks": "",
            "zerolinecolor": "white"
           },
           "zaxis": {
            "backgroundcolor": "#E5ECF6",
            "gridcolor": "white",
            "gridwidth": 2,
            "linecolor": "white",
            "showbackground": true,
            "ticks": "",
            "zerolinecolor": "white"
           }
          },
          "shapedefaults": {
           "line": {
            "color": "#2a3f5f"
           }
          },
          "ternary": {
           "aaxis": {
            "gridcolor": "white",
            "linecolor": "white",
            "ticks": ""
           },
           "baxis": {
            "gridcolor": "white",
            "linecolor": "white",
            "ticks": ""
           },
           "bgcolor": "#E5ECF6",
           "caxis": {
            "gridcolor": "white",
            "linecolor": "white",
            "ticks": ""
           }
          },
          "title": {
           "x": 0.05
          },
          "xaxis": {
           "automargin": true,
           "gridcolor": "white",
           "linecolor": "white",
           "ticks": "",
           "title": {
            "standoff": 15
           },
           "zerolinecolor": "white",
           "zerolinewidth": 2
          },
          "yaxis": {
           "automargin": true,
           "gridcolor": "white",
           "linecolor": "white",
           "ticks": "",
           "title": {
            "standoff": 15
           },
           "zerolinecolor": "white",
           "zerolinewidth": 2
          }
         }
        },
        "title": {
         "text": "Bar graph: Confirm result statewise"
        },
        "xaxis": {
         "anchor": "y",
         "domain": [
          0,
          1
         ],
         "title": {
          "text": "Total_confirm_result"
         }
        },
        "yaxis": {
         "anchor": "x",
         "domain": [
          0,
          1
         ],
         "title": {
          "text": "state"
         }
        }
       }
      },
      "text/html": [
       "<div>                            <div id=\"64dba473-8e12-4353-8602-314c3154e6b4\" class=\"plotly-graph-div\" style=\"height:525px; width:100%;\"></div>            <script type=\"text/javascript\">                require([\"plotly\"], function(Plotly) {                    window.PLOTLYENV=window.PLOTLYENV || {};                                    if (document.getElementById(\"64dba473-8e12-4353-8602-314c3154e6b4\")) {                    Plotly.newPlot(                        \"64dba473-8e12-4353-8602-314c3154e6b4\",                        [{\"alignmentgroup\": \"True\", \"hovertemplate\": \"Total_confirm_result=%{x}<br>state=%{y}<extra></extra>\", \"legendgroup\": \"\", \"marker\": {\"color\": \"#636efa\"}, \"name\": \"\", \"offsetgroup\": \"\", \"orientation\": \"h\", \"showlegend\": false, \"textposition\": \"auto\", \"type\": \"bar\", \"x\": [1942136, 921938, 883082, 820712, 775853, 626872, 587434, 554975, 330309, 309319, 287502, 282368, 263068, 253934, 247228, 244026, 216304, 167219, 121653, 115529, 91544, 55686, 51295, 38224, 33279, 28243, 19881, 16732, 13460, 11929, 9550, 5920, 4948, 4211, 3365], \"xaxis\": \"x\", \"y\": [\"Maharashtra\", \"Karnataka\", \"Andhra Pradesh\", \"Tamil Nadu\", \"Kerala\", \"Delhi\", \"Uttar Pradesh\", \"West Bengal\", \"Odisha\", \"Rajasthan\", \"Telangana\", \"Chhattisgarh\", \"Haryana\", \"Bihar\", \"Gujarat\", \"Madhya Pradesh\", \"Assam\", \"Punjab\", \"Jammu and Kashmir\", \"Jharkhand\", \"Uttarakhand\", \"Himachal Pradesh\", \"Goa\", \"Puducherry\", \"Tripura\", \"Manipur\", \"Chandigarh\", \"Arunachal Pradesh\", \"Meghalaya\", \"Nagaland\", \"Ladakh\", \"Sikkim\", \"Andaman and Nicobar Islands\", \"Mizoram\", \"Dadra and Nagar Haveli and Daman and Diu\"], \"yaxis\": \"y\"}],                        {\"barmode\": \"relative\", \"font\": {\"color\": \"#7FDBFF\"}, \"legend\": {\"tracegroupgap\": 0}, \"margin\": {\"t\": 60}, \"paper_bgcolor\": \"#111111\", \"plot_bgcolor\": \"#111111\", \"template\": {\"data\": {\"bar\": [{\"error_x\": {\"color\": \"#2a3f5f\"}, \"error_y\": {\"color\": \"#2a3f5f\"}, \"marker\": {\"line\": {\"color\": \"#E5ECF6\", \"width\": 0.5}}, \"type\": \"bar\"}], \"barpolar\": [{\"marker\": {\"line\": {\"color\": \"#E5ECF6\", \"width\": 0.5}}, \"type\": \"barpolar\"}], \"carpet\": [{\"aaxis\": {\"endlinecolor\": \"#2a3f5f\", \"gridcolor\": \"white\", \"linecolor\": \"white\", \"minorgridcolor\": \"white\", \"startlinecolor\": \"#2a3f5f\"}, \"baxis\": {\"endlinecolor\": \"#2a3f5f\", \"gridcolor\": \"white\", \"linecolor\": \"white\", \"minorgridcolor\": \"white\", \"startlinecolor\": \"#2a3f5f\"}, \"type\": \"carpet\"}], \"choropleth\": [{\"colorbar\": {\"outlinewidth\": 0, \"ticks\": \"\"}, \"type\": \"choropleth\"}], \"contour\": [{\"colorbar\": {\"outlinewidth\": 0, \"ticks\": \"\"}, \"colorscale\": [[0.0, \"#0d0887\"], [0.1111111111111111, \"#46039f\"], [0.2222222222222222, \"#7201a8\"], [0.3333333333333333, \"#9c179e\"], [0.4444444444444444, \"#bd3786\"], [0.5555555555555556, \"#d8576b\"], [0.6666666666666666, \"#ed7953\"], [0.7777777777777778, \"#fb9f3a\"], [0.8888888888888888, \"#fdca26\"], [1.0, \"#f0f921\"]], \"type\": \"contour\"}], \"contourcarpet\": [{\"colorbar\": {\"outlinewidth\": 0, \"ticks\": \"\"}, \"type\": \"contourcarpet\"}], \"heatmap\": [{\"colorbar\": {\"outlinewidth\": 0, \"ticks\": \"\"}, \"colorscale\": [[0.0, \"#0d0887\"], [0.1111111111111111, \"#46039f\"], [0.2222222222222222, \"#7201a8\"], [0.3333333333333333, \"#9c179e\"], [0.4444444444444444, \"#bd3786\"], [0.5555555555555556, \"#d8576b\"], [0.6666666666666666, \"#ed7953\"], [0.7777777777777778, \"#fb9f3a\"], [0.8888888888888888, \"#fdca26\"], [1.0, \"#f0f921\"]], \"type\": \"heatmap\"}], \"heatmapgl\": [{\"colorbar\": {\"outlinewidth\": 0, \"ticks\": \"\"}, \"colorscale\": [[0.0, \"#0d0887\"], [0.1111111111111111, \"#46039f\"], [0.2222222222222222, \"#7201a8\"], [0.3333333333333333, \"#9c179e\"], [0.4444444444444444, \"#bd3786\"], [0.5555555555555556, \"#d8576b\"], [0.6666666666666666, \"#ed7953\"], [0.7777777777777778, \"#fb9f3a\"], [0.8888888888888888, \"#fdca26\"], [1.0, \"#f0f921\"]], \"type\": \"heatmapgl\"}], \"histogram\": [{\"marker\": {\"colorbar\": {\"outlinewidth\": 0, \"ticks\": \"\"}}, \"type\": \"histogram\"}], \"histogram2d\": [{\"colorbar\": {\"outlinewidth\": 0, \"ticks\": \"\"}, \"colorscale\": [[0.0, \"#0d0887\"], [0.1111111111111111, \"#46039f\"], [0.2222222222222222, \"#7201a8\"], [0.3333333333333333, \"#9c179e\"], [0.4444444444444444, \"#bd3786\"], [0.5555555555555556, \"#d8576b\"], [0.6666666666666666, \"#ed7953\"], [0.7777777777777778, \"#fb9f3a\"], [0.8888888888888888, \"#fdca26\"], [1.0, \"#f0f921\"]], \"type\": \"histogram2d\"}], \"histogram2dcontour\": [{\"colorbar\": {\"outlinewidth\": 0, \"ticks\": \"\"}, \"colorscale\": [[0.0, \"#0d0887\"], [0.1111111111111111, \"#46039f\"], [0.2222222222222222, \"#7201a8\"], [0.3333333333333333, \"#9c179e\"], [0.4444444444444444, \"#bd3786\"], [0.5555555555555556, \"#d8576b\"], [0.6666666666666666, \"#ed7953\"], [0.7777777777777778, \"#fb9f3a\"], [0.8888888888888888, \"#fdca26\"], [1.0, \"#f0f921\"]], \"type\": \"histogram2dcontour\"}], \"mesh3d\": [{\"colorbar\": {\"outlinewidth\": 0, \"ticks\": \"\"}, \"type\": \"mesh3d\"}], \"parcoords\": [{\"line\": {\"colorbar\": {\"outlinewidth\": 0, \"ticks\": \"\"}}, \"type\": \"parcoords\"}], \"pie\": [{\"automargin\": true, \"type\": \"pie\"}], \"scatter\": [{\"marker\": {\"colorbar\": {\"outlinewidth\": 0, \"ticks\": \"\"}}, \"type\": \"scatter\"}], \"scatter3d\": [{\"line\": {\"colorbar\": {\"outlinewidth\": 0, \"ticks\": \"\"}}, \"marker\": {\"colorbar\": {\"outlinewidth\": 0, \"ticks\": \"\"}}, \"type\": \"scatter3d\"}], \"scattercarpet\": [{\"marker\": {\"colorbar\": {\"outlinewidth\": 0, \"ticks\": \"\"}}, \"type\": \"scattercarpet\"}], \"scattergeo\": [{\"marker\": {\"colorbar\": {\"outlinewidth\": 0, \"ticks\": \"\"}}, \"type\": \"scattergeo\"}], \"scattergl\": [{\"marker\": {\"colorbar\": {\"outlinewidth\": 0, \"ticks\": \"\"}}, \"type\": \"scattergl\"}], \"scattermapbox\": [{\"marker\": {\"colorbar\": {\"outlinewidth\": 0, \"ticks\": \"\"}}, \"type\": \"scattermapbox\"}], \"scatterpolar\": [{\"marker\": {\"colorbar\": {\"outlinewidth\": 0, \"ticks\": \"\"}}, \"type\": \"scatterpolar\"}], \"scatterpolargl\": [{\"marker\": {\"colorbar\": {\"outlinewidth\": 0, \"ticks\": \"\"}}, \"type\": \"scatterpolargl\"}], \"scatterternary\": [{\"marker\": {\"colorbar\": {\"outlinewidth\": 0, \"ticks\": \"\"}}, \"type\": \"scatterternary\"}], \"surface\": [{\"colorbar\": {\"outlinewidth\": 0, \"ticks\": \"\"}, \"colorscale\": [[0.0, \"#0d0887\"], [0.1111111111111111, \"#46039f\"], [0.2222222222222222, \"#7201a8\"], [0.3333333333333333, \"#9c179e\"], [0.4444444444444444, \"#bd3786\"], [0.5555555555555556, \"#d8576b\"], [0.6666666666666666, \"#ed7953\"], [0.7777777777777778, \"#fb9f3a\"], [0.8888888888888888, \"#fdca26\"], [1.0, \"#f0f921\"]], \"type\": \"surface\"}], \"table\": [{\"cells\": {\"fill\": {\"color\": \"#EBF0F8\"}, \"line\": {\"color\": \"white\"}}, \"header\": {\"fill\": {\"color\": \"#C8D4E3\"}, \"line\": {\"color\": \"white\"}}, \"type\": \"table\"}]}, \"layout\": {\"annotationdefaults\": {\"arrowcolor\": \"#2a3f5f\", \"arrowhead\": 0, \"arrowwidth\": 1}, \"autotypenumbers\": \"strict\", \"coloraxis\": {\"colorbar\": {\"outlinewidth\": 0, \"ticks\": \"\"}}, \"colorscale\": {\"diverging\": [[0, \"#8e0152\"], [0.1, \"#c51b7d\"], [0.2, \"#de77ae\"], [0.3, \"#f1b6da\"], [0.4, \"#fde0ef\"], [0.5, \"#f7f7f7\"], [0.6, \"#e6f5d0\"], [0.7, \"#b8e186\"], [0.8, \"#7fbc41\"], [0.9, \"#4d9221\"], [1, \"#276419\"]], \"sequential\": [[0.0, \"#0d0887\"], [0.1111111111111111, \"#46039f\"], [0.2222222222222222, \"#7201a8\"], [0.3333333333333333, \"#9c179e\"], [0.4444444444444444, \"#bd3786\"], [0.5555555555555556, \"#d8576b\"], [0.6666666666666666, \"#ed7953\"], [0.7777777777777778, \"#fb9f3a\"], [0.8888888888888888, \"#fdca26\"], [1.0, \"#f0f921\"]], \"sequentialminus\": [[0.0, \"#0d0887\"], [0.1111111111111111, \"#46039f\"], [0.2222222222222222, \"#7201a8\"], [0.3333333333333333, \"#9c179e\"], [0.4444444444444444, \"#bd3786\"], [0.5555555555555556, \"#d8576b\"], [0.6666666666666666, \"#ed7953\"], [0.7777777777777778, \"#fb9f3a\"], [0.8888888888888888, \"#fdca26\"], [1.0, \"#f0f921\"]]}, \"colorway\": [\"#636efa\", \"#EF553B\", \"#00cc96\", \"#ab63fa\", \"#FFA15A\", \"#19d3f3\", \"#FF6692\", \"#B6E880\", \"#FF97FF\", \"#FECB52\"], \"font\": {\"color\": \"#2a3f5f\"}, \"geo\": {\"bgcolor\": \"white\", \"lakecolor\": \"white\", \"landcolor\": \"#E5ECF6\", \"showlakes\": true, \"showland\": true, \"subunitcolor\": \"white\"}, \"hoverlabel\": {\"align\": \"left\"}, \"hovermode\": \"closest\", \"mapbox\": {\"style\": \"light\"}, \"paper_bgcolor\": \"white\", \"plot_bgcolor\": \"#E5ECF6\", \"polar\": {\"angularaxis\": {\"gridcolor\": \"white\", \"linecolor\": \"white\", \"ticks\": \"\"}, \"bgcolor\": \"#E5ECF6\", \"radialaxis\": {\"gridcolor\": \"white\", \"linecolor\": \"white\", \"ticks\": \"\"}}, \"scene\": {\"xaxis\": {\"backgroundcolor\": \"#E5ECF6\", \"gridcolor\": \"white\", \"gridwidth\": 2, \"linecolor\": \"white\", \"showbackground\": true, \"ticks\": \"\", \"zerolinecolor\": \"white\"}, \"yaxis\": {\"backgroundcolor\": \"#E5ECF6\", \"gridcolor\": \"white\", \"gridwidth\": 2, \"linecolor\": \"white\", \"showbackground\": true, \"ticks\": \"\", \"zerolinecolor\": \"white\"}, \"zaxis\": {\"backgroundcolor\": \"#E5ECF6\", \"gridcolor\": \"white\", \"gridwidth\": 2, \"linecolor\": \"white\", \"showbackground\": true, \"ticks\": \"\", \"zerolinecolor\": \"white\"}}, \"shapedefaults\": {\"line\": {\"color\": \"#2a3f5f\"}}, \"ternary\": {\"aaxis\": {\"gridcolor\": \"white\", \"linecolor\": \"white\", \"ticks\": \"\"}, \"baxis\": {\"gridcolor\": \"white\", \"linecolor\": \"white\", \"ticks\": \"\"}, \"bgcolor\": \"#E5ECF6\", \"caxis\": {\"gridcolor\": \"white\", \"linecolor\": \"white\", \"ticks\": \"\"}}, \"title\": {\"x\": 0.05}, \"xaxis\": {\"automargin\": true, \"gridcolor\": \"white\", \"linecolor\": \"white\", \"ticks\": \"\", \"title\": {\"standoff\": 15}, \"zerolinecolor\": \"white\", \"zerolinewidth\": 2}, \"yaxis\": {\"automargin\": true, \"gridcolor\": \"white\", \"linecolor\": \"white\", \"ticks\": \"\", \"title\": {\"standoff\": 15}, \"zerolinecolor\": \"white\", \"zerolinewidth\": 2}}}, \"title\": {\"text\": \"Bar graph: Confirm result statewise\"}, \"xaxis\": {\"anchor\": \"y\", \"domain\": [0.0, 1.0], \"title\": {\"text\": \"Total_confirm_result\"}}, \"yaxis\": {\"anchor\": \"x\", \"domain\": [0.0, 1.0], \"title\": {\"text\": \"state\"}}},                        {\"responsive\": true}                    ).then(function(){\n",
       "                            \n",
       "var gd = document.getElementById('64dba473-8e12-4353-8602-314c3154e6b4');\n",
       "var x = new MutationObserver(function (mutations, observer) {{\n",
       "        var display = window.getComputedStyle(gd).display;\n",
       "        if (!display || display === 'none') {{\n",
       "            console.log([gd, 'removed!']);\n",
       "            Plotly.purge(gd);\n",
       "            observer.disconnect();\n",
       "        }}\n",
       "}});\n",
       "\n",
       "// Listen for the removal of the full notebook cells\n",
       "var notebookContainer = gd.closest('#notebook-container');\n",
       "if (notebookContainer) {{\n",
       "    x.observe(notebookContainer, {childList: true});\n",
       "}}\n",
       "\n",
       "// Listen for the clearing of the current output cell\n",
       "var outputEl = gd.closest('.output');\n",
       "if (outputEl) {{\n",
       "    x.observe(outputEl, {childList: true});\n",
       "}}\n",
       "\n",
       "                        })                };                });            </script>        </div>"
      ]
     },
     "metadata": {},
     "output_type": "display_data"
    }
   ],
   "source": [
    "confirm_values=[]\n",
    "for i in in_states:\n",
    "        confirm_values.append(int(d1[d1['state']==i]['confirmed'])) \n",
    "#values\n",
    "\n",
    "\n",
    "\n",
    "mydf=pd.DataFrame({'state':in_states,'Total_confirm_result':confirm_values})\n",
    "\n",
    "fig1= pe.bar(mydf, x='Total_confirm_result', y='state') #animation_frame='Frequency')\n",
    "fig1.update_layout(title_text='Bar graph: Confirm result statewise',\n",
    "                   plot_bgcolor='#111111',\n",
    "                   paper_bgcolor='#111111',\n",
    "                   font_color='#7FDBFF')\n",
    "\n",
    "fig1.show()"
   ]
  },
  {
   "cell_type": "code",
   "execution_count": 235,
   "metadata": {},
   "outputs": [
    {
     "data": {
      "text/plain": [
       "(38, 35)"
      ]
     },
     "execution_count": 235,
     "metadata": {},
     "output_type": "execute_result"
    }
   ],
   "source": [
    "len(values),len(in_states)"
   ]
  },
  {
   "cell_type": "code",
   "execution_count": 236,
   "metadata": {
    "scrolled": true
   },
   "outputs": [
    {
     "name": "stdout",
     "output_type": "stream",
     "text": [
      "Maharashtra\n",
      "Karnataka\n",
      "Andhra Pradesh\n",
      "Tamil Nadu\n",
      "Kerala\n",
      "Delhi\n",
      "Uttar Pradesh\n",
      "West Bengal\n",
      "Odisha\n",
      "Rajasthan\n",
      "Telangana\n",
      "Chhattisgarh\n",
      "Haryana\n",
      "Bihar\n",
      "Gujarat\n",
      "Madhya Pradesh\n",
      "Assam\n",
      "Punjab\n",
      "Jammu and Kashmir\n",
      "Jharkhand\n",
      "Uttarakhand\n",
      "Himachal Pradesh\n",
      "Goa\n",
      "Puducherry\n",
      "Tripura\n",
      "Manipur\n",
      "Chandigarh\n",
      "Arunachal Pradesh\n",
      "Meghalaya\n",
      "Nagaland\n",
      "Ladakh\n",
      "Sikkim\n",
      "Andaman and Nicobar Islands\n",
      "Mizoram\n",
      "Dadra and Nagar Haveli and Daman and Diu\n"
     ]
    }
   ],
   "source": [
    "res=d1[d1['state']=='Odisha']['confirmed']\n",
    "res=int(res)\n",
    "res\n",
    "for i in in_states:\n",
    "    print(i)"
   ]
  },
  {
   "cell_type": "markdown",
   "metadata": {},
   "source": [
    "# Totoal Death cases statewise"
   ]
  },
  {
   "cell_type": "code",
   "execution_count": 237,
   "metadata": {
    "scrolled": false
   },
   "outputs": [
    {
     "data": {
      "application/vnd.plotly.v1+json": {
       "config": {
        "plotlyServerURL": "https://plot.ly"
       },
       "data": [
        {
         "alignmentgroup": "True",
         "hovertemplate": "Total_death_result=%{x}<br>States=%{y}<extra></extra>",
         "legendgroup": "",
         "marker": {
          "color": "#636efa"
         },
         "name": "",
         "offsetgroup": "",
         "orientation": "h",
         "showlegend": false,
         "textposition": "auto",
         "type": "bar",
         "x": [
          49666,
          12107,
          7115,
          12156,
          3142,
          10585,
          8387,
          9792,
          1936,
          2705,
          1549,
          3400,
          2917,
          1405,
          4318,
          3641,
          1052,
          5376,
          1886,
          1035,
          1522,
          932,
          741,
          633,
          382,
          357,
          320,
          56,
          139,
          79,
          127,
          129,
          62,
          8,
          2
         ],
         "xaxis": "x",
         "y": [
          "Maharashtra",
          "Karnataka",
          "Andhra Pradesh",
          "Tamil Nadu",
          "Kerala",
          "Delhi",
          "Uttar Pradesh",
          "West Bengal",
          "Odisha",
          "Rajasthan",
          "Telangana",
          "Chhattisgarh",
          "Haryana",
          "Bihar",
          "Gujarat",
          "Madhya Pradesh",
          "Assam",
          "Punjab",
          "Jammu and Kashmir",
          "Jharkhand",
          "Uttarakhand",
          "Himachal Pradesh",
          "Goa",
          "Puducherry",
          "Tripura",
          "Manipur",
          "Chandigarh",
          "Arunachal Pradesh",
          "Meghalaya",
          "Nagaland",
          "Ladakh",
          "Sikkim",
          "Andaman and Nicobar Islands",
          "Mizoram",
          "Dadra and Nagar Haveli and Daman and Diu"
         ],
         "yaxis": "y"
        }
       ],
       "layout": {
        "barmode": "relative",
        "font": {
         "color": "#7FDBFF"
        },
        "legend": {
         "tracegroupgap": 0
        },
        "margin": {
         "t": 60
        },
        "paper_bgcolor": "#111111",
        "plot_bgcolor": "#111111",
        "template": {
         "data": {
          "bar": [
           {
            "error_x": {
             "color": "#2a3f5f"
            },
            "error_y": {
             "color": "#2a3f5f"
            },
            "marker": {
             "line": {
              "color": "#E5ECF6",
              "width": 0.5
             }
            },
            "type": "bar"
           }
          ],
          "barpolar": [
           {
            "marker": {
             "line": {
              "color": "#E5ECF6",
              "width": 0.5
             }
            },
            "type": "barpolar"
           }
          ],
          "carpet": [
           {
            "aaxis": {
             "endlinecolor": "#2a3f5f",
             "gridcolor": "white",
             "linecolor": "white",
             "minorgridcolor": "white",
             "startlinecolor": "#2a3f5f"
            },
            "baxis": {
             "endlinecolor": "#2a3f5f",
             "gridcolor": "white",
             "linecolor": "white",
             "minorgridcolor": "white",
             "startlinecolor": "#2a3f5f"
            },
            "type": "carpet"
           }
          ],
          "choropleth": [
           {
            "colorbar": {
             "outlinewidth": 0,
             "ticks": ""
            },
            "type": "choropleth"
           }
          ],
          "contour": [
           {
            "colorbar": {
             "outlinewidth": 0,
             "ticks": ""
            },
            "colorscale": [
             [
              0,
              "#0d0887"
             ],
             [
              0.1111111111111111,
              "#46039f"
             ],
             [
              0.2222222222222222,
              "#7201a8"
             ],
             [
              0.3333333333333333,
              "#9c179e"
             ],
             [
              0.4444444444444444,
              "#bd3786"
             ],
             [
              0.5555555555555556,
              "#d8576b"
             ],
             [
              0.6666666666666666,
              "#ed7953"
             ],
             [
              0.7777777777777778,
              "#fb9f3a"
             ],
             [
              0.8888888888888888,
              "#fdca26"
             ],
             [
              1,
              "#f0f921"
             ]
            ],
            "type": "contour"
           }
          ],
          "contourcarpet": [
           {
            "colorbar": {
             "outlinewidth": 0,
             "ticks": ""
            },
            "type": "contourcarpet"
           }
          ],
          "heatmap": [
           {
            "colorbar": {
             "outlinewidth": 0,
             "ticks": ""
            },
            "colorscale": [
             [
              0,
              "#0d0887"
             ],
             [
              0.1111111111111111,
              "#46039f"
             ],
             [
              0.2222222222222222,
              "#7201a8"
             ],
             [
              0.3333333333333333,
              "#9c179e"
             ],
             [
              0.4444444444444444,
              "#bd3786"
             ],
             [
              0.5555555555555556,
              "#d8576b"
             ],
             [
              0.6666666666666666,
              "#ed7953"
             ],
             [
              0.7777777777777778,
              "#fb9f3a"
             ],
             [
              0.8888888888888888,
              "#fdca26"
             ],
             [
              1,
              "#f0f921"
             ]
            ],
            "type": "heatmap"
           }
          ],
          "heatmapgl": [
           {
            "colorbar": {
             "outlinewidth": 0,
             "ticks": ""
            },
            "colorscale": [
             [
              0,
              "#0d0887"
             ],
             [
              0.1111111111111111,
              "#46039f"
             ],
             [
              0.2222222222222222,
              "#7201a8"
             ],
             [
              0.3333333333333333,
              "#9c179e"
             ],
             [
              0.4444444444444444,
              "#bd3786"
             ],
             [
              0.5555555555555556,
              "#d8576b"
             ],
             [
              0.6666666666666666,
              "#ed7953"
             ],
             [
              0.7777777777777778,
              "#fb9f3a"
             ],
             [
              0.8888888888888888,
              "#fdca26"
             ],
             [
              1,
              "#f0f921"
             ]
            ],
            "type": "heatmapgl"
           }
          ],
          "histogram": [
           {
            "marker": {
             "colorbar": {
              "outlinewidth": 0,
              "ticks": ""
             }
            },
            "type": "histogram"
           }
          ],
          "histogram2d": [
           {
            "colorbar": {
             "outlinewidth": 0,
             "ticks": ""
            },
            "colorscale": [
             [
              0,
              "#0d0887"
             ],
             [
              0.1111111111111111,
              "#46039f"
             ],
             [
              0.2222222222222222,
              "#7201a8"
             ],
             [
              0.3333333333333333,
              "#9c179e"
             ],
             [
              0.4444444444444444,
              "#bd3786"
             ],
             [
              0.5555555555555556,
              "#d8576b"
             ],
             [
              0.6666666666666666,
              "#ed7953"
             ],
             [
              0.7777777777777778,
              "#fb9f3a"
             ],
             [
              0.8888888888888888,
              "#fdca26"
             ],
             [
              1,
              "#f0f921"
             ]
            ],
            "type": "histogram2d"
           }
          ],
          "histogram2dcontour": [
           {
            "colorbar": {
             "outlinewidth": 0,
             "ticks": ""
            },
            "colorscale": [
             [
              0,
              "#0d0887"
             ],
             [
              0.1111111111111111,
              "#46039f"
             ],
             [
              0.2222222222222222,
              "#7201a8"
             ],
             [
              0.3333333333333333,
              "#9c179e"
             ],
             [
              0.4444444444444444,
              "#bd3786"
             ],
             [
              0.5555555555555556,
              "#d8576b"
             ],
             [
              0.6666666666666666,
              "#ed7953"
             ],
             [
              0.7777777777777778,
              "#fb9f3a"
             ],
             [
              0.8888888888888888,
              "#fdca26"
             ],
             [
              1,
              "#f0f921"
             ]
            ],
            "type": "histogram2dcontour"
           }
          ],
          "mesh3d": [
           {
            "colorbar": {
             "outlinewidth": 0,
             "ticks": ""
            },
            "type": "mesh3d"
           }
          ],
          "parcoords": [
           {
            "line": {
             "colorbar": {
              "outlinewidth": 0,
              "ticks": ""
             }
            },
            "type": "parcoords"
           }
          ],
          "pie": [
           {
            "automargin": true,
            "type": "pie"
           }
          ],
          "scatter": [
           {
            "marker": {
             "colorbar": {
              "outlinewidth": 0,
              "ticks": ""
             }
            },
            "type": "scatter"
           }
          ],
          "scatter3d": [
           {
            "line": {
             "colorbar": {
              "outlinewidth": 0,
              "ticks": ""
             }
            },
            "marker": {
             "colorbar": {
              "outlinewidth": 0,
              "ticks": ""
             }
            },
            "type": "scatter3d"
           }
          ],
          "scattercarpet": [
           {
            "marker": {
             "colorbar": {
              "outlinewidth": 0,
              "ticks": ""
             }
            },
            "type": "scattercarpet"
           }
          ],
          "scattergeo": [
           {
            "marker": {
             "colorbar": {
              "outlinewidth": 0,
              "ticks": ""
             }
            },
            "type": "scattergeo"
           }
          ],
          "scattergl": [
           {
            "marker": {
             "colorbar": {
              "outlinewidth": 0,
              "ticks": ""
             }
            },
            "type": "scattergl"
           }
          ],
          "scattermapbox": [
           {
            "marker": {
             "colorbar": {
              "outlinewidth": 0,
              "ticks": ""
             }
            },
            "type": "scattermapbox"
           }
          ],
          "scatterpolar": [
           {
            "marker": {
             "colorbar": {
              "outlinewidth": 0,
              "ticks": ""
             }
            },
            "type": "scatterpolar"
           }
          ],
          "scatterpolargl": [
           {
            "marker": {
             "colorbar": {
              "outlinewidth": 0,
              "ticks": ""
             }
            },
            "type": "scatterpolargl"
           }
          ],
          "scatterternary": [
           {
            "marker": {
             "colorbar": {
              "outlinewidth": 0,
              "ticks": ""
             }
            },
            "type": "scatterternary"
           }
          ],
          "surface": [
           {
            "colorbar": {
             "outlinewidth": 0,
             "ticks": ""
            },
            "colorscale": [
             [
              0,
              "#0d0887"
             ],
             [
              0.1111111111111111,
              "#46039f"
             ],
             [
              0.2222222222222222,
              "#7201a8"
             ],
             [
              0.3333333333333333,
              "#9c179e"
             ],
             [
              0.4444444444444444,
              "#bd3786"
             ],
             [
              0.5555555555555556,
              "#d8576b"
             ],
             [
              0.6666666666666666,
              "#ed7953"
             ],
             [
              0.7777777777777778,
              "#fb9f3a"
             ],
             [
              0.8888888888888888,
              "#fdca26"
             ],
             [
              1,
              "#f0f921"
             ]
            ],
            "type": "surface"
           }
          ],
          "table": [
           {
            "cells": {
             "fill": {
              "color": "#EBF0F8"
             },
             "line": {
              "color": "white"
             }
            },
            "header": {
             "fill": {
              "color": "#C8D4E3"
             },
             "line": {
              "color": "white"
             }
            },
            "type": "table"
           }
          ]
         },
         "layout": {
          "annotationdefaults": {
           "arrowcolor": "#2a3f5f",
           "arrowhead": 0,
           "arrowwidth": 1
          },
          "autotypenumbers": "strict",
          "coloraxis": {
           "colorbar": {
            "outlinewidth": 0,
            "ticks": ""
           }
          },
          "colorscale": {
           "diverging": [
            [
             0,
             "#8e0152"
            ],
            [
             0.1,
             "#c51b7d"
            ],
            [
             0.2,
             "#de77ae"
            ],
            [
             0.3,
             "#f1b6da"
            ],
            [
             0.4,
             "#fde0ef"
            ],
            [
             0.5,
             "#f7f7f7"
            ],
            [
             0.6,
             "#e6f5d0"
            ],
            [
             0.7,
             "#b8e186"
            ],
            [
             0.8,
             "#7fbc41"
            ],
            [
             0.9,
             "#4d9221"
            ],
            [
             1,
             "#276419"
            ]
           ],
           "sequential": [
            [
             0,
             "#0d0887"
            ],
            [
             0.1111111111111111,
             "#46039f"
            ],
            [
             0.2222222222222222,
             "#7201a8"
            ],
            [
             0.3333333333333333,
             "#9c179e"
            ],
            [
             0.4444444444444444,
             "#bd3786"
            ],
            [
             0.5555555555555556,
             "#d8576b"
            ],
            [
             0.6666666666666666,
             "#ed7953"
            ],
            [
             0.7777777777777778,
             "#fb9f3a"
            ],
            [
             0.8888888888888888,
             "#fdca26"
            ],
            [
             1,
             "#f0f921"
            ]
           ],
           "sequentialminus": [
            [
             0,
             "#0d0887"
            ],
            [
             0.1111111111111111,
             "#46039f"
            ],
            [
             0.2222222222222222,
             "#7201a8"
            ],
            [
             0.3333333333333333,
             "#9c179e"
            ],
            [
             0.4444444444444444,
             "#bd3786"
            ],
            [
             0.5555555555555556,
             "#d8576b"
            ],
            [
             0.6666666666666666,
             "#ed7953"
            ],
            [
             0.7777777777777778,
             "#fb9f3a"
            ],
            [
             0.8888888888888888,
             "#fdca26"
            ],
            [
             1,
             "#f0f921"
            ]
           ]
          },
          "colorway": [
           "#636efa",
           "#EF553B",
           "#00cc96",
           "#ab63fa",
           "#FFA15A",
           "#19d3f3",
           "#FF6692",
           "#B6E880",
           "#FF97FF",
           "#FECB52"
          ],
          "font": {
           "color": "#2a3f5f"
          },
          "geo": {
           "bgcolor": "white",
           "lakecolor": "white",
           "landcolor": "#E5ECF6",
           "showlakes": true,
           "showland": true,
           "subunitcolor": "white"
          },
          "hoverlabel": {
           "align": "left"
          },
          "hovermode": "closest",
          "mapbox": {
           "style": "light"
          },
          "paper_bgcolor": "white",
          "plot_bgcolor": "#E5ECF6",
          "polar": {
           "angularaxis": {
            "gridcolor": "white",
            "linecolor": "white",
            "ticks": ""
           },
           "bgcolor": "#E5ECF6",
           "radialaxis": {
            "gridcolor": "white",
            "linecolor": "white",
            "ticks": ""
           }
          },
          "scene": {
           "xaxis": {
            "backgroundcolor": "#E5ECF6",
            "gridcolor": "white",
            "gridwidth": 2,
            "linecolor": "white",
            "showbackground": true,
            "ticks": "",
            "zerolinecolor": "white"
           },
           "yaxis": {
            "backgroundcolor": "#E5ECF6",
            "gridcolor": "white",
            "gridwidth": 2,
            "linecolor": "white",
            "showbackground": true,
            "ticks": "",
            "zerolinecolor": "white"
           },
           "zaxis": {
            "backgroundcolor": "#E5ECF6",
            "gridcolor": "white",
            "gridwidth": 2,
            "linecolor": "white",
            "showbackground": true,
            "ticks": "",
            "zerolinecolor": "white"
           }
          },
          "shapedefaults": {
           "line": {
            "color": "#2a3f5f"
           }
          },
          "ternary": {
           "aaxis": {
            "gridcolor": "white",
            "linecolor": "white",
            "ticks": ""
           },
           "baxis": {
            "gridcolor": "white",
            "linecolor": "white",
            "ticks": ""
           },
           "bgcolor": "#E5ECF6",
           "caxis": {
            "gridcolor": "white",
            "linecolor": "white",
            "ticks": ""
           }
          },
          "title": {
           "x": 0.05
          },
          "xaxis": {
           "automargin": true,
           "gridcolor": "white",
           "linecolor": "white",
           "ticks": "",
           "title": {
            "standoff": 15
           },
           "zerolinecolor": "white",
           "zerolinewidth": 2
          },
          "yaxis": {
           "automargin": true,
           "gridcolor": "white",
           "linecolor": "white",
           "ticks": "",
           "title": {
            "standoff": 15
           },
           "zerolinecolor": "white",
           "zerolinewidth": 2
          }
         }
        },
        "title": {
         "text": "Bar graph: Deathcase statewise"
        },
        "xaxis": {
         "anchor": "y",
         "domain": [
          0,
          1
         ],
         "title": {
          "text": "Total_death_result"
         }
        },
        "yaxis": {
         "anchor": "x",
         "domain": [
          0,
          1
         ],
         "title": {
          "text": "States"
         }
        }
       }
      },
      "text/html": [
       "<div>                            <div id=\"09d0eec3-0c83-4eef-85b8-6b1c04d5a18e\" class=\"plotly-graph-div\" style=\"height:525px; width:100%;\"></div>            <script type=\"text/javascript\">                require([\"plotly\"], function(Plotly) {                    window.PLOTLYENV=window.PLOTLYENV || {};                                    if (document.getElementById(\"09d0eec3-0c83-4eef-85b8-6b1c04d5a18e\")) {                    Plotly.newPlot(                        \"09d0eec3-0c83-4eef-85b8-6b1c04d5a18e\",                        [{\"alignmentgroup\": \"True\", \"hovertemplate\": \"Total_death_result=%{x}<br>States=%{y}<extra></extra>\", \"legendgroup\": \"\", \"marker\": {\"color\": \"#636efa\"}, \"name\": \"\", \"offsetgroup\": \"\", \"orientation\": \"h\", \"showlegend\": false, \"textposition\": \"auto\", \"type\": \"bar\", \"x\": [49666, 12107, 7115, 12156, 3142, 10585, 8387, 9792, 1936, 2705, 1549, 3400, 2917, 1405, 4318, 3641, 1052, 5376, 1886, 1035, 1522, 932, 741, 633, 382, 357, 320, 56, 139, 79, 127, 129, 62, 8, 2], \"xaxis\": \"x\", \"y\": [\"Maharashtra\", \"Karnataka\", \"Andhra Pradesh\", \"Tamil Nadu\", \"Kerala\", \"Delhi\", \"Uttar Pradesh\", \"West Bengal\", \"Odisha\", \"Rajasthan\", \"Telangana\", \"Chhattisgarh\", \"Haryana\", \"Bihar\", \"Gujarat\", \"Madhya Pradesh\", \"Assam\", \"Punjab\", \"Jammu and Kashmir\", \"Jharkhand\", \"Uttarakhand\", \"Himachal Pradesh\", \"Goa\", \"Puducherry\", \"Tripura\", \"Manipur\", \"Chandigarh\", \"Arunachal Pradesh\", \"Meghalaya\", \"Nagaland\", \"Ladakh\", \"Sikkim\", \"Andaman and Nicobar Islands\", \"Mizoram\", \"Dadra and Nagar Haveli and Daman and Diu\"], \"yaxis\": \"y\"}],                        {\"barmode\": \"relative\", \"font\": {\"color\": \"#7FDBFF\"}, \"legend\": {\"tracegroupgap\": 0}, \"margin\": {\"t\": 60}, \"paper_bgcolor\": \"#111111\", \"plot_bgcolor\": \"#111111\", \"template\": {\"data\": {\"bar\": [{\"error_x\": {\"color\": \"#2a3f5f\"}, \"error_y\": {\"color\": \"#2a3f5f\"}, \"marker\": {\"line\": {\"color\": \"#E5ECF6\", \"width\": 0.5}}, \"type\": \"bar\"}], \"barpolar\": [{\"marker\": {\"line\": {\"color\": \"#E5ECF6\", \"width\": 0.5}}, \"type\": \"barpolar\"}], \"carpet\": [{\"aaxis\": {\"endlinecolor\": \"#2a3f5f\", \"gridcolor\": \"white\", \"linecolor\": \"white\", \"minorgridcolor\": \"white\", \"startlinecolor\": \"#2a3f5f\"}, \"baxis\": {\"endlinecolor\": \"#2a3f5f\", \"gridcolor\": \"white\", \"linecolor\": \"white\", \"minorgridcolor\": \"white\", \"startlinecolor\": \"#2a3f5f\"}, \"type\": \"carpet\"}], \"choropleth\": [{\"colorbar\": {\"outlinewidth\": 0, \"ticks\": \"\"}, \"type\": \"choropleth\"}], \"contour\": [{\"colorbar\": {\"outlinewidth\": 0, \"ticks\": \"\"}, \"colorscale\": [[0.0, \"#0d0887\"], [0.1111111111111111, \"#46039f\"], [0.2222222222222222, \"#7201a8\"], [0.3333333333333333, \"#9c179e\"], [0.4444444444444444, \"#bd3786\"], [0.5555555555555556, \"#d8576b\"], [0.6666666666666666, \"#ed7953\"], [0.7777777777777778, \"#fb9f3a\"], [0.8888888888888888, \"#fdca26\"], [1.0, \"#f0f921\"]], \"type\": \"contour\"}], \"contourcarpet\": [{\"colorbar\": {\"outlinewidth\": 0, \"ticks\": \"\"}, \"type\": \"contourcarpet\"}], \"heatmap\": [{\"colorbar\": {\"outlinewidth\": 0, \"ticks\": \"\"}, \"colorscale\": [[0.0, \"#0d0887\"], [0.1111111111111111, \"#46039f\"], [0.2222222222222222, \"#7201a8\"], [0.3333333333333333, \"#9c179e\"], [0.4444444444444444, \"#bd3786\"], [0.5555555555555556, \"#d8576b\"], [0.6666666666666666, \"#ed7953\"], [0.7777777777777778, \"#fb9f3a\"], [0.8888888888888888, \"#fdca26\"], [1.0, \"#f0f921\"]], \"type\": \"heatmap\"}], \"heatmapgl\": [{\"colorbar\": {\"outlinewidth\": 0, \"ticks\": \"\"}, \"colorscale\": [[0.0, \"#0d0887\"], [0.1111111111111111, \"#46039f\"], [0.2222222222222222, \"#7201a8\"], [0.3333333333333333, \"#9c179e\"], [0.4444444444444444, \"#bd3786\"], [0.5555555555555556, \"#d8576b\"], [0.6666666666666666, \"#ed7953\"], [0.7777777777777778, \"#fb9f3a\"], [0.8888888888888888, \"#fdca26\"], [1.0, \"#f0f921\"]], \"type\": \"heatmapgl\"}], \"histogram\": [{\"marker\": {\"colorbar\": {\"outlinewidth\": 0, \"ticks\": \"\"}}, \"type\": \"histogram\"}], \"histogram2d\": [{\"colorbar\": {\"outlinewidth\": 0, \"ticks\": \"\"}, \"colorscale\": [[0.0, \"#0d0887\"], [0.1111111111111111, \"#46039f\"], [0.2222222222222222, \"#7201a8\"], [0.3333333333333333, \"#9c179e\"], [0.4444444444444444, \"#bd3786\"], [0.5555555555555556, \"#d8576b\"], [0.6666666666666666, \"#ed7953\"], [0.7777777777777778, \"#fb9f3a\"], [0.8888888888888888, \"#fdca26\"], [1.0, \"#f0f921\"]], \"type\": \"histogram2d\"}], \"histogram2dcontour\": [{\"colorbar\": {\"outlinewidth\": 0, \"ticks\": \"\"}, \"colorscale\": [[0.0, \"#0d0887\"], [0.1111111111111111, \"#46039f\"], [0.2222222222222222, \"#7201a8\"], [0.3333333333333333, \"#9c179e\"], [0.4444444444444444, \"#bd3786\"], [0.5555555555555556, \"#d8576b\"], [0.6666666666666666, \"#ed7953\"], [0.7777777777777778, \"#fb9f3a\"], [0.8888888888888888, \"#fdca26\"], [1.0, \"#f0f921\"]], \"type\": \"histogram2dcontour\"}], \"mesh3d\": [{\"colorbar\": {\"outlinewidth\": 0, \"ticks\": \"\"}, \"type\": \"mesh3d\"}], \"parcoords\": [{\"line\": {\"colorbar\": {\"outlinewidth\": 0, \"ticks\": \"\"}}, \"type\": \"parcoords\"}], \"pie\": [{\"automargin\": true, \"type\": \"pie\"}], \"scatter\": [{\"marker\": {\"colorbar\": {\"outlinewidth\": 0, \"ticks\": \"\"}}, \"type\": \"scatter\"}], \"scatter3d\": [{\"line\": {\"colorbar\": {\"outlinewidth\": 0, \"ticks\": \"\"}}, \"marker\": {\"colorbar\": {\"outlinewidth\": 0, \"ticks\": \"\"}}, \"type\": \"scatter3d\"}], \"scattercarpet\": [{\"marker\": {\"colorbar\": {\"outlinewidth\": 0, \"ticks\": \"\"}}, \"type\": \"scattercarpet\"}], \"scattergeo\": [{\"marker\": {\"colorbar\": {\"outlinewidth\": 0, \"ticks\": \"\"}}, \"type\": \"scattergeo\"}], \"scattergl\": [{\"marker\": {\"colorbar\": {\"outlinewidth\": 0, \"ticks\": \"\"}}, \"type\": \"scattergl\"}], \"scattermapbox\": [{\"marker\": {\"colorbar\": {\"outlinewidth\": 0, \"ticks\": \"\"}}, \"type\": \"scattermapbox\"}], \"scatterpolar\": [{\"marker\": {\"colorbar\": {\"outlinewidth\": 0, \"ticks\": \"\"}}, \"type\": \"scatterpolar\"}], \"scatterpolargl\": [{\"marker\": {\"colorbar\": {\"outlinewidth\": 0, \"ticks\": \"\"}}, \"type\": \"scatterpolargl\"}], \"scatterternary\": [{\"marker\": {\"colorbar\": {\"outlinewidth\": 0, \"ticks\": \"\"}}, \"type\": \"scatterternary\"}], \"surface\": [{\"colorbar\": {\"outlinewidth\": 0, \"ticks\": \"\"}, \"colorscale\": [[0.0, \"#0d0887\"], [0.1111111111111111, \"#46039f\"], [0.2222222222222222, \"#7201a8\"], [0.3333333333333333, \"#9c179e\"], [0.4444444444444444, \"#bd3786\"], [0.5555555555555556, \"#d8576b\"], [0.6666666666666666, \"#ed7953\"], [0.7777777777777778, \"#fb9f3a\"], [0.8888888888888888, \"#fdca26\"], [1.0, \"#f0f921\"]], \"type\": \"surface\"}], \"table\": [{\"cells\": {\"fill\": {\"color\": \"#EBF0F8\"}, \"line\": {\"color\": \"white\"}}, \"header\": {\"fill\": {\"color\": \"#C8D4E3\"}, \"line\": {\"color\": \"white\"}}, \"type\": \"table\"}]}, \"layout\": {\"annotationdefaults\": {\"arrowcolor\": \"#2a3f5f\", \"arrowhead\": 0, \"arrowwidth\": 1}, \"autotypenumbers\": \"strict\", \"coloraxis\": {\"colorbar\": {\"outlinewidth\": 0, \"ticks\": \"\"}}, \"colorscale\": {\"diverging\": [[0, \"#8e0152\"], [0.1, \"#c51b7d\"], [0.2, \"#de77ae\"], [0.3, \"#f1b6da\"], [0.4, \"#fde0ef\"], [0.5, \"#f7f7f7\"], [0.6, \"#e6f5d0\"], [0.7, \"#b8e186\"], [0.8, \"#7fbc41\"], [0.9, \"#4d9221\"], [1, \"#276419\"]], \"sequential\": [[0.0, \"#0d0887\"], [0.1111111111111111, \"#46039f\"], [0.2222222222222222, \"#7201a8\"], [0.3333333333333333, \"#9c179e\"], [0.4444444444444444, \"#bd3786\"], [0.5555555555555556, \"#d8576b\"], [0.6666666666666666, \"#ed7953\"], [0.7777777777777778, \"#fb9f3a\"], [0.8888888888888888, \"#fdca26\"], [1.0, \"#f0f921\"]], \"sequentialminus\": [[0.0, \"#0d0887\"], [0.1111111111111111, \"#46039f\"], [0.2222222222222222, \"#7201a8\"], [0.3333333333333333, \"#9c179e\"], [0.4444444444444444, \"#bd3786\"], [0.5555555555555556, \"#d8576b\"], [0.6666666666666666, \"#ed7953\"], [0.7777777777777778, \"#fb9f3a\"], [0.8888888888888888, \"#fdca26\"], [1.0, \"#f0f921\"]]}, \"colorway\": [\"#636efa\", \"#EF553B\", \"#00cc96\", \"#ab63fa\", \"#FFA15A\", \"#19d3f3\", \"#FF6692\", \"#B6E880\", \"#FF97FF\", \"#FECB52\"], \"font\": {\"color\": \"#2a3f5f\"}, \"geo\": {\"bgcolor\": \"white\", \"lakecolor\": \"white\", \"landcolor\": \"#E5ECF6\", \"showlakes\": true, \"showland\": true, \"subunitcolor\": \"white\"}, \"hoverlabel\": {\"align\": \"left\"}, \"hovermode\": \"closest\", \"mapbox\": {\"style\": \"light\"}, \"paper_bgcolor\": \"white\", \"plot_bgcolor\": \"#E5ECF6\", \"polar\": {\"angularaxis\": {\"gridcolor\": \"white\", \"linecolor\": \"white\", \"ticks\": \"\"}, \"bgcolor\": \"#E5ECF6\", \"radialaxis\": {\"gridcolor\": \"white\", \"linecolor\": \"white\", \"ticks\": \"\"}}, \"scene\": {\"xaxis\": {\"backgroundcolor\": \"#E5ECF6\", \"gridcolor\": \"white\", \"gridwidth\": 2, \"linecolor\": \"white\", \"showbackground\": true, \"ticks\": \"\", \"zerolinecolor\": \"white\"}, \"yaxis\": {\"backgroundcolor\": \"#E5ECF6\", \"gridcolor\": \"white\", \"gridwidth\": 2, \"linecolor\": \"white\", \"showbackground\": true, \"ticks\": \"\", \"zerolinecolor\": \"white\"}, \"zaxis\": {\"backgroundcolor\": \"#E5ECF6\", \"gridcolor\": \"white\", \"gridwidth\": 2, \"linecolor\": \"white\", \"showbackground\": true, \"ticks\": \"\", \"zerolinecolor\": \"white\"}}, \"shapedefaults\": {\"line\": {\"color\": \"#2a3f5f\"}}, \"ternary\": {\"aaxis\": {\"gridcolor\": \"white\", \"linecolor\": \"white\", \"ticks\": \"\"}, \"baxis\": {\"gridcolor\": \"white\", \"linecolor\": \"white\", \"ticks\": \"\"}, \"bgcolor\": \"#E5ECF6\", \"caxis\": {\"gridcolor\": \"white\", \"linecolor\": \"white\", \"ticks\": \"\"}}, \"title\": {\"x\": 0.05}, \"xaxis\": {\"automargin\": true, \"gridcolor\": \"white\", \"linecolor\": \"white\", \"ticks\": \"\", \"title\": {\"standoff\": 15}, \"zerolinecolor\": \"white\", \"zerolinewidth\": 2}, \"yaxis\": {\"automargin\": true, \"gridcolor\": \"white\", \"linecolor\": \"white\", \"ticks\": \"\", \"title\": {\"standoff\": 15}, \"zerolinecolor\": \"white\", \"zerolinewidth\": 2}}}, \"title\": {\"text\": \"Bar graph: Deathcase statewise\"}, \"xaxis\": {\"anchor\": \"y\", \"domain\": [0.0, 1.0], \"title\": {\"text\": \"Total_death_result\"}}, \"yaxis\": {\"anchor\": \"x\", \"domain\": [0.0, 1.0], \"title\": {\"text\": \"States\"}}},                        {\"responsive\": true}                    ).then(function(){\n",
       "                            \n",
       "var gd = document.getElementById('09d0eec3-0c83-4eef-85b8-6b1c04d5a18e');\n",
       "var x = new MutationObserver(function (mutations, observer) {{\n",
       "        var display = window.getComputedStyle(gd).display;\n",
       "        if (!display || display === 'none') {{\n",
       "            console.log([gd, 'removed!']);\n",
       "            Plotly.purge(gd);\n",
       "            observer.disconnect();\n",
       "        }}\n",
       "}});\n",
       "\n",
       "// Listen for the removal of the full notebook cells\n",
       "var notebookContainer = gd.closest('#notebook-container');\n",
       "if (notebookContainer) {{\n",
       "    x.observe(notebookContainer, {childList: true});\n",
       "}}\n",
       "\n",
       "// Listen for the clearing of the current output cell\n",
       "var outputEl = gd.closest('.output');\n",
       "if (outputEl) {{\n",
       "    x.observe(outputEl, {childList: true});\n",
       "}}\n",
       "\n",
       "                        })                };                });            </script>        </div>"
      ]
     },
     "metadata": {},
     "output_type": "display_data"
    }
   ],
   "source": [
    "death_result=[]\n",
    "for i in in_states:\n",
    "    death_result.append(int(d1[d1['state']==i]['deaths']))\n",
    "    \n",
    "#death_result.sort()\n",
    "#death_result,len(death_result)\n",
    "\n",
    "mydf=pd.DataFrame({'States':in_states,'Total_death_result':death_result})\n",
    "\n",
    "fig2= pe.bar(mydf, x='Total_death_result', y='States') #animation_frame='Frequency')\n",
    "fig2.update_layout(title_text='Bar graph: Deathcase statewise',\n",
    "                   plot_bgcolor='#111111',\n",
    "                  paper_bgcolor='#111111',\n",
    "                  font_color='#7FDBFF')\n",
    "\n",
    "fig2.show()"
   ]
  },
  {
   "cell_type": "markdown",
   "metadata": {},
   "source": [
    "# Totoal Cure cases statewise"
   ]
  },
  {
   "cell_type": "code",
   "execution_count": 218,
   "metadata": {
    "scrolled": false
   },
   "outputs": [
    {
     "data": {
      "application/vnd.plotly.v1+json": {
       "config": {
        "plotlyServerURL": "https://plot.ly"
       },
       "data": [
        {
         "alignmentgroup": "True",
         "hovertemplate": "Total_cure_result=%{x}<br>en1=%{y}<extra></extra>",
         "legendgroup": "",
         "marker": {
          "color": "#636efa"
         },
         "name": "",
         "offsetgroup": "",
         "orientation": "h",
         "showlegend": false,
         "textposition": "auto",
         "type": "bar",
         "x": [
          1836999,
          898919,
          872897,
          800429,
          707244,
          611243,
          565731,
          534737,
          326209,
          297819,
          280565,
          268988,
          257261,
          248210,
          233760,
          231533,
          212129,
          158482,
          116792,
          112893,
          84461,
          52876,
          49653,
          37233,
          32786,
          26782,
          19280,
          16583,
          13186,
          11533,
          9162,
          5190,
          4846,
          4109,
          3323
         ],
         "xaxis": "x",
         "y": [
          "Maharashtra",
          "Karnataka",
          "Andhra Pradesh",
          "Tamil Nadu",
          "Kerala",
          "Delhi",
          "Uttar Pradesh",
          "West Bengal",
          "Odisha",
          "Rajasthan",
          "Telangana",
          "Chhattisgarh",
          "Haryana",
          "Bihar",
          "Gujarat",
          "Madhya Pradesh",
          "Assam",
          "Punjab",
          "Jammu and Kashmir",
          "Jharkhand",
          "Uttarakhand",
          "Himachal Pradesh",
          "Goa",
          "Puducherry",
          "Tripura",
          "Manipur",
          "Chandigarh",
          "Arunachal Pradesh",
          "Meghalaya",
          "Nagaland",
          "Ladakh",
          "Sikkim",
          "Andaman and Nicobar Islands",
          "Mizoram",
          "Dadra and Nagar Haveli and Daman and Diu"
         ],
         "yaxis": "y"
        }
       ],
       "layout": {
        "barmode": "relative",
        "font": {
         "color": "#7FDBFF"
        },
        "legend": {
         "tracegroupgap": 0
        },
        "margin": {
         "t": 60
        },
        "paper_bgcolor": "#111111",
        "plot_bgcolor": "#111111",
        "template": {
         "data": {
          "bar": [
           {
            "error_x": {
             "color": "#2a3f5f"
            },
            "error_y": {
             "color": "#2a3f5f"
            },
            "marker": {
             "line": {
              "color": "#E5ECF6",
              "width": 0.5
             }
            },
            "type": "bar"
           }
          ],
          "barpolar": [
           {
            "marker": {
             "line": {
              "color": "#E5ECF6",
              "width": 0.5
             }
            },
            "type": "barpolar"
           }
          ],
          "carpet": [
           {
            "aaxis": {
             "endlinecolor": "#2a3f5f",
             "gridcolor": "white",
             "linecolor": "white",
             "minorgridcolor": "white",
             "startlinecolor": "#2a3f5f"
            },
            "baxis": {
             "endlinecolor": "#2a3f5f",
             "gridcolor": "white",
             "linecolor": "white",
             "minorgridcolor": "white",
             "startlinecolor": "#2a3f5f"
            },
            "type": "carpet"
           }
          ],
          "choropleth": [
           {
            "colorbar": {
             "outlinewidth": 0,
             "ticks": ""
            },
            "type": "choropleth"
           }
          ],
          "contour": [
           {
            "colorbar": {
             "outlinewidth": 0,
             "ticks": ""
            },
            "colorscale": [
             [
              0,
              "#0d0887"
             ],
             [
              0.1111111111111111,
              "#46039f"
             ],
             [
              0.2222222222222222,
              "#7201a8"
             ],
             [
              0.3333333333333333,
              "#9c179e"
             ],
             [
              0.4444444444444444,
              "#bd3786"
             ],
             [
              0.5555555555555556,
              "#d8576b"
             ],
             [
              0.6666666666666666,
              "#ed7953"
             ],
             [
              0.7777777777777778,
              "#fb9f3a"
             ],
             [
              0.8888888888888888,
              "#fdca26"
             ],
             [
              1,
              "#f0f921"
             ]
            ],
            "type": "contour"
           }
          ],
          "contourcarpet": [
           {
            "colorbar": {
             "outlinewidth": 0,
             "ticks": ""
            },
            "type": "contourcarpet"
           }
          ],
          "heatmap": [
           {
            "colorbar": {
             "outlinewidth": 0,
             "ticks": ""
            },
            "colorscale": [
             [
              0,
              "#0d0887"
             ],
             [
              0.1111111111111111,
              "#46039f"
             ],
             [
              0.2222222222222222,
              "#7201a8"
             ],
             [
              0.3333333333333333,
              "#9c179e"
             ],
             [
              0.4444444444444444,
              "#bd3786"
             ],
             [
              0.5555555555555556,
              "#d8576b"
             ],
             [
              0.6666666666666666,
              "#ed7953"
             ],
             [
              0.7777777777777778,
              "#fb9f3a"
             ],
             [
              0.8888888888888888,
              "#fdca26"
             ],
             [
              1,
              "#f0f921"
             ]
            ],
            "type": "heatmap"
           }
          ],
          "heatmapgl": [
           {
            "colorbar": {
             "outlinewidth": 0,
             "ticks": ""
            },
            "colorscale": [
             [
              0,
              "#0d0887"
             ],
             [
              0.1111111111111111,
              "#46039f"
             ],
             [
              0.2222222222222222,
              "#7201a8"
             ],
             [
              0.3333333333333333,
              "#9c179e"
             ],
             [
              0.4444444444444444,
              "#bd3786"
             ],
             [
              0.5555555555555556,
              "#d8576b"
             ],
             [
              0.6666666666666666,
              "#ed7953"
             ],
             [
              0.7777777777777778,
              "#fb9f3a"
             ],
             [
              0.8888888888888888,
              "#fdca26"
             ],
             [
              1,
              "#f0f921"
             ]
            ],
            "type": "heatmapgl"
           }
          ],
          "histogram": [
           {
            "marker": {
             "colorbar": {
              "outlinewidth": 0,
              "ticks": ""
             }
            },
            "type": "histogram"
           }
          ],
          "histogram2d": [
           {
            "colorbar": {
             "outlinewidth": 0,
             "ticks": ""
            },
            "colorscale": [
             [
              0,
              "#0d0887"
             ],
             [
              0.1111111111111111,
              "#46039f"
             ],
             [
              0.2222222222222222,
              "#7201a8"
             ],
             [
              0.3333333333333333,
              "#9c179e"
             ],
             [
              0.4444444444444444,
              "#bd3786"
             ],
             [
              0.5555555555555556,
              "#d8576b"
             ],
             [
              0.6666666666666666,
              "#ed7953"
             ],
             [
              0.7777777777777778,
              "#fb9f3a"
             ],
             [
              0.8888888888888888,
              "#fdca26"
             ],
             [
              1,
              "#f0f921"
             ]
            ],
            "type": "histogram2d"
           }
          ],
          "histogram2dcontour": [
           {
            "colorbar": {
             "outlinewidth": 0,
             "ticks": ""
            },
            "colorscale": [
             [
              0,
              "#0d0887"
             ],
             [
              0.1111111111111111,
              "#46039f"
             ],
             [
              0.2222222222222222,
              "#7201a8"
             ],
             [
              0.3333333333333333,
              "#9c179e"
             ],
             [
              0.4444444444444444,
              "#bd3786"
             ],
             [
              0.5555555555555556,
              "#d8576b"
             ],
             [
              0.6666666666666666,
              "#ed7953"
             ],
             [
              0.7777777777777778,
              "#fb9f3a"
             ],
             [
              0.8888888888888888,
              "#fdca26"
             ],
             [
              1,
              "#f0f921"
             ]
            ],
            "type": "histogram2dcontour"
           }
          ],
          "mesh3d": [
           {
            "colorbar": {
             "outlinewidth": 0,
             "ticks": ""
            },
            "type": "mesh3d"
           }
          ],
          "parcoords": [
           {
            "line": {
             "colorbar": {
              "outlinewidth": 0,
              "ticks": ""
             }
            },
            "type": "parcoords"
           }
          ],
          "pie": [
           {
            "automargin": true,
            "type": "pie"
           }
          ],
          "scatter": [
           {
            "marker": {
             "colorbar": {
              "outlinewidth": 0,
              "ticks": ""
             }
            },
            "type": "scatter"
           }
          ],
          "scatter3d": [
           {
            "line": {
             "colorbar": {
              "outlinewidth": 0,
              "ticks": ""
             }
            },
            "marker": {
             "colorbar": {
              "outlinewidth": 0,
              "ticks": ""
             }
            },
            "type": "scatter3d"
           }
          ],
          "scattercarpet": [
           {
            "marker": {
             "colorbar": {
              "outlinewidth": 0,
              "ticks": ""
             }
            },
            "type": "scattercarpet"
           }
          ],
          "scattergeo": [
           {
            "marker": {
             "colorbar": {
              "outlinewidth": 0,
              "ticks": ""
             }
            },
            "type": "scattergeo"
           }
          ],
          "scattergl": [
           {
            "marker": {
             "colorbar": {
              "outlinewidth": 0,
              "ticks": ""
             }
            },
            "type": "scattergl"
           }
          ],
          "scattermapbox": [
           {
            "marker": {
             "colorbar": {
              "outlinewidth": 0,
              "ticks": ""
             }
            },
            "type": "scattermapbox"
           }
          ],
          "scatterpolar": [
           {
            "marker": {
             "colorbar": {
              "outlinewidth": 0,
              "ticks": ""
             }
            },
            "type": "scatterpolar"
           }
          ],
          "scatterpolargl": [
           {
            "marker": {
             "colorbar": {
              "outlinewidth": 0,
              "ticks": ""
             }
            },
            "type": "scatterpolargl"
           }
          ],
          "scatterternary": [
           {
            "marker": {
             "colorbar": {
              "outlinewidth": 0,
              "ticks": ""
             }
            },
            "type": "scatterternary"
           }
          ],
          "surface": [
           {
            "colorbar": {
             "outlinewidth": 0,
             "ticks": ""
            },
            "colorscale": [
             [
              0,
              "#0d0887"
             ],
             [
              0.1111111111111111,
              "#46039f"
             ],
             [
              0.2222222222222222,
              "#7201a8"
             ],
             [
              0.3333333333333333,
              "#9c179e"
             ],
             [
              0.4444444444444444,
              "#bd3786"
             ],
             [
              0.5555555555555556,
              "#d8576b"
             ],
             [
              0.6666666666666666,
              "#ed7953"
             ],
             [
              0.7777777777777778,
              "#fb9f3a"
             ],
             [
              0.8888888888888888,
              "#fdca26"
             ],
             [
              1,
              "#f0f921"
             ]
            ],
            "type": "surface"
           }
          ],
          "table": [
           {
            "cells": {
             "fill": {
              "color": "#EBF0F8"
             },
             "line": {
              "color": "white"
             }
            },
            "header": {
             "fill": {
              "color": "#C8D4E3"
             },
             "line": {
              "color": "white"
             }
            },
            "type": "table"
           }
          ]
         },
         "layout": {
          "annotationdefaults": {
           "arrowcolor": "#2a3f5f",
           "arrowhead": 0,
           "arrowwidth": 1
          },
          "autotypenumbers": "strict",
          "coloraxis": {
           "colorbar": {
            "outlinewidth": 0,
            "ticks": ""
           }
          },
          "colorscale": {
           "diverging": [
            [
             0,
             "#8e0152"
            ],
            [
             0.1,
             "#c51b7d"
            ],
            [
             0.2,
             "#de77ae"
            ],
            [
             0.3,
             "#f1b6da"
            ],
            [
             0.4,
             "#fde0ef"
            ],
            [
             0.5,
             "#f7f7f7"
            ],
            [
             0.6,
             "#e6f5d0"
            ],
            [
             0.7,
             "#b8e186"
            ],
            [
             0.8,
             "#7fbc41"
            ],
            [
             0.9,
             "#4d9221"
            ],
            [
             1,
             "#276419"
            ]
           ],
           "sequential": [
            [
             0,
             "#0d0887"
            ],
            [
             0.1111111111111111,
             "#46039f"
            ],
            [
             0.2222222222222222,
             "#7201a8"
            ],
            [
             0.3333333333333333,
             "#9c179e"
            ],
            [
             0.4444444444444444,
             "#bd3786"
            ],
            [
             0.5555555555555556,
             "#d8576b"
            ],
            [
             0.6666666666666666,
             "#ed7953"
            ],
            [
             0.7777777777777778,
             "#fb9f3a"
            ],
            [
             0.8888888888888888,
             "#fdca26"
            ],
            [
             1,
             "#f0f921"
            ]
           ],
           "sequentialminus": [
            [
             0,
             "#0d0887"
            ],
            [
             0.1111111111111111,
             "#46039f"
            ],
            [
             0.2222222222222222,
             "#7201a8"
            ],
            [
             0.3333333333333333,
             "#9c179e"
            ],
            [
             0.4444444444444444,
             "#bd3786"
            ],
            [
             0.5555555555555556,
             "#d8576b"
            ],
            [
             0.6666666666666666,
             "#ed7953"
            ],
            [
             0.7777777777777778,
             "#fb9f3a"
            ],
            [
             0.8888888888888888,
             "#fdca26"
            ],
            [
             1,
             "#f0f921"
            ]
           ]
          },
          "colorway": [
           "#636efa",
           "#EF553B",
           "#00cc96",
           "#ab63fa",
           "#FFA15A",
           "#19d3f3",
           "#FF6692",
           "#B6E880",
           "#FF97FF",
           "#FECB52"
          ],
          "font": {
           "color": "#2a3f5f"
          },
          "geo": {
           "bgcolor": "white",
           "lakecolor": "white",
           "landcolor": "#E5ECF6",
           "showlakes": true,
           "showland": true,
           "subunitcolor": "white"
          },
          "hoverlabel": {
           "align": "left"
          },
          "hovermode": "closest",
          "mapbox": {
           "style": "light"
          },
          "paper_bgcolor": "white",
          "plot_bgcolor": "#E5ECF6",
          "polar": {
           "angularaxis": {
            "gridcolor": "white",
            "linecolor": "white",
            "ticks": ""
           },
           "bgcolor": "#E5ECF6",
           "radialaxis": {
            "gridcolor": "white",
            "linecolor": "white",
            "ticks": ""
           }
          },
          "scene": {
           "xaxis": {
            "backgroundcolor": "#E5ECF6",
            "gridcolor": "white",
            "gridwidth": 2,
            "linecolor": "white",
            "showbackground": true,
            "ticks": "",
            "zerolinecolor": "white"
           },
           "yaxis": {
            "backgroundcolor": "#E5ECF6",
            "gridcolor": "white",
            "gridwidth": 2,
            "linecolor": "white",
            "showbackground": true,
            "ticks": "",
            "zerolinecolor": "white"
           },
           "zaxis": {
            "backgroundcolor": "#E5ECF6",
            "gridcolor": "white",
            "gridwidth": 2,
            "linecolor": "white",
            "showbackground": true,
            "ticks": "",
            "zerolinecolor": "white"
           }
          },
          "shapedefaults": {
           "line": {
            "color": "#2a3f5f"
           }
          },
          "ternary": {
           "aaxis": {
            "gridcolor": "white",
            "linecolor": "white",
            "ticks": ""
           },
           "baxis": {
            "gridcolor": "white",
            "linecolor": "white",
            "ticks": ""
           },
           "bgcolor": "#E5ECF6",
           "caxis": {
            "gridcolor": "white",
            "linecolor": "white",
            "ticks": ""
           }
          },
          "title": {
           "x": 0.05
          },
          "xaxis": {
           "automargin": true,
           "gridcolor": "white",
           "linecolor": "white",
           "ticks": "",
           "title": {
            "standoff": 15
           },
           "zerolinecolor": "white",
           "zerolinewidth": 2
          },
          "yaxis": {
           "automargin": true,
           "gridcolor": "white",
           "linecolor": "white",
           "ticks": "",
           "title": {
            "standoff": 15
           },
           "zerolinecolor": "white",
           "zerolinewidth": 2
          }
         }
        },
        "title": {
         "text": "Bar graph: No of cure cases statewise"
        },
        "xaxis": {
         "anchor": "y",
         "domain": [
          0,
          1
         ],
         "title": {
          "text": "Total_cure_result"
         }
        },
        "yaxis": {
         "anchor": "x",
         "domain": [
          0,
          1
         ],
         "title": {
          "text": "en1"
         }
        }
       }
      },
      "text/html": [
       "<div>                            <div id=\"47ddbdbf-dc01-4220-a79c-884519d27a39\" class=\"plotly-graph-div\" style=\"height:525px; width:100%;\"></div>            <script type=\"text/javascript\">                require([\"plotly\"], function(Plotly) {                    window.PLOTLYENV=window.PLOTLYENV || {};                                    if (document.getElementById(\"47ddbdbf-dc01-4220-a79c-884519d27a39\")) {                    Plotly.newPlot(                        \"47ddbdbf-dc01-4220-a79c-884519d27a39\",                        [{\"alignmentgroup\": \"True\", \"hovertemplate\": \"Total_cure_result=%{x}<br>en1=%{y}<extra></extra>\", \"legendgroup\": \"\", \"marker\": {\"color\": \"#636efa\"}, \"name\": \"\", \"offsetgroup\": \"\", \"orientation\": \"h\", \"showlegend\": false, \"textposition\": \"auto\", \"type\": \"bar\", \"x\": [1836999, 898919, 872897, 800429, 707244, 611243, 565731, 534737, 326209, 297819, 280565, 268988, 257261, 248210, 233760, 231533, 212129, 158482, 116792, 112893, 84461, 52876, 49653, 37233, 32786, 26782, 19280, 16583, 13186, 11533, 9162, 5190, 4846, 4109, 3323], \"xaxis\": \"x\", \"y\": [\"Maharashtra\", \"Karnataka\", \"Andhra Pradesh\", \"Tamil Nadu\", \"Kerala\", \"Delhi\", \"Uttar Pradesh\", \"West Bengal\", \"Odisha\", \"Rajasthan\", \"Telangana\", \"Chhattisgarh\", \"Haryana\", \"Bihar\", \"Gujarat\", \"Madhya Pradesh\", \"Assam\", \"Punjab\", \"Jammu and Kashmir\", \"Jharkhand\", \"Uttarakhand\", \"Himachal Pradesh\", \"Goa\", \"Puducherry\", \"Tripura\", \"Manipur\", \"Chandigarh\", \"Arunachal Pradesh\", \"Meghalaya\", \"Nagaland\", \"Ladakh\", \"Sikkim\", \"Andaman and Nicobar Islands\", \"Mizoram\", \"Dadra and Nagar Haveli and Daman and Diu\"], \"yaxis\": \"y\"}],                        {\"barmode\": \"relative\", \"font\": {\"color\": \"#7FDBFF\"}, \"legend\": {\"tracegroupgap\": 0}, \"margin\": {\"t\": 60}, \"paper_bgcolor\": \"#111111\", \"plot_bgcolor\": \"#111111\", \"template\": {\"data\": {\"bar\": [{\"error_x\": {\"color\": \"#2a3f5f\"}, \"error_y\": {\"color\": \"#2a3f5f\"}, \"marker\": {\"line\": {\"color\": \"#E5ECF6\", \"width\": 0.5}}, \"type\": \"bar\"}], \"barpolar\": [{\"marker\": {\"line\": {\"color\": \"#E5ECF6\", \"width\": 0.5}}, \"type\": \"barpolar\"}], \"carpet\": [{\"aaxis\": {\"endlinecolor\": \"#2a3f5f\", \"gridcolor\": \"white\", \"linecolor\": \"white\", \"minorgridcolor\": \"white\", \"startlinecolor\": \"#2a3f5f\"}, \"baxis\": {\"endlinecolor\": \"#2a3f5f\", \"gridcolor\": \"white\", \"linecolor\": \"white\", \"minorgridcolor\": \"white\", \"startlinecolor\": \"#2a3f5f\"}, \"type\": \"carpet\"}], \"choropleth\": [{\"colorbar\": {\"outlinewidth\": 0, \"ticks\": \"\"}, \"type\": \"choropleth\"}], \"contour\": [{\"colorbar\": {\"outlinewidth\": 0, \"ticks\": \"\"}, \"colorscale\": [[0.0, \"#0d0887\"], [0.1111111111111111, \"#46039f\"], [0.2222222222222222, \"#7201a8\"], [0.3333333333333333, \"#9c179e\"], [0.4444444444444444, \"#bd3786\"], [0.5555555555555556, \"#d8576b\"], [0.6666666666666666, \"#ed7953\"], [0.7777777777777778, \"#fb9f3a\"], [0.8888888888888888, \"#fdca26\"], [1.0, \"#f0f921\"]], \"type\": \"contour\"}], \"contourcarpet\": [{\"colorbar\": {\"outlinewidth\": 0, \"ticks\": \"\"}, \"type\": \"contourcarpet\"}], \"heatmap\": [{\"colorbar\": {\"outlinewidth\": 0, \"ticks\": \"\"}, \"colorscale\": [[0.0, \"#0d0887\"], [0.1111111111111111, \"#46039f\"], [0.2222222222222222, \"#7201a8\"], [0.3333333333333333, \"#9c179e\"], [0.4444444444444444, \"#bd3786\"], [0.5555555555555556, \"#d8576b\"], [0.6666666666666666, \"#ed7953\"], [0.7777777777777778, \"#fb9f3a\"], [0.8888888888888888, \"#fdca26\"], [1.0, \"#f0f921\"]], \"type\": \"heatmap\"}], \"heatmapgl\": [{\"colorbar\": {\"outlinewidth\": 0, \"ticks\": \"\"}, \"colorscale\": [[0.0, \"#0d0887\"], [0.1111111111111111, \"#46039f\"], [0.2222222222222222, \"#7201a8\"], [0.3333333333333333, \"#9c179e\"], [0.4444444444444444, \"#bd3786\"], [0.5555555555555556, \"#d8576b\"], [0.6666666666666666, \"#ed7953\"], [0.7777777777777778, \"#fb9f3a\"], [0.8888888888888888, \"#fdca26\"], [1.0, \"#f0f921\"]], \"type\": \"heatmapgl\"}], \"histogram\": [{\"marker\": {\"colorbar\": {\"outlinewidth\": 0, \"ticks\": \"\"}}, \"type\": \"histogram\"}], \"histogram2d\": [{\"colorbar\": {\"outlinewidth\": 0, \"ticks\": \"\"}, \"colorscale\": [[0.0, \"#0d0887\"], [0.1111111111111111, \"#46039f\"], [0.2222222222222222, \"#7201a8\"], [0.3333333333333333, \"#9c179e\"], [0.4444444444444444, \"#bd3786\"], [0.5555555555555556, \"#d8576b\"], [0.6666666666666666, \"#ed7953\"], [0.7777777777777778, \"#fb9f3a\"], [0.8888888888888888, \"#fdca26\"], [1.0, \"#f0f921\"]], \"type\": \"histogram2d\"}], \"histogram2dcontour\": [{\"colorbar\": {\"outlinewidth\": 0, \"ticks\": \"\"}, \"colorscale\": [[0.0, \"#0d0887\"], [0.1111111111111111, \"#46039f\"], [0.2222222222222222, \"#7201a8\"], [0.3333333333333333, \"#9c179e\"], [0.4444444444444444, \"#bd3786\"], [0.5555555555555556, \"#d8576b\"], [0.6666666666666666, \"#ed7953\"], [0.7777777777777778, \"#fb9f3a\"], [0.8888888888888888, \"#fdca26\"], [1.0, \"#f0f921\"]], \"type\": \"histogram2dcontour\"}], \"mesh3d\": [{\"colorbar\": {\"outlinewidth\": 0, \"ticks\": \"\"}, \"type\": \"mesh3d\"}], \"parcoords\": [{\"line\": {\"colorbar\": {\"outlinewidth\": 0, \"ticks\": \"\"}}, \"type\": \"parcoords\"}], \"pie\": [{\"automargin\": true, \"type\": \"pie\"}], \"scatter\": [{\"marker\": {\"colorbar\": {\"outlinewidth\": 0, \"ticks\": \"\"}}, \"type\": \"scatter\"}], \"scatter3d\": [{\"line\": {\"colorbar\": {\"outlinewidth\": 0, \"ticks\": \"\"}}, \"marker\": {\"colorbar\": {\"outlinewidth\": 0, \"ticks\": \"\"}}, \"type\": \"scatter3d\"}], \"scattercarpet\": [{\"marker\": {\"colorbar\": {\"outlinewidth\": 0, \"ticks\": \"\"}}, \"type\": \"scattercarpet\"}], \"scattergeo\": [{\"marker\": {\"colorbar\": {\"outlinewidth\": 0, \"ticks\": \"\"}}, \"type\": \"scattergeo\"}], \"scattergl\": [{\"marker\": {\"colorbar\": {\"outlinewidth\": 0, \"ticks\": \"\"}}, \"type\": \"scattergl\"}], \"scattermapbox\": [{\"marker\": {\"colorbar\": {\"outlinewidth\": 0, \"ticks\": \"\"}}, \"type\": \"scattermapbox\"}], \"scatterpolar\": [{\"marker\": {\"colorbar\": {\"outlinewidth\": 0, \"ticks\": \"\"}}, \"type\": \"scatterpolar\"}], \"scatterpolargl\": [{\"marker\": {\"colorbar\": {\"outlinewidth\": 0, \"ticks\": \"\"}}, \"type\": \"scatterpolargl\"}], \"scatterternary\": [{\"marker\": {\"colorbar\": {\"outlinewidth\": 0, \"ticks\": \"\"}}, \"type\": \"scatterternary\"}], \"surface\": [{\"colorbar\": {\"outlinewidth\": 0, \"ticks\": \"\"}, \"colorscale\": [[0.0, \"#0d0887\"], [0.1111111111111111, \"#46039f\"], [0.2222222222222222, \"#7201a8\"], [0.3333333333333333, \"#9c179e\"], [0.4444444444444444, \"#bd3786\"], [0.5555555555555556, \"#d8576b\"], [0.6666666666666666, \"#ed7953\"], [0.7777777777777778, \"#fb9f3a\"], [0.8888888888888888, \"#fdca26\"], [1.0, \"#f0f921\"]], \"type\": \"surface\"}], \"table\": [{\"cells\": {\"fill\": {\"color\": \"#EBF0F8\"}, \"line\": {\"color\": \"white\"}}, \"header\": {\"fill\": {\"color\": \"#C8D4E3\"}, \"line\": {\"color\": \"white\"}}, \"type\": \"table\"}]}, \"layout\": {\"annotationdefaults\": {\"arrowcolor\": \"#2a3f5f\", \"arrowhead\": 0, \"arrowwidth\": 1}, \"autotypenumbers\": \"strict\", \"coloraxis\": {\"colorbar\": {\"outlinewidth\": 0, \"ticks\": \"\"}}, \"colorscale\": {\"diverging\": [[0, \"#8e0152\"], [0.1, \"#c51b7d\"], [0.2, \"#de77ae\"], [0.3, \"#f1b6da\"], [0.4, \"#fde0ef\"], [0.5, \"#f7f7f7\"], [0.6, \"#e6f5d0\"], [0.7, \"#b8e186\"], [0.8, \"#7fbc41\"], [0.9, \"#4d9221\"], [1, \"#276419\"]], \"sequential\": [[0.0, \"#0d0887\"], [0.1111111111111111, \"#46039f\"], [0.2222222222222222, \"#7201a8\"], [0.3333333333333333, \"#9c179e\"], [0.4444444444444444, \"#bd3786\"], [0.5555555555555556, \"#d8576b\"], [0.6666666666666666, \"#ed7953\"], [0.7777777777777778, \"#fb9f3a\"], [0.8888888888888888, \"#fdca26\"], [1.0, \"#f0f921\"]], \"sequentialminus\": [[0.0, \"#0d0887\"], [0.1111111111111111, \"#46039f\"], [0.2222222222222222, \"#7201a8\"], [0.3333333333333333, \"#9c179e\"], [0.4444444444444444, \"#bd3786\"], [0.5555555555555556, \"#d8576b\"], [0.6666666666666666, \"#ed7953\"], [0.7777777777777778, \"#fb9f3a\"], [0.8888888888888888, \"#fdca26\"], [1.0, \"#f0f921\"]]}, \"colorway\": [\"#636efa\", \"#EF553B\", \"#00cc96\", \"#ab63fa\", \"#FFA15A\", \"#19d3f3\", \"#FF6692\", \"#B6E880\", \"#FF97FF\", \"#FECB52\"], \"font\": {\"color\": \"#2a3f5f\"}, \"geo\": {\"bgcolor\": \"white\", \"lakecolor\": \"white\", \"landcolor\": \"#E5ECF6\", \"showlakes\": true, \"showland\": true, \"subunitcolor\": \"white\"}, \"hoverlabel\": {\"align\": \"left\"}, \"hovermode\": \"closest\", \"mapbox\": {\"style\": \"light\"}, \"paper_bgcolor\": \"white\", \"plot_bgcolor\": \"#E5ECF6\", \"polar\": {\"angularaxis\": {\"gridcolor\": \"white\", \"linecolor\": \"white\", \"ticks\": \"\"}, \"bgcolor\": \"#E5ECF6\", \"radialaxis\": {\"gridcolor\": \"white\", \"linecolor\": \"white\", \"ticks\": \"\"}}, \"scene\": {\"xaxis\": {\"backgroundcolor\": \"#E5ECF6\", \"gridcolor\": \"white\", \"gridwidth\": 2, \"linecolor\": \"white\", \"showbackground\": true, \"ticks\": \"\", \"zerolinecolor\": \"white\"}, \"yaxis\": {\"backgroundcolor\": \"#E5ECF6\", \"gridcolor\": \"white\", \"gridwidth\": 2, \"linecolor\": \"white\", \"showbackground\": true, \"ticks\": \"\", \"zerolinecolor\": \"white\"}, \"zaxis\": {\"backgroundcolor\": \"#E5ECF6\", \"gridcolor\": \"white\", \"gridwidth\": 2, \"linecolor\": \"white\", \"showbackground\": true, \"ticks\": \"\", \"zerolinecolor\": \"white\"}}, \"shapedefaults\": {\"line\": {\"color\": \"#2a3f5f\"}}, \"ternary\": {\"aaxis\": {\"gridcolor\": \"white\", \"linecolor\": \"white\", \"ticks\": \"\"}, \"baxis\": {\"gridcolor\": \"white\", \"linecolor\": \"white\", \"ticks\": \"\"}, \"bgcolor\": \"#E5ECF6\", \"caxis\": {\"gridcolor\": \"white\", \"linecolor\": \"white\", \"ticks\": \"\"}}, \"title\": {\"x\": 0.05}, \"xaxis\": {\"automargin\": true, \"gridcolor\": \"white\", \"linecolor\": \"white\", \"ticks\": \"\", \"title\": {\"standoff\": 15}, \"zerolinecolor\": \"white\", \"zerolinewidth\": 2}, \"yaxis\": {\"automargin\": true, \"gridcolor\": \"white\", \"linecolor\": \"white\", \"ticks\": \"\", \"title\": {\"standoff\": 15}, \"zerolinecolor\": \"white\", \"zerolinewidth\": 2}}}, \"title\": {\"text\": \"Bar graph: No of cure cases statewise\"}, \"xaxis\": {\"anchor\": \"y\", \"domain\": [0.0, 1.0], \"title\": {\"text\": \"Total_cure_result\"}}, \"yaxis\": {\"anchor\": \"x\", \"domain\": [0.0, 1.0], \"title\": {\"text\": \"en1\"}}},                        {\"responsive\": true}                    ).then(function(){\n",
       "                            \n",
       "var gd = document.getElementById('47ddbdbf-dc01-4220-a79c-884519d27a39');\n",
       "var x = new MutationObserver(function (mutations, observer) {{\n",
       "        var display = window.getComputedStyle(gd).display;\n",
       "        if (!display || display === 'none') {{\n",
       "            console.log([gd, 'removed!']);\n",
       "            Plotly.purge(gd);\n",
       "            observer.disconnect();\n",
       "        }}\n",
       "}});\n",
       "\n",
       "// Listen for the removal of the full notebook cells\n",
       "var notebookContainer = gd.closest('#notebook-container');\n",
       "if (notebookContainer) {{\n",
       "    x.observe(notebookContainer, {childList: true});\n",
       "}}\n",
       "\n",
       "// Listen for the clearing of the current output cell\n",
       "var outputEl = gd.closest('.output');\n",
       "if (outputEl) {{\n",
       "    x.observe(outputEl, {childList: true});\n",
       "}}\n",
       "\n",
       "                        })                };                });            </script>        </div>"
      ]
     },
     "metadata": {},
     "output_type": "display_data"
    }
   ],
   "source": [
    "cure_result=[]\n",
    "for i in in_states:\n",
    "    cure_result.append(int(d1[d1['state']==i]['recovered']))\n",
    "    \n",
    "#cure_result.sort()\n",
    "#cure_result,len(cure_result)\n",
    "\n",
    "mydf=pd.DataFrame({'en1':in_states,'Total_cure_result':cure_result})\n",
    "\n",
    "fig3= pe.bar(mydf, x='Total_cure_result', y='en1') #animation_frame='Frequency')\n",
    "fig3.update_layout(title_text='Bar graph: No of cure cases statewise',\n",
    "                   plot_bgcolor='#111111',\n",
    "                  paper_bgcolor='#111111',\n",
    "                  font_color='#7FDBFF')\n",
    "\n",
    "fig3.show()"
   ]
  },
  {
   "cell_type": "code",
   "execution_count": 219,
   "metadata": {},
   "outputs": [
    {
     "ename": "SyntaxError",
     "evalue": "invalid syntax (<ipython-input-219-4f6ec6b561dc>, line 2)",
     "output_type": "error",
     "traceback": [
      "\u001b[1;36m  File \u001b[1;32m\"<ipython-input-219-4f6ec6b561dc>\"\u001b[1;36m, line \u001b[1;32m2\u001b[0m\n\u001b[1;33m    trace1 =go.Bar(x=,y=pi1[\"sum\"],\u001b[0m\n\u001b[1;37m                     ^\u001b[0m\n\u001b[1;31mSyntaxError\u001b[0m\u001b[1;31m:\u001b[0m invalid syntax\n"
     ]
    }
   ],
   "source": [
    "season=d7[['id','season','winner']]\n",
    "trace1 =go.Bar(x=,y=pi1[\"sum\"],\n",
    "                name='Inning 1',opacity=0.4)\n",
    "trace2 = go.Bar(x=,y=pi2[\"sum\"],name='Inning 2',\n",
    "                marker=dict(color='white'),opacity=0.4)\n",
    "\n",
    "data = [trace1, trace2]\n",
    "\n",
    "layout = pg.Layout(title='Couple Bar plot: Average Powerplay runs in each innings',\n",
    "                   xaxis=dict(title='Year',tickmode='linear'),\n",
    "                   yaxis=dict(title='Run'),bargap=0.2,bargroupgap=0.1,\n",
    "                   plot_bgcolor='#003f5c',\n",
    "                   paper_bgcolor='#003f5c',\n",
    "                   font_color='#7FDBFF')\n",
    "\n",
    "fig13= pg.Figure(data=data, layout=layout)\n",
    "fig13.show()"
   ]
  },
  {
   "cell_type": "code",
   "execution_count": 220,
   "metadata": {
    "scrolled": false
   },
   "outputs": [
    {
     "data": {
      "application/vnd.plotly.v1+json": {
       "config": {
        "plotlyServerURL": "https://plot.ly"
       },
       "data": [
        {
         "name": "confirm_result",
         "type": "bar",
         "x": [
          "Maharashtra",
          "Karnataka",
          "Andhra Pradesh",
          "Tamil Nadu",
          "Kerala",
          "Delhi",
          "Uttar Pradesh",
          "West Bengal",
          "Odisha",
          "Rajasthan",
          "Telangana",
          "Chhattisgarh",
          "Haryana",
          "Bihar",
          "Gujarat",
          "Madhya Pradesh",
          "Assam",
          "Punjab",
          "Jammu and Kashmir",
          "Jharkhand",
          "Uttarakhand",
          "Himachal Pradesh",
          "Goa",
          "Puducherry",
          "Tripura",
          "Manipur",
          "Chandigarh",
          "Arunachal Pradesh",
          "Meghalaya",
          "Nagaland",
          "Ladakh",
          "Sikkim",
          "Andaman and Nicobar Islands",
          "Mizoram",
          "Dadra and Nagar Haveli and Daman and Diu"
         ],
         "y": [
          1942136,
          921938,
          883082,
          820712,
          775853,
          626872,
          587434,
          554975,
          330309,
          309319,
          287502,
          282368,
          263068,
          253934,
          247228,
          244026,
          216304,
          167219,
          121653,
          115529,
          91544,
          55686,
          51295,
          38224,
          33279,
          28243,
          19881,
          16732,
          13460,
          11929,
          9550,
          5920,
          4948,
          4211,
          3365
         ]
        },
        {
         "marker": {
          "color": "#FF0000"
         },
         "name": "death_result",
         "type": "bar",
         "x": [
          "Maharashtra",
          "Karnataka",
          "Andhra Pradesh",
          "Tamil Nadu",
          "Kerala",
          "Delhi",
          "Uttar Pradesh",
          "West Bengal",
          "Odisha",
          "Rajasthan",
          "Telangana",
          "Chhattisgarh",
          "Haryana",
          "Bihar",
          "Gujarat",
          "Madhya Pradesh",
          "Assam",
          "Punjab",
          "Jammu and Kashmir",
          "Jharkhand",
          "Uttarakhand",
          "Himachal Pradesh",
          "Goa",
          "Puducherry",
          "Tripura",
          "Manipur",
          "Chandigarh",
          "Arunachal Pradesh",
          "Meghalaya",
          "Nagaland",
          "Ladakh",
          "Sikkim",
          "Andaman and Nicobar Islands",
          "Mizoram",
          "Dadra and Nagar Haveli and Daman and Diu"
         ],
         "y": [
          49666,
          12107,
          7115,
          12156,
          3142,
          10585,
          8387,
          9792,
          1936,
          2705,
          1549,
          3400,
          2917,
          1405,
          4318,
          3641,
          1052,
          5376,
          1886,
          1035,
          1522,
          932,
          741,
          633,
          382,
          357,
          320,
          56,
          139,
          79,
          127,
          129,
          62,
          8,
          2
         ]
        },
        {
         "name": "cured_result",
         "type": "bar",
         "x": [
          "Maharashtra",
          "Karnataka",
          "Andhra Pradesh",
          "Tamil Nadu",
          "Kerala",
          "Delhi",
          "Uttar Pradesh",
          "West Bengal",
          "Odisha",
          "Rajasthan",
          "Telangana",
          "Chhattisgarh",
          "Haryana",
          "Bihar",
          "Gujarat",
          "Madhya Pradesh",
          "Assam",
          "Punjab",
          "Jammu and Kashmir",
          "Jharkhand",
          "Uttarakhand",
          "Himachal Pradesh",
          "Goa",
          "Puducherry",
          "Tripura",
          "Manipur",
          "Chandigarh",
          "Arunachal Pradesh",
          "Meghalaya",
          "Nagaland",
          "Ladakh",
          "Sikkim",
          "Andaman and Nicobar Islands",
          "Mizoram",
          "Dadra and Nagar Haveli and Daman and Diu"
         ],
         "y": [
          1836999,
          898919,
          872897,
          800429,
          707244,
          611243,
          565731,
          534737,
          326209,
          297819,
          280565,
          268988,
          257261,
          248210,
          233760,
          231533,
          212129,
          158482,
          116792,
          112893,
          84461,
          52876,
          49653,
          37233,
          32786,
          26782,
          19280,
          16583,
          13186,
          11533,
          9162,
          5190,
          4846,
          4109,
          3323
         ]
        },
        {
         "marker": {
          "color": "black"
         },
         "type": "bar"
        }
       ],
       "layout": {
        "barmode": "stack",
        "font": {
         "color": "#7FDBFF"
        },
        "paper_bgcolor": "#003f5c",
        "plot_bgcolor": "#003f5c",
        "template": {
         "data": {
          "bar": [
           {
            "error_x": {
             "color": "#2a3f5f"
            },
            "error_y": {
             "color": "#2a3f5f"
            },
            "marker": {
             "line": {
              "color": "#E5ECF6",
              "width": 0.5
             }
            },
            "type": "bar"
           }
          ],
          "barpolar": [
           {
            "marker": {
             "line": {
              "color": "#E5ECF6",
              "width": 0.5
             }
            },
            "type": "barpolar"
           }
          ],
          "carpet": [
           {
            "aaxis": {
             "endlinecolor": "#2a3f5f",
             "gridcolor": "white",
             "linecolor": "white",
             "minorgridcolor": "white",
             "startlinecolor": "#2a3f5f"
            },
            "baxis": {
             "endlinecolor": "#2a3f5f",
             "gridcolor": "white",
             "linecolor": "white",
             "minorgridcolor": "white",
             "startlinecolor": "#2a3f5f"
            },
            "type": "carpet"
           }
          ],
          "choropleth": [
           {
            "colorbar": {
             "outlinewidth": 0,
             "ticks": ""
            },
            "type": "choropleth"
           }
          ],
          "contour": [
           {
            "colorbar": {
             "outlinewidth": 0,
             "ticks": ""
            },
            "colorscale": [
             [
              0,
              "#0d0887"
             ],
             [
              0.1111111111111111,
              "#46039f"
             ],
             [
              0.2222222222222222,
              "#7201a8"
             ],
             [
              0.3333333333333333,
              "#9c179e"
             ],
             [
              0.4444444444444444,
              "#bd3786"
             ],
             [
              0.5555555555555556,
              "#d8576b"
             ],
             [
              0.6666666666666666,
              "#ed7953"
             ],
             [
              0.7777777777777778,
              "#fb9f3a"
             ],
             [
              0.8888888888888888,
              "#fdca26"
             ],
             [
              1,
              "#f0f921"
             ]
            ],
            "type": "contour"
           }
          ],
          "contourcarpet": [
           {
            "colorbar": {
             "outlinewidth": 0,
             "ticks": ""
            },
            "type": "contourcarpet"
           }
          ],
          "heatmap": [
           {
            "colorbar": {
             "outlinewidth": 0,
             "ticks": ""
            },
            "colorscale": [
             [
              0,
              "#0d0887"
             ],
             [
              0.1111111111111111,
              "#46039f"
             ],
             [
              0.2222222222222222,
              "#7201a8"
             ],
             [
              0.3333333333333333,
              "#9c179e"
             ],
             [
              0.4444444444444444,
              "#bd3786"
             ],
             [
              0.5555555555555556,
              "#d8576b"
             ],
             [
              0.6666666666666666,
              "#ed7953"
             ],
             [
              0.7777777777777778,
              "#fb9f3a"
             ],
             [
              0.8888888888888888,
              "#fdca26"
             ],
             [
              1,
              "#f0f921"
             ]
            ],
            "type": "heatmap"
           }
          ],
          "heatmapgl": [
           {
            "colorbar": {
             "outlinewidth": 0,
             "ticks": ""
            },
            "colorscale": [
             [
              0,
              "#0d0887"
             ],
             [
              0.1111111111111111,
              "#46039f"
             ],
             [
              0.2222222222222222,
              "#7201a8"
             ],
             [
              0.3333333333333333,
              "#9c179e"
             ],
             [
              0.4444444444444444,
              "#bd3786"
             ],
             [
              0.5555555555555556,
              "#d8576b"
             ],
             [
              0.6666666666666666,
              "#ed7953"
             ],
             [
              0.7777777777777778,
              "#fb9f3a"
             ],
             [
              0.8888888888888888,
              "#fdca26"
             ],
             [
              1,
              "#f0f921"
             ]
            ],
            "type": "heatmapgl"
           }
          ],
          "histogram": [
           {
            "marker": {
             "colorbar": {
              "outlinewidth": 0,
              "ticks": ""
             }
            },
            "type": "histogram"
           }
          ],
          "histogram2d": [
           {
            "colorbar": {
             "outlinewidth": 0,
             "ticks": ""
            },
            "colorscale": [
             [
              0,
              "#0d0887"
             ],
             [
              0.1111111111111111,
              "#46039f"
             ],
             [
              0.2222222222222222,
              "#7201a8"
             ],
             [
              0.3333333333333333,
              "#9c179e"
             ],
             [
              0.4444444444444444,
              "#bd3786"
             ],
             [
              0.5555555555555556,
              "#d8576b"
             ],
             [
              0.6666666666666666,
              "#ed7953"
             ],
             [
              0.7777777777777778,
              "#fb9f3a"
             ],
             [
              0.8888888888888888,
              "#fdca26"
             ],
             [
              1,
              "#f0f921"
             ]
            ],
            "type": "histogram2d"
           }
          ],
          "histogram2dcontour": [
           {
            "colorbar": {
             "outlinewidth": 0,
             "ticks": ""
            },
            "colorscale": [
             [
              0,
              "#0d0887"
             ],
             [
              0.1111111111111111,
              "#46039f"
             ],
             [
              0.2222222222222222,
              "#7201a8"
             ],
             [
              0.3333333333333333,
              "#9c179e"
             ],
             [
              0.4444444444444444,
              "#bd3786"
             ],
             [
              0.5555555555555556,
              "#d8576b"
             ],
             [
              0.6666666666666666,
              "#ed7953"
             ],
             [
              0.7777777777777778,
              "#fb9f3a"
             ],
             [
              0.8888888888888888,
              "#fdca26"
             ],
             [
              1,
              "#f0f921"
             ]
            ],
            "type": "histogram2dcontour"
           }
          ],
          "mesh3d": [
           {
            "colorbar": {
             "outlinewidth": 0,
             "ticks": ""
            },
            "type": "mesh3d"
           }
          ],
          "parcoords": [
           {
            "line": {
             "colorbar": {
              "outlinewidth": 0,
              "ticks": ""
             }
            },
            "type": "parcoords"
           }
          ],
          "pie": [
           {
            "automargin": true,
            "type": "pie"
           }
          ],
          "scatter": [
           {
            "marker": {
             "colorbar": {
              "outlinewidth": 0,
              "ticks": ""
             }
            },
            "type": "scatter"
           }
          ],
          "scatter3d": [
           {
            "line": {
             "colorbar": {
              "outlinewidth": 0,
              "ticks": ""
             }
            },
            "marker": {
             "colorbar": {
              "outlinewidth": 0,
              "ticks": ""
             }
            },
            "type": "scatter3d"
           }
          ],
          "scattercarpet": [
           {
            "marker": {
             "colorbar": {
              "outlinewidth": 0,
              "ticks": ""
             }
            },
            "type": "scattercarpet"
           }
          ],
          "scattergeo": [
           {
            "marker": {
             "colorbar": {
              "outlinewidth": 0,
              "ticks": ""
             }
            },
            "type": "scattergeo"
           }
          ],
          "scattergl": [
           {
            "marker": {
             "colorbar": {
              "outlinewidth": 0,
              "ticks": ""
             }
            },
            "type": "scattergl"
           }
          ],
          "scattermapbox": [
           {
            "marker": {
             "colorbar": {
              "outlinewidth": 0,
              "ticks": ""
             }
            },
            "type": "scattermapbox"
           }
          ],
          "scatterpolar": [
           {
            "marker": {
             "colorbar": {
              "outlinewidth": 0,
              "ticks": ""
             }
            },
            "type": "scatterpolar"
           }
          ],
          "scatterpolargl": [
           {
            "marker": {
             "colorbar": {
              "outlinewidth": 0,
              "ticks": ""
             }
            },
            "type": "scatterpolargl"
           }
          ],
          "scatterternary": [
           {
            "marker": {
             "colorbar": {
              "outlinewidth": 0,
              "ticks": ""
             }
            },
            "type": "scatterternary"
           }
          ],
          "surface": [
           {
            "colorbar": {
             "outlinewidth": 0,
             "ticks": ""
            },
            "colorscale": [
             [
              0,
              "#0d0887"
             ],
             [
              0.1111111111111111,
              "#46039f"
             ],
             [
              0.2222222222222222,
              "#7201a8"
             ],
             [
              0.3333333333333333,
              "#9c179e"
             ],
             [
              0.4444444444444444,
              "#bd3786"
             ],
             [
              0.5555555555555556,
              "#d8576b"
             ],
             [
              0.6666666666666666,
              "#ed7953"
             ],
             [
              0.7777777777777778,
              "#fb9f3a"
             ],
             [
              0.8888888888888888,
              "#fdca26"
             ],
             [
              1,
              "#f0f921"
             ]
            ],
            "type": "surface"
           }
          ],
          "table": [
           {
            "cells": {
             "fill": {
              "color": "#EBF0F8"
             },
             "line": {
              "color": "white"
             }
            },
            "header": {
             "fill": {
              "color": "#C8D4E3"
             },
             "line": {
              "color": "white"
             }
            },
            "type": "table"
           }
          ]
         },
         "layout": {
          "annotationdefaults": {
           "arrowcolor": "#2a3f5f",
           "arrowhead": 0,
           "arrowwidth": 1
          },
          "autotypenumbers": "strict",
          "coloraxis": {
           "colorbar": {
            "outlinewidth": 0,
            "ticks": ""
           }
          },
          "colorscale": {
           "diverging": [
            [
             0,
             "#8e0152"
            ],
            [
             0.1,
             "#c51b7d"
            ],
            [
             0.2,
             "#de77ae"
            ],
            [
             0.3,
             "#f1b6da"
            ],
            [
             0.4,
             "#fde0ef"
            ],
            [
             0.5,
             "#f7f7f7"
            ],
            [
             0.6,
             "#e6f5d0"
            ],
            [
             0.7,
             "#b8e186"
            ],
            [
             0.8,
             "#7fbc41"
            ],
            [
             0.9,
             "#4d9221"
            ],
            [
             1,
             "#276419"
            ]
           ],
           "sequential": [
            [
             0,
             "#0d0887"
            ],
            [
             0.1111111111111111,
             "#46039f"
            ],
            [
             0.2222222222222222,
             "#7201a8"
            ],
            [
             0.3333333333333333,
             "#9c179e"
            ],
            [
             0.4444444444444444,
             "#bd3786"
            ],
            [
             0.5555555555555556,
             "#d8576b"
            ],
            [
             0.6666666666666666,
             "#ed7953"
            ],
            [
             0.7777777777777778,
             "#fb9f3a"
            ],
            [
             0.8888888888888888,
             "#fdca26"
            ],
            [
             1,
             "#f0f921"
            ]
           ],
           "sequentialminus": [
            [
             0,
             "#0d0887"
            ],
            [
             0.1111111111111111,
             "#46039f"
            ],
            [
             0.2222222222222222,
             "#7201a8"
            ],
            [
             0.3333333333333333,
             "#9c179e"
            ],
            [
             0.4444444444444444,
             "#bd3786"
            ],
            [
             0.5555555555555556,
             "#d8576b"
            ],
            [
             0.6666666666666666,
             "#ed7953"
            ],
            [
             0.7777777777777778,
             "#fb9f3a"
            ],
            [
             0.8888888888888888,
             "#fdca26"
            ],
            [
             1,
             "#f0f921"
            ]
           ]
          },
          "colorway": [
           "#636efa",
           "#EF553B",
           "#00cc96",
           "#ab63fa",
           "#FFA15A",
           "#19d3f3",
           "#FF6692",
           "#B6E880",
           "#FF97FF",
           "#FECB52"
          ],
          "font": {
           "color": "#2a3f5f"
          },
          "geo": {
           "bgcolor": "white",
           "lakecolor": "white",
           "landcolor": "#E5ECF6",
           "showlakes": true,
           "showland": true,
           "subunitcolor": "white"
          },
          "hoverlabel": {
           "align": "left"
          },
          "hovermode": "closest",
          "mapbox": {
           "style": "light"
          },
          "paper_bgcolor": "white",
          "plot_bgcolor": "#E5ECF6",
          "polar": {
           "angularaxis": {
            "gridcolor": "white",
            "linecolor": "white",
            "ticks": ""
           },
           "bgcolor": "#E5ECF6",
           "radialaxis": {
            "gridcolor": "white",
            "linecolor": "white",
            "ticks": ""
           }
          },
          "scene": {
           "xaxis": {
            "backgroundcolor": "#E5ECF6",
            "gridcolor": "white",
            "gridwidth": 2,
            "linecolor": "white",
            "showbackground": true,
            "ticks": "",
            "zerolinecolor": "white"
           },
           "yaxis": {
            "backgroundcolor": "#E5ECF6",
            "gridcolor": "white",
            "gridwidth": 2,
            "linecolor": "white",
            "showbackground": true,
            "ticks": "",
            "zerolinecolor": "white"
           },
           "zaxis": {
            "backgroundcolor": "#E5ECF6",
            "gridcolor": "white",
            "gridwidth": 2,
            "linecolor": "white",
            "showbackground": true,
            "ticks": "",
            "zerolinecolor": "white"
           }
          },
          "shapedefaults": {
           "line": {
            "color": "#2a3f5f"
           }
          },
          "ternary": {
           "aaxis": {
            "gridcolor": "white",
            "linecolor": "white",
            "ticks": ""
           },
           "baxis": {
            "gridcolor": "white",
            "linecolor": "white",
            "ticks": ""
           },
           "bgcolor": "#E5ECF6",
           "caxis": {
            "gridcolor": "white",
            "linecolor": "white",
            "ticks": ""
           }
          },
          "title": {
           "x": 0.05
          },
          "xaxis": {
           "automargin": true,
           "gridcolor": "white",
           "linecolor": "white",
           "ticks": "",
           "title": {
            "standoff": 15
           },
           "zerolinecolor": "white",
           "zerolinewidth": 2
          },
          "yaxis": {
           "automargin": true,
           "gridcolor": "white",
           "linecolor": "white",
           "ticks": "",
           "title": {
            "standoff": 15
           },
           "zerolinecolor": "white",
           "zerolinewidth": 2
          }
         }
        },
        "title": {
         "text": "Bar graph: Cured v/s Death v/s Confirmed cases"
        }
       }
      },
      "text/html": [
       "<div>                            <div id=\"73dcc9c8-850b-43f0-ae8d-0d4285fcefc2\" class=\"plotly-graph-div\" style=\"height:525px; width:100%;\"></div>            <script type=\"text/javascript\">                require([\"plotly\"], function(Plotly) {                    window.PLOTLYENV=window.PLOTLYENV || {};                                    if (document.getElementById(\"73dcc9c8-850b-43f0-ae8d-0d4285fcefc2\")) {                    Plotly.newPlot(                        \"73dcc9c8-850b-43f0-ae8d-0d4285fcefc2\",                        [{\"name\": \"confirm_result\", \"type\": \"bar\", \"x\": [\"Maharashtra\", \"Karnataka\", \"Andhra Pradesh\", \"Tamil Nadu\", \"Kerala\", \"Delhi\", \"Uttar Pradesh\", \"West Bengal\", \"Odisha\", \"Rajasthan\", \"Telangana\", \"Chhattisgarh\", \"Haryana\", \"Bihar\", \"Gujarat\", \"Madhya Pradesh\", \"Assam\", \"Punjab\", \"Jammu and Kashmir\", \"Jharkhand\", \"Uttarakhand\", \"Himachal Pradesh\", \"Goa\", \"Puducherry\", \"Tripura\", \"Manipur\", \"Chandigarh\", \"Arunachal Pradesh\", \"Meghalaya\", \"Nagaland\", \"Ladakh\", \"Sikkim\", \"Andaman and Nicobar Islands\", \"Mizoram\", \"Dadra and Nagar Haveli and Daman and Diu\"], \"y\": [1942136, 921938, 883082, 820712, 775853, 626872, 587434, 554975, 330309, 309319, 287502, 282368, 263068, 253934, 247228, 244026, 216304, 167219, 121653, 115529, 91544, 55686, 51295, 38224, 33279, 28243, 19881, 16732, 13460, 11929, 9550, 5920, 4948, 4211, 3365]}, {\"marker\": {\"color\": \"#FF0000\"}, \"name\": \"death_result\", \"type\": \"bar\", \"x\": [\"Maharashtra\", \"Karnataka\", \"Andhra Pradesh\", \"Tamil Nadu\", \"Kerala\", \"Delhi\", \"Uttar Pradesh\", \"West Bengal\", \"Odisha\", \"Rajasthan\", \"Telangana\", \"Chhattisgarh\", \"Haryana\", \"Bihar\", \"Gujarat\", \"Madhya Pradesh\", \"Assam\", \"Punjab\", \"Jammu and Kashmir\", \"Jharkhand\", \"Uttarakhand\", \"Himachal Pradesh\", \"Goa\", \"Puducherry\", \"Tripura\", \"Manipur\", \"Chandigarh\", \"Arunachal Pradesh\", \"Meghalaya\", \"Nagaland\", \"Ladakh\", \"Sikkim\", \"Andaman and Nicobar Islands\", \"Mizoram\", \"Dadra and Nagar Haveli and Daman and Diu\"], \"y\": [49666, 12107, 7115, 12156, 3142, 10585, 8387, 9792, 1936, 2705, 1549, 3400, 2917, 1405, 4318, 3641, 1052, 5376, 1886, 1035, 1522, 932, 741, 633, 382, 357, 320, 56, 139, 79, 127, 129, 62, 8, 2]}, {\"name\": \"cured_result\", \"type\": \"bar\", \"x\": [\"Maharashtra\", \"Karnataka\", \"Andhra Pradesh\", \"Tamil Nadu\", \"Kerala\", \"Delhi\", \"Uttar Pradesh\", \"West Bengal\", \"Odisha\", \"Rajasthan\", \"Telangana\", \"Chhattisgarh\", \"Haryana\", \"Bihar\", \"Gujarat\", \"Madhya Pradesh\", \"Assam\", \"Punjab\", \"Jammu and Kashmir\", \"Jharkhand\", \"Uttarakhand\", \"Himachal Pradesh\", \"Goa\", \"Puducherry\", \"Tripura\", \"Manipur\", \"Chandigarh\", \"Arunachal Pradesh\", \"Meghalaya\", \"Nagaland\", \"Ladakh\", \"Sikkim\", \"Andaman and Nicobar Islands\", \"Mizoram\", \"Dadra and Nagar Haveli and Daman and Diu\"], \"y\": [1836999, 898919, 872897, 800429, 707244, 611243, 565731, 534737, 326209, 297819, 280565, 268988, 257261, 248210, 233760, 231533, 212129, 158482, 116792, 112893, 84461, 52876, 49653, 37233, 32786, 26782, 19280, 16583, 13186, 11533, 9162, 5190, 4846, 4109, 3323]}, {\"marker\": {\"color\": \"black\"}, \"type\": \"bar\"}],                        {\"barmode\": \"stack\", \"font\": {\"color\": \"#7FDBFF\"}, \"paper_bgcolor\": \"#003f5c\", \"plot_bgcolor\": \"#003f5c\", \"template\": {\"data\": {\"bar\": [{\"error_x\": {\"color\": \"#2a3f5f\"}, \"error_y\": {\"color\": \"#2a3f5f\"}, \"marker\": {\"line\": {\"color\": \"#E5ECF6\", \"width\": 0.5}}, \"type\": \"bar\"}], \"barpolar\": [{\"marker\": {\"line\": {\"color\": \"#E5ECF6\", \"width\": 0.5}}, \"type\": \"barpolar\"}], \"carpet\": [{\"aaxis\": {\"endlinecolor\": \"#2a3f5f\", \"gridcolor\": \"white\", \"linecolor\": \"white\", \"minorgridcolor\": \"white\", \"startlinecolor\": \"#2a3f5f\"}, \"baxis\": {\"endlinecolor\": \"#2a3f5f\", \"gridcolor\": \"white\", \"linecolor\": \"white\", \"minorgridcolor\": \"white\", \"startlinecolor\": \"#2a3f5f\"}, \"type\": \"carpet\"}], \"choropleth\": [{\"colorbar\": {\"outlinewidth\": 0, \"ticks\": \"\"}, \"type\": \"choropleth\"}], \"contour\": [{\"colorbar\": {\"outlinewidth\": 0, \"ticks\": \"\"}, \"colorscale\": [[0.0, \"#0d0887\"], [0.1111111111111111, \"#46039f\"], [0.2222222222222222, \"#7201a8\"], [0.3333333333333333, \"#9c179e\"], [0.4444444444444444, \"#bd3786\"], [0.5555555555555556, \"#d8576b\"], [0.6666666666666666, \"#ed7953\"], [0.7777777777777778, \"#fb9f3a\"], [0.8888888888888888, \"#fdca26\"], [1.0, \"#f0f921\"]], \"type\": \"contour\"}], \"contourcarpet\": [{\"colorbar\": {\"outlinewidth\": 0, \"ticks\": \"\"}, \"type\": \"contourcarpet\"}], \"heatmap\": [{\"colorbar\": {\"outlinewidth\": 0, \"ticks\": \"\"}, \"colorscale\": [[0.0, \"#0d0887\"], [0.1111111111111111, \"#46039f\"], [0.2222222222222222, \"#7201a8\"], [0.3333333333333333, \"#9c179e\"], [0.4444444444444444, \"#bd3786\"], [0.5555555555555556, \"#d8576b\"], [0.6666666666666666, \"#ed7953\"], [0.7777777777777778, \"#fb9f3a\"], [0.8888888888888888, \"#fdca26\"], [1.0, \"#f0f921\"]], \"type\": \"heatmap\"}], \"heatmapgl\": [{\"colorbar\": {\"outlinewidth\": 0, \"ticks\": \"\"}, \"colorscale\": [[0.0, \"#0d0887\"], [0.1111111111111111, \"#46039f\"], [0.2222222222222222, \"#7201a8\"], [0.3333333333333333, \"#9c179e\"], [0.4444444444444444, \"#bd3786\"], [0.5555555555555556, \"#d8576b\"], [0.6666666666666666, \"#ed7953\"], [0.7777777777777778, \"#fb9f3a\"], [0.8888888888888888, \"#fdca26\"], [1.0, \"#f0f921\"]], \"type\": \"heatmapgl\"}], \"histogram\": [{\"marker\": {\"colorbar\": {\"outlinewidth\": 0, \"ticks\": \"\"}}, \"type\": \"histogram\"}], \"histogram2d\": [{\"colorbar\": {\"outlinewidth\": 0, \"ticks\": \"\"}, \"colorscale\": [[0.0, \"#0d0887\"], [0.1111111111111111, \"#46039f\"], [0.2222222222222222, \"#7201a8\"], [0.3333333333333333, \"#9c179e\"], [0.4444444444444444, \"#bd3786\"], [0.5555555555555556, \"#d8576b\"], [0.6666666666666666, \"#ed7953\"], [0.7777777777777778, \"#fb9f3a\"], [0.8888888888888888, \"#fdca26\"], [1.0, \"#f0f921\"]], \"type\": \"histogram2d\"}], \"histogram2dcontour\": [{\"colorbar\": {\"outlinewidth\": 0, \"ticks\": \"\"}, \"colorscale\": [[0.0, \"#0d0887\"], [0.1111111111111111, \"#46039f\"], [0.2222222222222222, \"#7201a8\"], [0.3333333333333333, \"#9c179e\"], [0.4444444444444444, \"#bd3786\"], [0.5555555555555556, \"#d8576b\"], [0.6666666666666666, \"#ed7953\"], [0.7777777777777778, \"#fb9f3a\"], [0.8888888888888888, \"#fdca26\"], [1.0, \"#f0f921\"]], \"type\": \"histogram2dcontour\"}], \"mesh3d\": [{\"colorbar\": {\"outlinewidth\": 0, \"ticks\": \"\"}, \"type\": \"mesh3d\"}], \"parcoords\": [{\"line\": {\"colorbar\": {\"outlinewidth\": 0, \"ticks\": \"\"}}, \"type\": \"parcoords\"}], \"pie\": [{\"automargin\": true, \"type\": \"pie\"}], \"scatter\": [{\"marker\": {\"colorbar\": {\"outlinewidth\": 0, \"ticks\": \"\"}}, \"type\": \"scatter\"}], \"scatter3d\": [{\"line\": {\"colorbar\": {\"outlinewidth\": 0, \"ticks\": \"\"}}, \"marker\": {\"colorbar\": {\"outlinewidth\": 0, \"ticks\": \"\"}}, \"type\": \"scatter3d\"}], \"scattercarpet\": [{\"marker\": {\"colorbar\": {\"outlinewidth\": 0, \"ticks\": \"\"}}, \"type\": \"scattercarpet\"}], \"scattergeo\": [{\"marker\": {\"colorbar\": {\"outlinewidth\": 0, \"ticks\": \"\"}}, \"type\": \"scattergeo\"}], \"scattergl\": [{\"marker\": {\"colorbar\": {\"outlinewidth\": 0, \"ticks\": \"\"}}, \"type\": \"scattergl\"}], \"scattermapbox\": [{\"marker\": {\"colorbar\": {\"outlinewidth\": 0, \"ticks\": \"\"}}, \"type\": \"scattermapbox\"}], \"scatterpolar\": [{\"marker\": {\"colorbar\": {\"outlinewidth\": 0, \"ticks\": \"\"}}, \"type\": \"scatterpolar\"}], \"scatterpolargl\": [{\"marker\": {\"colorbar\": {\"outlinewidth\": 0, \"ticks\": \"\"}}, \"type\": \"scatterpolargl\"}], \"scatterternary\": [{\"marker\": {\"colorbar\": {\"outlinewidth\": 0, \"ticks\": \"\"}}, \"type\": \"scatterternary\"}], \"surface\": [{\"colorbar\": {\"outlinewidth\": 0, \"ticks\": \"\"}, \"colorscale\": [[0.0, \"#0d0887\"], [0.1111111111111111, \"#46039f\"], [0.2222222222222222, \"#7201a8\"], [0.3333333333333333, \"#9c179e\"], [0.4444444444444444, \"#bd3786\"], [0.5555555555555556, \"#d8576b\"], [0.6666666666666666, \"#ed7953\"], [0.7777777777777778, \"#fb9f3a\"], [0.8888888888888888, \"#fdca26\"], [1.0, \"#f0f921\"]], \"type\": \"surface\"}], \"table\": [{\"cells\": {\"fill\": {\"color\": \"#EBF0F8\"}, \"line\": {\"color\": \"white\"}}, \"header\": {\"fill\": {\"color\": \"#C8D4E3\"}, \"line\": {\"color\": \"white\"}}, \"type\": \"table\"}]}, \"layout\": {\"annotationdefaults\": {\"arrowcolor\": \"#2a3f5f\", \"arrowhead\": 0, \"arrowwidth\": 1}, \"autotypenumbers\": \"strict\", \"coloraxis\": {\"colorbar\": {\"outlinewidth\": 0, \"ticks\": \"\"}}, \"colorscale\": {\"diverging\": [[0, \"#8e0152\"], [0.1, \"#c51b7d\"], [0.2, \"#de77ae\"], [0.3, \"#f1b6da\"], [0.4, \"#fde0ef\"], [0.5, \"#f7f7f7\"], [0.6, \"#e6f5d0\"], [0.7, \"#b8e186\"], [0.8, \"#7fbc41\"], [0.9, \"#4d9221\"], [1, \"#276419\"]], \"sequential\": [[0.0, \"#0d0887\"], [0.1111111111111111, \"#46039f\"], [0.2222222222222222, \"#7201a8\"], [0.3333333333333333, \"#9c179e\"], [0.4444444444444444, \"#bd3786\"], [0.5555555555555556, \"#d8576b\"], [0.6666666666666666, \"#ed7953\"], [0.7777777777777778, \"#fb9f3a\"], [0.8888888888888888, \"#fdca26\"], [1.0, \"#f0f921\"]], \"sequentialminus\": [[0.0, \"#0d0887\"], [0.1111111111111111, \"#46039f\"], [0.2222222222222222, \"#7201a8\"], [0.3333333333333333, \"#9c179e\"], [0.4444444444444444, \"#bd3786\"], [0.5555555555555556, \"#d8576b\"], [0.6666666666666666, \"#ed7953\"], [0.7777777777777778, \"#fb9f3a\"], [0.8888888888888888, \"#fdca26\"], [1.0, \"#f0f921\"]]}, \"colorway\": [\"#636efa\", \"#EF553B\", \"#00cc96\", \"#ab63fa\", \"#FFA15A\", \"#19d3f3\", \"#FF6692\", \"#B6E880\", \"#FF97FF\", \"#FECB52\"], \"font\": {\"color\": \"#2a3f5f\"}, \"geo\": {\"bgcolor\": \"white\", \"lakecolor\": \"white\", \"landcolor\": \"#E5ECF6\", \"showlakes\": true, \"showland\": true, \"subunitcolor\": \"white\"}, \"hoverlabel\": {\"align\": \"left\"}, \"hovermode\": \"closest\", \"mapbox\": {\"style\": \"light\"}, \"paper_bgcolor\": \"white\", \"plot_bgcolor\": \"#E5ECF6\", \"polar\": {\"angularaxis\": {\"gridcolor\": \"white\", \"linecolor\": \"white\", \"ticks\": \"\"}, \"bgcolor\": \"#E5ECF6\", \"radialaxis\": {\"gridcolor\": \"white\", \"linecolor\": \"white\", \"ticks\": \"\"}}, \"scene\": {\"xaxis\": {\"backgroundcolor\": \"#E5ECF6\", \"gridcolor\": \"white\", \"gridwidth\": 2, \"linecolor\": \"white\", \"showbackground\": true, \"ticks\": \"\", \"zerolinecolor\": \"white\"}, \"yaxis\": {\"backgroundcolor\": \"#E5ECF6\", \"gridcolor\": \"white\", \"gridwidth\": 2, \"linecolor\": \"white\", \"showbackground\": true, \"ticks\": \"\", \"zerolinecolor\": \"white\"}, \"zaxis\": {\"backgroundcolor\": \"#E5ECF6\", \"gridcolor\": \"white\", \"gridwidth\": 2, \"linecolor\": \"white\", \"showbackground\": true, \"ticks\": \"\", \"zerolinecolor\": \"white\"}}, \"shapedefaults\": {\"line\": {\"color\": \"#2a3f5f\"}}, \"ternary\": {\"aaxis\": {\"gridcolor\": \"white\", \"linecolor\": \"white\", \"ticks\": \"\"}, \"baxis\": {\"gridcolor\": \"white\", \"linecolor\": \"white\", \"ticks\": \"\"}, \"bgcolor\": \"#E5ECF6\", \"caxis\": {\"gridcolor\": \"white\", \"linecolor\": \"white\", \"ticks\": \"\"}}, \"title\": {\"x\": 0.05}, \"xaxis\": {\"automargin\": true, \"gridcolor\": \"white\", \"linecolor\": \"white\", \"ticks\": \"\", \"title\": {\"standoff\": 15}, \"zerolinecolor\": \"white\", \"zerolinewidth\": 2}, \"yaxis\": {\"automargin\": true, \"gridcolor\": \"white\", \"linecolor\": \"white\", \"ticks\": \"\", \"title\": {\"standoff\": 15}, \"zerolinecolor\": \"white\", \"zerolinewidth\": 2}}}, \"title\": {\"text\": \"Bar graph: Cured v/s Death v/s Confirmed cases\"}},                        {\"responsive\": true}                    ).then(function(){\n",
       "                            \n",
       "var gd = document.getElementById('73dcc9c8-850b-43f0-ae8d-0d4285fcefc2');\n",
       "var x = new MutationObserver(function (mutations, observer) {{\n",
       "        var display = window.getComputedStyle(gd).display;\n",
       "        if (!display || display === 'none') {{\n",
       "            console.log([gd, 'removed!']);\n",
       "            Plotly.purge(gd);\n",
       "            observer.disconnect();\n",
       "        }}\n",
       "}});\n",
       "\n",
       "// Listen for the removal of the full notebook cells\n",
       "var notebookContainer = gd.closest('#notebook-container');\n",
       "if (notebookContainer) {{\n",
       "    x.observe(notebookContainer, {childList: true});\n",
       "}}\n",
       "\n",
       "// Listen for the clearing of the current output cell\n",
       "var outputEl = gd.closest('.output');\n",
       "if (outputEl) {{\n",
       "    x.observe(outputEl, {childList: true});\n",
       "}}\n",
       "\n",
       "                        })                };                });            </script>        </div>"
      ]
     },
     "metadata": {},
     "output_type": "display_data"
    }
   ],
   "source": [
    "fig4=go.Figure(data=[go.Bar(name='confirm_result',x=in_states,y=confirm_values),\n",
    "                    go.Bar(name='death_result',x=in_states,y=death_result,marker=dict(color='#FF0000')),\n",
    "                    go.Bar(name='cured_result',x=in_states,y=cure_result),\n",
    "                      ])\n",
    "fig4.update_layout(barmode='stack',title='Bar graph: Cured v/s Death v/s Confirmed cases',\n",
    "                  plot_bgcolor='#003f5c',\n",
    "                  paper_bgcolor='#003f5c',\n",
    "                  font_color='#7FDBFF')\n",
    "fig4.add_trace(go.Bar(marker_color='black'))\n",
    "fig4.show()"
   ]
  },
  {
   "cell_type": "code",
   "execution_count": null,
   "metadata": {},
   "outputs": [],
   "source": []
  },
  {
   "cell_type": "code",
   "execution_count": null,
   "metadata": {},
   "outputs": [],
   "source": []
  },
  {
   "cell_type": "code",
   "execution_count": null,
   "metadata": {},
   "outputs": [],
   "source": []
  },
  {
   "cell_type": "code",
   "execution_count": null,
   "metadata": {},
   "outputs": [],
   "source": []
  },
  {
   "cell_type": "code",
   "execution_count": 13,
   "metadata": {},
   "outputs": [
    {
     "data": {
      "text/html": [
       "<div>\n",
       "<style scoped>\n",
       "    .dataframe tbody tr th:only-of-type {\n",
       "        vertical-align: middle;\n",
       "    }\n",
       "\n",
       "    .dataframe tbody tr th {\n",
       "        vertical-align: top;\n",
       "    }\n",
       "\n",
       "    .dataframe thead th {\n",
       "        text-align: right;\n",
       "    }\n",
       "</style>\n",
       "<table border=\"1\" class=\"dataframe\">\n",
       "  <thead>\n",
       "    <tr style=\"text-align: right;\">\n",
       "      <th></th>\n",
       "      <th>Date</th>\n",
       "      <th>State</th>\n",
       "      <th>TotalSamples</th>\n",
       "      <th>Negative</th>\n",
       "      <th>Positive</th>\n",
       "    </tr>\n",
       "  </thead>\n",
       "  <tbody>\n",
       "    <tr>\n",
       "      <th>0</th>\n",
       "      <td>2020-04-17</td>\n",
       "      <td>Andaman and Nicobar Islands</td>\n",
       "      <td>1403.0</td>\n",
       "      <td>1210</td>\n",
       "      <td>12.0</td>\n",
       "    </tr>\n",
       "    <tr>\n",
       "      <th>1</th>\n",
       "      <td>2020-04-24</td>\n",
       "      <td>Andaman and Nicobar Islands</td>\n",
       "      <td>2679.0</td>\n",
       "      <td>NaN</td>\n",
       "      <td>27.0</td>\n",
       "    </tr>\n",
       "    <tr>\n",
       "      <th>2</th>\n",
       "      <td>2020-04-27</td>\n",
       "      <td>Andaman and Nicobar Islands</td>\n",
       "      <td>2848.0</td>\n",
       "      <td>NaN</td>\n",
       "      <td>33.0</td>\n",
       "    </tr>\n",
       "    <tr>\n",
       "      <th>3</th>\n",
       "      <td>2020-05-01</td>\n",
       "      <td>Andaman and Nicobar Islands</td>\n",
       "      <td>3754.0</td>\n",
       "      <td>NaN</td>\n",
       "      <td>33.0</td>\n",
       "    </tr>\n",
       "    <tr>\n",
       "      <th>4</th>\n",
       "      <td>2020-05-16</td>\n",
       "      <td>Andaman and Nicobar Islands</td>\n",
       "      <td>6677.0</td>\n",
       "      <td>NaN</td>\n",
       "      <td>33.0</td>\n",
       "    </tr>\n",
       "    <tr>\n",
       "      <th>...</th>\n",
       "      <td>...</td>\n",
       "      <td>...</td>\n",
       "      <td>...</td>\n",
       "      <td>...</td>\n",
       "      <td>...</td>\n",
       "    </tr>\n",
       "    <tr>\n",
       "      <th>8061</th>\n",
       "      <td>2020-12-04</td>\n",
       "      <td>West Bengal</td>\n",
       "      <td>6047279.0</td>\n",
       "      <td>NaN</td>\n",
       "      <td>NaN</td>\n",
       "    </tr>\n",
       "    <tr>\n",
       "      <th>8062</th>\n",
       "      <td>2020-12-05</td>\n",
       "      <td>West Bengal</td>\n",
       "      <td>6091668.0</td>\n",
       "      <td>NaN</td>\n",
       "      <td>NaN</td>\n",
       "    </tr>\n",
       "    <tr>\n",
       "      <th>8063</th>\n",
       "      <td>2020-12-06</td>\n",
       "      <td>West Bengal</td>\n",
       "      <td>6135854.0</td>\n",
       "      <td>NaN</td>\n",
       "      <td>NaN</td>\n",
       "    </tr>\n",
       "    <tr>\n",
       "      <th>8064</th>\n",
       "      <td>2020-12-07</td>\n",
       "      <td>West Bengal</td>\n",
       "      <td>6167307.0</td>\n",
       "      <td>NaN</td>\n",
       "      <td>NaN</td>\n",
       "    </tr>\n",
       "    <tr>\n",
       "      <th>8065</th>\n",
       "      <td>2020-12-08</td>\n",
       "      <td>West Bengal</td>\n",
       "      <td>6211537.0</td>\n",
       "      <td>NaN</td>\n",
       "      <td>NaN</td>\n",
       "    </tr>\n",
       "  </tbody>\n",
       "</table>\n",
       "<p>8066 rows × 5 columns</p>\n",
       "</div>"
      ],
      "text/plain": [
       "            Date                        State  TotalSamples Negative  Positive\n",
       "0     2020-04-17  Andaman and Nicobar Islands        1403.0     1210      12.0\n",
       "1     2020-04-24  Andaman and Nicobar Islands        2679.0      NaN      27.0\n",
       "2     2020-04-27  Andaman and Nicobar Islands        2848.0      NaN      33.0\n",
       "3     2020-05-01  Andaman and Nicobar Islands        3754.0      NaN      33.0\n",
       "4     2020-05-16  Andaman and Nicobar Islands        6677.0      NaN      33.0\n",
       "...          ...                          ...           ...      ...       ...\n",
       "8061  2020-12-04                  West Bengal     6047279.0      NaN       NaN\n",
       "8062  2020-12-05                  West Bengal     6091668.0      NaN       NaN\n",
       "8063  2020-12-06                  West Bengal     6135854.0      NaN       NaN\n",
       "8064  2020-12-07                  West Bengal     6167307.0      NaN       NaN\n",
       "8065  2020-12-08                  West Bengal     6211537.0      NaN       NaN\n",
       "\n",
       "[8066 rows x 5 columns]"
      ]
     },
     "execution_count": 13,
     "metadata": {},
     "output_type": "execute_result"
    }
   ],
   "source": [
    "d2"
   ]
  },
  {
   "cell_type": "code",
   "execution_count": 14,
   "metadata": {},
   "outputs": [
    {
     "data": {
      "text/plain": [
       "set()"
      ]
     },
     "execution_count": 14,
     "metadata": {},
     "output_type": "execute_result"
    }
   ],
   "source": [
    "set(d1['State/UnionTerritory'].unique()) - set(d2['State'].unique())"
   ]
  },
  {
   "cell_type": "code",
   "execution_count": 15,
   "metadata": {},
   "outputs": [
    {
     "data": {
      "text/plain": [
       "Date               0\n",
       "State              0\n",
       "TotalSamples       0\n",
       "Negative        3772\n",
       "Positive        3200\n",
       "dtype: int64"
      ]
     },
     "execution_count": 15,
     "metadata": {},
     "output_type": "execute_result"
    }
   ],
   "source": [
    "#d2.loc[d2['Positive']=='Nan','Tot_Positive']=0\n",
    "d2.isnull().sum()"
   ]
  },
  {
   "cell_type": "code",
   "execution_count": 16,
   "metadata": {},
   "outputs": [
    {
     "data": {
      "text/plain": [
       "Date            0\n",
       "State           0\n",
       "TotalSamples    0\n",
       "Negative        0\n",
       "Positive        0\n",
       "dtype: int64"
      ]
     },
     "execution_count": 16,
     "metadata": {},
     "output_type": "execute_result"
    }
   ],
   "source": [
    "d2['Positive']=d2['Positive'].fillna(0)\n",
    "d2['Negative']=d2['Negative'].fillna(0)\n",
    "d2.isnull().sum()"
   ]
  },
  {
   "cell_type": "markdown",
   "metadata": {},
   "source": [
    "# Total positive cases Statewise"
   ]
  },
  {
   "cell_type": "code",
   "execution_count": 17,
   "metadata": {},
   "outputs": [
    {
     "data": {
      "text/plain": [
       "2214458.0"
      ]
     },
     "execution_count": 17,
     "metadata": {},
     "output_type": "execute_result"
    }
   ],
   "source": [
    "sum(d2[d2['State']=='Odisha']['Positive'])"
   ]
  },
  {
   "cell_type": "code",
   "execution_count": 18,
   "metadata": {},
   "outputs": [
    {
     "data": {
      "text/plain": [
       "set()"
      ]
     },
     "execution_count": 18,
     "metadata": {},
     "output_type": "execute_result"
    }
   ],
   "source": [
    "states=d2['State'].unique()\n",
    "set(in_states)-set(states)"
   ]
  },
  {
   "cell_type": "code",
   "execution_count": 158,
   "metadata": {
    "scrolled": true
   },
   "outputs": [
    {
     "data": {
      "text/plain": [
       "[49666,\n",
       " 12107,\n",
       " 7115,\n",
       " 12156,\n",
       " 3142,\n",
       " 10585,\n",
       " 8387,\n",
       " 9792,\n",
       " 1936,\n",
       " 2705,\n",
       " 1549,\n",
       " 3400,\n",
       " 2917,\n",
       " 1405,\n",
       " 4318,\n",
       " 3641,\n",
       " 1052,\n",
       " 5376,\n",
       " 1886,\n",
       " 1035,\n",
       " 1522,\n",
       " 932,\n",
       " 741,\n",
       " 633,\n",
       " 382,\n",
       " 357,\n",
       " 320,\n",
       " 56,\n",
       " 139,\n",
       " 79,\n",
       " 127,\n",
       " 129,\n",
       " 62,\n",
       " 8,\n",
       " 2,\n",
       " 0,\n",
       " 0]"
      ]
     },
     "execution_count": 158,
     "metadata": {},
     "output_type": "execute_result"
    }
   ],
   "source": [
    "pos_case=[]\n",
    "neg_case=[]\n",
    "for i in in_states:\n",
    "    pos_case.append(int(d1[d1['state']==i]['deaths']))\n",
    "    #neg_case.append(sum(d2[d2['State']==i]['Negative']))\n",
    "pos_case"
   ]
  },
  {
   "cell_type": "code",
   "execution_count": 159,
   "metadata": {},
   "outputs": [
    {
     "data": {
      "text/plain": [
       "474804.0"
      ]
     },
     "execution_count": 159,
     "metadata": {},
     "output_type": "execute_result"
    }
   ],
   "source": [
    "sum(d2[d2['State']=='Andaman and Nicobar Islands']['Positive'])"
   ]
  },
  {
   "cell_type": "code",
   "execution_count": 160,
   "metadata": {},
   "outputs": [
    {
     "data": {
      "application/vnd.plotly.v1+json": {
       "config": {
        "plotlyServerURL": "https://plot.ly"
       },
       "data": [
        {
         "hole": 0.6,
         "labels": [
          "Maharashtra",
          "Karnataka",
          "Andhra Pradesh",
          "Tamil Nadu",
          "Kerala",
          "Delhi",
          "Uttar Pradesh",
          "West Bengal",
          "Odisha",
          "Rajasthan"
         ],
         "pull": [
          0.3,
          0,
          0,
          0
         ],
         "textinfo": "label",
         "type": "pie",
         "values": [
          49666,
          12107,
          7115,
          12156,
          3142,
          10585,
          8387,
          9792,
          1936,
          2705
         ]
        }
       ],
       "layout": {
        "font": {
         "color": "#7FDBFF"
        },
        "paper_bgcolor": "#111111",
        "plot_bgcolor": "#111111",
        "template": {
         "data": {
          "bar": [
           {
            "error_x": {
             "color": "#2a3f5f"
            },
            "error_y": {
             "color": "#2a3f5f"
            },
            "marker": {
             "line": {
              "color": "#E5ECF6",
              "width": 0.5
             }
            },
            "type": "bar"
           }
          ],
          "barpolar": [
           {
            "marker": {
             "line": {
              "color": "#E5ECF6",
              "width": 0.5
             }
            },
            "type": "barpolar"
           }
          ],
          "carpet": [
           {
            "aaxis": {
             "endlinecolor": "#2a3f5f",
             "gridcolor": "white",
             "linecolor": "white",
             "minorgridcolor": "white",
             "startlinecolor": "#2a3f5f"
            },
            "baxis": {
             "endlinecolor": "#2a3f5f",
             "gridcolor": "white",
             "linecolor": "white",
             "minorgridcolor": "white",
             "startlinecolor": "#2a3f5f"
            },
            "type": "carpet"
           }
          ],
          "choropleth": [
           {
            "colorbar": {
             "outlinewidth": 0,
             "ticks": ""
            },
            "type": "choropleth"
           }
          ],
          "contour": [
           {
            "colorbar": {
             "outlinewidth": 0,
             "ticks": ""
            },
            "colorscale": [
             [
              0,
              "#0d0887"
             ],
             [
              0.1111111111111111,
              "#46039f"
             ],
             [
              0.2222222222222222,
              "#7201a8"
             ],
             [
              0.3333333333333333,
              "#9c179e"
             ],
             [
              0.4444444444444444,
              "#bd3786"
             ],
             [
              0.5555555555555556,
              "#d8576b"
             ],
             [
              0.6666666666666666,
              "#ed7953"
             ],
             [
              0.7777777777777778,
              "#fb9f3a"
             ],
             [
              0.8888888888888888,
              "#fdca26"
             ],
             [
              1,
              "#f0f921"
             ]
            ],
            "type": "contour"
           }
          ],
          "contourcarpet": [
           {
            "colorbar": {
             "outlinewidth": 0,
             "ticks": ""
            },
            "type": "contourcarpet"
           }
          ],
          "heatmap": [
           {
            "colorbar": {
             "outlinewidth": 0,
             "ticks": ""
            },
            "colorscale": [
             [
              0,
              "#0d0887"
             ],
             [
              0.1111111111111111,
              "#46039f"
             ],
             [
              0.2222222222222222,
              "#7201a8"
             ],
             [
              0.3333333333333333,
              "#9c179e"
             ],
             [
              0.4444444444444444,
              "#bd3786"
             ],
             [
              0.5555555555555556,
              "#d8576b"
             ],
             [
              0.6666666666666666,
              "#ed7953"
             ],
             [
              0.7777777777777778,
              "#fb9f3a"
             ],
             [
              0.8888888888888888,
              "#fdca26"
             ],
             [
              1,
              "#f0f921"
             ]
            ],
            "type": "heatmap"
           }
          ],
          "heatmapgl": [
           {
            "colorbar": {
             "outlinewidth": 0,
             "ticks": ""
            },
            "colorscale": [
             [
              0,
              "#0d0887"
             ],
             [
              0.1111111111111111,
              "#46039f"
             ],
             [
              0.2222222222222222,
              "#7201a8"
             ],
             [
              0.3333333333333333,
              "#9c179e"
             ],
             [
              0.4444444444444444,
              "#bd3786"
             ],
             [
              0.5555555555555556,
              "#d8576b"
             ],
             [
              0.6666666666666666,
              "#ed7953"
             ],
             [
              0.7777777777777778,
              "#fb9f3a"
             ],
             [
              0.8888888888888888,
              "#fdca26"
             ],
             [
              1,
              "#f0f921"
             ]
            ],
            "type": "heatmapgl"
           }
          ],
          "histogram": [
           {
            "marker": {
             "colorbar": {
              "outlinewidth": 0,
              "ticks": ""
             }
            },
            "type": "histogram"
           }
          ],
          "histogram2d": [
           {
            "colorbar": {
             "outlinewidth": 0,
             "ticks": ""
            },
            "colorscale": [
             [
              0,
              "#0d0887"
             ],
             [
              0.1111111111111111,
              "#46039f"
             ],
             [
              0.2222222222222222,
              "#7201a8"
             ],
             [
              0.3333333333333333,
              "#9c179e"
             ],
             [
              0.4444444444444444,
              "#bd3786"
             ],
             [
              0.5555555555555556,
              "#d8576b"
             ],
             [
              0.6666666666666666,
              "#ed7953"
             ],
             [
              0.7777777777777778,
              "#fb9f3a"
             ],
             [
              0.8888888888888888,
              "#fdca26"
             ],
             [
              1,
              "#f0f921"
             ]
            ],
            "type": "histogram2d"
           }
          ],
          "histogram2dcontour": [
           {
            "colorbar": {
             "outlinewidth": 0,
             "ticks": ""
            },
            "colorscale": [
             [
              0,
              "#0d0887"
             ],
             [
              0.1111111111111111,
              "#46039f"
             ],
             [
              0.2222222222222222,
              "#7201a8"
             ],
             [
              0.3333333333333333,
              "#9c179e"
             ],
             [
              0.4444444444444444,
              "#bd3786"
             ],
             [
              0.5555555555555556,
              "#d8576b"
             ],
             [
              0.6666666666666666,
              "#ed7953"
             ],
             [
              0.7777777777777778,
              "#fb9f3a"
             ],
             [
              0.8888888888888888,
              "#fdca26"
             ],
             [
              1,
              "#f0f921"
             ]
            ],
            "type": "histogram2dcontour"
           }
          ],
          "mesh3d": [
           {
            "colorbar": {
             "outlinewidth": 0,
             "ticks": ""
            },
            "type": "mesh3d"
           }
          ],
          "parcoords": [
           {
            "line": {
             "colorbar": {
              "outlinewidth": 0,
              "ticks": ""
             }
            },
            "type": "parcoords"
           }
          ],
          "pie": [
           {
            "automargin": true,
            "type": "pie"
           }
          ],
          "scatter": [
           {
            "marker": {
             "colorbar": {
              "outlinewidth": 0,
              "ticks": ""
             }
            },
            "type": "scatter"
           }
          ],
          "scatter3d": [
           {
            "line": {
             "colorbar": {
              "outlinewidth": 0,
              "ticks": ""
             }
            },
            "marker": {
             "colorbar": {
              "outlinewidth": 0,
              "ticks": ""
             }
            },
            "type": "scatter3d"
           }
          ],
          "scattercarpet": [
           {
            "marker": {
             "colorbar": {
              "outlinewidth": 0,
              "ticks": ""
             }
            },
            "type": "scattercarpet"
           }
          ],
          "scattergeo": [
           {
            "marker": {
             "colorbar": {
              "outlinewidth": 0,
              "ticks": ""
             }
            },
            "type": "scattergeo"
           }
          ],
          "scattergl": [
           {
            "marker": {
             "colorbar": {
              "outlinewidth": 0,
              "ticks": ""
             }
            },
            "type": "scattergl"
           }
          ],
          "scattermapbox": [
           {
            "marker": {
             "colorbar": {
              "outlinewidth": 0,
              "ticks": ""
             }
            },
            "type": "scattermapbox"
           }
          ],
          "scatterpolar": [
           {
            "marker": {
             "colorbar": {
              "outlinewidth": 0,
              "ticks": ""
             }
            },
            "type": "scatterpolar"
           }
          ],
          "scatterpolargl": [
           {
            "marker": {
             "colorbar": {
              "outlinewidth": 0,
              "ticks": ""
             }
            },
            "type": "scatterpolargl"
           }
          ],
          "scatterternary": [
           {
            "marker": {
             "colorbar": {
              "outlinewidth": 0,
              "ticks": ""
             }
            },
            "type": "scatterternary"
           }
          ],
          "surface": [
           {
            "colorbar": {
             "outlinewidth": 0,
             "ticks": ""
            },
            "colorscale": [
             [
              0,
              "#0d0887"
             ],
             [
              0.1111111111111111,
              "#46039f"
             ],
             [
              0.2222222222222222,
              "#7201a8"
             ],
             [
              0.3333333333333333,
              "#9c179e"
             ],
             [
              0.4444444444444444,
              "#bd3786"
             ],
             [
              0.5555555555555556,
              "#d8576b"
             ],
             [
              0.6666666666666666,
              "#ed7953"
             ],
             [
              0.7777777777777778,
              "#fb9f3a"
             ],
             [
              0.8888888888888888,
              "#fdca26"
             ],
             [
              1,
              "#f0f921"
             ]
            ],
            "type": "surface"
           }
          ],
          "table": [
           {
            "cells": {
             "fill": {
              "color": "#EBF0F8"
             },
             "line": {
              "color": "white"
             }
            },
            "header": {
             "fill": {
              "color": "#C8D4E3"
             },
             "line": {
              "color": "white"
             }
            },
            "type": "table"
           }
          ]
         },
         "layout": {
          "annotationdefaults": {
           "arrowcolor": "#2a3f5f",
           "arrowhead": 0,
           "arrowwidth": 1
          },
          "autotypenumbers": "strict",
          "coloraxis": {
           "colorbar": {
            "outlinewidth": 0,
            "ticks": ""
           }
          },
          "colorscale": {
           "diverging": [
            [
             0,
             "#8e0152"
            ],
            [
             0.1,
             "#c51b7d"
            ],
            [
             0.2,
             "#de77ae"
            ],
            [
             0.3,
             "#f1b6da"
            ],
            [
             0.4,
             "#fde0ef"
            ],
            [
             0.5,
             "#f7f7f7"
            ],
            [
             0.6,
             "#e6f5d0"
            ],
            [
             0.7,
             "#b8e186"
            ],
            [
             0.8,
             "#7fbc41"
            ],
            [
             0.9,
             "#4d9221"
            ],
            [
             1,
             "#276419"
            ]
           ],
           "sequential": [
            [
             0,
             "#0d0887"
            ],
            [
             0.1111111111111111,
             "#46039f"
            ],
            [
             0.2222222222222222,
             "#7201a8"
            ],
            [
             0.3333333333333333,
             "#9c179e"
            ],
            [
             0.4444444444444444,
             "#bd3786"
            ],
            [
             0.5555555555555556,
             "#d8576b"
            ],
            [
             0.6666666666666666,
             "#ed7953"
            ],
            [
             0.7777777777777778,
             "#fb9f3a"
            ],
            [
             0.8888888888888888,
             "#fdca26"
            ],
            [
             1,
             "#f0f921"
            ]
           ],
           "sequentialminus": [
            [
             0,
             "#0d0887"
            ],
            [
             0.1111111111111111,
             "#46039f"
            ],
            [
             0.2222222222222222,
             "#7201a8"
            ],
            [
             0.3333333333333333,
             "#9c179e"
            ],
            [
             0.4444444444444444,
             "#bd3786"
            ],
            [
             0.5555555555555556,
             "#d8576b"
            ],
            [
             0.6666666666666666,
             "#ed7953"
            ],
            [
             0.7777777777777778,
             "#fb9f3a"
            ],
            [
             0.8888888888888888,
             "#fdca26"
            ],
            [
             1,
             "#f0f921"
            ]
           ]
          },
          "colorway": [
           "#636efa",
           "#EF553B",
           "#00cc96",
           "#ab63fa",
           "#FFA15A",
           "#19d3f3",
           "#FF6692",
           "#B6E880",
           "#FF97FF",
           "#FECB52"
          ],
          "font": {
           "color": "#2a3f5f"
          },
          "geo": {
           "bgcolor": "white",
           "lakecolor": "white",
           "landcolor": "#E5ECF6",
           "showlakes": true,
           "showland": true,
           "subunitcolor": "white"
          },
          "hoverlabel": {
           "align": "left"
          },
          "hovermode": "closest",
          "mapbox": {
           "style": "light"
          },
          "paper_bgcolor": "white",
          "plot_bgcolor": "#E5ECF6",
          "polar": {
           "angularaxis": {
            "gridcolor": "white",
            "linecolor": "white",
            "ticks": ""
           },
           "bgcolor": "#E5ECF6",
           "radialaxis": {
            "gridcolor": "white",
            "linecolor": "white",
            "ticks": ""
           }
          },
          "scene": {
           "xaxis": {
            "backgroundcolor": "#E5ECF6",
            "gridcolor": "white",
            "gridwidth": 2,
            "linecolor": "white",
            "showbackground": true,
            "ticks": "",
            "zerolinecolor": "white"
           },
           "yaxis": {
            "backgroundcolor": "#E5ECF6",
            "gridcolor": "white",
            "gridwidth": 2,
            "linecolor": "white",
            "showbackground": true,
            "ticks": "",
            "zerolinecolor": "white"
           },
           "zaxis": {
            "backgroundcolor": "#E5ECF6",
            "gridcolor": "white",
            "gridwidth": 2,
            "linecolor": "white",
            "showbackground": true,
            "ticks": "",
            "zerolinecolor": "white"
           }
          },
          "shapedefaults": {
           "line": {
            "color": "#2a3f5f"
           }
          },
          "ternary": {
           "aaxis": {
            "gridcolor": "white",
            "linecolor": "white",
            "ticks": ""
           },
           "baxis": {
            "gridcolor": "white",
            "linecolor": "white",
            "ticks": ""
           },
           "bgcolor": "#E5ECF6",
           "caxis": {
            "gridcolor": "white",
            "linecolor": "white",
            "ticks": ""
           }
          },
          "title": {
           "x": 0.05
          },
          "xaxis": {
           "automargin": true,
           "gridcolor": "white",
           "linecolor": "white",
           "ticks": "",
           "title": {
            "standoff": 15
           },
           "zerolinecolor": "white",
           "zerolinewidth": 2
          },
          "yaxis": {
           "automargin": true,
           "gridcolor": "white",
           "linecolor": "white",
           "ticks": "",
           "title": {
            "standoff": 15
           },
           "zerolinecolor": "white",
           "zerolinewidth": 2
          }
         }
        },
        "title": {
         "text": "pie chart:Top 10 states having more death cases"
        }
       }
      },
      "text/html": [
       "<div>                            <div id=\"fa9bfff2-664e-4203-9854-d5b0bd5e103f\" class=\"plotly-graph-div\" style=\"height:525px; width:100%;\"></div>            <script type=\"text/javascript\">                require([\"plotly\"], function(Plotly) {                    window.PLOTLYENV=window.PLOTLYENV || {};                                    if (document.getElementById(\"fa9bfff2-664e-4203-9854-d5b0bd5e103f\")) {                    Plotly.newPlot(                        \"fa9bfff2-664e-4203-9854-d5b0bd5e103f\",                        [{\"hole\": 0.6, \"labels\": [\"Maharashtra\", \"Karnataka\", \"Andhra Pradesh\", \"Tamil Nadu\", \"Kerala\", \"Delhi\", \"Uttar Pradesh\", \"West Bengal\", \"Odisha\", \"Rajasthan\"], \"pull\": [0.3, 0, 0, 0], \"textinfo\": \"label\", \"type\": \"pie\", \"values\": [49666, 12107, 7115, 12156, 3142, 10585, 8387, 9792, 1936, 2705]}],                        {\"font\": {\"color\": \"#7FDBFF\"}, \"paper_bgcolor\": \"#111111\", \"plot_bgcolor\": \"#111111\", \"template\": {\"data\": {\"bar\": [{\"error_x\": {\"color\": \"#2a3f5f\"}, \"error_y\": {\"color\": \"#2a3f5f\"}, \"marker\": {\"line\": {\"color\": \"#E5ECF6\", \"width\": 0.5}}, \"type\": \"bar\"}], \"barpolar\": [{\"marker\": {\"line\": {\"color\": \"#E5ECF6\", \"width\": 0.5}}, \"type\": \"barpolar\"}], \"carpet\": [{\"aaxis\": {\"endlinecolor\": \"#2a3f5f\", \"gridcolor\": \"white\", \"linecolor\": \"white\", \"minorgridcolor\": \"white\", \"startlinecolor\": \"#2a3f5f\"}, \"baxis\": {\"endlinecolor\": \"#2a3f5f\", \"gridcolor\": \"white\", \"linecolor\": \"white\", \"minorgridcolor\": \"white\", \"startlinecolor\": \"#2a3f5f\"}, \"type\": \"carpet\"}], \"choropleth\": [{\"colorbar\": {\"outlinewidth\": 0, \"ticks\": \"\"}, \"type\": \"choropleth\"}], \"contour\": [{\"colorbar\": {\"outlinewidth\": 0, \"ticks\": \"\"}, \"colorscale\": [[0.0, \"#0d0887\"], [0.1111111111111111, \"#46039f\"], [0.2222222222222222, \"#7201a8\"], [0.3333333333333333, \"#9c179e\"], [0.4444444444444444, \"#bd3786\"], [0.5555555555555556, \"#d8576b\"], [0.6666666666666666, \"#ed7953\"], [0.7777777777777778, \"#fb9f3a\"], [0.8888888888888888, \"#fdca26\"], [1.0, \"#f0f921\"]], \"type\": \"contour\"}], \"contourcarpet\": [{\"colorbar\": {\"outlinewidth\": 0, \"ticks\": \"\"}, \"type\": \"contourcarpet\"}], \"heatmap\": [{\"colorbar\": {\"outlinewidth\": 0, \"ticks\": \"\"}, \"colorscale\": [[0.0, \"#0d0887\"], [0.1111111111111111, \"#46039f\"], [0.2222222222222222, \"#7201a8\"], [0.3333333333333333, \"#9c179e\"], [0.4444444444444444, \"#bd3786\"], [0.5555555555555556, \"#d8576b\"], [0.6666666666666666, \"#ed7953\"], [0.7777777777777778, \"#fb9f3a\"], [0.8888888888888888, \"#fdca26\"], [1.0, \"#f0f921\"]], \"type\": \"heatmap\"}], \"heatmapgl\": [{\"colorbar\": {\"outlinewidth\": 0, \"ticks\": \"\"}, \"colorscale\": [[0.0, \"#0d0887\"], [0.1111111111111111, \"#46039f\"], [0.2222222222222222, \"#7201a8\"], [0.3333333333333333, \"#9c179e\"], [0.4444444444444444, \"#bd3786\"], [0.5555555555555556, \"#d8576b\"], [0.6666666666666666, \"#ed7953\"], [0.7777777777777778, \"#fb9f3a\"], [0.8888888888888888, \"#fdca26\"], [1.0, \"#f0f921\"]], \"type\": \"heatmapgl\"}], \"histogram\": [{\"marker\": {\"colorbar\": {\"outlinewidth\": 0, \"ticks\": \"\"}}, \"type\": \"histogram\"}], \"histogram2d\": [{\"colorbar\": {\"outlinewidth\": 0, \"ticks\": \"\"}, \"colorscale\": [[0.0, \"#0d0887\"], [0.1111111111111111, \"#46039f\"], [0.2222222222222222, \"#7201a8\"], [0.3333333333333333, \"#9c179e\"], [0.4444444444444444, \"#bd3786\"], [0.5555555555555556, \"#d8576b\"], [0.6666666666666666, \"#ed7953\"], [0.7777777777777778, \"#fb9f3a\"], [0.8888888888888888, \"#fdca26\"], [1.0, \"#f0f921\"]], \"type\": \"histogram2d\"}], \"histogram2dcontour\": [{\"colorbar\": {\"outlinewidth\": 0, \"ticks\": \"\"}, \"colorscale\": [[0.0, \"#0d0887\"], [0.1111111111111111, \"#46039f\"], [0.2222222222222222, \"#7201a8\"], [0.3333333333333333, \"#9c179e\"], [0.4444444444444444, \"#bd3786\"], [0.5555555555555556, \"#d8576b\"], [0.6666666666666666, \"#ed7953\"], [0.7777777777777778, \"#fb9f3a\"], [0.8888888888888888, \"#fdca26\"], [1.0, \"#f0f921\"]], \"type\": \"histogram2dcontour\"}], \"mesh3d\": [{\"colorbar\": {\"outlinewidth\": 0, \"ticks\": \"\"}, \"type\": \"mesh3d\"}], \"parcoords\": [{\"line\": {\"colorbar\": {\"outlinewidth\": 0, \"ticks\": \"\"}}, \"type\": \"parcoords\"}], \"pie\": [{\"automargin\": true, \"type\": \"pie\"}], \"scatter\": [{\"marker\": {\"colorbar\": {\"outlinewidth\": 0, \"ticks\": \"\"}}, \"type\": \"scatter\"}], \"scatter3d\": [{\"line\": {\"colorbar\": {\"outlinewidth\": 0, \"ticks\": \"\"}}, \"marker\": {\"colorbar\": {\"outlinewidth\": 0, \"ticks\": \"\"}}, \"type\": \"scatter3d\"}], \"scattercarpet\": [{\"marker\": {\"colorbar\": {\"outlinewidth\": 0, \"ticks\": \"\"}}, \"type\": \"scattercarpet\"}], \"scattergeo\": [{\"marker\": {\"colorbar\": {\"outlinewidth\": 0, \"ticks\": \"\"}}, \"type\": \"scattergeo\"}], \"scattergl\": [{\"marker\": {\"colorbar\": {\"outlinewidth\": 0, \"ticks\": \"\"}}, \"type\": \"scattergl\"}], \"scattermapbox\": [{\"marker\": {\"colorbar\": {\"outlinewidth\": 0, \"ticks\": \"\"}}, \"type\": \"scattermapbox\"}], \"scatterpolar\": [{\"marker\": {\"colorbar\": {\"outlinewidth\": 0, \"ticks\": \"\"}}, \"type\": \"scatterpolar\"}], \"scatterpolargl\": [{\"marker\": {\"colorbar\": {\"outlinewidth\": 0, \"ticks\": \"\"}}, \"type\": \"scatterpolargl\"}], \"scatterternary\": [{\"marker\": {\"colorbar\": {\"outlinewidth\": 0, \"ticks\": \"\"}}, \"type\": \"scatterternary\"}], \"surface\": [{\"colorbar\": {\"outlinewidth\": 0, \"ticks\": \"\"}, \"colorscale\": [[0.0, \"#0d0887\"], [0.1111111111111111, \"#46039f\"], [0.2222222222222222, \"#7201a8\"], [0.3333333333333333, \"#9c179e\"], [0.4444444444444444, \"#bd3786\"], [0.5555555555555556, \"#d8576b\"], [0.6666666666666666, \"#ed7953\"], [0.7777777777777778, \"#fb9f3a\"], [0.8888888888888888, \"#fdca26\"], [1.0, \"#f0f921\"]], \"type\": \"surface\"}], \"table\": [{\"cells\": {\"fill\": {\"color\": \"#EBF0F8\"}, \"line\": {\"color\": \"white\"}}, \"header\": {\"fill\": {\"color\": \"#C8D4E3\"}, \"line\": {\"color\": \"white\"}}, \"type\": \"table\"}]}, \"layout\": {\"annotationdefaults\": {\"arrowcolor\": \"#2a3f5f\", \"arrowhead\": 0, \"arrowwidth\": 1}, \"autotypenumbers\": \"strict\", \"coloraxis\": {\"colorbar\": {\"outlinewidth\": 0, \"ticks\": \"\"}}, \"colorscale\": {\"diverging\": [[0, \"#8e0152\"], [0.1, \"#c51b7d\"], [0.2, \"#de77ae\"], [0.3, \"#f1b6da\"], [0.4, \"#fde0ef\"], [0.5, \"#f7f7f7\"], [0.6, \"#e6f5d0\"], [0.7, \"#b8e186\"], [0.8, \"#7fbc41\"], [0.9, \"#4d9221\"], [1, \"#276419\"]], \"sequential\": [[0.0, \"#0d0887\"], [0.1111111111111111, \"#46039f\"], [0.2222222222222222, \"#7201a8\"], [0.3333333333333333, \"#9c179e\"], [0.4444444444444444, \"#bd3786\"], [0.5555555555555556, \"#d8576b\"], [0.6666666666666666, \"#ed7953\"], [0.7777777777777778, \"#fb9f3a\"], [0.8888888888888888, \"#fdca26\"], [1.0, \"#f0f921\"]], \"sequentialminus\": [[0.0, \"#0d0887\"], [0.1111111111111111, \"#46039f\"], [0.2222222222222222, \"#7201a8\"], [0.3333333333333333, \"#9c179e\"], [0.4444444444444444, \"#bd3786\"], [0.5555555555555556, \"#d8576b\"], [0.6666666666666666, \"#ed7953\"], [0.7777777777777778, \"#fb9f3a\"], [0.8888888888888888, \"#fdca26\"], [1.0, \"#f0f921\"]]}, \"colorway\": [\"#636efa\", \"#EF553B\", \"#00cc96\", \"#ab63fa\", \"#FFA15A\", \"#19d3f3\", \"#FF6692\", \"#B6E880\", \"#FF97FF\", \"#FECB52\"], \"font\": {\"color\": \"#2a3f5f\"}, \"geo\": {\"bgcolor\": \"white\", \"lakecolor\": \"white\", \"landcolor\": \"#E5ECF6\", \"showlakes\": true, \"showland\": true, \"subunitcolor\": \"white\"}, \"hoverlabel\": {\"align\": \"left\"}, \"hovermode\": \"closest\", \"mapbox\": {\"style\": \"light\"}, \"paper_bgcolor\": \"white\", \"plot_bgcolor\": \"#E5ECF6\", \"polar\": {\"angularaxis\": {\"gridcolor\": \"white\", \"linecolor\": \"white\", \"ticks\": \"\"}, \"bgcolor\": \"#E5ECF6\", \"radialaxis\": {\"gridcolor\": \"white\", \"linecolor\": \"white\", \"ticks\": \"\"}}, \"scene\": {\"xaxis\": {\"backgroundcolor\": \"#E5ECF6\", \"gridcolor\": \"white\", \"gridwidth\": 2, \"linecolor\": \"white\", \"showbackground\": true, \"ticks\": \"\", \"zerolinecolor\": \"white\"}, \"yaxis\": {\"backgroundcolor\": \"#E5ECF6\", \"gridcolor\": \"white\", \"gridwidth\": 2, \"linecolor\": \"white\", \"showbackground\": true, \"ticks\": \"\", \"zerolinecolor\": \"white\"}, \"zaxis\": {\"backgroundcolor\": \"#E5ECF6\", \"gridcolor\": \"white\", \"gridwidth\": 2, \"linecolor\": \"white\", \"showbackground\": true, \"ticks\": \"\", \"zerolinecolor\": \"white\"}}, \"shapedefaults\": {\"line\": {\"color\": \"#2a3f5f\"}}, \"ternary\": {\"aaxis\": {\"gridcolor\": \"white\", \"linecolor\": \"white\", \"ticks\": \"\"}, \"baxis\": {\"gridcolor\": \"white\", \"linecolor\": \"white\", \"ticks\": \"\"}, \"bgcolor\": \"#E5ECF6\", \"caxis\": {\"gridcolor\": \"white\", \"linecolor\": \"white\", \"ticks\": \"\"}}, \"title\": {\"x\": 0.05}, \"xaxis\": {\"automargin\": true, \"gridcolor\": \"white\", \"linecolor\": \"white\", \"ticks\": \"\", \"title\": {\"standoff\": 15}, \"zerolinecolor\": \"white\", \"zerolinewidth\": 2}, \"yaxis\": {\"automargin\": true, \"gridcolor\": \"white\", \"linecolor\": \"white\", \"ticks\": \"\", \"title\": {\"standoff\": 15}, \"zerolinecolor\": \"white\", \"zerolinewidth\": 2}}}, \"title\": {\"text\": \"pie chart:Top 10 states having more death cases\"}},                        {\"responsive\": true}                    ).then(function(){\n",
       "                            \n",
       "var gd = document.getElementById('fa9bfff2-664e-4203-9854-d5b0bd5e103f');\n",
       "var x = new MutationObserver(function (mutations, observer) {{\n",
       "        var display = window.getComputedStyle(gd).display;\n",
       "        if (!display || display === 'none') {{\n",
       "            console.log([gd, 'removed!']);\n",
       "            Plotly.purge(gd);\n",
       "            observer.disconnect();\n",
       "        }}\n",
       "}});\n",
       "\n",
       "// Listen for the removal of the full notebook cells\n",
       "var notebookContainer = gd.closest('#notebook-container');\n",
       "if (notebookContainer) {{\n",
       "    x.observe(notebookContainer, {childList: true});\n",
       "}}\n",
       "\n",
       "// Listen for the clearing of the current output cell\n",
       "var outputEl = gd.closest('.output');\n",
       "if (outputEl) {{\n",
       "    x.observe(outputEl, {childList: true});\n",
       "}}\n",
       "\n",
       "                        })                };                });            </script>        </div>"
      ]
     },
     "metadata": {},
     "output_type": "display_data"
    }
   ],
   "source": [
    "fig6 = go.Figure(data=[go.Pie(labels=in_states[:10], values=pos_case[:10], hole=0.6,textinfo='label',pull=[0.3, 0, 0, 0])])\n",
    "fig6.update_layout(title_text=\"pie chart:Top 10 states having more death cases\",\n",
    "                  plot_bgcolor='#111111',\n",
    "                  paper_bgcolor='#111111',\n",
    "                  font_color='#7FDBFF')\n",
    "                  \n",
    "fig6.show()"
   ]
  },
  {
   "cell_type": "code",
   "execution_count": 188,
   "metadata": {},
   "outputs": [
    {
     "data": {
      "text/plain": [
       "set()"
      ]
     },
     "execution_count": 188,
     "metadata": {},
     "output_type": "execute_result"
    }
   ],
   "source": [
    "set(in_states)-set(states)"
   ]
  },
  {
   "cell_type": "code",
   "execution_count": 196,
   "metadata": {},
   "outputs": [
    {
     "data": {
      "text/html": [
       "<div>\n",
       "<style scoped>\n",
       "    .dataframe tbody tr th:only-of-type {\n",
       "        vertical-align: middle;\n",
       "    }\n",
       "\n",
       "    .dataframe tbody tr th {\n",
       "        vertical-align: top;\n",
       "    }\n",
       "\n",
       "    .dataframe thead th {\n",
       "        text-align: right;\n",
       "    }\n",
       "</style>\n",
       "<table border=\"1\" class=\"dataframe\">\n",
       "  <thead>\n",
       "    <tr style=\"text-align: right;\">\n",
       "      <th></th>\n",
       "      <th>states</th>\n",
       "      <th>Total_Active</th>\n",
       "      <th>lat</th>\n",
       "      <th>lon</th>\n",
       "    </tr>\n",
       "  </thead>\n",
       "  <tbody>\n",
       "    <tr>\n",
       "      <th>0</th>\n",
       "      <td>Andaman and Nicobar Islands</td>\n",
       "      <td>0.40</td>\n",
       "      <td>12.367180</td>\n",
       "      <td>92.924179</td>\n",
       "    </tr>\n",
       "    <tr>\n",
       "      <th>1</th>\n",
       "      <td>Andhra Pradesh</td>\n",
       "      <td>30.70</td>\n",
       "      <td>15.912900</td>\n",
       "      <td>79.739990</td>\n",
       "    </tr>\n",
       "    <tr>\n",
       "      <th>2</th>\n",
       "      <td>Arunachal Pradesh</td>\n",
       "      <td>0.93</td>\n",
       "      <td>28.217999</td>\n",
       "      <td>94.727753</td>\n",
       "    </tr>\n",
       "    <tr>\n",
       "      <th>3</th>\n",
       "      <td>Assam</td>\n",
       "      <td>31.20</td>\n",
       "      <td>26.200603</td>\n",
       "      <td>92.937576</td>\n",
       "    </tr>\n",
       "    <tr>\n",
       "      <th>4</th>\n",
       "      <td>Bihar</td>\n",
       "      <td>43.18</td>\n",
       "      <td>25.096073</td>\n",
       "      <td>85.313118</td>\n",
       "    </tr>\n",
       "    <tr>\n",
       "      <th>5</th>\n",
       "      <td>Chandigarh</td>\n",
       "      <td>2.81</td>\n",
       "      <td>30.733315</td>\n",
       "      <td>76.779419</td>\n",
       "    </tr>\n",
       "    <tr>\n",
       "      <th>6</th>\n",
       "      <td>Chhattisgarh</td>\n",
       "      <td>99.80</td>\n",
       "      <td>21.278658</td>\n",
       "      <td>81.866142</td>\n",
       "    </tr>\n",
       "    <tr>\n",
       "      <th>7</th>\n",
       "      <td>Dadra and Nagar Haveli and Daman and Diu</td>\n",
       "      <td>0.11</td>\n",
       "      <td>20.202690</td>\n",
       "      <td>73.010643</td>\n",
       "    </tr>\n",
       "    <tr>\n",
       "      <th>8</th>\n",
       "      <td>Delhi</td>\n",
       "      <td>50.44</td>\n",
       "      <td>28.704060</td>\n",
       "      <td>77.102493</td>\n",
       "    </tr>\n",
       "    <tr>\n",
       "      <th>9</th>\n",
       "      <td>Goa</td>\n",
       "      <td>9.01</td>\n",
       "      <td>15.299326</td>\n",
       "      <td>74.123993</td>\n",
       "    </tr>\n",
       "    <tr>\n",
       "      <th>10</th>\n",
       "      <td>Gujarat</td>\n",
       "      <td>91.50</td>\n",
       "      <td>22.258652</td>\n",
       "      <td>71.192383</td>\n",
       "    </tr>\n",
       "    <tr>\n",
       "      <th>11</th>\n",
       "      <td>Haryana</td>\n",
       "      <td>28.90</td>\n",
       "      <td>29.058777</td>\n",
       "      <td>76.085602</td>\n",
       "    </tr>\n",
       "    <tr>\n",
       "      <th>12</th>\n",
       "      <td>Himachal Pradesh</td>\n",
       "      <td>18.30</td>\n",
       "      <td>31.104830</td>\n",
       "      <td>77.173393</td>\n",
       "    </tr>\n",
       "    <tr>\n",
       "      <th>13</th>\n",
       "      <td>Jammu and Kashmir</td>\n",
       "      <td>29.75</td>\n",
       "      <td>32.705330</td>\n",
       "      <td>74.879997</td>\n",
       "    </tr>\n",
       "    <tr>\n",
       "      <th>14</th>\n",
       "      <td>Jharkhand</td>\n",
       "      <td>16.01</td>\n",
       "      <td>23.610182</td>\n",
       "      <td>85.279938</td>\n",
       "    </tr>\n",
       "    <tr>\n",
       "      <th>15</th>\n",
       "      <td>Karnataka</td>\n",
       "      <td>108.93</td>\n",
       "      <td>15.317277</td>\n",
       "      <td>75.713890</td>\n",
       "    </tr>\n",
       "    <tr>\n",
       "      <th>16</th>\n",
       "      <td>Kerala</td>\n",
       "      <td>652.77</td>\n",
       "      <td>10.850516</td>\n",
       "      <td>76.271080</td>\n",
       "    </tr>\n",
       "    <tr>\n",
       "      <th>17</th>\n",
       "      <td>Ladakh</td>\n",
       "      <td>2.61</td>\n",
       "      <td>40.724579</td>\n",
       "      <td>-73.997147</td>\n",
       "    </tr>\n",
       "    <tr>\n",
       "      <th>18</th>\n",
       "      <td>Madhya Pradesh</td>\n",
       "      <td>88.52</td>\n",
       "      <td>22.973423</td>\n",
       "      <td>78.656891</td>\n",
       "    </tr>\n",
       "    <tr>\n",
       "      <th>19</th>\n",
       "      <td>Maharashtra</td>\n",
       "      <td>543.17</td>\n",
       "      <td>19.751480</td>\n",
       "      <td>75.713890</td>\n",
       "    </tr>\n",
       "    <tr>\n",
       "      <th>20</th>\n",
       "      <td>Manipur</td>\n",
       "      <td>11.04</td>\n",
       "      <td>24.663717</td>\n",
       "      <td>93.906265</td>\n",
       "    </tr>\n",
       "    <tr>\n",
       "      <th>21</th>\n",
       "      <td>Meghalaya</td>\n",
       "      <td>1.35</td>\n",
       "      <td>25.467031</td>\n",
       "      <td>91.366219</td>\n",
       "    </tr>\n",
       "    <tr>\n",
       "      <th>22</th>\n",
       "      <td>Mizoram</td>\n",
       "      <td>1.08</td>\n",
       "      <td>23.164543</td>\n",
       "      <td>92.937576</td>\n",
       "    </tr>\n",
       "    <tr>\n",
       "      <th>23</th>\n",
       "      <td>Nagaland</td>\n",
       "      <td>1.86</td>\n",
       "      <td>26.158436</td>\n",
       "      <td>94.562447</td>\n",
       "    </tr>\n",
       "    <tr>\n",
       "      <th>24</th>\n",
       "      <td>Odisha</td>\n",
       "      <td>24.08</td>\n",
       "      <td>20.951666</td>\n",
       "      <td>85.098526</td>\n",
       "    </tr>\n",
       "    <tr>\n",
       "      <th>25</th>\n",
       "      <td>Puducherry</td>\n",
       "      <td>3.58</td>\n",
       "      <td>11.941552</td>\n",
       "      <td>79.808289</td>\n",
       "    </tr>\n",
       "    <tr>\n",
       "      <th>26</th>\n",
       "      <td>Punjab</td>\n",
       "      <td>33.61</td>\n",
       "      <td>31.147129</td>\n",
       "      <td>75.341217</td>\n",
       "    </tr>\n",
       "    <tr>\n",
       "      <th>27</th>\n",
       "      <td>Rajasthan</td>\n",
       "      <td>87.95</td>\n",
       "      <td>27.023804</td>\n",
       "      <td>74.217934</td>\n",
       "    </tr>\n",
       "    <tr>\n",
       "      <th>28</th>\n",
       "      <td>Sikkim</td>\n",
       "      <td>5.30</td>\n",
       "      <td>27.532972</td>\n",
       "      <td>88.512215</td>\n",
       "    </tr>\n",
       "    <tr>\n",
       "      <th>29</th>\n",
       "      <td>Tamil Nadu</td>\n",
       "      <td>81.27</td>\n",
       "      <td>11.127123</td>\n",
       "      <td>78.656891</td>\n",
       "    </tr>\n",
       "    <tr>\n",
       "      <th>30</th>\n",
       "      <td>Telangana</td>\n",
       "      <td>53.88</td>\n",
       "      <td>18.112436</td>\n",
       "      <td>79.019302</td>\n",
       "    </tr>\n",
       "    <tr>\n",
       "      <th>31</th>\n",
       "      <td>Tripura</td>\n",
       "      <td>0.88</td>\n",
       "      <td>23.940847</td>\n",
       "      <td>91.988152</td>\n",
       "    </tr>\n",
       "    <tr>\n",
       "      <th>32</th>\n",
       "      <td>Uttar Pradesh</td>\n",
       "      <td>133.16</td>\n",
       "      <td>26.846708</td>\n",
       "      <td>80.946159</td>\n",
       "    </tr>\n",
       "    <tr>\n",
       "      <th>33</th>\n",
       "      <td>Uttarakhand</td>\n",
       "      <td>43.64</td>\n",
       "      <td>30.066753</td>\n",
       "      <td>79.019302</td>\n",
       "    </tr>\n",
       "    <tr>\n",
       "      <th>34</th>\n",
       "      <td>West Bengal</td>\n",
       "      <td>104.46</td>\n",
       "      <td>22.986757</td>\n",
       "      <td>87.854973</td>\n",
       "    </tr>\n",
       "  </tbody>\n",
       "</table>\n",
       "</div>"
      ],
      "text/plain": [
       "                                      states  Total_Active        lat  \\\n",
       "0                Andaman and Nicobar Islands          0.40  12.367180   \n",
       "1                             Andhra Pradesh         30.70  15.912900   \n",
       "2                          Arunachal Pradesh          0.93  28.217999   \n",
       "3                                      Assam         31.20  26.200603   \n",
       "4                                      Bihar         43.18  25.096073   \n",
       "5                                 Chandigarh          2.81  30.733315   \n",
       "6                               Chhattisgarh         99.80  21.278658   \n",
       "7   Dadra and Nagar Haveli and Daman and Diu          0.11  20.202690   \n",
       "8                                      Delhi         50.44  28.704060   \n",
       "9                                        Goa          9.01  15.299326   \n",
       "10                                   Gujarat         91.50  22.258652   \n",
       "11                                   Haryana         28.90  29.058777   \n",
       "12                          Himachal Pradesh         18.30  31.104830   \n",
       "13                         Jammu and Kashmir         29.75  32.705330   \n",
       "14                                 Jharkhand         16.01  23.610182   \n",
       "15                                 Karnataka        108.93  15.317277   \n",
       "16                                    Kerala        652.77  10.850516   \n",
       "17                                    Ladakh          2.61  40.724579   \n",
       "18                            Madhya Pradesh         88.52  22.973423   \n",
       "19                               Maharashtra        543.17  19.751480   \n",
       "20                                   Manipur         11.04  24.663717   \n",
       "21                                 Meghalaya          1.35  25.467031   \n",
       "22                                   Mizoram          1.08  23.164543   \n",
       "23                                  Nagaland          1.86  26.158436   \n",
       "24                                    Odisha         24.08  20.951666   \n",
       "25                                Puducherry          3.58  11.941552   \n",
       "26                                    Punjab         33.61  31.147129   \n",
       "27                                 Rajasthan         87.95  27.023804   \n",
       "28                                    Sikkim          5.30  27.532972   \n",
       "29                                Tamil Nadu         81.27  11.127123   \n",
       "30                                 Telangana         53.88  18.112436   \n",
       "31                                   Tripura          0.88  23.940847   \n",
       "32                             Uttar Pradesh        133.16  26.846708   \n",
       "33                               Uttarakhand         43.64  30.066753   \n",
       "34                               West Bengal        104.46  22.986757   \n",
       "\n",
       "          lon  \n",
       "0   92.924179  \n",
       "1   79.739990  \n",
       "2   94.727753  \n",
       "3   92.937576  \n",
       "4   85.313118  \n",
       "5   76.779419  \n",
       "6   81.866142  \n",
       "7   73.010643  \n",
       "8   77.102493  \n",
       "9   74.123993  \n",
       "10  71.192383  \n",
       "11  76.085602  \n",
       "12  77.173393  \n",
       "13  74.879997  \n",
       "14  85.279938  \n",
       "15  75.713890  \n",
       "16  76.271080  \n",
       "17 -73.997147  \n",
       "18  78.656891  \n",
       "19  75.713890  \n",
       "20  93.906265  \n",
       "21  91.366219  \n",
       "22  92.937576  \n",
       "23  94.562447  \n",
       "24  85.098526  \n",
       "25  79.808289  \n",
       "26  75.341217  \n",
       "27  74.217934  \n",
       "28  88.512215  \n",
       "29  78.656891  \n",
       "30  79.019302  \n",
       "31  91.988152  \n",
       "32  80.946159  \n",
       "33  79.019302  \n",
       "34  87.854973  "
      ]
     },
     "execution_count": 196,
     "metadata": {},
     "output_type": "execute_result"
    }
   ],
   "source": [
    "in_states.sort()\n",
    "tot_active_result=[]\n",
    "for i in in_states:\n",
    "    tot_active_result.append(int(d1[d1['state']==i]['active']))\n",
    "    \n",
    "\n",
    "in_map=pd.DataFrame()\n",
    "\n",
    "in_map['states']=in_states\n",
    "in_map['Total_Active']=tot_active_result\n",
    "in_map['lat']=[12.367180, 15.912900, 28.217999, 26.200603, 25.096073, 30.733315, 21.278658, 20.202690, 28.704060, 15.299326, 22.258652, 29.058777, 31.104830, 32.705330, 23.610182, 15.317277, 10.850516, 40.724579, 22.973423, 19.751480, 24.663717, 25.467031, 23.164543, 26.158436, 20.951666, 11.941552, 31.147129, 27.023804,\n",
    "              27.532972, 11.127123, 18.112436, 23.940847, 26.846708, 30.066753, 22.986757]\n",
    "in_map['lon']=[92.924179, 79.739990, 94.727753, 92.937576, 85.313118, 76.779419, 81.866142, 73.010643, 77.102493, 74.123993, 71.192383, 76.085602, 77.173393, 74.879997, 85.279938, 75.713890, 76.271080, -73.997147, 78.656891, 75.713890, 93.906265, 91.366219, 92.937576, 94.562447, 85.098526, 79.808289, 75.341217, 74.217934,\n",
    "              88.512215, 78.656891, 79.019302, 91.988152, 80.946159, 79.019302, 87.854973]\n",
    "\n",
    "in_map['Total_Active']=in_map['Total_Active']/100\n",
    "in_map"
   ]
  },
  {
   "cell_type": "code",
   "execution_count": 200,
   "metadata": {},
   "outputs": [
    {
     "data": {
      "application/vnd.plotly.v1+json": {
       "config": {
        "plotlyServerURL": "https://plot.ly"
       },
       "data": [
        {
         "lat": [
          12.36718,
          15.9129
         ],
         "locationmode": "geojson-id",
         "lon": [
          92.924179,
          79.73999
         ],
         "marker": {
          "color": "royalblue",
          "line": {
           "color": "rgb(40,40,40)",
           "width": 0.5
          },
          "size": [
           0.4,
           30.7
          ],
          "sizemode": "area"
         },
         "name": "0 - 2",
         "text": [
          "Andaman and Nicobar Islands<br>Positive cases 4.0000000000000003e-07 million",
          "Andhra Pradesh<br>Positive cases 3.07e-05 million"
         ],
         "type": "scattergeo"
        },
        {
         "lat": [
          26.200603,
          25.096073,
          30.733315,
          21.278658,
          20.20269,
          28.70406,
          15.299326
         ],
         "locationmode": "geojson-id",
         "lon": [
          92.937576,
          85.313118,
          76.779419,
          81.866142,
          73.010643,
          77.102493,
          74.123993
         ],
         "marker": {
          "color": "crimson",
          "line": {
           "color": "rgb(40,40,40)",
           "width": 0.5
          },
          "size": [
           31.2,
           43.18,
           2.81,
           99.8,
           0.11,
           50.44,
           9.01
          ],
          "sizemode": "area"
         },
         "name": "3 - 10",
         "text": [
          "Assam<br>Positive cases 3.12e-05 million",
          "Bihar<br>Positive cases 4.3179999999999997e-05 million",
          "Chandigarh<br>Positive cases 2.81e-06 million",
          "Chhattisgarh<br>Positive cases 9.98e-05 million",
          "Dadra and Nagar Haveli and Daman and Diu<br>Positive cases 1.1e-07 million",
          "Delhi<br>Positive cases 5.044e-05 million",
          "Goa<br>Positive cases 9.01e-06 million"
         ],
         "type": "scattergeo"
        },
        {
         "lat": [
          29.058777,
          31.10483,
          32.70533,
          23.610182,
          15.317277,
          10.850516,
          40.724579,
          22.973423,
          19.75148
         ],
         "locationmode": "geojson-id",
         "lon": [
          76.085602,
          77.173393,
          74.879997,
          85.279938,
          75.71389,
          76.27108,
          -73.997147,
          78.656891,
          75.71389
         ],
         "marker": {
          "color": "lightseagreen",
          "line": {
           "color": "rgb(40,40,40)",
           "width": 0.5
          },
          "size": [
           28.9,
           18.3,
           29.75,
           16.01,
           108.93,
           652.77,
           2.61,
           88.52,
           543.17
          ],
          "sizemode": "area"
         },
         "name": "11 - 20",
         "text": [
          "Haryana<br>Positive cases 2.8899999999999998e-05 million",
          "Himachal Pradesh<br>Positive cases 1.83e-05 million",
          "Jammu and Kashmir<br>Positive cases 2.975e-05 million",
          "Jharkhand<br>Positive cases 1.601e-05 million",
          "Karnataka<br>Positive cases 0.00010893 million",
          "Kerala<br>Positive cases 0.00065277 million",
          "Ladakh<br>Positive cases 2.61e-06 million",
          "Madhya Pradesh<br>Positive cases 8.852e-05 million",
          "Maharashtra<br>Positive cases 0.0005431699999999999 million"
         ],
         "type": "scattergeo"
        },
        {
         "lat": [
          25.467031,
          23.164543,
          26.158436,
          20.951666,
          11.941552,
          31.147129,
          27.023804,
          27.532972,
          11.127123,
          18.112436,
          23.940847,
          26.846708,
          30.066753,
          22.986757
         ],
         "locationmode": "geojson-id",
         "lon": [
          91.366219,
          92.937576,
          94.562447,
          85.098526,
          79.808289,
          75.341217,
          74.217934,
          88.512215,
          78.656891,
          79.019302,
          91.988152,
          80.946159,
          79.019302,
          87.854973
         ],
         "marker": {
          "color": "orange",
          "line": {
           "color": "rgb(40,40,40)",
           "width": 0.5
          },
          "size": [
           1.35,
           1.08,
           1.86,
           24.08,
           3.58,
           33.61,
           87.95,
           5.3,
           81.27,
           53.88,
           0.88,
           133.16,
           43.64,
           104.46
          ],
          "sizemode": "area"
         },
         "name": "21 - 50",
         "text": [
          "Meghalaya<br>Positive cases 1.35e-06 million",
          "Mizoram<br>Positive cases 1.08e-06 million",
          "Nagaland<br>Positive cases 1.8600000000000002e-06 million",
          "Odisha<br>Positive cases 2.408e-05 million",
          "Puducherry<br>Positive cases 3.58e-06 million",
          "Punjab<br>Positive cases 3.361e-05 million",
          "Rajasthan<br>Positive cases 8.795e-05 million",
          "Sikkim<br>Positive cases 5.3e-06 million",
          "Tamil Nadu<br>Positive cases 8.127e-05 million",
          "Telangana<br>Positive cases 5.3880000000000006e-05 million",
          "Tripura<br>Positive cases 8.8e-07 million",
          "Uttar Pradesh<br>Positive cases 0.00013316 million",
          "Uttarakhand<br>Positive cases 4.364e-05 million",
          "West Bengal<br>Positive cases 0.00010446 million"
         ],
         "type": "scattergeo"
        },
        {
         "lat": [],
         "locationmode": "geojson-id",
         "lon": [],
         "marker": {
          "color": "lightgrey",
          "line": {
           "color": "rgb(40,40,40)",
           "width": 0.5
          },
          "size": [],
          "sizemode": "area"
         },
         "name": "50 - 3000",
         "text": [],
         "type": "scattergeo"
        }
       ],
       "layout": {
        "font": {
         "color": "#7FDBFF"
        },
        "geo": {
         "landcolor": "rgb(217, 217, 217)",
         "scope": "asia"
        },
        "paper_bgcolor": "#003f5c",
        "plot_bgcolor": "#003f5c",
        "showlegend": true,
        "template": {
         "data": {
          "bar": [
           {
            "error_x": {
             "color": "#2a3f5f"
            },
            "error_y": {
             "color": "#2a3f5f"
            },
            "marker": {
             "line": {
              "color": "#E5ECF6",
              "width": 0.5
             }
            },
            "type": "bar"
           }
          ],
          "barpolar": [
           {
            "marker": {
             "line": {
              "color": "#E5ECF6",
              "width": 0.5
             }
            },
            "type": "barpolar"
           }
          ],
          "carpet": [
           {
            "aaxis": {
             "endlinecolor": "#2a3f5f",
             "gridcolor": "white",
             "linecolor": "white",
             "minorgridcolor": "white",
             "startlinecolor": "#2a3f5f"
            },
            "baxis": {
             "endlinecolor": "#2a3f5f",
             "gridcolor": "white",
             "linecolor": "white",
             "minorgridcolor": "white",
             "startlinecolor": "#2a3f5f"
            },
            "type": "carpet"
           }
          ],
          "choropleth": [
           {
            "colorbar": {
             "outlinewidth": 0,
             "ticks": ""
            },
            "type": "choropleth"
           }
          ],
          "contour": [
           {
            "colorbar": {
             "outlinewidth": 0,
             "ticks": ""
            },
            "colorscale": [
             [
              0,
              "#0d0887"
             ],
             [
              0.1111111111111111,
              "#46039f"
             ],
             [
              0.2222222222222222,
              "#7201a8"
             ],
             [
              0.3333333333333333,
              "#9c179e"
             ],
             [
              0.4444444444444444,
              "#bd3786"
             ],
             [
              0.5555555555555556,
              "#d8576b"
             ],
             [
              0.6666666666666666,
              "#ed7953"
             ],
             [
              0.7777777777777778,
              "#fb9f3a"
             ],
             [
              0.8888888888888888,
              "#fdca26"
             ],
             [
              1,
              "#f0f921"
             ]
            ],
            "type": "contour"
           }
          ],
          "contourcarpet": [
           {
            "colorbar": {
             "outlinewidth": 0,
             "ticks": ""
            },
            "type": "contourcarpet"
           }
          ],
          "heatmap": [
           {
            "colorbar": {
             "outlinewidth": 0,
             "ticks": ""
            },
            "colorscale": [
             [
              0,
              "#0d0887"
             ],
             [
              0.1111111111111111,
              "#46039f"
             ],
             [
              0.2222222222222222,
              "#7201a8"
             ],
             [
              0.3333333333333333,
              "#9c179e"
             ],
             [
              0.4444444444444444,
              "#bd3786"
             ],
             [
              0.5555555555555556,
              "#d8576b"
             ],
             [
              0.6666666666666666,
              "#ed7953"
             ],
             [
              0.7777777777777778,
              "#fb9f3a"
             ],
             [
              0.8888888888888888,
              "#fdca26"
             ],
             [
              1,
              "#f0f921"
             ]
            ],
            "type": "heatmap"
           }
          ],
          "heatmapgl": [
           {
            "colorbar": {
             "outlinewidth": 0,
             "ticks": ""
            },
            "colorscale": [
             [
              0,
              "#0d0887"
             ],
             [
              0.1111111111111111,
              "#46039f"
             ],
             [
              0.2222222222222222,
              "#7201a8"
             ],
             [
              0.3333333333333333,
              "#9c179e"
             ],
             [
              0.4444444444444444,
              "#bd3786"
             ],
             [
              0.5555555555555556,
              "#d8576b"
             ],
             [
              0.6666666666666666,
              "#ed7953"
             ],
             [
              0.7777777777777778,
              "#fb9f3a"
             ],
             [
              0.8888888888888888,
              "#fdca26"
             ],
             [
              1,
              "#f0f921"
             ]
            ],
            "type": "heatmapgl"
           }
          ],
          "histogram": [
           {
            "marker": {
             "colorbar": {
              "outlinewidth": 0,
              "ticks": ""
             }
            },
            "type": "histogram"
           }
          ],
          "histogram2d": [
           {
            "colorbar": {
             "outlinewidth": 0,
             "ticks": ""
            },
            "colorscale": [
             [
              0,
              "#0d0887"
             ],
             [
              0.1111111111111111,
              "#46039f"
             ],
             [
              0.2222222222222222,
              "#7201a8"
             ],
             [
              0.3333333333333333,
              "#9c179e"
             ],
             [
              0.4444444444444444,
              "#bd3786"
             ],
             [
              0.5555555555555556,
              "#d8576b"
             ],
             [
              0.6666666666666666,
              "#ed7953"
             ],
             [
              0.7777777777777778,
              "#fb9f3a"
             ],
             [
              0.8888888888888888,
              "#fdca26"
             ],
             [
              1,
              "#f0f921"
             ]
            ],
            "type": "histogram2d"
           }
          ],
          "histogram2dcontour": [
           {
            "colorbar": {
             "outlinewidth": 0,
             "ticks": ""
            },
            "colorscale": [
             [
              0,
              "#0d0887"
             ],
             [
              0.1111111111111111,
              "#46039f"
             ],
             [
              0.2222222222222222,
              "#7201a8"
             ],
             [
              0.3333333333333333,
              "#9c179e"
             ],
             [
              0.4444444444444444,
              "#bd3786"
             ],
             [
              0.5555555555555556,
              "#d8576b"
             ],
             [
              0.6666666666666666,
              "#ed7953"
             ],
             [
              0.7777777777777778,
              "#fb9f3a"
             ],
             [
              0.8888888888888888,
              "#fdca26"
             ],
             [
              1,
              "#f0f921"
             ]
            ],
            "type": "histogram2dcontour"
           }
          ],
          "mesh3d": [
           {
            "colorbar": {
             "outlinewidth": 0,
             "ticks": ""
            },
            "type": "mesh3d"
           }
          ],
          "parcoords": [
           {
            "line": {
             "colorbar": {
              "outlinewidth": 0,
              "ticks": ""
             }
            },
            "type": "parcoords"
           }
          ],
          "pie": [
           {
            "automargin": true,
            "type": "pie"
           }
          ],
          "scatter": [
           {
            "marker": {
             "colorbar": {
              "outlinewidth": 0,
              "ticks": ""
             }
            },
            "type": "scatter"
           }
          ],
          "scatter3d": [
           {
            "line": {
             "colorbar": {
              "outlinewidth": 0,
              "ticks": ""
             }
            },
            "marker": {
             "colorbar": {
              "outlinewidth": 0,
              "ticks": ""
             }
            },
            "type": "scatter3d"
           }
          ],
          "scattercarpet": [
           {
            "marker": {
             "colorbar": {
              "outlinewidth": 0,
              "ticks": ""
             }
            },
            "type": "scattercarpet"
           }
          ],
          "scattergeo": [
           {
            "marker": {
             "colorbar": {
              "outlinewidth": 0,
              "ticks": ""
             }
            },
            "type": "scattergeo"
           }
          ],
          "scattergl": [
           {
            "marker": {
             "colorbar": {
              "outlinewidth": 0,
              "ticks": ""
             }
            },
            "type": "scattergl"
           }
          ],
          "scattermapbox": [
           {
            "marker": {
             "colorbar": {
              "outlinewidth": 0,
              "ticks": ""
             }
            },
            "type": "scattermapbox"
           }
          ],
          "scatterpolar": [
           {
            "marker": {
             "colorbar": {
              "outlinewidth": 0,
              "ticks": ""
             }
            },
            "type": "scatterpolar"
           }
          ],
          "scatterpolargl": [
           {
            "marker": {
             "colorbar": {
              "outlinewidth": 0,
              "ticks": ""
             }
            },
            "type": "scatterpolargl"
           }
          ],
          "scatterternary": [
           {
            "marker": {
             "colorbar": {
              "outlinewidth": 0,
              "ticks": ""
             }
            },
            "type": "scatterternary"
           }
          ],
          "surface": [
           {
            "colorbar": {
             "outlinewidth": 0,
             "ticks": ""
            },
            "colorscale": [
             [
              0,
              "#0d0887"
             ],
             [
              0.1111111111111111,
              "#46039f"
             ],
             [
              0.2222222222222222,
              "#7201a8"
             ],
             [
              0.3333333333333333,
              "#9c179e"
             ],
             [
              0.4444444444444444,
              "#bd3786"
             ],
             [
              0.5555555555555556,
              "#d8576b"
             ],
             [
              0.6666666666666666,
              "#ed7953"
             ],
             [
              0.7777777777777778,
              "#fb9f3a"
             ],
             [
              0.8888888888888888,
              "#fdca26"
             ],
             [
              1,
              "#f0f921"
             ]
            ],
            "type": "surface"
           }
          ],
          "table": [
           {
            "cells": {
             "fill": {
              "color": "#EBF0F8"
             },
             "line": {
              "color": "white"
             }
            },
            "header": {
             "fill": {
              "color": "#C8D4E3"
             },
             "line": {
              "color": "white"
             }
            },
            "type": "table"
           }
          ]
         },
         "layout": {
          "annotationdefaults": {
           "arrowcolor": "#2a3f5f",
           "arrowhead": 0,
           "arrowwidth": 1
          },
          "autotypenumbers": "strict",
          "coloraxis": {
           "colorbar": {
            "outlinewidth": 0,
            "ticks": ""
           }
          },
          "colorscale": {
           "diverging": [
            [
             0,
             "#8e0152"
            ],
            [
             0.1,
             "#c51b7d"
            ],
            [
             0.2,
             "#de77ae"
            ],
            [
             0.3,
             "#f1b6da"
            ],
            [
             0.4,
             "#fde0ef"
            ],
            [
             0.5,
             "#f7f7f7"
            ],
            [
             0.6,
             "#e6f5d0"
            ],
            [
             0.7,
             "#b8e186"
            ],
            [
             0.8,
             "#7fbc41"
            ],
            [
             0.9,
             "#4d9221"
            ],
            [
             1,
             "#276419"
            ]
           ],
           "sequential": [
            [
             0,
             "#0d0887"
            ],
            [
             0.1111111111111111,
             "#46039f"
            ],
            [
             0.2222222222222222,
             "#7201a8"
            ],
            [
             0.3333333333333333,
             "#9c179e"
            ],
            [
             0.4444444444444444,
             "#bd3786"
            ],
            [
             0.5555555555555556,
             "#d8576b"
            ],
            [
             0.6666666666666666,
             "#ed7953"
            ],
            [
             0.7777777777777778,
             "#fb9f3a"
            ],
            [
             0.8888888888888888,
             "#fdca26"
            ],
            [
             1,
             "#f0f921"
            ]
           ],
           "sequentialminus": [
            [
             0,
             "#0d0887"
            ],
            [
             0.1111111111111111,
             "#46039f"
            ],
            [
             0.2222222222222222,
             "#7201a8"
            ],
            [
             0.3333333333333333,
             "#9c179e"
            ],
            [
             0.4444444444444444,
             "#bd3786"
            ],
            [
             0.5555555555555556,
             "#d8576b"
            ],
            [
             0.6666666666666666,
             "#ed7953"
            ],
            [
             0.7777777777777778,
             "#fb9f3a"
            ],
            [
             0.8888888888888888,
             "#fdca26"
            ],
            [
             1,
             "#f0f921"
            ]
           ]
          },
          "colorway": [
           "#636efa",
           "#EF553B",
           "#00cc96",
           "#ab63fa",
           "#FFA15A",
           "#19d3f3",
           "#FF6692",
           "#B6E880",
           "#FF97FF",
           "#FECB52"
          ],
          "font": {
           "color": "#2a3f5f"
          },
          "geo": {
           "bgcolor": "white",
           "lakecolor": "white",
           "landcolor": "#E5ECF6",
           "showlakes": true,
           "showland": true,
           "subunitcolor": "white"
          },
          "hoverlabel": {
           "align": "left"
          },
          "hovermode": "closest",
          "mapbox": {
           "style": "light"
          },
          "paper_bgcolor": "white",
          "plot_bgcolor": "#E5ECF6",
          "polar": {
           "angularaxis": {
            "gridcolor": "white",
            "linecolor": "white",
            "ticks": ""
           },
           "bgcolor": "#E5ECF6",
           "radialaxis": {
            "gridcolor": "white",
            "linecolor": "white",
            "ticks": ""
           }
          },
          "scene": {
           "xaxis": {
            "backgroundcolor": "#E5ECF6",
            "gridcolor": "white",
            "gridwidth": 2,
            "linecolor": "white",
            "showbackground": true,
            "ticks": "",
            "zerolinecolor": "white"
           },
           "yaxis": {
            "backgroundcolor": "#E5ECF6",
            "gridcolor": "white",
            "gridwidth": 2,
            "linecolor": "white",
            "showbackground": true,
            "ticks": "",
            "zerolinecolor": "white"
           },
           "zaxis": {
            "backgroundcolor": "#E5ECF6",
            "gridcolor": "white",
            "gridwidth": 2,
            "linecolor": "white",
            "showbackground": true,
            "ticks": "",
            "zerolinecolor": "white"
           }
          },
          "shapedefaults": {
           "line": {
            "color": "#2a3f5f"
           }
          },
          "ternary": {
           "aaxis": {
            "gridcolor": "white",
            "linecolor": "white",
            "ticks": ""
           },
           "baxis": {
            "gridcolor": "white",
            "linecolor": "white",
            "ticks": ""
           },
           "bgcolor": "#E5ECF6",
           "caxis": {
            "gridcolor": "white",
            "linecolor": "white",
            "ticks": ""
           }
          },
          "title": {
           "x": 0.05
          },
          "xaxis": {
           "automargin": true,
           "gridcolor": "white",
           "linecolor": "white",
           "ticks": "",
           "title": {
            "standoff": 15
           },
           "zerolinecolor": "white",
           "zerolinewidth": 2
          },
          "yaxis": {
           "automargin": true,
           "gridcolor": "white",
           "linecolor": "white",
           "ticks": "",
           "title": {
            "standoff": 15
           },
           "zerolinecolor": "white",
           "zerolinewidth": 2
          }
         }
        },
        "title": {
         "text": " Total positive cases till Dec'20 "
        }
       }
      },
      "text/html": [
       "<div>                            <div id=\"6b7396a6-baba-4680-be71-e7ecc376d046\" class=\"plotly-graph-div\" style=\"height:525px; width:100%;\"></div>            <script type=\"text/javascript\">                require([\"plotly\"], function(Plotly) {                    window.PLOTLYENV=window.PLOTLYENV || {};                                    if (document.getElementById(\"6b7396a6-baba-4680-be71-e7ecc376d046\")) {                    Plotly.newPlot(                        \"6b7396a6-baba-4680-be71-e7ecc376d046\",                        [{\"lat\": [12.36718, 15.9129], \"locationmode\": \"geojson-id\", \"lon\": [92.924179, 79.73999], \"marker\": {\"color\": \"royalblue\", \"line\": {\"color\": \"rgb(40,40,40)\", \"width\": 0.5}, \"size\": [0.4, 30.7], \"sizemode\": \"area\"}, \"name\": \"0 - 2\", \"text\": [\"Andaman and Nicobar Islands<br>Positive cases 4.0000000000000003e-07 million\", \"Andhra Pradesh<br>Positive cases 3.07e-05 million\"], \"type\": \"scattergeo\"}, {\"lat\": [26.200603, 25.096073, 30.733315, 21.278658, 20.20269, 28.70406, 15.299326], \"locationmode\": \"geojson-id\", \"lon\": [92.937576, 85.313118, 76.779419, 81.866142, 73.010643, 77.102493, 74.123993], \"marker\": {\"color\": \"crimson\", \"line\": {\"color\": \"rgb(40,40,40)\", \"width\": 0.5}, \"size\": [31.2, 43.18, 2.81, 99.8, 0.11, 50.44, 9.01], \"sizemode\": \"area\"}, \"name\": \"3 - 10\", \"text\": [\"Assam<br>Positive cases 3.12e-05 million\", \"Bihar<br>Positive cases 4.3179999999999997e-05 million\", \"Chandigarh<br>Positive cases 2.81e-06 million\", \"Chhattisgarh<br>Positive cases 9.98e-05 million\", \"Dadra and Nagar Haveli and Daman and Diu<br>Positive cases 1.1e-07 million\", \"Delhi<br>Positive cases 5.044e-05 million\", \"Goa<br>Positive cases 9.01e-06 million\"], \"type\": \"scattergeo\"}, {\"lat\": [29.058777, 31.10483, 32.70533, 23.610182, 15.317277, 10.850516, 40.724579, 22.973423, 19.75148], \"locationmode\": \"geojson-id\", \"lon\": [76.085602, 77.173393, 74.879997, 85.279938, 75.71389, 76.27108, -73.997147, 78.656891, 75.71389], \"marker\": {\"color\": \"lightseagreen\", \"line\": {\"color\": \"rgb(40,40,40)\", \"width\": 0.5}, \"size\": [28.9, 18.3, 29.75, 16.01, 108.93, 652.77, 2.61, 88.52, 543.17], \"sizemode\": \"area\"}, \"name\": \"11 - 20\", \"text\": [\"Haryana<br>Positive cases 2.8899999999999998e-05 million\", \"Himachal Pradesh<br>Positive cases 1.83e-05 million\", \"Jammu and Kashmir<br>Positive cases 2.975e-05 million\", \"Jharkhand<br>Positive cases 1.601e-05 million\", \"Karnataka<br>Positive cases 0.00010893 million\", \"Kerala<br>Positive cases 0.00065277 million\", \"Ladakh<br>Positive cases 2.61e-06 million\", \"Madhya Pradesh<br>Positive cases 8.852e-05 million\", \"Maharashtra<br>Positive cases 0.0005431699999999999 million\"], \"type\": \"scattergeo\"}, {\"lat\": [25.467031, 23.164543, 26.158436, 20.951666, 11.941552, 31.147129, 27.023804, 27.532972, 11.127123, 18.112436, 23.940847, 26.846708, 30.066753, 22.986757], \"locationmode\": \"geojson-id\", \"lon\": [91.366219, 92.937576, 94.562447, 85.098526, 79.808289, 75.341217, 74.217934, 88.512215, 78.656891, 79.019302, 91.988152, 80.946159, 79.019302, 87.854973], \"marker\": {\"color\": \"orange\", \"line\": {\"color\": \"rgb(40,40,40)\", \"width\": 0.5}, \"size\": [1.35, 1.08, 1.86, 24.08, 3.58, 33.61, 87.95, 5.3, 81.27, 53.88, 0.88, 133.16, 43.64, 104.46], \"sizemode\": \"area\"}, \"name\": \"21 - 50\", \"text\": [\"Meghalaya<br>Positive cases 1.35e-06 million\", \"Mizoram<br>Positive cases 1.08e-06 million\", \"Nagaland<br>Positive cases 1.8600000000000002e-06 million\", \"Odisha<br>Positive cases 2.408e-05 million\", \"Puducherry<br>Positive cases 3.58e-06 million\", \"Punjab<br>Positive cases 3.361e-05 million\", \"Rajasthan<br>Positive cases 8.795e-05 million\", \"Sikkim<br>Positive cases 5.3e-06 million\", \"Tamil Nadu<br>Positive cases 8.127e-05 million\", \"Telangana<br>Positive cases 5.3880000000000006e-05 million\", \"Tripura<br>Positive cases 8.8e-07 million\", \"Uttar Pradesh<br>Positive cases 0.00013316 million\", \"Uttarakhand<br>Positive cases 4.364e-05 million\", \"West Bengal<br>Positive cases 0.00010446 million\"], \"type\": \"scattergeo\"}, {\"lat\": [], \"locationmode\": \"geojson-id\", \"lon\": [], \"marker\": {\"color\": \"lightgrey\", \"line\": {\"color\": \"rgb(40,40,40)\", \"width\": 0.5}, \"size\": [], \"sizemode\": \"area\"}, \"name\": \"50 - 3000\", \"text\": [], \"type\": \"scattergeo\"}],                        {\"font\": {\"color\": \"#7FDBFF\"}, \"geo\": {\"landcolor\": \"rgb(217, 217, 217)\", \"scope\": \"asia\"}, \"paper_bgcolor\": \"#003f5c\", \"plot_bgcolor\": \"#003f5c\", \"showlegend\": true, \"template\": {\"data\": {\"bar\": [{\"error_x\": {\"color\": \"#2a3f5f\"}, \"error_y\": {\"color\": \"#2a3f5f\"}, \"marker\": {\"line\": {\"color\": \"#E5ECF6\", \"width\": 0.5}}, \"type\": \"bar\"}], \"barpolar\": [{\"marker\": {\"line\": {\"color\": \"#E5ECF6\", \"width\": 0.5}}, \"type\": \"barpolar\"}], \"carpet\": [{\"aaxis\": {\"endlinecolor\": \"#2a3f5f\", \"gridcolor\": \"white\", \"linecolor\": \"white\", \"minorgridcolor\": \"white\", \"startlinecolor\": \"#2a3f5f\"}, \"baxis\": {\"endlinecolor\": \"#2a3f5f\", \"gridcolor\": \"white\", \"linecolor\": \"white\", \"minorgridcolor\": \"white\", \"startlinecolor\": \"#2a3f5f\"}, \"type\": \"carpet\"}], \"choropleth\": [{\"colorbar\": {\"outlinewidth\": 0, \"ticks\": \"\"}, \"type\": \"choropleth\"}], \"contour\": [{\"colorbar\": {\"outlinewidth\": 0, \"ticks\": \"\"}, \"colorscale\": [[0.0, \"#0d0887\"], [0.1111111111111111, \"#46039f\"], [0.2222222222222222, \"#7201a8\"], [0.3333333333333333, \"#9c179e\"], [0.4444444444444444, \"#bd3786\"], [0.5555555555555556, \"#d8576b\"], [0.6666666666666666, \"#ed7953\"], [0.7777777777777778, \"#fb9f3a\"], [0.8888888888888888, \"#fdca26\"], [1.0, \"#f0f921\"]], \"type\": \"contour\"}], \"contourcarpet\": [{\"colorbar\": {\"outlinewidth\": 0, \"ticks\": \"\"}, \"type\": \"contourcarpet\"}], \"heatmap\": [{\"colorbar\": {\"outlinewidth\": 0, \"ticks\": \"\"}, \"colorscale\": [[0.0, \"#0d0887\"], [0.1111111111111111, \"#46039f\"], [0.2222222222222222, \"#7201a8\"], [0.3333333333333333, \"#9c179e\"], [0.4444444444444444, \"#bd3786\"], [0.5555555555555556, \"#d8576b\"], [0.6666666666666666, \"#ed7953\"], [0.7777777777777778, \"#fb9f3a\"], [0.8888888888888888, \"#fdca26\"], [1.0, \"#f0f921\"]], \"type\": \"heatmap\"}], \"heatmapgl\": [{\"colorbar\": {\"outlinewidth\": 0, \"ticks\": \"\"}, \"colorscale\": [[0.0, \"#0d0887\"], [0.1111111111111111, \"#46039f\"], [0.2222222222222222, \"#7201a8\"], [0.3333333333333333, \"#9c179e\"], [0.4444444444444444, \"#bd3786\"], [0.5555555555555556, \"#d8576b\"], [0.6666666666666666, \"#ed7953\"], [0.7777777777777778, \"#fb9f3a\"], [0.8888888888888888, \"#fdca26\"], [1.0, \"#f0f921\"]], \"type\": \"heatmapgl\"}], \"histogram\": [{\"marker\": {\"colorbar\": {\"outlinewidth\": 0, \"ticks\": \"\"}}, \"type\": \"histogram\"}], \"histogram2d\": [{\"colorbar\": {\"outlinewidth\": 0, \"ticks\": \"\"}, \"colorscale\": [[0.0, \"#0d0887\"], [0.1111111111111111, \"#46039f\"], [0.2222222222222222, \"#7201a8\"], [0.3333333333333333, \"#9c179e\"], [0.4444444444444444, \"#bd3786\"], [0.5555555555555556, \"#d8576b\"], [0.6666666666666666, \"#ed7953\"], [0.7777777777777778, \"#fb9f3a\"], [0.8888888888888888, \"#fdca26\"], [1.0, \"#f0f921\"]], \"type\": \"histogram2d\"}], \"histogram2dcontour\": [{\"colorbar\": {\"outlinewidth\": 0, \"ticks\": \"\"}, \"colorscale\": [[0.0, \"#0d0887\"], [0.1111111111111111, \"#46039f\"], [0.2222222222222222, \"#7201a8\"], [0.3333333333333333, \"#9c179e\"], [0.4444444444444444, \"#bd3786\"], [0.5555555555555556, \"#d8576b\"], [0.6666666666666666, \"#ed7953\"], [0.7777777777777778, \"#fb9f3a\"], [0.8888888888888888, \"#fdca26\"], [1.0, \"#f0f921\"]], \"type\": \"histogram2dcontour\"}], \"mesh3d\": [{\"colorbar\": {\"outlinewidth\": 0, \"ticks\": \"\"}, \"type\": \"mesh3d\"}], \"parcoords\": [{\"line\": {\"colorbar\": {\"outlinewidth\": 0, \"ticks\": \"\"}}, \"type\": \"parcoords\"}], \"pie\": [{\"automargin\": true, \"type\": \"pie\"}], \"scatter\": [{\"marker\": {\"colorbar\": {\"outlinewidth\": 0, \"ticks\": \"\"}}, \"type\": \"scatter\"}], \"scatter3d\": [{\"line\": {\"colorbar\": {\"outlinewidth\": 0, \"ticks\": \"\"}}, \"marker\": {\"colorbar\": {\"outlinewidth\": 0, \"ticks\": \"\"}}, \"type\": \"scatter3d\"}], \"scattercarpet\": [{\"marker\": {\"colorbar\": {\"outlinewidth\": 0, \"ticks\": \"\"}}, \"type\": \"scattercarpet\"}], \"scattergeo\": [{\"marker\": {\"colorbar\": {\"outlinewidth\": 0, \"ticks\": \"\"}}, \"type\": \"scattergeo\"}], \"scattergl\": [{\"marker\": {\"colorbar\": {\"outlinewidth\": 0, \"ticks\": \"\"}}, \"type\": \"scattergl\"}], \"scattermapbox\": [{\"marker\": {\"colorbar\": {\"outlinewidth\": 0, \"ticks\": \"\"}}, \"type\": \"scattermapbox\"}], \"scatterpolar\": [{\"marker\": {\"colorbar\": {\"outlinewidth\": 0, \"ticks\": \"\"}}, \"type\": \"scatterpolar\"}], \"scatterpolargl\": [{\"marker\": {\"colorbar\": {\"outlinewidth\": 0, \"ticks\": \"\"}}, \"type\": \"scatterpolargl\"}], \"scatterternary\": [{\"marker\": {\"colorbar\": {\"outlinewidth\": 0, \"ticks\": \"\"}}, \"type\": \"scatterternary\"}], \"surface\": [{\"colorbar\": {\"outlinewidth\": 0, \"ticks\": \"\"}, \"colorscale\": [[0.0, \"#0d0887\"], [0.1111111111111111, \"#46039f\"], [0.2222222222222222, \"#7201a8\"], [0.3333333333333333, \"#9c179e\"], [0.4444444444444444, \"#bd3786\"], [0.5555555555555556, \"#d8576b\"], [0.6666666666666666, \"#ed7953\"], [0.7777777777777778, \"#fb9f3a\"], [0.8888888888888888, \"#fdca26\"], [1.0, \"#f0f921\"]], \"type\": \"surface\"}], \"table\": [{\"cells\": {\"fill\": {\"color\": \"#EBF0F8\"}, \"line\": {\"color\": \"white\"}}, \"header\": {\"fill\": {\"color\": \"#C8D4E3\"}, \"line\": {\"color\": \"white\"}}, \"type\": \"table\"}]}, \"layout\": {\"annotationdefaults\": {\"arrowcolor\": \"#2a3f5f\", \"arrowhead\": 0, \"arrowwidth\": 1}, \"autotypenumbers\": \"strict\", \"coloraxis\": {\"colorbar\": {\"outlinewidth\": 0, \"ticks\": \"\"}}, \"colorscale\": {\"diverging\": [[0, \"#8e0152\"], [0.1, \"#c51b7d\"], [0.2, \"#de77ae\"], [0.3, \"#f1b6da\"], [0.4, \"#fde0ef\"], [0.5, \"#f7f7f7\"], [0.6, \"#e6f5d0\"], [0.7, \"#b8e186\"], [0.8, \"#7fbc41\"], [0.9, \"#4d9221\"], [1, \"#276419\"]], \"sequential\": [[0.0, \"#0d0887\"], [0.1111111111111111, \"#46039f\"], [0.2222222222222222, \"#7201a8\"], [0.3333333333333333, \"#9c179e\"], [0.4444444444444444, \"#bd3786\"], [0.5555555555555556, \"#d8576b\"], [0.6666666666666666, \"#ed7953\"], [0.7777777777777778, \"#fb9f3a\"], [0.8888888888888888, \"#fdca26\"], [1.0, \"#f0f921\"]], \"sequentialminus\": [[0.0, \"#0d0887\"], [0.1111111111111111, \"#46039f\"], [0.2222222222222222, \"#7201a8\"], [0.3333333333333333, \"#9c179e\"], [0.4444444444444444, \"#bd3786\"], [0.5555555555555556, \"#d8576b\"], [0.6666666666666666, \"#ed7953\"], [0.7777777777777778, \"#fb9f3a\"], [0.8888888888888888, \"#fdca26\"], [1.0, \"#f0f921\"]]}, \"colorway\": [\"#636efa\", \"#EF553B\", \"#00cc96\", \"#ab63fa\", \"#FFA15A\", \"#19d3f3\", \"#FF6692\", \"#B6E880\", \"#FF97FF\", \"#FECB52\"], \"font\": {\"color\": \"#2a3f5f\"}, \"geo\": {\"bgcolor\": \"white\", \"lakecolor\": \"white\", \"landcolor\": \"#E5ECF6\", \"showlakes\": true, \"showland\": true, \"subunitcolor\": \"white\"}, \"hoverlabel\": {\"align\": \"left\"}, \"hovermode\": \"closest\", \"mapbox\": {\"style\": \"light\"}, \"paper_bgcolor\": \"white\", \"plot_bgcolor\": \"#E5ECF6\", \"polar\": {\"angularaxis\": {\"gridcolor\": \"white\", \"linecolor\": \"white\", \"ticks\": \"\"}, \"bgcolor\": \"#E5ECF6\", \"radialaxis\": {\"gridcolor\": \"white\", \"linecolor\": \"white\", \"ticks\": \"\"}}, \"scene\": {\"xaxis\": {\"backgroundcolor\": \"#E5ECF6\", \"gridcolor\": \"white\", \"gridwidth\": 2, \"linecolor\": \"white\", \"showbackground\": true, \"ticks\": \"\", \"zerolinecolor\": \"white\"}, \"yaxis\": {\"backgroundcolor\": \"#E5ECF6\", \"gridcolor\": \"white\", \"gridwidth\": 2, \"linecolor\": \"white\", \"showbackground\": true, \"ticks\": \"\", \"zerolinecolor\": \"white\"}, \"zaxis\": {\"backgroundcolor\": \"#E5ECF6\", \"gridcolor\": \"white\", \"gridwidth\": 2, \"linecolor\": \"white\", \"showbackground\": true, \"ticks\": \"\", \"zerolinecolor\": \"white\"}}, \"shapedefaults\": {\"line\": {\"color\": \"#2a3f5f\"}}, \"ternary\": {\"aaxis\": {\"gridcolor\": \"white\", \"linecolor\": \"white\", \"ticks\": \"\"}, \"baxis\": {\"gridcolor\": \"white\", \"linecolor\": \"white\", \"ticks\": \"\"}, \"bgcolor\": \"#E5ECF6\", \"caxis\": {\"gridcolor\": \"white\", \"linecolor\": \"white\", \"ticks\": \"\"}}, \"title\": {\"x\": 0.05}, \"xaxis\": {\"automargin\": true, \"gridcolor\": \"white\", \"linecolor\": \"white\", \"ticks\": \"\", \"title\": {\"standoff\": 15}, \"zerolinecolor\": \"white\", \"zerolinewidth\": 2}, \"yaxis\": {\"automargin\": true, \"gridcolor\": \"white\", \"linecolor\": \"white\", \"ticks\": \"\", \"title\": {\"standoff\": 15}, \"zerolinecolor\": \"white\", \"zerolinewidth\": 2}}}, \"title\": {\"text\": \" Total positive cases till Dec'20 \"}},                        {\"responsive\": true}                    ).then(function(){\n",
       "                            \n",
       "var gd = document.getElementById('6b7396a6-baba-4680-be71-e7ecc376d046');\n",
       "var x = new MutationObserver(function (mutations, observer) {{\n",
       "        var display = window.getComputedStyle(gd).display;\n",
       "        if (!display || display === 'none') {{\n",
       "            console.log([gd, 'removed!']);\n",
       "            Plotly.purge(gd);\n",
       "            observer.disconnect();\n",
       "        }}\n",
       "}});\n",
       "\n",
       "// Listen for the removal of the full notebook cells\n",
       "var notebookContainer = gd.closest('#notebook-container');\n",
       "if (notebookContainer) {{\n",
       "    x.observe(notebookContainer, {childList: true});\n",
       "}}\n",
       "\n",
       "// Listen for the clearing of the current output cell\n",
       "var outputEl = gd.closest('.output');\n",
       "if (outputEl) {{\n",
       "    x.observe(outputEl, {childList: true});\n",
       "}}\n",
       "\n",
       "                        })                };                });            </script>        </div>"
      ]
     },
     "metadata": {},
     "output_type": "display_data"
    }
   ],
   "source": [
    "df = in_map\n",
    "df.head()\n",
    "\n",
    "df['text'] = df['states'] + '<br>Positive cases ' + (df['Total_Active']/1e6).astype(str)+' million'\n",
    "limits = [(0,2),(3,10),(11,20),(21,50),(50,3000)]\n",
    "colors = [\"royalblue\",\"crimson\",\"lightseagreen\",\"orange\",\"lightgrey\"]\n",
    "cities = []\n",
    "scale = 500\n",
    "\n",
    "fig7 = go.Figure()\n",
    "\n",
    "for i in range(len(limits)):\n",
    "    lim = limits[i]\n",
    "    df_sub = df[lim[0]:lim[1]]\n",
    "    fig7.add_trace(go.Scattergeo(\n",
    "        locationmode = 'geojson-id',\n",
    "        lon = df_sub['lon'],\n",
    "        lat = df_sub['lat'],\n",
    "        text = df_sub['text'],\n",
    "        marker = dict(\n",
    "            size = df_sub['Total_Active'],\n",
    "            color = colors[i],\n",
    "            line_color='rgb(40,40,40)',\n",
    "            line_width=0.5,\n",
    "            sizemode = 'area'\n",
    "        ),\n",
    "        name = '{0} - {1}'.format(lim[0],lim[1])))\n",
    "\n",
    "fig7.update_layout(\n",
    "        title_text = \" Total positive cases till Dec'20 \",\n",
    "        showlegend = True,\n",
    "        plot_bgcolor='#003f5c',\n",
    "        paper_bgcolor='#003f5c',\n",
    "        font_color='#7FDBFF',\n",
    "        geo = dict(\n",
    "            scope = 'asia',\n",
    "            landcolor = 'rgb(217, 217, 217)',\n",
    "        )\n",
    "    )\n",
    "\n",
    "fig7.show()"
   ]
  },
  {
   "cell_type": "code",
   "execution_count": 25,
   "metadata": {},
   "outputs": [
    {
     "data": {
      "text/html": [
       "<div>\n",
       "<style scoped>\n",
       "    .dataframe tbody tr th:only-of-type {\n",
       "        vertical-align: middle;\n",
       "    }\n",
       "\n",
       "    .dataframe tbody tr th {\n",
       "        vertical-align: top;\n",
       "    }\n",
       "\n",
       "    .dataframe thead th {\n",
       "        text-align: right;\n",
       "    }\n",
       "</style>\n",
       "<table border=\"1\" class=\"dataframe\">\n",
       "  <thead>\n",
       "    <tr style=\"text-align: right;\">\n",
       "      <th></th>\n",
       "      <th>Sno</th>\n",
       "      <th>Date</th>\n",
       "      <th>Time</th>\n",
       "      <th>State/UnionTerritory</th>\n",
       "      <th>ConfirmedIndianNational</th>\n",
       "      <th>ConfirmedForeignNational</th>\n",
       "      <th>Cured</th>\n",
       "      <th>Deaths</th>\n",
       "      <th>Confirmed</th>\n",
       "    </tr>\n",
       "  </thead>\n",
       "  <tbody>\n",
       "    <tr>\n",
       "      <th>0</th>\n",
       "      <td>1</td>\n",
       "      <td>30/01/20</td>\n",
       "      <td>6:00 PM</td>\n",
       "      <td>Kerala</td>\n",
       "      <td>1</td>\n",
       "      <td>0</td>\n",
       "      <td>0</td>\n",
       "      <td>0</td>\n",
       "      <td>1</td>\n",
       "    </tr>\n",
       "    <tr>\n",
       "      <th>1</th>\n",
       "      <td>2</td>\n",
       "      <td>31/01/20</td>\n",
       "      <td>6:00 PM</td>\n",
       "      <td>Kerala</td>\n",
       "      <td>1</td>\n",
       "      <td>0</td>\n",
       "      <td>0</td>\n",
       "      <td>0</td>\n",
       "      <td>1</td>\n",
       "    </tr>\n",
       "    <tr>\n",
       "      <th>2</th>\n",
       "      <td>3</td>\n",
       "      <td>01/02/20</td>\n",
       "      <td>6:00 PM</td>\n",
       "      <td>Kerala</td>\n",
       "      <td>2</td>\n",
       "      <td>0</td>\n",
       "      <td>0</td>\n",
       "      <td>0</td>\n",
       "      <td>2</td>\n",
       "    </tr>\n",
       "    <tr>\n",
       "      <th>3</th>\n",
       "      <td>4</td>\n",
       "      <td>02/02/20</td>\n",
       "      <td>6:00 PM</td>\n",
       "      <td>Kerala</td>\n",
       "      <td>3</td>\n",
       "      <td>0</td>\n",
       "      <td>0</td>\n",
       "      <td>0</td>\n",
       "      <td>3</td>\n",
       "    </tr>\n",
       "    <tr>\n",
       "      <th>4</th>\n",
       "      <td>5</td>\n",
       "      <td>03/02/20</td>\n",
       "      <td>6:00 PM</td>\n",
       "      <td>Kerala</td>\n",
       "      <td>3</td>\n",
       "      <td>0</td>\n",
       "      <td>0</td>\n",
       "      <td>0</td>\n",
       "      <td>3</td>\n",
       "    </tr>\n",
       "    <tr>\n",
       "      <th>...</th>\n",
       "      <td>...</td>\n",
       "      <td>...</td>\n",
       "      <td>...</td>\n",
       "      <td>...</td>\n",
       "      <td>...</td>\n",
       "      <td>...</td>\n",
       "      <td>...</td>\n",
       "      <td>...</td>\n",
       "      <td>...</td>\n",
       "    </tr>\n",
       "    <tr>\n",
       "      <th>9286</th>\n",
       "      <td>9287</td>\n",
       "      <td>09/12/20</td>\n",
       "      <td>8:00 AM</td>\n",
       "      <td>Telangana</td>\n",
       "      <td>0</td>\n",
       "      <td>0</td>\n",
       "      <td>266120</td>\n",
       "      <td>1480</td>\n",
       "      <td>275261</td>\n",
       "    </tr>\n",
       "    <tr>\n",
       "      <th>9287</th>\n",
       "      <td>9288</td>\n",
       "      <td>09/12/20</td>\n",
       "      <td>8:00 AM</td>\n",
       "      <td>Tripura</td>\n",
       "      <td>0</td>\n",
       "      <td>0</td>\n",
       "      <td>32169</td>\n",
       "      <td>373</td>\n",
       "      <td>32945</td>\n",
       "    </tr>\n",
       "    <tr>\n",
       "      <th>9288</th>\n",
       "      <td>9289</td>\n",
       "      <td>09/12/20</td>\n",
       "      <td>8:00 AM</td>\n",
       "      <td>Uttarakhand</td>\n",
       "      <td>0</td>\n",
       "      <td>0</td>\n",
       "      <td>72435</td>\n",
       "      <td>1307</td>\n",
       "      <td>79141</td>\n",
       "    </tr>\n",
       "    <tr>\n",
       "      <th>9289</th>\n",
       "      <td>9290</td>\n",
       "      <td>09/12/20</td>\n",
       "      <td>8:00 AM</td>\n",
       "      <td>Uttar Pradesh</td>\n",
       "      <td>0</td>\n",
       "      <td>0</td>\n",
       "      <td>528832</td>\n",
       "      <td>7967</td>\n",
       "      <td>558173</td>\n",
       "    </tr>\n",
       "    <tr>\n",
       "      <th>9290</th>\n",
       "      <td>9291</td>\n",
       "      <td>09/12/20</td>\n",
       "      <td>8:00 AM</td>\n",
       "      <td>West Bengal</td>\n",
       "      <td>0</td>\n",
       "      <td>0</td>\n",
       "      <td>475425</td>\n",
       "      <td>8820</td>\n",
       "      <td>507995</td>\n",
       "    </tr>\n",
       "  </tbody>\n",
       "</table>\n",
       "<p>9228 rows × 9 columns</p>\n",
       "</div>"
      ],
      "text/plain": [
       "       Sno      Date     Time State/UnionTerritory  ConfirmedIndianNational  \\\n",
       "0        1  30/01/20  6:00 PM               Kerala                        1   \n",
       "1        2  31/01/20  6:00 PM               Kerala                        1   \n",
       "2        3  01/02/20  6:00 PM               Kerala                        2   \n",
       "3        4  02/02/20  6:00 PM               Kerala                        3   \n",
       "4        5  03/02/20  6:00 PM               Kerala                        3   \n",
       "...    ...       ...      ...                  ...                      ...   \n",
       "9286  9287  09/12/20  8:00 AM            Telangana                        0   \n",
       "9287  9288  09/12/20  8:00 AM              Tripura                        0   \n",
       "9288  9289  09/12/20  8:00 AM          Uttarakhand                        0   \n",
       "9289  9290  09/12/20  8:00 AM        Uttar Pradesh                        0   \n",
       "9290  9291  09/12/20  8:00 AM          West Bengal                        0   \n",
       "\n",
       "      ConfirmedForeignNational   Cured  Deaths  Confirmed  \n",
       "0                            0       0       0          1  \n",
       "1                            0       0       0          1  \n",
       "2                            0       0       0          2  \n",
       "3                            0       0       0          3  \n",
       "4                            0       0       0          3  \n",
       "...                        ...     ...     ...        ...  \n",
       "9286                         0  266120    1480     275261  \n",
       "9287                         0   32169     373      32945  \n",
       "9288                         0   72435    1307      79141  \n",
       "9289                         0  528832    7967     558173  \n",
       "9290                         0  475425    8820     507995  \n",
       "\n",
       "[9228 rows x 9 columns]"
      ]
     },
     "execution_count": 25,
     "metadata": {},
     "output_type": "execute_result"
    }
   ],
   "source": [
    "d1"
   ]
  },
  {
   "cell_type": "code",
   "execution_count": 26,
   "metadata": {},
   "outputs": [
    {
     "data": {
      "text/html": [
       "<div>\n",
       "<style scoped>\n",
       "    .dataframe tbody tr th:only-of-type {\n",
       "        vertical-align: middle;\n",
       "    }\n",
       "\n",
       "    .dataframe tbody tr th {\n",
       "        vertical-align: top;\n",
       "    }\n",
       "\n",
       "    .dataframe thead th {\n",
       "        text-align: right;\n",
       "    }\n",
       "</style>\n",
       "<table border=\"1\" class=\"dataframe\">\n",
       "  <thead>\n",
       "    <tr style=\"text-align: right;\">\n",
       "      <th></th>\n",
       "      <th>Date</th>\n",
       "      <th>State</th>\n",
       "      <th>TotalSamples</th>\n",
       "      <th>Negative</th>\n",
       "      <th>Positive</th>\n",
       "    </tr>\n",
       "  </thead>\n",
       "  <tbody>\n",
       "    <tr>\n",
       "      <th>0</th>\n",
       "      <td>2020-04-17</td>\n",
       "      <td>Andaman and Nicobar Islands</td>\n",
       "      <td>1403.0</td>\n",
       "      <td>1210</td>\n",
       "      <td>12.0</td>\n",
       "    </tr>\n",
       "    <tr>\n",
       "      <th>1</th>\n",
       "      <td>2020-04-24</td>\n",
       "      <td>Andaman and Nicobar Islands</td>\n",
       "      <td>2679.0</td>\n",
       "      <td>0</td>\n",
       "      <td>27.0</td>\n",
       "    </tr>\n",
       "    <tr>\n",
       "      <th>2</th>\n",
       "      <td>2020-04-27</td>\n",
       "      <td>Andaman and Nicobar Islands</td>\n",
       "      <td>2848.0</td>\n",
       "      <td>0</td>\n",
       "      <td>33.0</td>\n",
       "    </tr>\n",
       "    <tr>\n",
       "      <th>3</th>\n",
       "      <td>2020-05-01</td>\n",
       "      <td>Andaman and Nicobar Islands</td>\n",
       "      <td>3754.0</td>\n",
       "      <td>0</td>\n",
       "      <td>33.0</td>\n",
       "    </tr>\n",
       "    <tr>\n",
       "      <th>4</th>\n",
       "      <td>2020-05-16</td>\n",
       "      <td>Andaman and Nicobar Islands</td>\n",
       "      <td>6677.0</td>\n",
       "      <td>0</td>\n",
       "      <td>33.0</td>\n",
       "    </tr>\n",
       "    <tr>\n",
       "      <th>...</th>\n",
       "      <td>...</td>\n",
       "      <td>...</td>\n",
       "      <td>...</td>\n",
       "      <td>...</td>\n",
       "      <td>...</td>\n",
       "    </tr>\n",
       "    <tr>\n",
       "      <th>8061</th>\n",
       "      <td>2020-12-04</td>\n",
       "      <td>West Bengal</td>\n",
       "      <td>6047279.0</td>\n",
       "      <td>0</td>\n",
       "      <td>0.0</td>\n",
       "    </tr>\n",
       "    <tr>\n",
       "      <th>8062</th>\n",
       "      <td>2020-12-05</td>\n",
       "      <td>West Bengal</td>\n",
       "      <td>6091668.0</td>\n",
       "      <td>0</td>\n",
       "      <td>0.0</td>\n",
       "    </tr>\n",
       "    <tr>\n",
       "      <th>8063</th>\n",
       "      <td>2020-12-06</td>\n",
       "      <td>West Bengal</td>\n",
       "      <td>6135854.0</td>\n",
       "      <td>0</td>\n",
       "      <td>0.0</td>\n",
       "    </tr>\n",
       "    <tr>\n",
       "      <th>8064</th>\n",
       "      <td>2020-12-07</td>\n",
       "      <td>West Bengal</td>\n",
       "      <td>6167307.0</td>\n",
       "      <td>0</td>\n",
       "      <td>0.0</td>\n",
       "    </tr>\n",
       "    <tr>\n",
       "      <th>8065</th>\n",
       "      <td>2020-12-08</td>\n",
       "      <td>West Bengal</td>\n",
       "      <td>6211537.0</td>\n",
       "      <td>0</td>\n",
       "      <td>0.0</td>\n",
       "    </tr>\n",
       "  </tbody>\n",
       "</table>\n",
       "<p>8066 rows × 5 columns</p>\n",
       "</div>"
      ],
      "text/plain": [
       "            Date                        State  TotalSamples Negative  Positive\n",
       "0     2020-04-17  Andaman and Nicobar Islands        1403.0     1210      12.0\n",
       "1     2020-04-24  Andaman and Nicobar Islands        2679.0        0      27.0\n",
       "2     2020-04-27  Andaman and Nicobar Islands        2848.0        0      33.0\n",
       "3     2020-05-01  Andaman and Nicobar Islands        3754.0        0      33.0\n",
       "4     2020-05-16  Andaman and Nicobar Islands        6677.0        0      33.0\n",
       "...          ...                          ...           ...      ...       ...\n",
       "8061  2020-12-04                  West Bengal     6047279.0        0       0.0\n",
       "8062  2020-12-05                  West Bengal     6091668.0        0       0.0\n",
       "8063  2020-12-06                  West Bengal     6135854.0        0       0.0\n",
       "8064  2020-12-07                  West Bengal     6167307.0        0       0.0\n",
       "8065  2020-12-08                  West Bengal     6211537.0        0       0.0\n",
       "\n",
       "[8066 rows x 5 columns]"
      ]
     },
     "execution_count": 26,
     "metadata": {},
     "output_type": "execute_result"
    }
   ],
   "source": [
    "d2"
   ]
  },
  {
   "cell_type": "code",
   "execution_count": 27,
   "metadata": {},
   "outputs": [
    {
     "data": {
      "text/html": [
       "<div>\n",
       "<style scoped>\n",
       "    .dataframe tbody tr th:only-of-type {\n",
       "        vertical-align: middle;\n",
       "    }\n",
       "\n",
       "    .dataframe tbody tr th {\n",
       "        vertical-align: top;\n",
       "    }\n",
       "\n",
       "    .dataframe thead th {\n",
       "        text-align: right;\n",
       "    }\n",
       "</style>\n",
       "<table border=\"1\" class=\"dataframe\">\n",
       "  <thead>\n",
       "    <tr style=\"text-align: right;\">\n",
       "      <th></th>\n",
       "      <th>Sno</th>\n",
       "      <th>Date</th>\n",
       "      <th>Time</th>\n",
       "      <th>State/UnionTerritory</th>\n",
       "      <th>ConfirmedIndianNational</th>\n",
       "      <th>ConfirmedForeignNational</th>\n",
       "      <th>Cured</th>\n",
       "      <th>Deaths</th>\n",
       "      <th>Confirmed</th>\n",
       "    </tr>\n",
       "  </thead>\n",
       "  <tbody>\n",
       "    <tr>\n",
       "      <th>0</th>\n",
       "      <td>1</td>\n",
       "      <td>30/01/20</td>\n",
       "      <td>6:00 PM</td>\n",
       "      <td>Kerala</td>\n",
       "      <td>1</td>\n",
       "      <td>0</td>\n",
       "      <td>0</td>\n",
       "      <td>0</td>\n",
       "      <td>1</td>\n",
       "    </tr>\n",
       "    <tr>\n",
       "      <th>1</th>\n",
       "      <td>2</td>\n",
       "      <td>31/01/20</td>\n",
       "      <td>6:00 PM</td>\n",
       "      <td>Kerala</td>\n",
       "      <td>1</td>\n",
       "      <td>0</td>\n",
       "      <td>0</td>\n",
       "      <td>0</td>\n",
       "      <td>1</td>\n",
       "    </tr>\n",
       "    <tr>\n",
       "      <th>2</th>\n",
       "      <td>3</td>\n",
       "      <td>01/02/20</td>\n",
       "      <td>6:00 PM</td>\n",
       "      <td>Kerala</td>\n",
       "      <td>2</td>\n",
       "      <td>0</td>\n",
       "      <td>0</td>\n",
       "      <td>0</td>\n",
       "      <td>2</td>\n",
       "    </tr>\n",
       "    <tr>\n",
       "      <th>3</th>\n",
       "      <td>4</td>\n",
       "      <td>02/02/20</td>\n",
       "      <td>6:00 PM</td>\n",
       "      <td>Kerala</td>\n",
       "      <td>3</td>\n",
       "      <td>0</td>\n",
       "      <td>0</td>\n",
       "      <td>0</td>\n",
       "      <td>3</td>\n",
       "    </tr>\n",
       "    <tr>\n",
       "      <th>4</th>\n",
       "      <td>5</td>\n",
       "      <td>03/02/20</td>\n",
       "      <td>6:00 PM</td>\n",
       "      <td>Kerala</td>\n",
       "      <td>3</td>\n",
       "      <td>0</td>\n",
       "      <td>0</td>\n",
       "      <td>0</td>\n",
       "      <td>3</td>\n",
       "    </tr>\n",
       "    <tr>\n",
       "      <th>...</th>\n",
       "      <td>...</td>\n",
       "      <td>...</td>\n",
       "      <td>...</td>\n",
       "      <td>...</td>\n",
       "      <td>...</td>\n",
       "      <td>...</td>\n",
       "      <td>...</td>\n",
       "      <td>...</td>\n",
       "      <td>...</td>\n",
       "    </tr>\n",
       "    <tr>\n",
       "      <th>9286</th>\n",
       "      <td>9287</td>\n",
       "      <td>09/12/20</td>\n",
       "      <td>8:00 AM</td>\n",
       "      <td>Telangana</td>\n",
       "      <td>0</td>\n",
       "      <td>0</td>\n",
       "      <td>266120</td>\n",
       "      <td>1480</td>\n",
       "      <td>275261</td>\n",
       "    </tr>\n",
       "    <tr>\n",
       "      <th>9287</th>\n",
       "      <td>9288</td>\n",
       "      <td>09/12/20</td>\n",
       "      <td>8:00 AM</td>\n",
       "      <td>Tripura</td>\n",
       "      <td>0</td>\n",
       "      <td>0</td>\n",
       "      <td>32169</td>\n",
       "      <td>373</td>\n",
       "      <td>32945</td>\n",
       "    </tr>\n",
       "    <tr>\n",
       "      <th>9288</th>\n",
       "      <td>9289</td>\n",
       "      <td>09/12/20</td>\n",
       "      <td>8:00 AM</td>\n",
       "      <td>Uttarakhand</td>\n",
       "      <td>0</td>\n",
       "      <td>0</td>\n",
       "      <td>72435</td>\n",
       "      <td>1307</td>\n",
       "      <td>79141</td>\n",
       "    </tr>\n",
       "    <tr>\n",
       "      <th>9289</th>\n",
       "      <td>9290</td>\n",
       "      <td>09/12/20</td>\n",
       "      <td>8:00 AM</td>\n",
       "      <td>Uttar Pradesh</td>\n",
       "      <td>0</td>\n",
       "      <td>0</td>\n",
       "      <td>528832</td>\n",
       "      <td>7967</td>\n",
       "      <td>558173</td>\n",
       "    </tr>\n",
       "    <tr>\n",
       "      <th>9290</th>\n",
       "      <td>9291</td>\n",
       "      <td>09/12/20</td>\n",
       "      <td>8:00 AM</td>\n",
       "      <td>West Bengal</td>\n",
       "      <td>0</td>\n",
       "      <td>0</td>\n",
       "      <td>475425</td>\n",
       "      <td>8820</td>\n",
       "      <td>507995</td>\n",
       "    </tr>\n",
       "  </tbody>\n",
       "</table>\n",
       "<p>9228 rows × 9 columns</p>\n",
       "</div>"
      ],
      "text/plain": [
       "       Sno      Date     Time State/UnionTerritory  ConfirmedIndianNational  \\\n",
       "0        1  30/01/20  6:00 PM               Kerala                        1   \n",
       "1        2  31/01/20  6:00 PM               Kerala                        1   \n",
       "2        3  01/02/20  6:00 PM               Kerala                        2   \n",
       "3        4  02/02/20  6:00 PM               Kerala                        3   \n",
       "4        5  03/02/20  6:00 PM               Kerala                        3   \n",
       "...    ...       ...      ...                  ...                      ...   \n",
       "9286  9287  09/12/20  8:00 AM            Telangana                        0   \n",
       "9287  9288  09/12/20  8:00 AM              Tripura                        0   \n",
       "9288  9289  09/12/20  8:00 AM          Uttarakhand                        0   \n",
       "9289  9290  09/12/20  8:00 AM        Uttar Pradesh                        0   \n",
       "9290  9291  09/12/20  8:00 AM          West Bengal                        0   \n",
       "\n",
       "      ConfirmedForeignNational   Cured  Deaths  Confirmed  \n",
       "0                            0       0       0          1  \n",
       "1                            0       0       0          1  \n",
       "2                            0       0       0          2  \n",
       "3                            0       0       0          3  \n",
       "4                            0       0       0          3  \n",
       "...                        ...     ...     ...        ...  \n",
       "9286                         0  266120    1480     275261  \n",
       "9287                         0   32169     373      32945  \n",
       "9288                         0   72435    1307      79141  \n",
       "9289                         0  528832    7967     558173  \n",
       "9290                         0  475425    8820     507995  \n",
       "\n",
       "[9228 rows x 9 columns]"
      ]
     },
     "execution_count": 27,
     "metadata": {},
     "output_type": "execute_result"
    }
   ],
   "source": [
    "d1"
   ]
  },
  {
   "cell_type": "code",
   "execution_count": 31,
   "metadata": {},
   "outputs": [
    {
     "ename": "KeyError",
     "evalue": "'positive'",
     "output_type": "error",
     "traceback": [
      "\u001b[1;31m---------------------------------------------------------------------------\u001b[0m",
      "\u001b[1;31mKeyError\u001b[0m                                  Traceback (most recent call last)",
      "\u001b[1;32mD:\\Anaconda\\envs\\sib\\lib\\site-packages\\pandas\\core\\indexes\\base.py\u001b[0m in \u001b[0;36mget_loc\u001b[1;34m(self, key, method, tolerance)\u001b[0m\n\u001b[0;32m   2894\u001b[0m             \u001b[1;32mtry\u001b[0m\u001b[1;33m:\u001b[0m\u001b[1;33m\u001b[0m\u001b[1;33m\u001b[0m\u001b[0m\n\u001b[1;32m-> 2895\u001b[1;33m                 \u001b[1;32mreturn\u001b[0m \u001b[0mself\u001b[0m\u001b[1;33m.\u001b[0m\u001b[0m_engine\u001b[0m\u001b[1;33m.\u001b[0m\u001b[0mget_loc\u001b[0m\u001b[1;33m(\u001b[0m\u001b[0mcasted_key\u001b[0m\u001b[1;33m)\u001b[0m\u001b[1;33m\u001b[0m\u001b[1;33m\u001b[0m\u001b[0m\n\u001b[0m\u001b[0;32m   2896\u001b[0m             \u001b[1;32mexcept\u001b[0m \u001b[0mKeyError\u001b[0m \u001b[1;32mas\u001b[0m \u001b[0merr\u001b[0m\u001b[1;33m:\u001b[0m\u001b[1;33m\u001b[0m\u001b[1;33m\u001b[0m\u001b[0m\n",
      "\u001b[1;32mpandas\\_libs\\index.pyx\u001b[0m in \u001b[0;36mpandas._libs.index.IndexEngine.get_loc\u001b[1;34m()\u001b[0m\n",
      "\u001b[1;32mpandas\\_libs\\index.pyx\u001b[0m in \u001b[0;36mpandas._libs.index.IndexEngine.get_loc\u001b[1;34m()\u001b[0m\n",
      "\u001b[1;32mpandas\\_libs\\hashtable_class_helper.pxi\u001b[0m in \u001b[0;36mpandas._libs.hashtable.PyObjectHashTable.get_item\u001b[1;34m()\u001b[0m\n",
      "\u001b[1;32mpandas\\_libs\\hashtable_class_helper.pxi\u001b[0m in \u001b[0;36mpandas._libs.hashtable.PyObjectHashTable.get_item\u001b[1;34m()\u001b[0m\n",
      "\u001b[1;31mKeyError\u001b[0m: 'positive'",
      "\nThe above exception was the direct cause of the following exception:\n",
      "\u001b[1;31mKeyError\u001b[0m                                  Traceback (most recent call last)",
      "\u001b[1;32m<ipython-input-31-0e90bc49874f>\u001b[0m in \u001b[0;36m<module>\u001b[1;34m\u001b[0m\n\u001b[1;32m----> 1\u001b[1;33m \u001b[0md2\u001b[0m\u001b[1;33m[\u001b[0m\u001b[1;34m'positive'\u001b[0m\u001b[1;33m]\u001b[0m\u001b[1;33m\u001b[0m\u001b[1;33m\u001b[0m\u001b[0m\n\u001b[0m",
      "\u001b[1;32mD:\\Anaconda\\envs\\sib\\lib\\site-packages\\pandas\\core\\frame.py\u001b[0m in \u001b[0;36m__getitem__\u001b[1;34m(self, key)\u001b[0m\n\u001b[0;32m   2900\u001b[0m             \u001b[1;32mif\u001b[0m \u001b[0mself\u001b[0m\u001b[1;33m.\u001b[0m\u001b[0mcolumns\u001b[0m\u001b[1;33m.\u001b[0m\u001b[0mnlevels\u001b[0m \u001b[1;33m>\u001b[0m \u001b[1;36m1\u001b[0m\u001b[1;33m:\u001b[0m\u001b[1;33m\u001b[0m\u001b[1;33m\u001b[0m\u001b[0m\n\u001b[0;32m   2901\u001b[0m                 \u001b[1;32mreturn\u001b[0m \u001b[0mself\u001b[0m\u001b[1;33m.\u001b[0m\u001b[0m_getitem_multilevel\u001b[0m\u001b[1;33m(\u001b[0m\u001b[0mkey\u001b[0m\u001b[1;33m)\u001b[0m\u001b[1;33m\u001b[0m\u001b[1;33m\u001b[0m\u001b[0m\n\u001b[1;32m-> 2902\u001b[1;33m             \u001b[0mindexer\u001b[0m \u001b[1;33m=\u001b[0m \u001b[0mself\u001b[0m\u001b[1;33m.\u001b[0m\u001b[0mcolumns\u001b[0m\u001b[1;33m.\u001b[0m\u001b[0mget_loc\u001b[0m\u001b[1;33m(\u001b[0m\u001b[0mkey\u001b[0m\u001b[1;33m)\u001b[0m\u001b[1;33m\u001b[0m\u001b[1;33m\u001b[0m\u001b[0m\n\u001b[0m\u001b[0;32m   2903\u001b[0m             \u001b[1;32mif\u001b[0m \u001b[0mis_integer\u001b[0m\u001b[1;33m(\u001b[0m\u001b[0mindexer\u001b[0m\u001b[1;33m)\u001b[0m\u001b[1;33m:\u001b[0m\u001b[1;33m\u001b[0m\u001b[1;33m\u001b[0m\u001b[0m\n\u001b[0;32m   2904\u001b[0m                 \u001b[0mindexer\u001b[0m \u001b[1;33m=\u001b[0m \u001b[1;33m[\u001b[0m\u001b[0mindexer\u001b[0m\u001b[1;33m]\u001b[0m\u001b[1;33m\u001b[0m\u001b[1;33m\u001b[0m\u001b[0m\n",
      "\u001b[1;32mD:\\Anaconda\\envs\\sib\\lib\\site-packages\\pandas\\core\\indexes\\base.py\u001b[0m in \u001b[0;36mget_loc\u001b[1;34m(self, key, method, tolerance)\u001b[0m\n\u001b[0;32m   2895\u001b[0m                 \u001b[1;32mreturn\u001b[0m \u001b[0mself\u001b[0m\u001b[1;33m.\u001b[0m\u001b[0m_engine\u001b[0m\u001b[1;33m.\u001b[0m\u001b[0mget_loc\u001b[0m\u001b[1;33m(\u001b[0m\u001b[0mcasted_key\u001b[0m\u001b[1;33m)\u001b[0m\u001b[1;33m\u001b[0m\u001b[1;33m\u001b[0m\u001b[0m\n\u001b[0;32m   2896\u001b[0m             \u001b[1;32mexcept\u001b[0m \u001b[0mKeyError\u001b[0m \u001b[1;32mas\u001b[0m \u001b[0merr\u001b[0m\u001b[1;33m:\u001b[0m\u001b[1;33m\u001b[0m\u001b[1;33m\u001b[0m\u001b[0m\n\u001b[1;32m-> 2897\u001b[1;33m                 \u001b[1;32mraise\u001b[0m \u001b[0mKeyError\u001b[0m\u001b[1;33m(\u001b[0m\u001b[0mkey\u001b[0m\u001b[1;33m)\u001b[0m \u001b[1;32mfrom\u001b[0m \u001b[0merr\u001b[0m\u001b[1;33m\u001b[0m\u001b[1;33m\u001b[0m\u001b[0m\n\u001b[0m\u001b[0;32m   2898\u001b[0m \u001b[1;33m\u001b[0m\u001b[0m\n\u001b[0;32m   2899\u001b[0m         \u001b[1;32mif\u001b[0m \u001b[0mtolerance\u001b[0m \u001b[1;32mis\u001b[0m \u001b[1;32mnot\u001b[0m \u001b[1;32mNone\u001b[0m\u001b[1;33m:\u001b[0m\u001b[1;33m\u001b[0m\u001b[1;33m\u001b[0m\u001b[0m\n",
      "\u001b[1;31mKeyError\u001b[0m: 'positive'"
     ]
    }
   ],
   "source": [
    "d2['positive']"
   ]
  },
  {
   "cell_type": "code",
   "execution_count": null,
   "metadata": {},
   "outputs": [],
   "source": []
  },
  {
   "cell_type": "code",
   "execution_count": null,
   "metadata": {},
   "outputs": [],
   "source": []
  },
  {
   "cell_type": "code",
   "execution_count": null,
   "metadata": {},
   "outputs": [],
   "source": []
  },
  {
   "cell_type": "code",
   "execution_count": null,
   "metadata": {},
   "outputs": [],
   "source": []
  },
  {
   "cell_type": "code",
   "execution_count": null,
   "metadata": {},
   "outputs": [],
   "source": []
  },
  {
   "cell_type": "code",
   "execution_count": 239,
   "metadata": {},
   "outputs": [
    {
     "name": "stdout",
     "output_type": "stream",
     "text": [
      "Dash is running on http://127.0.0.1:8050/\n",
      "\n",
      "Dash is running on http://127.0.0.1:8050/\n",
      "\n",
      "Dash is running on http://127.0.0.1:8050/\n",
      "\n",
      "Dash is running on http://127.0.0.1:8050/\n",
      "\n",
      " * Serving Flask app \"__main__\" (lazy loading)\n",
      " * Environment: production\n",
      "   WARNING: This is a development server. Do not use it in a production deployment.\n",
      "   Use a production WSGI server instead.\n",
      " * Debug mode: on\n"
     ]
    }
   ],
   "source": [
    "app1=dash.Dash(__name__)\n",
    "\n",
    "server=app1.server #it allow heroku to recognize the server\n",
    "\n",
    "\n",
    "colors={'background':'#111111','text':'#7FDBFF'}\n",
    "\n",
    "app1.layout=html1.Div(style={'backgroundColor': '#5AF5D9'}, children=[\n",
    "    \n",
    "    html1.Div([\n",
    "           html1.H2(\"COVID DASHBOARD\",style={'color':'white','padding-top':'10px','margin-left':'10%','display':'inline-block','font-size': '36px','padding-left':'550px',\n",
    "                                            'text-shadow': '0 0 10px #FF0000, 0 0 50px #0000FF'}),\n",
    "           html1.Img(src=app1.get_asset_url('Covid_case.png'),style={'position':'relative','float':'right','right':'10px','height':'75px'})\n",
    "       ],style={'height':'75px','margin':'0px -10px 10px','background-color':'#82CAFA','border-radius':'2px' }),\n",
    "    \n",
    "    \n",
    "#****************************/////////////////----FOR 1ST GRAPH-----///////////////////********************************       \n",
    "dcc1.Graph(id='fig1',figure=fig1, style = {'display': 'inline-block', 'width': '58%',\"height\" : \"75%\",'padding-left':'15px',\n",
    "                                'cursor':'pointer'} ),\n",
    "    \n",
    "    \n",
    "#*************************////////////----FOR 2nd GRAPH-------/////////////********************************\n",
    "dcc1.Graph(figure=fig5,style = {'display': 'inline-block', 'width': '39%',\"height\" :'75%','padding-left':'7px',\n",
    "                               'cursor':'pointer'}),\n",
    "    \n",
    "    \n",
    "#****************************/////////////////----FOR 3rd GRAPH-----///////////////////********************************       \n",
    "dcc1.Graph(figure=fig4, style = {'display': 'inline-block', 'width': '56%',\"height\" : \"75%\",'padding-left':'15px',\n",
    "                                'cursor':'pointer'} ),\n",
    "    \n",
    "    \n",
    "#*************************////////////----FOR 4th GRAPH-------/////////////********************************\n",
    "dcc1.Graph(figure=fig3,style = {'display': 'inline-block', 'width': '41%',\"height\" :'75%','padding-left':'7px',\n",
    "                               'cursor':'pointer'}),\n",
    "\n",
    "    \n",
    "#****************************/////////////////----FOR 5th GRAPH-----///////////////////********************************       \n",
    "dcc1.Graph(figure=fig6, style = {'display': 'inline-block', 'width': '54%',\"height\" : \"75%\",'padding-left':'15px',\n",
    "                                'cursor':'pointer'} ),\n",
    "    \n",
    "    \n",
    "#*************************////////////----FOR 6th GRAPH-------/////////////********************************\n",
    "dcc1.Graph(figure=fig7,style = {'display': 'inline-block', 'width': '43%',\"height\" :'75%','padding-left':'7px',\n",
    "                               'cursor':'pointer'}),\n",
    "\n",
    "])\n",
    "#@app1.callback(\n",
    " #   Output(component_id='my-output',component_property='children'),\n",
    " #   [Input(component_id='input_label',component_property='value')])\n",
    "\n",
    "def update_output_div(input_label):\n",
    "   return 'And the winner of the year is {} '.format(input_label)\n",
    "    \n",
    "app1.run_server(debug=True,use_reloader=False)"
   ]
  },
  {
   "cell_type": "code",
   "execution_count": null,
   "metadata": {},
   "outputs": [],
   "source": []
  },
  {
   "cell_type": "code",
   "execution_count": null,
   "metadata": {},
   "outputs": [],
   "source": []
  },
  {
   "cell_type": "code",
   "execution_count": null,
   "metadata": {},
   "outputs": [],
   "source": []
  },
  {
   "cell_type": "code",
   "execution_count": null,
   "metadata": {},
   "outputs": [],
   "source": []
  },
  {
   "cell_type": "code",
   "execution_count": null,
   "metadata": {},
   "outputs": [],
   "source": []
  },
  {
   "cell_type": "code",
   "execution_count": null,
   "metadata": {},
   "outputs": [],
   "source": []
  }
 ],
 "metadata": {
  "kernelspec": {
   "display_name": "Python 3",
   "language": "python",
   "name": "python3"
  },
  "language_info": {
   "codemirror_mode": {
    "name": "ipython",
    "version": 3
   },
   "file_extension": ".py",
   "mimetype": "text/x-python",
   "name": "python",
   "nbconvert_exporter": "python",
   "pygments_lexer": "ipython3",
   "version": "3.8.6"
  }
 },
 "nbformat": 4,
 "nbformat_minor": 4
}
